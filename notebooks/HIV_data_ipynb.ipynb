{
  "nbformat": 4,
  "nbformat_minor": 0,
  "metadata": {
    "colab": {
      "provenance": []
    },
    "kernelspec": {
      "name": "python3",
      "display_name": "Python 3"
    },
    "language_info": {
      "name": "python"
    }
  },
  "cells": [
    {
      "cell_type": "code",
      "source": [
        "import pandas as pd"
      ],
      "metadata": {
        "id": "cUkKoZz-kjpT"
      },
      "execution_count": 216,
      "outputs": []
    },
    {
      "cell_type": "code",
      "source": [
        "from scipy.stats import chi2_contingency\n",
        "import seaborn as sns\n",
        "import numpy as np"
      ],
      "metadata": {
        "id": "vvume5Vrk4UY"
      },
      "execution_count": 215,
      "outputs": []
    },
    {
      "cell_type": "code",
      "source": [
        "import numpy as np\n",
        "import seaborn as sns\n",
        "from datascience import *\n",
        "%matplotlib inline"
      ],
      "metadata": {
        "id": "p-sJyosqz7ob"
      },
      "execution_count": 214,
      "outputs": []
    },
    {
      "cell_type": "code",
      "source": [
        "table = pd.read_excel('hxb2f.meth_5hmc_5mc_cleaned_genes.xlsx')\n",
        "\n",
        "table\n"
      ],
      "metadata": {
        "colab": {
          "base_uri": "https://localhost:8080/",
          "height": 505
        },
        "id": "ADdCcLepk0Nd",
        "outputId": "b0bf8c53-e21e-441a-f40f-24b832dd09cc"
      },
      "execution_count": 217,
      "outputs": [
        {
          "output_type": "execute_result",
          "data": {
            "text/plain": [
              "    Reference_sequence_name  Start_position  End_position_excl  \\\n",
              "0                     HXB2F               2                  3   \n",
              "1                     HXB2F               6                  7   \n",
              "2                     HXB2F              23                 24   \n",
              "3                     HXB2F              24                 25   \n",
              "4                     HXB2F              37                 38   \n",
              "..                      ...             ...                ...   \n",
              "450                   HXB2F            9476               9477   \n",
              "451                   HXB2F            9491               9492   \n",
              "452                   HXB2F            9492               9493   \n",
              "453                   HXB2F            9648               9649   \n",
              "454                   HXB2F            9649               9650   \n",
              "\n",
              "    Modification_type  Score Strand  Read_coverage_at_reference  \\\n",
              "0                5hmC     35      -                          28   \n",
              "1                5hmC     32      -                          31   \n",
              "2                5hmC    814      +                         108   \n",
              "3                5hmC    857      -                          35   \n",
              "4                5hmC      9      +                         108   \n",
              "..                ...    ...    ...                         ...   \n",
              "450              5hmC    500      -                           4   \n",
              "451              5hmC    857      +                           7   \n",
              "452              5hmC   1000      -                           3   \n",
              "453              5hmC    857      +                           7   \n",
              "454              5hmC    500      -                           2   \n",
              "\n",
              "     Percentage_of_mod_bases Reading_frame_1 Reading_frame_2 Reading_frame_3  \\\n",
              "0                     100.00           LTR_5             NaN             NaN   \n",
              "1                       0.00           LTR_5             NaN             NaN   \n",
              "2                       3.41           LTR_5             NaN             NaN   \n",
              "3                      23.33           LTR_5             NaN             NaN   \n",
              "4                       0.00           LTR_5             NaN             NaN   \n",
              "..                       ...             ...             ...             ...   \n",
              "450                     0.00             NaN           LTR_3             NaN   \n",
              "451                    16.67             NaN           LTR_3             NaN   \n",
              "452                     0.00             NaN           LTR_3             NaN   \n",
              "453                    33.33             NaN           LTR_3             NaN   \n",
              "454                     0.00             NaN           LTR_3             NaN   \n",
              "\n",
              "    in_paper tat_reading rev_reading Unnamed: 14  \n",
              "0        NaN         NaN         NaN         NaN  \n",
              "1        NaN         NaN         NaN         NaN  \n",
              "2        NaN         NaN         NaN         NaN  \n",
              "3        NaN         NaN         NaN         NaN  \n",
              "4        NaN         NaN         NaN         NaN  \n",
              "..       ...         ...         ...         ...  \n",
              "450      NaN         NaN         NaN         NaN  \n",
              "451      NaN         NaN         NaN         NaN  \n",
              "452      NaN         NaN         NaN         NaN  \n",
              "453      NaN         NaN         NaN         NaN  \n",
              "454      NaN         NaN         NaN         NaN  \n",
              "\n",
              "[455 rows x 15 columns]"
            ],
            "text/html": [
              "\n",
              "  <div id=\"df-16a2faae-e2d0-4d5e-8075-348a768a279d\">\n",
              "    <div class=\"colab-df-container\">\n",
              "      <div>\n",
              "<style scoped>\n",
              "    .dataframe tbody tr th:only-of-type {\n",
              "        vertical-align: middle;\n",
              "    }\n",
              "\n",
              "    .dataframe tbody tr th {\n",
              "        vertical-align: top;\n",
              "    }\n",
              "\n",
              "    .dataframe thead th {\n",
              "        text-align: right;\n",
              "    }\n",
              "</style>\n",
              "<table border=\"1\" class=\"dataframe\">\n",
              "  <thead>\n",
              "    <tr style=\"text-align: right;\">\n",
              "      <th></th>\n",
              "      <th>Reference_sequence_name</th>\n",
              "      <th>Start_position</th>\n",
              "      <th>End_position_excl</th>\n",
              "      <th>Modification_type</th>\n",
              "      <th>Score</th>\n",
              "      <th>Strand</th>\n",
              "      <th>Read_coverage_at_reference</th>\n",
              "      <th>Percentage_of_mod_bases</th>\n",
              "      <th>Reading_frame_1</th>\n",
              "      <th>Reading_frame_2</th>\n",
              "      <th>Reading_frame_3</th>\n",
              "      <th>in_paper</th>\n",
              "      <th>tat_reading</th>\n",
              "      <th>rev_reading</th>\n",
              "      <th>Unnamed: 14</th>\n",
              "    </tr>\n",
              "  </thead>\n",
              "  <tbody>\n",
              "    <tr>\n",
              "      <th>0</th>\n",
              "      <td>HXB2F</td>\n",
              "      <td>2</td>\n",
              "      <td>3</td>\n",
              "      <td>5hmC</td>\n",
              "      <td>35</td>\n",
              "      <td>-</td>\n",
              "      <td>28</td>\n",
              "      <td>100.00</td>\n",
              "      <td>LTR_5</td>\n",
              "      <td>NaN</td>\n",
              "      <td>NaN</td>\n",
              "      <td>NaN</td>\n",
              "      <td>NaN</td>\n",
              "      <td>NaN</td>\n",
              "      <td>NaN</td>\n",
              "    </tr>\n",
              "    <tr>\n",
              "      <th>1</th>\n",
              "      <td>HXB2F</td>\n",
              "      <td>6</td>\n",
              "      <td>7</td>\n",
              "      <td>5hmC</td>\n",
              "      <td>32</td>\n",
              "      <td>-</td>\n",
              "      <td>31</td>\n",
              "      <td>0.00</td>\n",
              "      <td>LTR_5</td>\n",
              "      <td>NaN</td>\n",
              "      <td>NaN</td>\n",
              "      <td>NaN</td>\n",
              "      <td>NaN</td>\n",
              "      <td>NaN</td>\n",
              "      <td>NaN</td>\n",
              "    </tr>\n",
              "    <tr>\n",
              "      <th>2</th>\n",
              "      <td>HXB2F</td>\n",
              "      <td>23</td>\n",
              "      <td>24</td>\n",
              "      <td>5hmC</td>\n",
              "      <td>814</td>\n",
              "      <td>+</td>\n",
              "      <td>108</td>\n",
              "      <td>3.41</td>\n",
              "      <td>LTR_5</td>\n",
              "      <td>NaN</td>\n",
              "      <td>NaN</td>\n",
              "      <td>NaN</td>\n",
              "      <td>NaN</td>\n",
              "      <td>NaN</td>\n",
              "      <td>NaN</td>\n",
              "    </tr>\n",
              "    <tr>\n",
              "      <th>3</th>\n",
              "      <td>HXB2F</td>\n",
              "      <td>24</td>\n",
              "      <td>25</td>\n",
              "      <td>5hmC</td>\n",
              "      <td>857</td>\n",
              "      <td>-</td>\n",
              "      <td>35</td>\n",
              "      <td>23.33</td>\n",
              "      <td>LTR_5</td>\n",
              "      <td>NaN</td>\n",
              "      <td>NaN</td>\n",
              "      <td>NaN</td>\n",
              "      <td>NaN</td>\n",
              "      <td>NaN</td>\n",
              "      <td>NaN</td>\n",
              "    </tr>\n",
              "    <tr>\n",
              "      <th>4</th>\n",
              "      <td>HXB2F</td>\n",
              "      <td>37</td>\n",
              "      <td>38</td>\n",
              "      <td>5hmC</td>\n",
              "      <td>9</td>\n",
              "      <td>+</td>\n",
              "      <td>108</td>\n",
              "      <td>0.00</td>\n",
              "      <td>LTR_5</td>\n",
              "      <td>NaN</td>\n",
              "      <td>NaN</td>\n",
              "      <td>NaN</td>\n",
              "      <td>NaN</td>\n",
              "      <td>NaN</td>\n",
              "      <td>NaN</td>\n",
              "    </tr>\n",
              "    <tr>\n",
              "      <th>...</th>\n",
              "      <td>...</td>\n",
              "      <td>...</td>\n",
              "      <td>...</td>\n",
              "      <td>...</td>\n",
              "      <td>...</td>\n",
              "      <td>...</td>\n",
              "      <td>...</td>\n",
              "      <td>...</td>\n",
              "      <td>...</td>\n",
              "      <td>...</td>\n",
              "      <td>...</td>\n",
              "      <td>...</td>\n",
              "      <td>...</td>\n",
              "      <td>...</td>\n",
              "      <td>...</td>\n",
              "    </tr>\n",
              "    <tr>\n",
              "      <th>450</th>\n",
              "      <td>HXB2F</td>\n",
              "      <td>9476</td>\n",
              "      <td>9477</td>\n",
              "      <td>5hmC</td>\n",
              "      <td>500</td>\n",
              "      <td>-</td>\n",
              "      <td>4</td>\n",
              "      <td>0.00</td>\n",
              "      <td>NaN</td>\n",
              "      <td>LTR_3</td>\n",
              "      <td>NaN</td>\n",
              "      <td>NaN</td>\n",
              "      <td>NaN</td>\n",
              "      <td>NaN</td>\n",
              "      <td>NaN</td>\n",
              "    </tr>\n",
              "    <tr>\n",
              "      <th>451</th>\n",
              "      <td>HXB2F</td>\n",
              "      <td>9491</td>\n",
              "      <td>9492</td>\n",
              "      <td>5hmC</td>\n",
              "      <td>857</td>\n",
              "      <td>+</td>\n",
              "      <td>7</td>\n",
              "      <td>16.67</td>\n",
              "      <td>NaN</td>\n",
              "      <td>LTR_3</td>\n",
              "      <td>NaN</td>\n",
              "      <td>NaN</td>\n",
              "      <td>NaN</td>\n",
              "      <td>NaN</td>\n",
              "      <td>NaN</td>\n",
              "    </tr>\n",
              "    <tr>\n",
              "      <th>452</th>\n",
              "      <td>HXB2F</td>\n",
              "      <td>9492</td>\n",
              "      <td>9493</td>\n",
              "      <td>5hmC</td>\n",
              "      <td>1000</td>\n",
              "      <td>-</td>\n",
              "      <td>3</td>\n",
              "      <td>0.00</td>\n",
              "      <td>NaN</td>\n",
              "      <td>LTR_3</td>\n",
              "      <td>NaN</td>\n",
              "      <td>NaN</td>\n",
              "      <td>NaN</td>\n",
              "      <td>NaN</td>\n",
              "      <td>NaN</td>\n",
              "    </tr>\n",
              "    <tr>\n",
              "      <th>453</th>\n",
              "      <td>HXB2F</td>\n",
              "      <td>9648</td>\n",
              "      <td>9649</td>\n",
              "      <td>5hmC</td>\n",
              "      <td>857</td>\n",
              "      <td>+</td>\n",
              "      <td>7</td>\n",
              "      <td>33.33</td>\n",
              "      <td>NaN</td>\n",
              "      <td>LTR_3</td>\n",
              "      <td>NaN</td>\n",
              "      <td>NaN</td>\n",
              "      <td>NaN</td>\n",
              "      <td>NaN</td>\n",
              "      <td>NaN</td>\n",
              "    </tr>\n",
              "    <tr>\n",
              "      <th>454</th>\n",
              "      <td>HXB2F</td>\n",
              "      <td>9649</td>\n",
              "      <td>9650</td>\n",
              "      <td>5hmC</td>\n",
              "      <td>500</td>\n",
              "      <td>-</td>\n",
              "      <td>2</td>\n",
              "      <td>0.00</td>\n",
              "      <td>NaN</td>\n",
              "      <td>LTR_3</td>\n",
              "      <td>NaN</td>\n",
              "      <td>NaN</td>\n",
              "      <td>NaN</td>\n",
              "      <td>NaN</td>\n",
              "      <td>NaN</td>\n",
              "    </tr>\n",
              "  </tbody>\n",
              "</table>\n",
              "<p>455 rows × 15 columns</p>\n",
              "</div>\n",
              "      <button class=\"colab-df-convert\" onclick=\"convertToInteractive('df-16a2faae-e2d0-4d5e-8075-348a768a279d')\"\n",
              "              title=\"Convert this dataframe to an interactive table.\"\n",
              "              style=\"display:none;\">\n",
              "        \n",
              "  <svg xmlns=\"http://www.w3.org/2000/svg\" height=\"24px\"viewBox=\"0 0 24 24\"\n",
              "       width=\"24px\">\n",
              "    <path d=\"M0 0h24v24H0V0z\" fill=\"none\"/>\n",
              "    <path d=\"M18.56 5.44l.94 2.06.94-2.06 2.06-.94-2.06-.94-.94-2.06-.94 2.06-2.06.94zm-11 1L8.5 8.5l.94-2.06 2.06-.94-2.06-.94L8.5 2.5l-.94 2.06-2.06.94zm10 10l.94 2.06.94-2.06 2.06-.94-2.06-.94-.94-2.06-.94 2.06-2.06.94z\"/><path d=\"M17.41 7.96l-1.37-1.37c-.4-.4-.92-.59-1.43-.59-.52 0-1.04.2-1.43.59L10.3 9.45l-7.72 7.72c-.78.78-.78 2.05 0 2.83L4 21.41c.39.39.9.59 1.41.59.51 0 1.02-.2 1.41-.59l7.78-7.78 2.81-2.81c.8-.78.8-2.07 0-2.86zM5.41 20L4 18.59l7.72-7.72 1.47 1.35L5.41 20z\"/>\n",
              "  </svg>\n",
              "      </button>\n",
              "      \n",
              "  <style>\n",
              "    .colab-df-container {\n",
              "      display:flex;\n",
              "      flex-wrap:wrap;\n",
              "      gap: 12px;\n",
              "    }\n",
              "\n",
              "    .colab-df-convert {\n",
              "      background-color: #E8F0FE;\n",
              "      border: none;\n",
              "      border-radius: 50%;\n",
              "      cursor: pointer;\n",
              "      display: none;\n",
              "      fill: #1967D2;\n",
              "      height: 32px;\n",
              "      padding: 0 0 0 0;\n",
              "      width: 32px;\n",
              "    }\n",
              "\n",
              "    .colab-df-convert:hover {\n",
              "      background-color: #E2EBFA;\n",
              "      box-shadow: 0px 1px 2px rgba(60, 64, 67, 0.3), 0px 1px 3px 1px rgba(60, 64, 67, 0.15);\n",
              "      fill: #174EA6;\n",
              "    }\n",
              "\n",
              "    [theme=dark] .colab-df-convert {\n",
              "      background-color: #3B4455;\n",
              "      fill: #D2E3FC;\n",
              "    }\n",
              "\n",
              "    [theme=dark] .colab-df-convert:hover {\n",
              "      background-color: #434B5C;\n",
              "      box-shadow: 0px 1px 3px 1px rgba(0, 0, 0, 0.15);\n",
              "      filter: drop-shadow(0px 1px 2px rgba(0, 0, 0, 0.3));\n",
              "      fill: #FFFFFF;\n",
              "    }\n",
              "  </style>\n",
              "\n",
              "      <script>\n",
              "        const buttonEl =\n",
              "          document.querySelector('#df-16a2faae-e2d0-4d5e-8075-348a768a279d button.colab-df-convert');\n",
              "        buttonEl.style.display =\n",
              "          google.colab.kernel.accessAllowed ? 'block' : 'none';\n",
              "\n",
              "        async function convertToInteractive(key) {\n",
              "          const element = document.querySelector('#df-16a2faae-e2d0-4d5e-8075-348a768a279d');\n",
              "          const dataTable =\n",
              "            await google.colab.kernel.invokeFunction('convertToInteractive',\n",
              "                                                     [key], {});\n",
              "          if (!dataTable) return;\n",
              "\n",
              "          const docLinkHtml = 'Like what you see? Visit the ' +\n",
              "            '<a target=\"_blank\" href=https://colab.research.google.com/notebooks/data_table.ipynb>data table notebook</a>'\n",
              "            + ' to learn more about interactive tables.';\n",
              "          element.innerHTML = '';\n",
              "          dataTable['output_type'] = 'display_data';\n",
              "          await google.colab.output.renderOutput(dataTable, element);\n",
              "          const docLink = document.createElement('div');\n",
              "          docLink.innerHTML = docLinkHtml;\n",
              "          element.appendChild(docLink);\n",
              "        }\n",
              "      </script>\n",
              "    </div>\n",
              "  </div>\n",
              "  "
            ]
          },
          "metadata": {},
          "execution_count": 217
        }
      ]
    },
    {
      "cell_type": "code",
      "source": [
        "table_5mc = pd.read_excel('hxb2f.meth_5hmc_5mc_cleaned_genes.xlsx', sheet_name = 1)\n",
        "table_5mc\n"
      ],
      "metadata": {
        "colab": {
          "base_uri": "https://localhost:8080/",
          "height": 487
        },
        "id": "xdKR-WOaVcMj",
        "outputId": "bc68686f-d808-4dfa-90c1-fbdf1cbd548f"
      },
      "execution_count": 222,
      "outputs": [
        {
          "output_type": "execute_result",
          "data": {
            "text/plain": [
              "    Reference_sequence_name  Start_position  End_position_excl  \\\n",
              "0                     HXB2F               2                  3   \n",
              "1                     HXB2F               6                  7   \n",
              "2                     HXB2F              23                 24   \n",
              "3                     HXB2F              24                 25   \n",
              "4                     HXB2F              37                 38   \n",
              "..                      ...             ...                ...   \n",
              "467                   HXB2F            9476               9477   \n",
              "468                   HXB2F            9491               9492   \n",
              "469                   HXB2F            9492               9493   \n",
              "470                   HXB2F            9648               9649   \n",
              "471                   HXB2F            9649               9650   \n",
              "\n",
              "    Modification_type  Score Strand  Read_coverage_at_reference  \\\n",
              "0                 5mC     35      -                          28   \n",
              "1                 5mC     32      -                          31   \n",
              "2                 5mC    861      +                         108   \n",
              "3                 5mC   1000      -                          35   \n",
              "4                 5mC      9      +                         108   \n",
              "..                ...    ...    ...                         ...   \n",
              "467               5mC    500      -                           4   \n",
              "468               5mC    857      +                           7   \n",
              "469               5mC   1000      -                           3   \n",
              "470               5mC    857      +                           7   \n",
              "471               5mC   1000      -                           2   \n",
              "\n",
              "     Percentage_of_mod_bases Reading_frame_1 Reading_frame_2  \\\n",
              "0                       0.00           LTR_5             NaN   \n",
              "1                       0.00           LTR_5             NaN   \n",
              "2                       0.00           LTR_5             NaN   \n",
              "3                       0.00           LTR_5             NaN   \n",
              "4                       0.00           LTR_5             NaN   \n",
              "..                       ...             ...             ...   \n",
              "467                     0.00             NaN           LTR_3   \n",
              "468                     0.00             NaN           LTR_3   \n",
              "469                    33.33             NaN           LTR_3   \n",
              "470                    16.67             NaN           LTR_3   \n",
              "471                     0.00             NaN           LTR_3   \n",
              "\n",
              "    Reading_frame_2.1 in_paper tat_reading rev_reading  \n",
              "0                 NaN      NaN         NaN         NaN  \n",
              "1                 NaN      NaN         NaN         NaN  \n",
              "2                 NaN      NaN         NaN         NaN  \n",
              "3                 NaN      NaN         NaN         NaN  \n",
              "4                 NaN      NaN         NaN         NaN  \n",
              "..                ...      ...         ...         ...  \n",
              "467               NaN      NaN         NaN         NaN  \n",
              "468               NaN      NaN         NaN         NaN  \n",
              "469               NaN      NaN         NaN         NaN  \n",
              "470               NaN      NaN         NaN         NaN  \n",
              "471               NaN      NaN         NaN         NaN  \n",
              "\n",
              "[472 rows x 14 columns]"
            ],
            "text/html": [
              "\n",
              "  <div id=\"df-762f47a4-f409-49b1-b153-dac4bc18479d\">\n",
              "    <div class=\"colab-df-container\">\n",
              "      <div>\n",
              "<style scoped>\n",
              "    .dataframe tbody tr th:only-of-type {\n",
              "        vertical-align: middle;\n",
              "    }\n",
              "\n",
              "    .dataframe tbody tr th {\n",
              "        vertical-align: top;\n",
              "    }\n",
              "\n",
              "    .dataframe thead th {\n",
              "        text-align: right;\n",
              "    }\n",
              "</style>\n",
              "<table border=\"1\" class=\"dataframe\">\n",
              "  <thead>\n",
              "    <tr style=\"text-align: right;\">\n",
              "      <th></th>\n",
              "      <th>Reference_sequence_name</th>\n",
              "      <th>Start_position</th>\n",
              "      <th>End_position_excl</th>\n",
              "      <th>Modification_type</th>\n",
              "      <th>Score</th>\n",
              "      <th>Strand</th>\n",
              "      <th>Read_coverage_at_reference</th>\n",
              "      <th>Percentage_of_mod_bases</th>\n",
              "      <th>Reading_frame_1</th>\n",
              "      <th>Reading_frame_2</th>\n",
              "      <th>Reading_frame_2.1</th>\n",
              "      <th>in_paper</th>\n",
              "      <th>tat_reading</th>\n",
              "      <th>rev_reading</th>\n",
              "    </tr>\n",
              "  </thead>\n",
              "  <tbody>\n",
              "    <tr>\n",
              "      <th>0</th>\n",
              "      <td>HXB2F</td>\n",
              "      <td>2</td>\n",
              "      <td>3</td>\n",
              "      <td>5mC</td>\n",
              "      <td>35</td>\n",
              "      <td>-</td>\n",
              "      <td>28</td>\n",
              "      <td>0.00</td>\n",
              "      <td>LTR_5</td>\n",
              "      <td>NaN</td>\n",
              "      <td>NaN</td>\n",
              "      <td>NaN</td>\n",
              "      <td>NaN</td>\n",
              "      <td>NaN</td>\n",
              "    </tr>\n",
              "    <tr>\n",
              "      <th>1</th>\n",
              "      <td>HXB2F</td>\n",
              "      <td>6</td>\n",
              "      <td>7</td>\n",
              "      <td>5mC</td>\n",
              "      <td>32</td>\n",
              "      <td>-</td>\n",
              "      <td>31</td>\n",
              "      <td>0.00</td>\n",
              "      <td>LTR_5</td>\n",
              "      <td>NaN</td>\n",
              "      <td>NaN</td>\n",
              "      <td>NaN</td>\n",
              "      <td>NaN</td>\n",
              "      <td>NaN</td>\n",
              "    </tr>\n",
              "    <tr>\n",
              "      <th>2</th>\n",
              "      <td>HXB2F</td>\n",
              "      <td>23</td>\n",
              "      <td>24</td>\n",
              "      <td>5mC</td>\n",
              "      <td>861</td>\n",
              "      <td>+</td>\n",
              "      <td>108</td>\n",
              "      <td>0.00</td>\n",
              "      <td>LTR_5</td>\n",
              "      <td>NaN</td>\n",
              "      <td>NaN</td>\n",
              "      <td>NaN</td>\n",
              "      <td>NaN</td>\n",
              "      <td>NaN</td>\n",
              "    </tr>\n",
              "    <tr>\n",
              "      <th>3</th>\n",
              "      <td>HXB2F</td>\n",
              "      <td>24</td>\n",
              "      <td>25</td>\n",
              "      <td>5mC</td>\n",
              "      <td>1000</td>\n",
              "      <td>-</td>\n",
              "      <td>35</td>\n",
              "      <td>0.00</td>\n",
              "      <td>LTR_5</td>\n",
              "      <td>NaN</td>\n",
              "      <td>NaN</td>\n",
              "      <td>NaN</td>\n",
              "      <td>NaN</td>\n",
              "      <td>NaN</td>\n",
              "    </tr>\n",
              "    <tr>\n",
              "      <th>4</th>\n",
              "      <td>HXB2F</td>\n",
              "      <td>37</td>\n",
              "      <td>38</td>\n",
              "      <td>5mC</td>\n",
              "      <td>9</td>\n",
              "      <td>+</td>\n",
              "      <td>108</td>\n",
              "      <td>0.00</td>\n",
              "      <td>LTR_5</td>\n",
              "      <td>NaN</td>\n",
              "      <td>NaN</td>\n",
              "      <td>NaN</td>\n",
              "      <td>NaN</td>\n",
              "      <td>NaN</td>\n",
              "    </tr>\n",
              "    <tr>\n",
              "      <th>...</th>\n",
              "      <td>...</td>\n",
              "      <td>...</td>\n",
              "      <td>...</td>\n",
              "      <td>...</td>\n",
              "      <td>...</td>\n",
              "      <td>...</td>\n",
              "      <td>...</td>\n",
              "      <td>...</td>\n",
              "      <td>...</td>\n",
              "      <td>...</td>\n",
              "      <td>...</td>\n",
              "      <td>...</td>\n",
              "      <td>...</td>\n",
              "      <td>...</td>\n",
              "    </tr>\n",
              "    <tr>\n",
              "      <th>467</th>\n",
              "      <td>HXB2F</td>\n",
              "      <td>9476</td>\n",
              "      <td>9477</td>\n",
              "      <td>5mC</td>\n",
              "      <td>500</td>\n",
              "      <td>-</td>\n",
              "      <td>4</td>\n",
              "      <td>0.00</td>\n",
              "      <td>NaN</td>\n",
              "      <td>LTR_3</td>\n",
              "      <td>NaN</td>\n",
              "      <td>NaN</td>\n",
              "      <td>NaN</td>\n",
              "      <td>NaN</td>\n",
              "    </tr>\n",
              "    <tr>\n",
              "      <th>468</th>\n",
              "      <td>HXB2F</td>\n",
              "      <td>9491</td>\n",
              "      <td>9492</td>\n",
              "      <td>5mC</td>\n",
              "      <td>857</td>\n",
              "      <td>+</td>\n",
              "      <td>7</td>\n",
              "      <td>0.00</td>\n",
              "      <td>NaN</td>\n",
              "      <td>LTR_3</td>\n",
              "      <td>NaN</td>\n",
              "      <td>NaN</td>\n",
              "      <td>NaN</td>\n",
              "      <td>NaN</td>\n",
              "    </tr>\n",
              "    <tr>\n",
              "      <th>469</th>\n",
              "      <td>HXB2F</td>\n",
              "      <td>9492</td>\n",
              "      <td>9493</td>\n",
              "      <td>5mC</td>\n",
              "      <td>1000</td>\n",
              "      <td>-</td>\n",
              "      <td>3</td>\n",
              "      <td>33.33</td>\n",
              "      <td>NaN</td>\n",
              "      <td>LTR_3</td>\n",
              "      <td>NaN</td>\n",
              "      <td>NaN</td>\n",
              "      <td>NaN</td>\n",
              "      <td>NaN</td>\n",
              "    </tr>\n",
              "    <tr>\n",
              "      <th>470</th>\n",
              "      <td>HXB2F</td>\n",
              "      <td>9648</td>\n",
              "      <td>9649</td>\n",
              "      <td>5mC</td>\n",
              "      <td>857</td>\n",
              "      <td>+</td>\n",
              "      <td>7</td>\n",
              "      <td>16.67</td>\n",
              "      <td>NaN</td>\n",
              "      <td>LTR_3</td>\n",
              "      <td>NaN</td>\n",
              "      <td>NaN</td>\n",
              "      <td>NaN</td>\n",
              "      <td>NaN</td>\n",
              "    </tr>\n",
              "    <tr>\n",
              "      <th>471</th>\n",
              "      <td>HXB2F</td>\n",
              "      <td>9649</td>\n",
              "      <td>9650</td>\n",
              "      <td>5mC</td>\n",
              "      <td>1000</td>\n",
              "      <td>-</td>\n",
              "      <td>2</td>\n",
              "      <td>0.00</td>\n",
              "      <td>NaN</td>\n",
              "      <td>LTR_3</td>\n",
              "      <td>NaN</td>\n",
              "      <td>NaN</td>\n",
              "      <td>NaN</td>\n",
              "      <td>NaN</td>\n",
              "    </tr>\n",
              "  </tbody>\n",
              "</table>\n",
              "<p>472 rows × 14 columns</p>\n",
              "</div>\n",
              "      <button class=\"colab-df-convert\" onclick=\"convertToInteractive('df-762f47a4-f409-49b1-b153-dac4bc18479d')\"\n",
              "              title=\"Convert this dataframe to an interactive table.\"\n",
              "              style=\"display:none;\">\n",
              "        \n",
              "  <svg xmlns=\"http://www.w3.org/2000/svg\" height=\"24px\"viewBox=\"0 0 24 24\"\n",
              "       width=\"24px\">\n",
              "    <path d=\"M0 0h24v24H0V0z\" fill=\"none\"/>\n",
              "    <path d=\"M18.56 5.44l.94 2.06.94-2.06 2.06-.94-2.06-.94-.94-2.06-.94 2.06-2.06.94zm-11 1L8.5 8.5l.94-2.06 2.06-.94-2.06-.94L8.5 2.5l-.94 2.06-2.06.94zm10 10l.94 2.06.94-2.06 2.06-.94-2.06-.94-.94-2.06-.94 2.06-2.06.94z\"/><path d=\"M17.41 7.96l-1.37-1.37c-.4-.4-.92-.59-1.43-.59-.52 0-1.04.2-1.43.59L10.3 9.45l-7.72 7.72c-.78.78-.78 2.05 0 2.83L4 21.41c.39.39.9.59 1.41.59.51 0 1.02-.2 1.41-.59l7.78-7.78 2.81-2.81c.8-.78.8-2.07 0-2.86zM5.41 20L4 18.59l7.72-7.72 1.47 1.35L5.41 20z\"/>\n",
              "  </svg>\n",
              "      </button>\n",
              "      \n",
              "  <style>\n",
              "    .colab-df-container {\n",
              "      display:flex;\n",
              "      flex-wrap:wrap;\n",
              "      gap: 12px;\n",
              "    }\n",
              "\n",
              "    .colab-df-convert {\n",
              "      background-color: #E8F0FE;\n",
              "      border: none;\n",
              "      border-radius: 50%;\n",
              "      cursor: pointer;\n",
              "      display: none;\n",
              "      fill: #1967D2;\n",
              "      height: 32px;\n",
              "      padding: 0 0 0 0;\n",
              "      width: 32px;\n",
              "    }\n",
              "\n",
              "    .colab-df-convert:hover {\n",
              "      background-color: #E2EBFA;\n",
              "      box-shadow: 0px 1px 2px rgba(60, 64, 67, 0.3), 0px 1px 3px 1px rgba(60, 64, 67, 0.15);\n",
              "      fill: #174EA6;\n",
              "    }\n",
              "\n",
              "    [theme=dark] .colab-df-convert {\n",
              "      background-color: #3B4455;\n",
              "      fill: #D2E3FC;\n",
              "    }\n",
              "\n",
              "    [theme=dark] .colab-df-convert:hover {\n",
              "      background-color: #434B5C;\n",
              "      box-shadow: 0px 1px 3px 1px rgba(0, 0, 0, 0.15);\n",
              "      filter: drop-shadow(0px 1px 2px rgba(0, 0, 0, 0.3));\n",
              "      fill: #FFFFFF;\n",
              "    }\n",
              "  </style>\n",
              "\n",
              "      <script>\n",
              "        const buttonEl =\n",
              "          document.querySelector('#df-762f47a4-f409-49b1-b153-dac4bc18479d button.colab-df-convert');\n",
              "        buttonEl.style.display =\n",
              "          google.colab.kernel.accessAllowed ? 'block' : 'none';\n",
              "\n",
              "        async function convertToInteractive(key) {\n",
              "          const element = document.querySelector('#df-762f47a4-f409-49b1-b153-dac4bc18479d');\n",
              "          const dataTable =\n",
              "            await google.colab.kernel.invokeFunction('convertToInteractive',\n",
              "                                                     [key], {});\n",
              "          if (!dataTable) return;\n",
              "\n",
              "          const docLinkHtml = 'Like what you see? Visit the ' +\n",
              "            '<a target=\"_blank\" href=https://colab.research.google.com/notebooks/data_table.ipynb>data table notebook</a>'\n",
              "            + ' to learn more about interactive tables.';\n",
              "          element.innerHTML = '';\n",
              "          dataTable['output_type'] = 'display_data';\n",
              "          await google.colab.output.renderOutput(dataTable, element);\n",
              "          const docLink = document.createElement('div');\n",
              "          docLink.innerHTML = docLinkHtml;\n",
              "          element.appendChild(docLink);\n",
              "        }\n",
              "      </script>\n",
              "    </div>\n",
              "  </div>\n",
              "  "
            ]
          },
          "metadata": {},
          "execution_count": 222
        }
      ]
    },
    {
      "cell_type": "code",
      "source": [
        "is_mod = table['Percentage_of_mod_bases']>50\n",
        "is_mod"
      ],
      "metadata": {
        "colab": {
          "base_uri": "https://localhost:8080/"
        },
        "id": "kcNx_bQRzm5U",
        "outputId": "00cd6b00-ece6-42c9-804a-83f1c44fc2a8"
      },
      "execution_count": null,
      "outputs": [
        {
          "output_type": "execute_result",
          "data": {
            "text/plain": [
              "0      False\n",
              "1      False\n",
              "2      False\n",
              "3      False\n",
              "4      False\n",
              "       ...  \n",
              "467    False\n",
              "468    False\n",
              "469    False\n",
              "470    False\n",
              "471    False\n",
              "Name: Percentage_of_mod_bases, Length: 472, dtype: bool"
            ]
          },
          "metadata": {},
          "execution_count": 107
        }
      ]
    },
    {
      "cell_type": "code",
      "source": [
        "is_LTR_5 = table['Reading_frame_1'] == 'LTR_5'\n",
        "is_LTR_5 "
      ],
      "metadata": {
        "colab": {
          "base_uri": "https://localhost:8080/"
        },
        "id": "QBbDwmPJW8lq",
        "outputId": "b4f147d6-1c88-487a-d6b2-ad3975969eb3"
      },
      "execution_count": null,
      "outputs": [
        {
          "output_type": "execute_result",
          "data": {
            "text/plain": [
              "0       True\n",
              "1       True\n",
              "2       True\n",
              "3       True\n",
              "4       True\n",
              "       ...  \n",
              "467    False\n",
              "468    False\n",
              "469    False\n",
              "470    False\n",
              "471    False\n",
              "Name: Reading_frame_1, Length: 472, dtype: bool"
            ]
          },
          "metadata": {},
          "execution_count": 108
        }
      ]
    },
    {
      "cell_type": "code",
      "source": [
        "LTR_5_crosstab = pd.crosstab (is_LTR_5, is_mod)\n",
        "LTR_5_crosstab"
      ],
      "metadata": {
        "colab": {
          "base_uri": "https://localhost:8080/",
          "height": 143
        },
        "id": "X3GRFhvPXqVA",
        "outputId": "79965d4b-a7bd-4597-f1f3-32e25d7e0aaf"
      },
      "execution_count": null,
      "outputs": [
        {
          "output_type": "execute_result",
          "data": {
            "text/plain": [
              "Percentage_of_mod_bases  False  True\n",
              "Reading_frame_1                     \n",
              "False                      367    15\n",
              "True                        90     0"
            ],
            "text/html": [
              "\n",
              "  <div id=\"df-5d20f7b9-85b6-4bcf-bc77-8392d9437f05\">\n",
              "    <div class=\"colab-df-container\">\n",
              "      <div>\n",
              "<style scoped>\n",
              "    .dataframe tbody tr th:only-of-type {\n",
              "        vertical-align: middle;\n",
              "    }\n",
              "\n",
              "    .dataframe tbody tr th {\n",
              "        vertical-align: top;\n",
              "    }\n",
              "\n",
              "    .dataframe thead th {\n",
              "        text-align: right;\n",
              "    }\n",
              "</style>\n",
              "<table border=\"1\" class=\"dataframe\">\n",
              "  <thead>\n",
              "    <tr style=\"text-align: right;\">\n",
              "      <th>Percentage_of_mod_bases</th>\n",
              "      <th>False</th>\n",
              "      <th>True</th>\n",
              "    </tr>\n",
              "    <tr>\n",
              "      <th>Reading_frame_1</th>\n",
              "      <th></th>\n",
              "      <th></th>\n",
              "    </tr>\n",
              "  </thead>\n",
              "  <tbody>\n",
              "    <tr>\n",
              "      <th>False</th>\n",
              "      <td>367</td>\n",
              "      <td>15</td>\n",
              "    </tr>\n",
              "    <tr>\n",
              "      <th>True</th>\n",
              "      <td>90</td>\n",
              "      <td>0</td>\n",
              "    </tr>\n",
              "  </tbody>\n",
              "</table>\n",
              "</div>\n",
              "      <button class=\"colab-df-convert\" onclick=\"convertToInteractive('df-5d20f7b9-85b6-4bcf-bc77-8392d9437f05')\"\n",
              "              title=\"Convert this dataframe to an interactive table.\"\n",
              "              style=\"display:none;\">\n",
              "        \n",
              "  <svg xmlns=\"http://www.w3.org/2000/svg\" height=\"24px\"viewBox=\"0 0 24 24\"\n",
              "       width=\"24px\">\n",
              "    <path d=\"M0 0h24v24H0V0z\" fill=\"none\"/>\n",
              "    <path d=\"M18.56 5.44l.94 2.06.94-2.06 2.06-.94-2.06-.94-.94-2.06-.94 2.06-2.06.94zm-11 1L8.5 8.5l.94-2.06 2.06-.94-2.06-.94L8.5 2.5l-.94 2.06-2.06.94zm10 10l.94 2.06.94-2.06 2.06-.94-2.06-.94-.94-2.06-.94 2.06-2.06.94z\"/><path d=\"M17.41 7.96l-1.37-1.37c-.4-.4-.92-.59-1.43-.59-.52 0-1.04.2-1.43.59L10.3 9.45l-7.72 7.72c-.78.78-.78 2.05 0 2.83L4 21.41c.39.39.9.59 1.41.59.51 0 1.02-.2 1.41-.59l7.78-7.78 2.81-2.81c.8-.78.8-2.07 0-2.86zM5.41 20L4 18.59l7.72-7.72 1.47 1.35L5.41 20z\"/>\n",
              "  </svg>\n",
              "      </button>\n",
              "      \n",
              "  <style>\n",
              "    .colab-df-container {\n",
              "      display:flex;\n",
              "      flex-wrap:wrap;\n",
              "      gap: 12px;\n",
              "    }\n",
              "\n",
              "    .colab-df-convert {\n",
              "      background-color: #E8F0FE;\n",
              "      border: none;\n",
              "      border-radius: 50%;\n",
              "      cursor: pointer;\n",
              "      display: none;\n",
              "      fill: #1967D2;\n",
              "      height: 32px;\n",
              "      padding: 0 0 0 0;\n",
              "      width: 32px;\n",
              "    }\n",
              "\n",
              "    .colab-df-convert:hover {\n",
              "      background-color: #E2EBFA;\n",
              "      box-shadow: 0px 1px 2px rgba(60, 64, 67, 0.3), 0px 1px 3px 1px rgba(60, 64, 67, 0.15);\n",
              "      fill: #174EA6;\n",
              "    }\n",
              "\n",
              "    [theme=dark] .colab-df-convert {\n",
              "      background-color: #3B4455;\n",
              "      fill: #D2E3FC;\n",
              "    }\n",
              "\n",
              "    [theme=dark] .colab-df-convert:hover {\n",
              "      background-color: #434B5C;\n",
              "      box-shadow: 0px 1px 3px 1px rgba(0, 0, 0, 0.15);\n",
              "      filter: drop-shadow(0px 1px 2px rgba(0, 0, 0, 0.3));\n",
              "      fill: #FFFFFF;\n",
              "    }\n",
              "  </style>\n",
              "\n",
              "      <script>\n",
              "        const buttonEl =\n",
              "          document.querySelector('#df-5d20f7b9-85b6-4bcf-bc77-8392d9437f05 button.colab-df-convert');\n",
              "        buttonEl.style.display =\n",
              "          google.colab.kernel.accessAllowed ? 'block' : 'none';\n",
              "\n",
              "        async function convertToInteractive(key) {\n",
              "          const element = document.querySelector('#df-5d20f7b9-85b6-4bcf-bc77-8392d9437f05');\n",
              "          const dataTable =\n",
              "            await google.colab.kernel.invokeFunction('convertToInteractive',\n",
              "                                                     [key], {});\n",
              "          if (!dataTable) return;\n",
              "\n",
              "          const docLinkHtml = 'Like what you see? Visit the ' +\n",
              "            '<a target=\"_blank\" href=https://colab.research.google.com/notebooks/data_table.ipynb>data table notebook</a>'\n",
              "            + ' to learn more about interactive tables.';\n",
              "          element.innerHTML = '';\n",
              "          dataTable['output_type'] = 'display_data';\n",
              "          await google.colab.output.renderOutput(dataTable, element);\n",
              "          const docLink = document.createElement('div');\n",
              "          docLink.innerHTML = docLinkHtml;\n",
              "          element.appendChild(docLink);\n",
              "        }\n",
              "      </script>\n",
              "    </div>\n",
              "  </div>\n",
              "  "
            ]
          },
          "metadata": {},
          "execution_count": 109
        }
      ]
    },
    {
      "cell_type": "code",
      "source": [
        "from scipy.stats import chi2_contingency"
      ],
      "metadata": {
        "id": "oeJMg6e9YFzV"
      },
      "execution_count": null,
      "outputs": []
    },
    {
      "cell_type": "code",
      "source": [
        "delta, p_value, dof, c_expected = chi2_contingency (LTR_5_crosstab)"
      ],
      "metadata": {
        "id": "1qaFwcGqYQbL"
      },
      "execution_count": null,
      "outputs": []
    },
    {
      "cell_type": "code",
      "source": [
        "\n",
        "print(f'There were {dof} degrees of freedom in the table.')\n",
        "print(f'It expects to see the matrix\\n{c_expected}')\n",
        "\n",
        "print(f'There was a difference of {delta} between the expected and observed matrices.')\n",
        "print(f'The likelihood of seeing this large a difference by chance is p={p_value}.')"
      ],
      "metadata": {
        "colab": {
          "base_uri": "https://localhost:8080/"
        },
        "id": "sDGggsPuYvJN",
        "outputId": "75a7cb92-56af-459b-db5b-99e041188544"
      },
      "execution_count": null,
      "outputs": [
        {
          "output_type": "stream",
          "name": "stdout",
          "text": [
            "There were 1 degrees of freedom in the table.\n",
            "It expects to see the matrix\n",
            "[[ 369.86016949   12.13983051]\n",
            " [  87.13983051    2.86016949]]\n",
            "There was a difference of 2.485415765531247 between the expected and observed matrices.\n",
            "The likelihood of seeing this large a difference by chance is p=0.11490598003671591.\n"
          ]
        }
      ]
    },
    {
      "cell_type": "code",
      "source": [
        "is_gag = table['Reading_frame_2'] == 'gag'\n",
        "is_gag "
      ],
      "metadata": {
        "colab": {
          "base_uri": "https://localhost:8080/"
        },
        "id": "9C6ab87rnG38",
        "outputId": "d985eaac-8e56-480e-b0a5-bbd2f3173989"
      },
      "execution_count": null,
      "outputs": [
        {
          "output_type": "execute_result",
          "data": {
            "text/plain": [
              "0      False\n",
              "1      False\n",
              "2      False\n",
              "3      False\n",
              "4      False\n",
              "       ...  \n",
              "467    False\n",
              "468    False\n",
              "469    False\n",
              "470    False\n",
              "471    False\n",
              "Name: Reading_frame_2, Length: 472, dtype: bool"
            ]
          },
          "metadata": {},
          "execution_count": 113
        }
      ]
    },
    {
      "cell_type": "code",
      "source": [
        "gag_crosstab = pd.crosstab (is_gag, is_mod)\n",
        "gag_crosstab"
      ],
      "metadata": {
        "colab": {
          "base_uri": "https://localhost:8080/",
          "height": 112
        },
        "id": "zi59ccOOCwo4",
        "outputId": "67ec7adc-bd29-498d-dc2f-5022d620d13d"
      },
      "execution_count": null,
      "outputs": [
        {
          "output_type": "execute_result",
          "data": {
            "text/plain": [
              "Percentage_of_mod_bases  False  True\n",
              "Reading_frame_2                     \n",
              "False                      457    15"
            ],
            "text/html": [
              "\n",
              "  <div id=\"df-56a29a71-afb4-42c1-8358-dc7deda5d6ef\">\n",
              "    <div class=\"colab-df-container\">\n",
              "      <div>\n",
              "<style scoped>\n",
              "    .dataframe tbody tr th:only-of-type {\n",
              "        vertical-align: middle;\n",
              "    }\n",
              "\n",
              "    .dataframe tbody tr th {\n",
              "        vertical-align: top;\n",
              "    }\n",
              "\n",
              "    .dataframe thead th {\n",
              "        text-align: right;\n",
              "    }\n",
              "</style>\n",
              "<table border=\"1\" class=\"dataframe\">\n",
              "  <thead>\n",
              "    <tr style=\"text-align: right;\">\n",
              "      <th>Percentage_of_mod_bases</th>\n",
              "      <th>False</th>\n",
              "      <th>True</th>\n",
              "    </tr>\n",
              "    <tr>\n",
              "      <th>Reading_frame_2</th>\n",
              "      <th></th>\n",
              "      <th></th>\n",
              "    </tr>\n",
              "  </thead>\n",
              "  <tbody>\n",
              "    <tr>\n",
              "      <th>False</th>\n",
              "      <td>457</td>\n",
              "      <td>15</td>\n",
              "    </tr>\n",
              "  </tbody>\n",
              "</table>\n",
              "</div>\n",
              "      <button class=\"colab-df-convert\" onclick=\"convertToInteractive('df-56a29a71-afb4-42c1-8358-dc7deda5d6ef')\"\n",
              "              title=\"Convert this dataframe to an interactive table.\"\n",
              "              style=\"display:none;\">\n",
              "        \n",
              "  <svg xmlns=\"http://www.w3.org/2000/svg\" height=\"24px\"viewBox=\"0 0 24 24\"\n",
              "       width=\"24px\">\n",
              "    <path d=\"M0 0h24v24H0V0z\" fill=\"none\"/>\n",
              "    <path d=\"M18.56 5.44l.94 2.06.94-2.06 2.06-.94-2.06-.94-.94-2.06-.94 2.06-2.06.94zm-11 1L8.5 8.5l.94-2.06 2.06-.94-2.06-.94L8.5 2.5l-.94 2.06-2.06.94zm10 10l.94 2.06.94-2.06 2.06-.94-2.06-.94-.94-2.06-.94 2.06-2.06.94z\"/><path d=\"M17.41 7.96l-1.37-1.37c-.4-.4-.92-.59-1.43-.59-.52 0-1.04.2-1.43.59L10.3 9.45l-7.72 7.72c-.78.78-.78 2.05 0 2.83L4 21.41c.39.39.9.59 1.41.59.51 0 1.02-.2 1.41-.59l7.78-7.78 2.81-2.81c.8-.78.8-2.07 0-2.86zM5.41 20L4 18.59l7.72-7.72 1.47 1.35L5.41 20z\"/>\n",
              "  </svg>\n",
              "      </button>\n",
              "      \n",
              "  <style>\n",
              "    .colab-df-container {\n",
              "      display:flex;\n",
              "      flex-wrap:wrap;\n",
              "      gap: 12px;\n",
              "    }\n",
              "\n",
              "    .colab-df-convert {\n",
              "      background-color: #E8F0FE;\n",
              "      border: none;\n",
              "      border-radius: 50%;\n",
              "      cursor: pointer;\n",
              "      display: none;\n",
              "      fill: #1967D2;\n",
              "      height: 32px;\n",
              "      padding: 0 0 0 0;\n",
              "      width: 32px;\n",
              "    }\n",
              "\n",
              "    .colab-df-convert:hover {\n",
              "      background-color: #E2EBFA;\n",
              "      box-shadow: 0px 1px 2px rgba(60, 64, 67, 0.3), 0px 1px 3px 1px rgba(60, 64, 67, 0.15);\n",
              "      fill: #174EA6;\n",
              "    }\n",
              "\n",
              "    [theme=dark] .colab-df-convert {\n",
              "      background-color: #3B4455;\n",
              "      fill: #D2E3FC;\n",
              "    }\n",
              "\n",
              "    [theme=dark] .colab-df-convert:hover {\n",
              "      background-color: #434B5C;\n",
              "      box-shadow: 0px 1px 3px 1px rgba(0, 0, 0, 0.15);\n",
              "      filter: drop-shadow(0px 1px 2px rgba(0, 0, 0, 0.3));\n",
              "      fill: #FFFFFF;\n",
              "    }\n",
              "  </style>\n",
              "\n",
              "      <script>\n",
              "        const buttonEl =\n",
              "          document.querySelector('#df-56a29a71-afb4-42c1-8358-dc7deda5d6ef button.colab-df-convert');\n",
              "        buttonEl.style.display =\n",
              "          google.colab.kernel.accessAllowed ? 'block' : 'none';\n",
              "\n",
              "        async function convertToInteractive(key) {\n",
              "          const element = document.querySelector('#df-56a29a71-afb4-42c1-8358-dc7deda5d6ef');\n",
              "          const dataTable =\n",
              "            await google.colab.kernel.invokeFunction('convertToInteractive',\n",
              "                                                     [key], {});\n",
              "          if (!dataTable) return;\n",
              "\n",
              "          const docLinkHtml = 'Like what you see? Visit the ' +\n",
              "            '<a target=\"_blank\" href=https://colab.research.google.com/notebooks/data_table.ipynb>data table notebook</a>'\n",
              "            + ' to learn more about interactive tables.';\n",
              "          element.innerHTML = '';\n",
              "          dataTable['output_type'] = 'display_data';\n",
              "          await google.colab.output.renderOutput(dataTable, element);\n",
              "          const docLink = document.createElement('div');\n",
              "          docLink.innerHTML = docLinkHtml;\n",
              "          element.appendChild(docLink);\n",
              "        }\n",
              "      </script>\n",
              "    </div>\n",
              "  </div>\n",
              "  "
            ]
          },
          "metadata": {},
          "execution_count": 114
        }
      ]
    },
    {
      "cell_type": "code",
      "source": [
        "delta_gag, p_value_gag, dof_gag, c_expected_gag = chi2_contingency (gag_crosstab)"
      ],
      "metadata": {
        "id": "7o9S9021IL2d"
      },
      "execution_count": null,
      "outputs": []
    },
    {
      "cell_type": "code",
      "source": [
        "print(f'There were {dof_gag} degrees of freedom in the table.')\n",
        "print(f'It expects to see the matrix\\n{c_expected_gag}')\n",
        "\n",
        "print(f'There was a difference of {delta_gag} between the expected and observed matrices.')\n",
        "print(f'The likelihood of seeing this large a difference by chance is p={p_value_gag}.')"
      ],
      "metadata": {
        "colab": {
          "base_uri": "https://localhost:8080/"
        },
        "id": "zFpmwsZFFB4u",
        "outputId": "d68a8265-734a-49bb-95c2-eaa74c036fa6"
      },
      "execution_count": null,
      "outputs": [
        {
          "output_type": "stream",
          "name": "stdout",
          "text": [
            "There were 0 degrees of freedom in the table.\n",
            "It expects to see the matrix\n",
            "[[ 457.   15.]]\n",
            "There was a difference of 0.0 between the expected and observed matrices.\n",
            "The likelihood of seeing this large a difference by chance is p=1.0.\n"
          ]
        }
      ]
    },
    {
      "cell_type": "code",
      "source": [
        "is_pol = table['Reading_frame_3' ] == 'pol'\n",
        "\n",
        "is_pol"
      ],
      "metadata": {
        "colab": {
          "base_uri": "https://localhost:8080/"
        },
        "id": "V2AmerCfIowj",
        "outputId": "26b95f20-7ea7-4be8-c672-80a873a701bb"
      },
      "execution_count": null,
      "outputs": [
        {
          "output_type": "execute_result",
          "data": {
            "text/plain": [
              "0      False\n",
              "1      False\n",
              "2      False\n",
              "3      False\n",
              "4      False\n",
              "       ...  \n",
              "467    False\n",
              "468    False\n",
              "469    False\n",
              "470    False\n",
              "471    False\n",
              "Name: Reading_frame_3, Length: 472, dtype: bool"
            ]
          },
          "metadata": {},
          "execution_count": 117
        }
      ]
    },
    {
      "cell_type": "code",
      "source": [
        "pd.crosstab (is_pol, is_mod)"
      ],
      "metadata": {
        "colab": {
          "base_uri": "https://localhost:8080/",
          "height": 143
        },
        "id": "MxCA-nuHJu7f",
        "outputId": "c66d6896-8386-4896-9281-7016c1128e6c"
      },
      "execution_count": null,
      "outputs": [
        {
          "output_type": "execute_result",
          "data": {
            "text/plain": [
              "Percentage_of_mod_bases  False  True\n",
              "Reading_frame_3                     \n",
              "False                      400    12\n",
              "True                        57     3"
            ],
            "text/html": [
              "\n",
              "  <div id=\"df-80aa6feb-aa70-42f4-8300-93a37501a2ff\">\n",
              "    <div class=\"colab-df-container\">\n",
              "      <div>\n",
              "<style scoped>\n",
              "    .dataframe tbody tr th:only-of-type {\n",
              "        vertical-align: middle;\n",
              "    }\n",
              "\n",
              "    .dataframe tbody tr th {\n",
              "        vertical-align: top;\n",
              "    }\n",
              "\n",
              "    .dataframe thead th {\n",
              "        text-align: right;\n",
              "    }\n",
              "</style>\n",
              "<table border=\"1\" class=\"dataframe\">\n",
              "  <thead>\n",
              "    <tr style=\"text-align: right;\">\n",
              "      <th>Percentage_of_mod_bases</th>\n",
              "      <th>False</th>\n",
              "      <th>True</th>\n",
              "    </tr>\n",
              "    <tr>\n",
              "      <th>Reading_frame_3</th>\n",
              "      <th></th>\n",
              "      <th></th>\n",
              "    </tr>\n",
              "  </thead>\n",
              "  <tbody>\n",
              "    <tr>\n",
              "      <th>False</th>\n",
              "      <td>400</td>\n",
              "      <td>12</td>\n",
              "    </tr>\n",
              "    <tr>\n",
              "      <th>True</th>\n",
              "      <td>57</td>\n",
              "      <td>3</td>\n",
              "    </tr>\n",
              "  </tbody>\n",
              "</table>\n",
              "</div>\n",
              "      <button class=\"colab-df-convert\" onclick=\"convertToInteractive('df-80aa6feb-aa70-42f4-8300-93a37501a2ff')\"\n",
              "              title=\"Convert this dataframe to an interactive table.\"\n",
              "              style=\"display:none;\">\n",
              "        \n",
              "  <svg xmlns=\"http://www.w3.org/2000/svg\" height=\"24px\"viewBox=\"0 0 24 24\"\n",
              "       width=\"24px\">\n",
              "    <path d=\"M0 0h24v24H0V0z\" fill=\"none\"/>\n",
              "    <path d=\"M18.56 5.44l.94 2.06.94-2.06 2.06-.94-2.06-.94-.94-2.06-.94 2.06-2.06.94zm-11 1L8.5 8.5l.94-2.06 2.06-.94-2.06-.94L8.5 2.5l-.94 2.06-2.06.94zm10 10l.94 2.06.94-2.06 2.06-.94-2.06-.94-.94-2.06-.94 2.06-2.06.94z\"/><path d=\"M17.41 7.96l-1.37-1.37c-.4-.4-.92-.59-1.43-.59-.52 0-1.04.2-1.43.59L10.3 9.45l-7.72 7.72c-.78.78-.78 2.05 0 2.83L4 21.41c.39.39.9.59 1.41.59.51 0 1.02-.2 1.41-.59l7.78-7.78 2.81-2.81c.8-.78.8-2.07 0-2.86zM5.41 20L4 18.59l7.72-7.72 1.47 1.35L5.41 20z\"/>\n",
              "  </svg>\n",
              "      </button>\n",
              "      \n",
              "  <style>\n",
              "    .colab-df-container {\n",
              "      display:flex;\n",
              "      flex-wrap:wrap;\n",
              "      gap: 12px;\n",
              "    }\n",
              "\n",
              "    .colab-df-convert {\n",
              "      background-color: #E8F0FE;\n",
              "      border: none;\n",
              "      border-radius: 50%;\n",
              "      cursor: pointer;\n",
              "      display: none;\n",
              "      fill: #1967D2;\n",
              "      height: 32px;\n",
              "      padding: 0 0 0 0;\n",
              "      width: 32px;\n",
              "    }\n",
              "\n",
              "    .colab-df-convert:hover {\n",
              "      background-color: #E2EBFA;\n",
              "      box-shadow: 0px 1px 2px rgba(60, 64, 67, 0.3), 0px 1px 3px 1px rgba(60, 64, 67, 0.15);\n",
              "      fill: #174EA6;\n",
              "    }\n",
              "\n",
              "    [theme=dark] .colab-df-convert {\n",
              "      background-color: #3B4455;\n",
              "      fill: #D2E3FC;\n",
              "    }\n",
              "\n",
              "    [theme=dark] .colab-df-convert:hover {\n",
              "      background-color: #434B5C;\n",
              "      box-shadow: 0px 1px 3px 1px rgba(0, 0, 0, 0.15);\n",
              "      filter: drop-shadow(0px 1px 2px rgba(0, 0, 0, 0.3));\n",
              "      fill: #FFFFFF;\n",
              "    }\n",
              "  </style>\n",
              "\n",
              "      <script>\n",
              "        const buttonEl =\n",
              "          document.querySelector('#df-80aa6feb-aa70-42f4-8300-93a37501a2ff button.colab-df-convert');\n",
              "        buttonEl.style.display =\n",
              "          google.colab.kernel.accessAllowed ? 'block' : 'none';\n",
              "\n",
              "        async function convertToInteractive(key) {\n",
              "          const element = document.querySelector('#df-80aa6feb-aa70-42f4-8300-93a37501a2ff');\n",
              "          const dataTable =\n",
              "            await google.colab.kernel.invokeFunction('convertToInteractive',\n",
              "                                                     [key], {});\n",
              "          if (!dataTable) return;\n",
              "\n",
              "          const docLinkHtml = 'Like what you see? Visit the ' +\n",
              "            '<a target=\"_blank\" href=https://colab.research.google.com/notebooks/data_table.ipynb>data table notebook</a>'\n",
              "            + ' to learn more about interactive tables.';\n",
              "          element.innerHTML = '';\n",
              "          dataTable['output_type'] = 'display_data';\n",
              "          await google.colab.output.renderOutput(dataTable, element);\n",
              "          const docLink = document.createElement('div');\n",
              "          docLink.innerHTML = docLinkHtml;\n",
              "          element.appendChild(docLink);\n",
              "        }\n",
              "      </script>\n",
              "    </div>\n",
              "  </div>\n",
              "  "
            ]
          },
          "metadata": {},
          "execution_count": 118
        }
      ]
    },
    {
      "cell_type": "code",
      "source": [
        "delta_pol, p_value_pol, dof_pol, c_expected_pol = chi2_contingency (pd.crosstab (is_gag, is_mod))"
      ],
      "metadata": {
        "id": "eNZW96xyJ7Qj"
      },
      "execution_count": null,
      "outputs": []
    },
    {
      "cell_type": "code",
      "source": [
        "print(f'There were {dof_pol} degrees of freedom in the table.')\n",
        "print(f'It expects to see the matrix\\n{c_expected_pol}')\n",
        "\n",
        "print(f'There was a difference of {delta_pol} between the expected and observed matrices.')\n",
        "print(f'The likelihood of seeing this large a difference by chance is p={p_value_pol}.')"
      ],
      "metadata": {
        "colab": {
          "base_uri": "https://localhost:8080/"
        },
        "id": "f-mXfKi-KDdN",
        "outputId": "a1060272-d5c8-4c77-8f02-a5ff4d1e140f"
      },
      "execution_count": null,
      "outputs": [
        {
          "output_type": "stream",
          "name": "stdout",
          "text": [
            "There were 0 degrees of freedom in the table.\n",
            "It expects to see the matrix\n",
            "[[ 457.   15.]]\n",
            "There was a difference of 0.0 between the expected and observed matrices.\n",
            "The likelihood of seeing this large a difference by chance is p=1.0.\n"
          ]
        }
      ]
    },
    {
      "cell_type": "code",
      "source": [
        "is_vif = table['Reading_frame_1' ] == 'vif'\n",
        "is_vif"
      ],
      "metadata": {
        "colab": {
          "base_uri": "https://localhost:8080/"
        },
        "id": "JWbh7i1ZLUKe",
        "outputId": "ad051698-e7f3-4c47-90bb-29e5ffa3451f"
      },
      "execution_count": null,
      "outputs": [
        {
          "output_type": "execute_result",
          "data": {
            "text/plain": [
              "0      False\n",
              "1      False\n",
              "2      False\n",
              "3      False\n",
              "4      False\n",
              "       ...  \n",
              "467    False\n",
              "468    False\n",
              "469    False\n",
              "470    False\n",
              "471    False\n",
              "Name: Reading_frame_1, Length: 472, dtype: bool"
            ]
          },
          "metadata": {},
          "execution_count": 121
        }
      ]
    },
    {
      "cell_type": "code",
      "source": [
        "vif_crosstab = pd.crosstab (is_vif, is_mod)\n"
      ],
      "metadata": {
        "id": "6NgxzOGEN_Gl"
      },
      "execution_count": null,
      "outputs": []
    },
    {
      "cell_type": "code",
      "source": [
        "delta_vif, p_value_vif, dof_vif, c_expected_vif = chi2_contingency (vif_crosstab)"
      ],
      "metadata": {
        "id": "sPGtWSQYONZl"
      },
      "execution_count": null,
      "outputs": []
    },
    {
      "cell_type": "code",
      "source": [
        "print(f'There were {dof_vif} degrees of freedom in the table.')\n",
        "print(f'It expects to see the matrix\\n{c_expected_vif}')\n",
        "\n",
        "print(f'There was a difference of {delta_vif} between the expected and observed matrices.')\n",
        "print(f'The likelihood of seeing this large a difference by chance is p={p_value_vif}.')"
      ],
      "metadata": {
        "colab": {
          "base_uri": "https://localhost:8080/"
        },
        "id": "9LwIw-INNA0k",
        "outputId": "4aa510ef-528d-4b37-e40a-8c17e2488716"
      },
      "execution_count": null,
      "outputs": [
        {
          "output_type": "stream",
          "name": "stdout",
          "text": [
            "There were 0 degrees of freedom in the table.\n",
            "It expects to see the matrix\n",
            "[[ 457.   15.]]\n",
            "There was a difference of 0.0 between the expected and observed matrices.\n",
            "The likelihood of seeing this large a difference by chance is p=1.0.\n"
          ]
        }
      ]
    },
    {
      "cell_type": "code",
      "source": [
        "is_vpr = table['Reading_frame_3'] == 'vpr'\n",
        "is_vpr"
      ],
      "metadata": {
        "colab": {
          "base_uri": "https://localhost:8080/"
        },
        "id": "BMNR_ae0PdzO",
        "outputId": "c7c69ff1-d7c2-4731-fc6b-850645eeb36b"
      },
      "execution_count": null,
      "outputs": [
        {
          "output_type": "execute_result",
          "data": {
            "text/plain": [
              "0      False\n",
              "1      False\n",
              "2      False\n",
              "3      False\n",
              "4      False\n",
              "       ...  \n",
              "467    False\n",
              "468    False\n",
              "469    False\n",
              "470    False\n",
              "471    False\n",
              "Name: Reading_frame_3, Length: 472, dtype: bool"
            ]
          },
          "metadata": {},
          "execution_count": 125
        }
      ]
    },
    {
      "cell_type": "code",
      "source": [
        "table"
      ],
      "metadata": {
        "colab": {
          "base_uri": "https://localhost:8080/",
          "height": 487
        },
        "id": "GXMlWSNtsGIS",
        "outputId": "3cbbd6cc-d84c-4663-8f6f-36057cd08b0c"
      },
      "execution_count": null,
      "outputs": [
        {
          "output_type": "execute_result",
          "data": {
            "text/plain": [
              "    Reference_sequence_name  Start_position  End_position_excl  \\\n",
              "0                     HXB2F               2                  3   \n",
              "1                     HXB2F               6                  7   \n",
              "2                     HXB2F              23                 24   \n",
              "3                     HXB2F              24                 25   \n",
              "4                     HXB2F              37                 38   \n",
              "..                      ...             ...                ...   \n",
              "467                   HXB2F            9476               9477   \n",
              "468                   HXB2F            9491               9492   \n",
              "469                   HXB2F            9492               9493   \n",
              "470                   HXB2F            9648               9649   \n",
              "471                   HXB2F            9649               9650   \n",
              "\n",
              "    Modification_type  Score Strand  Read_coverage_at_reference  \\\n",
              "0                 5mC     35      -                          28   \n",
              "1                 5mC     32      -                          31   \n",
              "2                 5mC    861      +                         108   \n",
              "3                 5mC   1000      -                          35   \n",
              "4                 5mC      9      +                         108   \n",
              "..                ...    ...    ...                         ...   \n",
              "467               5mC    500      -                           4   \n",
              "468               5mC    857      +                           7   \n",
              "469               5mC   1000      -                           3   \n",
              "470               5mC    857      +                           7   \n",
              "471               5mC   1000      -                           2   \n",
              "\n",
              "     Percentage_of_mod_bases Reading_frame_1 Reading_frame_2  \\\n",
              "0                       0.00           LTR_5             NaN   \n",
              "1                       0.00           LTR_5             NaN   \n",
              "2                       0.00           LTR_5             NaN   \n",
              "3                       0.00           LTR_5             NaN   \n",
              "4                       0.00           LTR_5             NaN   \n",
              "..                       ...             ...             ...   \n",
              "467                     0.00             NaN           LTR_3   \n",
              "468                     0.00             NaN           LTR_3   \n",
              "469                    33.33             NaN           LTR_3   \n",
              "470                    16.67             NaN           LTR_3   \n",
              "471                     0.00             NaN           LTR_3   \n",
              "\n",
              "    Reading_frame_2.1 Reading_frame_3 in_paper tat_reading rev_reading  \n",
              "0                 NaN             NaN      NaN         NaN         NaN  \n",
              "1                 NaN             NaN      NaN         NaN         NaN  \n",
              "2                 NaN             NaN      NaN         NaN         NaN  \n",
              "3                 NaN             NaN      NaN         NaN         NaN  \n",
              "4                 NaN             NaN      NaN         NaN         NaN  \n",
              "..                ...             ...      ...         ...         ...  \n",
              "467               NaN             NaN      NaN         NaN         NaN  \n",
              "468               NaN             NaN      NaN         NaN         NaN  \n",
              "469               NaN             NaN      NaN         NaN         NaN  \n",
              "470               NaN             NaN      NaN         NaN         NaN  \n",
              "471               NaN             NaN      NaN         NaN         NaN  \n",
              "\n",
              "[472 rows x 15 columns]"
            ],
            "text/html": [
              "\n",
              "  <div id=\"df-fb8daa65-decd-4daa-b32c-eb4802292ea7\">\n",
              "    <div class=\"colab-df-container\">\n",
              "      <div>\n",
              "<style scoped>\n",
              "    .dataframe tbody tr th:only-of-type {\n",
              "        vertical-align: middle;\n",
              "    }\n",
              "\n",
              "    .dataframe tbody tr th {\n",
              "        vertical-align: top;\n",
              "    }\n",
              "\n",
              "    .dataframe thead th {\n",
              "        text-align: right;\n",
              "    }\n",
              "</style>\n",
              "<table border=\"1\" class=\"dataframe\">\n",
              "  <thead>\n",
              "    <tr style=\"text-align: right;\">\n",
              "      <th></th>\n",
              "      <th>Reference_sequence_name</th>\n",
              "      <th>Start_position</th>\n",
              "      <th>End_position_excl</th>\n",
              "      <th>Modification_type</th>\n",
              "      <th>Score</th>\n",
              "      <th>Strand</th>\n",
              "      <th>Read_coverage_at_reference</th>\n",
              "      <th>Percentage_of_mod_bases</th>\n",
              "      <th>Reading_frame_1</th>\n",
              "      <th>Reading_frame_2</th>\n",
              "      <th>Reading_frame_2.1</th>\n",
              "      <th>Reading_frame_3</th>\n",
              "      <th>in_paper</th>\n",
              "      <th>tat_reading</th>\n",
              "      <th>rev_reading</th>\n",
              "    </tr>\n",
              "  </thead>\n",
              "  <tbody>\n",
              "    <tr>\n",
              "      <th>0</th>\n",
              "      <td>HXB2F</td>\n",
              "      <td>2</td>\n",
              "      <td>3</td>\n",
              "      <td>5mC</td>\n",
              "      <td>35</td>\n",
              "      <td>-</td>\n",
              "      <td>28</td>\n",
              "      <td>0.00</td>\n",
              "      <td>LTR_5</td>\n",
              "      <td>NaN</td>\n",
              "      <td>NaN</td>\n",
              "      <td>NaN</td>\n",
              "      <td>NaN</td>\n",
              "      <td>NaN</td>\n",
              "      <td>NaN</td>\n",
              "    </tr>\n",
              "    <tr>\n",
              "      <th>1</th>\n",
              "      <td>HXB2F</td>\n",
              "      <td>6</td>\n",
              "      <td>7</td>\n",
              "      <td>5mC</td>\n",
              "      <td>32</td>\n",
              "      <td>-</td>\n",
              "      <td>31</td>\n",
              "      <td>0.00</td>\n",
              "      <td>LTR_5</td>\n",
              "      <td>NaN</td>\n",
              "      <td>NaN</td>\n",
              "      <td>NaN</td>\n",
              "      <td>NaN</td>\n",
              "      <td>NaN</td>\n",
              "      <td>NaN</td>\n",
              "    </tr>\n",
              "    <tr>\n",
              "      <th>2</th>\n",
              "      <td>HXB2F</td>\n",
              "      <td>23</td>\n",
              "      <td>24</td>\n",
              "      <td>5mC</td>\n",
              "      <td>861</td>\n",
              "      <td>+</td>\n",
              "      <td>108</td>\n",
              "      <td>0.00</td>\n",
              "      <td>LTR_5</td>\n",
              "      <td>NaN</td>\n",
              "      <td>NaN</td>\n",
              "      <td>NaN</td>\n",
              "      <td>NaN</td>\n",
              "      <td>NaN</td>\n",
              "      <td>NaN</td>\n",
              "    </tr>\n",
              "    <tr>\n",
              "      <th>3</th>\n",
              "      <td>HXB2F</td>\n",
              "      <td>24</td>\n",
              "      <td>25</td>\n",
              "      <td>5mC</td>\n",
              "      <td>1000</td>\n",
              "      <td>-</td>\n",
              "      <td>35</td>\n",
              "      <td>0.00</td>\n",
              "      <td>LTR_5</td>\n",
              "      <td>NaN</td>\n",
              "      <td>NaN</td>\n",
              "      <td>NaN</td>\n",
              "      <td>NaN</td>\n",
              "      <td>NaN</td>\n",
              "      <td>NaN</td>\n",
              "    </tr>\n",
              "    <tr>\n",
              "      <th>4</th>\n",
              "      <td>HXB2F</td>\n",
              "      <td>37</td>\n",
              "      <td>38</td>\n",
              "      <td>5mC</td>\n",
              "      <td>9</td>\n",
              "      <td>+</td>\n",
              "      <td>108</td>\n",
              "      <td>0.00</td>\n",
              "      <td>LTR_5</td>\n",
              "      <td>NaN</td>\n",
              "      <td>NaN</td>\n",
              "      <td>NaN</td>\n",
              "      <td>NaN</td>\n",
              "      <td>NaN</td>\n",
              "      <td>NaN</td>\n",
              "    </tr>\n",
              "    <tr>\n",
              "      <th>...</th>\n",
              "      <td>...</td>\n",
              "      <td>...</td>\n",
              "      <td>...</td>\n",
              "      <td>...</td>\n",
              "      <td>...</td>\n",
              "      <td>...</td>\n",
              "      <td>...</td>\n",
              "      <td>...</td>\n",
              "      <td>...</td>\n",
              "      <td>...</td>\n",
              "      <td>...</td>\n",
              "      <td>...</td>\n",
              "      <td>...</td>\n",
              "      <td>...</td>\n",
              "      <td>...</td>\n",
              "    </tr>\n",
              "    <tr>\n",
              "      <th>467</th>\n",
              "      <td>HXB2F</td>\n",
              "      <td>9476</td>\n",
              "      <td>9477</td>\n",
              "      <td>5mC</td>\n",
              "      <td>500</td>\n",
              "      <td>-</td>\n",
              "      <td>4</td>\n",
              "      <td>0.00</td>\n",
              "      <td>NaN</td>\n",
              "      <td>LTR_3</td>\n",
              "      <td>NaN</td>\n",
              "      <td>NaN</td>\n",
              "      <td>NaN</td>\n",
              "      <td>NaN</td>\n",
              "      <td>NaN</td>\n",
              "    </tr>\n",
              "    <tr>\n",
              "      <th>468</th>\n",
              "      <td>HXB2F</td>\n",
              "      <td>9491</td>\n",
              "      <td>9492</td>\n",
              "      <td>5mC</td>\n",
              "      <td>857</td>\n",
              "      <td>+</td>\n",
              "      <td>7</td>\n",
              "      <td>0.00</td>\n",
              "      <td>NaN</td>\n",
              "      <td>LTR_3</td>\n",
              "      <td>NaN</td>\n",
              "      <td>NaN</td>\n",
              "      <td>NaN</td>\n",
              "      <td>NaN</td>\n",
              "      <td>NaN</td>\n",
              "    </tr>\n",
              "    <tr>\n",
              "      <th>469</th>\n",
              "      <td>HXB2F</td>\n",
              "      <td>9492</td>\n",
              "      <td>9493</td>\n",
              "      <td>5mC</td>\n",
              "      <td>1000</td>\n",
              "      <td>-</td>\n",
              "      <td>3</td>\n",
              "      <td>33.33</td>\n",
              "      <td>NaN</td>\n",
              "      <td>LTR_3</td>\n",
              "      <td>NaN</td>\n",
              "      <td>NaN</td>\n",
              "      <td>NaN</td>\n",
              "      <td>NaN</td>\n",
              "      <td>NaN</td>\n",
              "    </tr>\n",
              "    <tr>\n",
              "      <th>470</th>\n",
              "      <td>HXB2F</td>\n",
              "      <td>9648</td>\n",
              "      <td>9649</td>\n",
              "      <td>5mC</td>\n",
              "      <td>857</td>\n",
              "      <td>+</td>\n",
              "      <td>7</td>\n",
              "      <td>16.67</td>\n",
              "      <td>NaN</td>\n",
              "      <td>LTR_3</td>\n",
              "      <td>NaN</td>\n",
              "      <td>NaN</td>\n",
              "      <td>NaN</td>\n",
              "      <td>NaN</td>\n",
              "      <td>NaN</td>\n",
              "    </tr>\n",
              "    <tr>\n",
              "      <th>471</th>\n",
              "      <td>HXB2F</td>\n",
              "      <td>9649</td>\n",
              "      <td>9650</td>\n",
              "      <td>5mC</td>\n",
              "      <td>1000</td>\n",
              "      <td>-</td>\n",
              "      <td>2</td>\n",
              "      <td>0.00</td>\n",
              "      <td>NaN</td>\n",
              "      <td>LTR_3</td>\n",
              "      <td>NaN</td>\n",
              "      <td>NaN</td>\n",
              "      <td>NaN</td>\n",
              "      <td>NaN</td>\n",
              "      <td>NaN</td>\n",
              "    </tr>\n",
              "  </tbody>\n",
              "</table>\n",
              "<p>472 rows × 15 columns</p>\n",
              "</div>\n",
              "      <button class=\"colab-df-convert\" onclick=\"convertToInteractive('df-fb8daa65-decd-4daa-b32c-eb4802292ea7')\"\n",
              "              title=\"Convert this dataframe to an interactive table.\"\n",
              "              style=\"display:none;\">\n",
              "        \n",
              "  <svg xmlns=\"http://www.w3.org/2000/svg\" height=\"24px\"viewBox=\"0 0 24 24\"\n",
              "       width=\"24px\">\n",
              "    <path d=\"M0 0h24v24H0V0z\" fill=\"none\"/>\n",
              "    <path d=\"M18.56 5.44l.94 2.06.94-2.06 2.06-.94-2.06-.94-.94-2.06-.94 2.06-2.06.94zm-11 1L8.5 8.5l.94-2.06 2.06-.94-2.06-.94L8.5 2.5l-.94 2.06-2.06.94zm10 10l.94 2.06.94-2.06 2.06-.94-2.06-.94-.94-2.06-.94 2.06-2.06.94z\"/><path d=\"M17.41 7.96l-1.37-1.37c-.4-.4-.92-.59-1.43-.59-.52 0-1.04.2-1.43.59L10.3 9.45l-7.72 7.72c-.78.78-.78 2.05 0 2.83L4 21.41c.39.39.9.59 1.41.59.51 0 1.02-.2 1.41-.59l7.78-7.78 2.81-2.81c.8-.78.8-2.07 0-2.86zM5.41 20L4 18.59l7.72-7.72 1.47 1.35L5.41 20z\"/>\n",
              "  </svg>\n",
              "      </button>\n",
              "      \n",
              "  <style>\n",
              "    .colab-df-container {\n",
              "      display:flex;\n",
              "      flex-wrap:wrap;\n",
              "      gap: 12px;\n",
              "    }\n",
              "\n",
              "    .colab-df-convert {\n",
              "      background-color: #E8F0FE;\n",
              "      border: none;\n",
              "      border-radius: 50%;\n",
              "      cursor: pointer;\n",
              "      display: none;\n",
              "      fill: #1967D2;\n",
              "      height: 32px;\n",
              "      padding: 0 0 0 0;\n",
              "      width: 32px;\n",
              "    }\n",
              "\n",
              "    .colab-df-convert:hover {\n",
              "      background-color: #E2EBFA;\n",
              "      box-shadow: 0px 1px 2px rgba(60, 64, 67, 0.3), 0px 1px 3px 1px rgba(60, 64, 67, 0.15);\n",
              "      fill: #174EA6;\n",
              "    }\n",
              "\n",
              "    [theme=dark] .colab-df-convert {\n",
              "      background-color: #3B4455;\n",
              "      fill: #D2E3FC;\n",
              "    }\n",
              "\n",
              "    [theme=dark] .colab-df-convert:hover {\n",
              "      background-color: #434B5C;\n",
              "      box-shadow: 0px 1px 3px 1px rgba(0, 0, 0, 0.15);\n",
              "      filter: drop-shadow(0px 1px 2px rgba(0, 0, 0, 0.3));\n",
              "      fill: #FFFFFF;\n",
              "    }\n",
              "  </style>\n",
              "\n",
              "      <script>\n",
              "        const buttonEl =\n",
              "          document.querySelector('#df-fb8daa65-decd-4daa-b32c-eb4802292ea7 button.colab-df-convert');\n",
              "        buttonEl.style.display =\n",
              "          google.colab.kernel.accessAllowed ? 'block' : 'none';\n",
              "\n",
              "        async function convertToInteractive(key) {\n",
              "          const element = document.querySelector('#df-fb8daa65-decd-4daa-b32c-eb4802292ea7');\n",
              "          const dataTable =\n",
              "            await google.colab.kernel.invokeFunction('convertToInteractive',\n",
              "                                                     [key], {});\n",
              "          if (!dataTable) return;\n",
              "\n",
              "          const docLinkHtml = 'Like what you see? Visit the ' +\n",
              "            '<a target=\"_blank\" href=https://colab.research.google.com/notebooks/data_table.ipynb>data table notebook</a>'\n",
              "            + ' to learn more about interactive tables.';\n",
              "          element.innerHTML = '';\n",
              "          dataTable['output_type'] = 'display_data';\n",
              "          await google.colab.output.renderOutput(dataTable, element);\n",
              "          const docLink = document.createElement('div');\n",
              "          docLink.innerHTML = docLinkHtml;\n",
              "          element.appendChild(docLink);\n",
              "        }\n",
              "      </script>\n",
              "    </div>\n",
              "  </div>\n",
              "  "
            ]
          },
          "metadata": {},
          "execution_count": 126
        }
      ]
    },
    {
      "cell_type": "code",
      "source": [
        "vpr_crosstab = pd.crosstab (is_vpr, is_mod)"
      ],
      "metadata": {
        "id": "H7yzgBKir24h"
      },
      "execution_count": null,
      "outputs": []
    },
    {
      "cell_type": "code",
      "source": [
        "delta_vpr, p_value_vpr, dof_vpr, c_expected_vpr = chi2_contingency (vpr_crosstab)"
      ],
      "metadata": {
        "id": "pDTK2kTJPwhx"
      },
      "execution_count": null,
      "outputs": []
    },
    {
      "cell_type": "code",
      "source": [
        "print(f'There were {dof_vpr} degrees of freedom in the table.')\n",
        "print(f'It expects to see the matrix\\n{c_expected_vpr}')\n",
        "\n",
        "print(f'There was a difference of {delta_vpr} between the expected and observed matrices.')\n",
        "print(f'The likelihood of seeing this large a difference by chance is p={p_value_vpr}.')"
      ],
      "metadata": {
        "colab": {
          "base_uri": "https://localhost:8080/"
        },
        "id": "YOtK4jugQLbo",
        "outputId": "8fd4a611-3783-49f6-c33b-dfa7ff9da08e"
      },
      "execution_count": null,
      "outputs": [
        {
          "output_type": "stream",
          "name": "stdout",
          "text": [
            "There were 1 degrees of freedom in the table.\n",
            "It expects to see the matrix\n",
            "[[  4.47317797e+02   1.46822034e+01]\n",
            " [  9.68220339e+00   3.17796610e-01]]\n",
            "There was a difference of 0.0 between the expected and observed matrices.\n",
            "The likelihood of seeing this large a difference by chance is p=1.0.\n"
          ]
        }
      ]
    },
    {
      "cell_type": "code",
      "source": [
        "is_tat = table['tat_reading'] == 'tat'\n",
        "is_tat"
      ],
      "metadata": {
        "colab": {
          "base_uri": "https://localhost:8080/"
        },
        "id": "YJMqI9bPsWFZ",
        "outputId": "2cbbfe15-c581-43d2-877b-eb099a0dea43"
      },
      "execution_count": null,
      "outputs": [
        {
          "output_type": "execute_result",
          "data": {
            "text/plain": [
              "0      False\n",
              "1      False\n",
              "2      False\n",
              "3      False\n",
              "4      False\n",
              "       ...  \n",
              "467    False\n",
              "468    False\n",
              "469    False\n",
              "470    False\n",
              "471    False\n",
              "Name: tat_reading, Length: 472, dtype: bool"
            ]
          },
          "metadata": {},
          "execution_count": 130
        }
      ]
    },
    {
      "cell_type": "code",
      "source": [
        "tat_crosstab = pd.crosstab (is_tat, is_mod)\n",
        "tat_crosstab\n"
      ],
      "metadata": {
        "colab": {
          "base_uri": "https://localhost:8080/",
          "height": 143
        },
        "id": "OThiafZKZAU8",
        "outputId": "805f9465-9032-40f5-9e77-b197eb9c53fc"
      },
      "execution_count": null,
      "outputs": [
        {
          "output_type": "execute_result",
          "data": {
            "text/plain": [
              "Percentage_of_mod_bases  False  True\n",
              "tat_reading                         \n",
              "False                      433    14\n",
              "True                        24     1"
            ],
            "text/html": [
              "\n",
              "  <div id=\"df-922bee57-2e04-4c7a-86ad-9438391b2c15\">\n",
              "    <div class=\"colab-df-container\">\n",
              "      <div>\n",
              "<style scoped>\n",
              "    .dataframe tbody tr th:only-of-type {\n",
              "        vertical-align: middle;\n",
              "    }\n",
              "\n",
              "    .dataframe tbody tr th {\n",
              "        vertical-align: top;\n",
              "    }\n",
              "\n",
              "    .dataframe thead th {\n",
              "        text-align: right;\n",
              "    }\n",
              "</style>\n",
              "<table border=\"1\" class=\"dataframe\">\n",
              "  <thead>\n",
              "    <tr style=\"text-align: right;\">\n",
              "      <th>Percentage_of_mod_bases</th>\n",
              "      <th>False</th>\n",
              "      <th>True</th>\n",
              "    </tr>\n",
              "    <tr>\n",
              "      <th>tat_reading</th>\n",
              "      <th></th>\n",
              "      <th></th>\n",
              "    </tr>\n",
              "  </thead>\n",
              "  <tbody>\n",
              "    <tr>\n",
              "      <th>False</th>\n",
              "      <td>433</td>\n",
              "      <td>14</td>\n",
              "    </tr>\n",
              "    <tr>\n",
              "      <th>True</th>\n",
              "      <td>24</td>\n",
              "      <td>1</td>\n",
              "    </tr>\n",
              "  </tbody>\n",
              "</table>\n",
              "</div>\n",
              "      <button class=\"colab-df-convert\" onclick=\"convertToInteractive('df-922bee57-2e04-4c7a-86ad-9438391b2c15')\"\n",
              "              title=\"Convert this dataframe to an interactive table.\"\n",
              "              style=\"display:none;\">\n",
              "        \n",
              "  <svg xmlns=\"http://www.w3.org/2000/svg\" height=\"24px\"viewBox=\"0 0 24 24\"\n",
              "       width=\"24px\">\n",
              "    <path d=\"M0 0h24v24H0V0z\" fill=\"none\"/>\n",
              "    <path d=\"M18.56 5.44l.94 2.06.94-2.06 2.06-.94-2.06-.94-.94-2.06-.94 2.06-2.06.94zm-11 1L8.5 8.5l.94-2.06 2.06-.94-2.06-.94L8.5 2.5l-.94 2.06-2.06.94zm10 10l.94 2.06.94-2.06 2.06-.94-2.06-.94-.94-2.06-.94 2.06-2.06.94z\"/><path d=\"M17.41 7.96l-1.37-1.37c-.4-.4-.92-.59-1.43-.59-.52 0-1.04.2-1.43.59L10.3 9.45l-7.72 7.72c-.78.78-.78 2.05 0 2.83L4 21.41c.39.39.9.59 1.41.59.51 0 1.02-.2 1.41-.59l7.78-7.78 2.81-2.81c.8-.78.8-2.07 0-2.86zM5.41 20L4 18.59l7.72-7.72 1.47 1.35L5.41 20z\"/>\n",
              "  </svg>\n",
              "      </button>\n",
              "      \n",
              "  <style>\n",
              "    .colab-df-container {\n",
              "      display:flex;\n",
              "      flex-wrap:wrap;\n",
              "      gap: 12px;\n",
              "    }\n",
              "\n",
              "    .colab-df-convert {\n",
              "      background-color: #E8F0FE;\n",
              "      border: none;\n",
              "      border-radius: 50%;\n",
              "      cursor: pointer;\n",
              "      display: none;\n",
              "      fill: #1967D2;\n",
              "      height: 32px;\n",
              "      padding: 0 0 0 0;\n",
              "      width: 32px;\n",
              "    }\n",
              "\n",
              "    .colab-df-convert:hover {\n",
              "      background-color: #E2EBFA;\n",
              "      box-shadow: 0px 1px 2px rgba(60, 64, 67, 0.3), 0px 1px 3px 1px rgba(60, 64, 67, 0.15);\n",
              "      fill: #174EA6;\n",
              "    }\n",
              "\n",
              "    [theme=dark] .colab-df-convert {\n",
              "      background-color: #3B4455;\n",
              "      fill: #D2E3FC;\n",
              "    }\n",
              "\n",
              "    [theme=dark] .colab-df-convert:hover {\n",
              "      background-color: #434B5C;\n",
              "      box-shadow: 0px 1px 3px 1px rgba(0, 0, 0, 0.15);\n",
              "      filter: drop-shadow(0px 1px 2px rgba(0, 0, 0, 0.3));\n",
              "      fill: #FFFFFF;\n",
              "    }\n",
              "  </style>\n",
              "\n",
              "      <script>\n",
              "        const buttonEl =\n",
              "          document.querySelector('#df-922bee57-2e04-4c7a-86ad-9438391b2c15 button.colab-df-convert');\n",
              "        buttonEl.style.display =\n",
              "          google.colab.kernel.accessAllowed ? 'block' : 'none';\n",
              "\n",
              "        async function convertToInteractive(key) {\n",
              "          const element = document.querySelector('#df-922bee57-2e04-4c7a-86ad-9438391b2c15');\n",
              "          const dataTable =\n",
              "            await google.colab.kernel.invokeFunction('convertToInteractive',\n",
              "                                                     [key], {});\n",
              "          if (!dataTable) return;\n",
              "\n",
              "          const docLinkHtml = 'Like what you see? Visit the ' +\n",
              "            '<a target=\"_blank\" href=https://colab.research.google.com/notebooks/data_table.ipynb>data table notebook</a>'\n",
              "            + ' to learn more about interactive tables.';\n",
              "          element.innerHTML = '';\n",
              "          dataTable['output_type'] = 'display_data';\n",
              "          await google.colab.output.renderOutput(dataTable, element);\n",
              "          const docLink = document.createElement('div');\n",
              "          docLink.innerHTML = docLinkHtml;\n",
              "          element.appendChild(docLink);\n",
              "        }\n",
              "      </script>\n",
              "    </div>\n",
              "  </div>\n",
              "  "
            ]
          },
          "metadata": {},
          "execution_count": 131
        }
      ]
    },
    {
      "cell_type": "code",
      "source": [
        "delta_tat, p_value_tat, dof_tat, c_expected_tat = chi2_contingency (tat_crosstab)"
      ],
      "metadata": {
        "id": "yCEQZOyWZuEE"
      },
      "execution_count": null,
      "outputs": []
    },
    {
      "cell_type": "code",
      "source": [
        "print(f'There were {dof_tat} degrees of freedom in the table.')\n",
        "print(f'It expects to see the matrix\\n{c_expected_tat}')\n",
        "\n",
        "print(f'There was a difference of {delta_tat} between the expected and observed matrices.')\n",
        "print(f'The likelihood of seeing this large a difference by chance is p={p_value_tat}.')"
      ],
      "metadata": {
        "colab": {
          "base_uri": "https://localhost:8080/"
        },
        "id": "bqGGUrWAZNfX",
        "outputId": "9d1c336a-7bea-4f19-aa60-42120c88d274"
      },
      "execution_count": null,
      "outputs": [
        {
          "output_type": "stream",
          "name": "stdout",
          "text": [
            "There were 1 degrees of freedom in the table.\n",
            "It expects to see the matrix\n",
            "[[ 432.79449153   14.20550847]\n",
            " [  24.20550847    0.79449153]]\n",
            "There was a difference of 0.0 between the expected and observed matrices.\n",
            "The likelihood of seeing this large a difference by chance is p=1.0.\n"
          ]
        }
      ]
    },
    {
      "cell_type": "code",
      "source": [
        "is_rev = table['rev_reading' ] == 'rev'\n",
        "is_rev"
      ],
      "metadata": {
        "colab": {
          "base_uri": "https://localhost:8080/"
        },
        "id": "IEvkLyraaB3I",
        "outputId": "0335b250-552f-411a-dbc2-ef394e13f196"
      },
      "execution_count": null,
      "outputs": [
        {
          "output_type": "execute_result",
          "data": {
            "text/plain": [
              "0      False\n",
              "1      False\n",
              "2      False\n",
              "3      False\n",
              "4      False\n",
              "       ...  \n",
              "467    False\n",
              "468    False\n",
              "469    False\n",
              "470    False\n",
              "471    False\n",
              "Name: rev_reading, Length: 472, dtype: bool"
            ]
          },
          "metadata": {},
          "execution_count": 134
        }
      ]
    },
    {
      "cell_type": "code",
      "source": [
        "rev_crosstab = pd.crosstab (is_rev, is_mod)"
      ],
      "metadata": {
        "id": "Q-02LLzIbSSq"
      },
      "execution_count": null,
      "outputs": []
    },
    {
      "cell_type": "code",
      "source": [
        "delta_rev, p_value_rev, dof_rev, c_expected_rev = chi2_contingency (rev_crosstab)"
      ],
      "metadata": {
        "id": "yeTWKJ6bbtvi"
      },
      "execution_count": null,
      "outputs": []
    },
    {
      "cell_type": "code",
      "source": [
        "print(f'There were {dof_rev} degrees of freedom in the table.')\n",
        "print(f'It expects to see the matrix\\n{c_expected_rev}')\n",
        "\n",
        "print(f'There was a difference of {delta_rev} between the expected and observed matrices.')\n",
        "print(f'The likelihood of seeing this large a difference by chance is p={p_value_rev}.')"
      ],
      "metadata": {
        "colab": {
          "base_uri": "https://localhost:8080/"
        },
        "id": "EKUCXR7kb2hT",
        "outputId": "c8c98b59-d839-4d72-ee7f-b09d4f4fe630"
      },
      "execution_count": null,
      "outputs": [
        {
          "output_type": "stream",
          "name": "stdout",
          "text": [
            "There were 1 degrees of freedom in the table.\n",
            "It expects to see the matrix\n",
            "[[  4.50222458e+02   1.47775424e+01]\n",
            " [  6.77754237e+00   2.22457627e-01]]\n",
            "There was a difference of 0.0 between the expected and observed matrices.\n",
            "The likelihood of seeing this large a difference by chance is p=1.0.\n"
          ]
        }
      ]
    },
    {
      "cell_type": "code",
      "source": [
        "is_env = table['Reading_frame_3'] == 'env'\n",
        "is_env"
      ],
      "metadata": {
        "colab": {
          "base_uri": "https://localhost:8080/"
        },
        "id": "17reM8JDclwl",
        "outputId": "f6505cfd-2d51-4408-b891-1135670c61a9"
      },
      "execution_count": null,
      "outputs": [
        {
          "output_type": "execute_result",
          "data": {
            "text/plain": [
              "0      False\n",
              "1      False\n",
              "2      False\n",
              "3      False\n",
              "4      False\n",
              "       ...  \n",
              "467    False\n",
              "468    False\n",
              "469    False\n",
              "470    False\n",
              "471    False\n",
              "Name: Reading_frame_3, Length: 472, dtype: bool"
            ]
          },
          "metadata": {},
          "execution_count": 138
        }
      ]
    },
    {
      "cell_type": "code",
      "source": [
        "env_crosstab = pd.crosstab (is_env, is_mod)\n",
        "env_crosstab"
      ],
      "metadata": {
        "colab": {
          "base_uri": "https://localhost:8080/",
          "height": 143
        },
        "id": "v-w7d3MkdzPP",
        "outputId": "aaa9421f-ee45-4be9-9d01-0d672d3d8799"
      },
      "execution_count": null,
      "outputs": [
        {
          "output_type": "execute_result",
          "data": {
            "text/plain": [
              "Percentage_of_mod_bases  False  True\n",
              "Reading_frame_3                     \n",
              "False                      359    12\n",
              "True                        98     3"
            ],
            "text/html": [
              "\n",
              "  <div id=\"df-f15bafaf-aea6-40a1-bcc1-ccbbaa109430\">\n",
              "    <div class=\"colab-df-container\">\n",
              "      <div>\n",
              "<style scoped>\n",
              "    .dataframe tbody tr th:only-of-type {\n",
              "        vertical-align: middle;\n",
              "    }\n",
              "\n",
              "    .dataframe tbody tr th {\n",
              "        vertical-align: top;\n",
              "    }\n",
              "\n",
              "    .dataframe thead th {\n",
              "        text-align: right;\n",
              "    }\n",
              "</style>\n",
              "<table border=\"1\" class=\"dataframe\">\n",
              "  <thead>\n",
              "    <tr style=\"text-align: right;\">\n",
              "      <th>Percentage_of_mod_bases</th>\n",
              "      <th>False</th>\n",
              "      <th>True</th>\n",
              "    </tr>\n",
              "    <tr>\n",
              "      <th>Reading_frame_3</th>\n",
              "      <th></th>\n",
              "      <th></th>\n",
              "    </tr>\n",
              "  </thead>\n",
              "  <tbody>\n",
              "    <tr>\n",
              "      <th>False</th>\n",
              "      <td>359</td>\n",
              "      <td>12</td>\n",
              "    </tr>\n",
              "    <tr>\n",
              "      <th>True</th>\n",
              "      <td>98</td>\n",
              "      <td>3</td>\n",
              "    </tr>\n",
              "  </tbody>\n",
              "</table>\n",
              "</div>\n",
              "      <button class=\"colab-df-convert\" onclick=\"convertToInteractive('df-f15bafaf-aea6-40a1-bcc1-ccbbaa109430')\"\n",
              "              title=\"Convert this dataframe to an interactive table.\"\n",
              "              style=\"display:none;\">\n",
              "        \n",
              "  <svg xmlns=\"http://www.w3.org/2000/svg\" height=\"24px\"viewBox=\"0 0 24 24\"\n",
              "       width=\"24px\">\n",
              "    <path d=\"M0 0h24v24H0V0z\" fill=\"none\"/>\n",
              "    <path d=\"M18.56 5.44l.94 2.06.94-2.06 2.06-.94-2.06-.94-.94-2.06-.94 2.06-2.06.94zm-11 1L8.5 8.5l.94-2.06 2.06-.94-2.06-.94L8.5 2.5l-.94 2.06-2.06.94zm10 10l.94 2.06.94-2.06 2.06-.94-2.06-.94-.94-2.06-.94 2.06-2.06.94z\"/><path d=\"M17.41 7.96l-1.37-1.37c-.4-.4-.92-.59-1.43-.59-.52 0-1.04.2-1.43.59L10.3 9.45l-7.72 7.72c-.78.78-.78 2.05 0 2.83L4 21.41c.39.39.9.59 1.41.59.51 0 1.02-.2 1.41-.59l7.78-7.78 2.81-2.81c.8-.78.8-2.07 0-2.86zM5.41 20L4 18.59l7.72-7.72 1.47 1.35L5.41 20z\"/>\n",
              "  </svg>\n",
              "      </button>\n",
              "      \n",
              "  <style>\n",
              "    .colab-df-container {\n",
              "      display:flex;\n",
              "      flex-wrap:wrap;\n",
              "      gap: 12px;\n",
              "    }\n",
              "\n",
              "    .colab-df-convert {\n",
              "      background-color: #E8F0FE;\n",
              "      border: none;\n",
              "      border-radius: 50%;\n",
              "      cursor: pointer;\n",
              "      display: none;\n",
              "      fill: #1967D2;\n",
              "      height: 32px;\n",
              "      padding: 0 0 0 0;\n",
              "      width: 32px;\n",
              "    }\n",
              "\n",
              "    .colab-df-convert:hover {\n",
              "      background-color: #E2EBFA;\n",
              "      box-shadow: 0px 1px 2px rgba(60, 64, 67, 0.3), 0px 1px 3px 1px rgba(60, 64, 67, 0.15);\n",
              "      fill: #174EA6;\n",
              "    }\n",
              "\n",
              "    [theme=dark] .colab-df-convert {\n",
              "      background-color: #3B4455;\n",
              "      fill: #D2E3FC;\n",
              "    }\n",
              "\n",
              "    [theme=dark] .colab-df-convert:hover {\n",
              "      background-color: #434B5C;\n",
              "      box-shadow: 0px 1px 3px 1px rgba(0, 0, 0, 0.15);\n",
              "      filter: drop-shadow(0px 1px 2px rgba(0, 0, 0, 0.3));\n",
              "      fill: #FFFFFF;\n",
              "    }\n",
              "  </style>\n",
              "\n",
              "      <script>\n",
              "        const buttonEl =\n",
              "          document.querySelector('#df-f15bafaf-aea6-40a1-bcc1-ccbbaa109430 button.colab-df-convert');\n",
              "        buttonEl.style.display =\n",
              "          google.colab.kernel.accessAllowed ? 'block' : 'none';\n",
              "\n",
              "        async function convertToInteractive(key) {\n",
              "          const element = document.querySelector('#df-f15bafaf-aea6-40a1-bcc1-ccbbaa109430');\n",
              "          const dataTable =\n",
              "            await google.colab.kernel.invokeFunction('convertToInteractive',\n",
              "                                                     [key], {});\n",
              "          if (!dataTable) return;\n",
              "\n",
              "          const docLinkHtml = 'Like what you see? Visit the ' +\n",
              "            '<a target=\"_blank\" href=https://colab.research.google.com/notebooks/data_table.ipynb>data table notebook</a>'\n",
              "            + ' to learn more about interactive tables.';\n",
              "          element.innerHTML = '';\n",
              "          dataTable['output_type'] = 'display_data';\n",
              "          await google.colab.output.renderOutput(dataTable, element);\n",
              "          const docLink = document.createElement('div');\n",
              "          docLink.innerHTML = docLinkHtml;\n",
              "          element.appendChild(docLink);\n",
              "        }\n",
              "      </script>\n",
              "    </div>\n",
              "  </div>\n",
              "  "
            ]
          },
          "metadata": {},
          "execution_count": 139
        }
      ]
    },
    {
      "cell_type": "code",
      "source": [
        "delta_env, p_value_env, dof_env, c_expected_env = chi2_contingency (env_crosstab)"
      ],
      "metadata": {
        "id": "2v66Ho6md6Mu"
      },
      "execution_count": null,
      "outputs": []
    },
    {
      "cell_type": "code",
      "source": [
        "print(f'There were {dof_env} degrees of freedom in the table.')\n",
        "print(f'It expects to see the matrix\\n{c_expected_env}')\n",
        "\n",
        "print(f'There was a difference of {delta_env} between the expected and observed matrices.')\n",
        "print(f'The likelihood of seeing this large a difference by chance is p={p_value_env}.')"
      ],
      "metadata": {
        "colab": {
          "base_uri": "https://localhost:8080/"
        },
        "id": "JuTMBEbaeFUQ",
        "outputId": "ba612306-d069-498e-d38d-8335c5619ef7"
      },
      "execution_count": null,
      "outputs": [
        {
          "output_type": "stream",
          "name": "stdout",
          "text": [
            "There were 1 degrees of freedom in the table.\n",
            "It expects to see the matrix\n",
            "[[ 359.20974576   11.79025424]\n",
            " [  97.79025424    3.20974576]]\n",
            "There was a difference of 0.0 between the expected and observed matrices.\n",
            "The likelihood of seeing this large a difference by chance is p=1.0.\n"
          ]
        }
      ]
    },
    {
      "cell_type": "code",
      "source": [
        "is_LTR_3 = table['Reading_frame_2'] == 'LTR_3'\n",
        "is_LTR_3"
      ],
      "metadata": {
        "colab": {
          "base_uri": "https://localhost:8080/"
        },
        "id": "enzMFq8AhamS",
        "outputId": "90bffa64-10af-4a1a-8f6f-0f48ccabbb38"
      },
      "execution_count": null,
      "outputs": [
        {
          "output_type": "execute_result",
          "data": {
            "text/plain": [
              "0      False\n",
              "1      False\n",
              "2      False\n",
              "3      False\n",
              "4      False\n",
              "       ...  \n",
              "467     True\n",
              "468     True\n",
              "469     True\n",
              "470     True\n",
              "471     True\n",
              "Name: Reading_frame_2, Length: 472, dtype: bool"
            ]
          },
          "metadata": {},
          "execution_count": 142
        }
      ]
    },
    {
      "cell_type": "code",
      "source": [
        "LTR_3_crosstab = pd.crosstab (is_LTR_3, is_mod)"
      ],
      "metadata": {
        "id": "Ec1oeczuhxHI"
      },
      "execution_count": null,
      "outputs": []
    },
    {
      "cell_type": "code",
      "source": [
        "delta_LTR_3, p_value_LTR_3, dof_LTR_3, c_expected_LTR_3 = chi2_contingency (LTR_3_crosstab )"
      ],
      "metadata": {
        "id": "GW7pK_tAh1x4"
      },
      "execution_count": null,
      "outputs": []
    },
    {
      "cell_type": "code",
      "source": [
        "print(f'There were {dof_LTR_3} degrees of freedom in the table.')\n",
        "print(f'It expects to see the matrix\\n{c_expected_LTR_3}')\n",
        "\n",
        "print(f'There was a difference of {delta_LTR_3} between the expected and observed matrices.')\n",
        "print(f'The likelihood of seeing this large a difference by chance is p={p_value_LTR_3}.')"
      ],
      "metadata": {
        "colab": {
          "base_uri": "https://localhost:8080/"
        },
        "id": "4asb5ZNZiB49",
        "outputId": "3cd4f678-df29-470e-fe8e-83c7936f9edb"
      },
      "execution_count": null,
      "outputs": [
        {
          "output_type": "stream",
          "name": "stdout",
          "text": [
            "There were 1 degrees of freedom in the table.\n",
            "It expects to see the matrix\n",
            "[[ 429.88983051   14.11016949]\n",
            " [  27.11016949    0.88983051]]\n",
            "There was a difference of 0.0 between the expected and observed matrices.\n",
            "The likelihood of seeing this large a difference by chance is p=1.0.\n"
          ]
        }
      ]
    },
    {
      "cell_type": "code",
      "source": [
        "is_tat_paper = table['in_paper'] == 'tat_CGI'\n",
        "is_tat_paper"
      ],
      "metadata": {
        "colab": {
          "base_uri": "https://localhost:8080/"
        },
        "id": "t-tmZLzPWcWc",
        "outputId": "9c8e5eb9-b206-46fa-b9ab-82a80636b8a5"
      },
      "execution_count": null,
      "outputs": [
        {
          "output_type": "execute_result",
          "data": {
            "text/plain": [
              "0      False\n",
              "1      False\n",
              "2      False\n",
              "3      False\n",
              "4      False\n",
              "       ...  \n",
              "467    False\n",
              "468    False\n",
              "469    False\n",
              "470    False\n",
              "471    False\n",
              "Name: in_paper, Length: 472, dtype: bool"
            ]
          },
          "metadata": {},
          "execution_count": 146
        }
      ]
    },
    {
      "cell_type": "code",
      "source": [
        "tat_paper_crosstab = pd.crosstab (is_tat_paper, is_mod)\n",
        "tat_paper_crosstab "
      ],
      "metadata": {
        "colab": {
          "base_uri": "https://localhost:8080/",
          "height": 112
        },
        "id": "v72m8Rt4Wg85",
        "outputId": "28a1e122-829b-430c-a1f8-fccfba247c91"
      },
      "execution_count": null,
      "outputs": [
        {
          "output_type": "execute_result",
          "data": {
            "text/plain": [
              "Percentage_of_mod_bases  False  True\n",
              "in_paper                            \n",
              "False                      457    15"
            ],
            "text/html": [
              "\n",
              "  <div id=\"df-830da446-a75c-4df8-8562-dc90b2221498\">\n",
              "    <div class=\"colab-df-container\">\n",
              "      <div>\n",
              "<style scoped>\n",
              "    .dataframe tbody tr th:only-of-type {\n",
              "        vertical-align: middle;\n",
              "    }\n",
              "\n",
              "    .dataframe tbody tr th {\n",
              "        vertical-align: top;\n",
              "    }\n",
              "\n",
              "    .dataframe thead th {\n",
              "        text-align: right;\n",
              "    }\n",
              "</style>\n",
              "<table border=\"1\" class=\"dataframe\">\n",
              "  <thead>\n",
              "    <tr style=\"text-align: right;\">\n",
              "      <th>Percentage_of_mod_bases</th>\n",
              "      <th>False</th>\n",
              "      <th>True</th>\n",
              "    </tr>\n",
              "    <tr>\n",
              "      <th>in_paper</th>\n",
              "      <th></th>\n",
              "      <th></th>\n",
              "    </tr>\n",
              "  </thead>\n",
              "  <tbody>\n",
              "    <tr>\n",
              "      <th>False</th>\n",
              "      <td>457</td>\n",
              "      <td>15</td>\n",
              "    </tr>\n",
              "  </tbody>\n",
              "</table>\n",
              "</div>\n",
              "      <button class=\"colab-df-convert\" onclick=\"convertToInteractive('df-830da446-a75c-4df8-8562-dc90b2221498')\"\n",
              "              title=\"Convert this dataframe to an interactive table.\"\n",
              "              style=\"display:none;\">\n",
              "        \n",
              "  <svg xmlns=\"http://www.w3.org/2000/svg\" height=\"24px\"viewBox=\"0 0 24 24\"\n",
              "       width=\"24px\">\n",
              "    <path d=\"M0 0h24v24H0V0z\" fill=\"none\"/>\n",
              "    <path d=\"M18.56 5.44l.94 2.06.94-2.06 2.06-.94-2.06-.94-.94-2.06-.94 2.06-2.06.94zm-11 1L8.5 8.5l.94-2.06 2.06-.94-2.06-.94L8.5 2.5l-.94 2.06-2.06.94zm10 10l.94 2.06.94-2.06 2.06-.94-2.06-.94-.94-2.06-.94 2.06-2.06.94z\"/><path d=\"M17.41 7.96l-1.37-1.37c-.4-.4-.92-.59-1.43-.59-.52 0-1.04.2-1.43.59L10.3 9.45l-7.72 7.72c-.78.78-.78 2.05 0 2.83L4 21.41c.39.39.9.59 1.41.59.51 0 1.02-.2 1.41-.59l7.78-7.78 2.81-2.81c.8-.78.8-2.07 0-2.86zM5.41 20L4 18.59l7.72-7.72 1.47 1.35L5.41 20z\"/>\n",
              "  </svg>\n",
              "      </button>\n",
              "      \n",
              "  <style>\n",
              "    .colab-df-container {\n",
              "      display:flex;\n",
              "      flex-wrap:wrap;\n",
              "      gap: 12px;\n",
              "    }\n",
              "\n",
              "    .colab-df-convert {\n",
              "      background-color: #E8F0FE;\n",
              "      border: none;\n",
              "      border-radius: 50%;\n",
              "      cursor: pointer;\n",
              "      display: none;\n",
              "      fill: #1967D2;\n",
              "      height: 32px;\n",
              "      padding: 0 0 0 0;\n",
              "      width: 32px;\n",
              "    }\n",
              "\n",
              "    .colab-df-convert:hover {\n",
              "      background-color: #E2EBFA;\n",
              "      box-shadow: 0px 1px 2px rgba(60, 64, 67, 0.3), 0px 1px 3px 1px rgba(60, 64, 67, 0.15);\n",
              "      fill: #174EA6;\n",
              "    }\n",
              "\n",
              "    [theme=dark] .colab-df-convert {\n",
              "      background-color: #3B4455;\n",
              "      fill: #D2E3FC;\n",
              "    }\n",
              "\n",
              "    [theme=dark] .colab-df-convert:hover {\n",
              "      background-color: #434B5C;\n",
              "      box-shadow: 0px 1px 3px 1px rgba(0, 0, 0, 0.15);\n",
              "      filter: drop-shadow(0px 1px 2px rgba(0, 0, 0, 0.3));\n",
              "      fill: #FFFFFF;\n",
              "    }\n",
              "  </style>\n",
              "\n",
              "      <script>\n",
              "        const buttonEl =\n",
              "          document.querySelector('#df-830da446-a75c-4df8-8562-dc90b2221498 button.colab-df-convert');\n",
              "        buttonEl.style.display =\n",
              "          google.colab.kernel.accessAllowed ? 'block' : 'none';\n",
              "\n",
              "        async function convertToInteractive(key) {\n",
              "          const element = document.querySelector('#df-830da446-a75c-4df8-8562-dc90b2221498');\n",
              "          const dataTable =\n",
              "            await google.colab.kernel.invokeFunction('convertToInteractive',\n",
              "                                                     [key], {});\n",
              "          if (!dataTable) return;\n",
              "\n",
              "          const docLinkHtml = 'Like what you see? Visit the ' +\n",
              "            '<a target=\"_blank\" href=https://colab.research.google.com/notebooks/data_table.ipynb>data table notebook</a>'\n",
              "            + ' to learn more about interactive tables.';\n",
              "          element.innerHTML = '';\n",
              "          dataTable['output_type'] = 'display_data';\n",
              "          await google.colab.output.renderOutput(dataTable, element);\n",
              "          const docLink = document.createElement('div');\n",
              "          docLink.innerHTML = docLinkHtml;\n",
              "          element.appendChild(docLink);\n",
              "        }\n",
              "      </script>\n",
              "    </div>\n",
              "  </div>\n",
              "  "
            ]
          },
          "metadata": {},
          "execution_count": 147
        }
      ]
    },
    {
      "cell_type": "code",
      "source": [
        "delta_is_tat_paper, p_value_is_tat_paper, dof_is_tat_paper, c_expected_is_tat_paper = chi2_contingency (tat_paper_crosstab)"
      ],
      "metadata": {
        "id": "zL4VgM9DYcdC"
      },
      "execution_count": null,
      "outputs": []
    },
    {
      "cell_type": "code",
      "source": [
        "print(f'There were {dof_is_tat_paper} degrees of freedom in the table.')\n",
        "print(f'It expects to see the matrix\\n{c_expected_is_tat_paper}')\n",
        "\n",
        "print(f'There was a difference of {delta_is_tat_paper} between the expected and observed matrices.')\n",
        "print(f'The likelihood of seeing this large a difference by chance is p={p_value_is_tat_paper}.')"
      ],
      "metadata": {
        "colab": {
          "base_uri": "https://localhost:8080/"
        },
        "id": "Q1plUTRlZJf9",
        "outputId": "16b711b3-ee91-461b-ecf2-676048982323"
      },
      "execution_count": null,
      "outputs": [
        {
          "output_type": "stream",
          "name": "stdout",
          "text": [
            "There were 0 degrees of freedom in the table.\n",
            "It expects to see the matrix\n",
            "[[ 457.   15.]]\n",
            "There was a difference of 0.0 between the expected and observed matrices.\n",
            "The likelihood of seeing this large a difference by chance is p=1.0.\n"
          ]
        }
      ]
    },
    {
      "cell_type": "code",
      "source": [
        "is_gag_paper = table['in_paper'] == 'gag_leader'\n",
        "is_gag_paper"
      ],
      "metadata": {
        "colab": {
          "base_uri": "https://localhost:8080/"
        },
        "id": "RgEgrPeYZWwq",
        "outputId": "a103e104-319a-4df4-90f0-0b5b09f17654"
      },
      "execution_count": null,
      "outputs": [
        {
          "output_type": "execute_result",
          "data": {
            "text/plain": [
              "0      False\n",
              "1      False\n",
              "2      False\n",
              "3      False\n",
              "4      False\n",
              "       ...  \n",
              "467    False\n",
              "468    False\n",
              "469    False\n",
              "470    False\n",
              "471    False\n",
              "Name: in_paper, Length: 472, dtype: bool"
            ]
          },
          "metadata": {},
          "execution_count": 150
        }
      ]
    },
    {
      "cell_type": "code",
      "source": [
        "gag_paper_crosstab = pd.crosstab (is_gag_paper, is_mod)\n",
        "gag_paper_crosstab "
      ],
      "metadata": {
        "colab": {
          "base_uri": "https://localhost:8080/",
          "height": 143
        },
        "id": "jJO_4IRdZo9m",
        "outputId": "835b4b8a-8dcb-4809-e6f5-709f2f6744a8"
      },
      "execution_count": null,
      "outputs": [
        {
          "output_type": "execute_result",
          "data": {
            "text/plain": [
              "Percentage_of_mod_bases  False  True\n",
              "in_paper                            \n",
              "False                      403    14\n",
              "True                        54     1"
            ],
            "text/html": [
              "\n",
              "  <div id=\"df-53384540-3e9e-4468-b877-bf8c73435371\">\n",
              "    <div class=\"colab-df-container\">\n",
              "      <div>\n",
              "<style scoped>\n",
              "    .dataframe tbody tr th:only-of-type {\n",
              "        vertical-align: middle;\n",
              "    }\n",
              "\n",
              "    .dataframe tbody tr th {\n",
              "        vertical-align: top;\n",
              "    }\n",
              "\n",
              "    .dataframe thead th {\n",
              "        text-align: right;\n",
              "    }\n",
              "</style>\n",
              "<table border=\"1\" class=\"dataframe\">\n",
              "  <thead>\n",
              "    <tr style=\"text-align: right;\">\n",
              "      <th>Percentage_of_mod_bases</th>\n",
              "      <th>False</th>\n",
              "      <th>True</th>\n",
              "    </tr>\n",
              "    <tr>\n",
              "      <th>in_paper</th>\n",
              "      <th></th>\n",
              "      <th></th>\n",
              "    </tr>\n",
              "  </thead>\n",
              "  <tbody>\n",
              "    <tr>\n",
              "      <th>False</th>\n",
              "      <td>403</td>\n",
              "      <td>14</td>\n",
              "    </tr>\n",
              "    <tr>\n",
              "      <th>True</th>\n",
              "      <td>54</td>\n",
              "      <td>1</td>\n",
              "    </tr>\n",
              "  </tbody>\n",
              "</table>\n",
              "</div>\n",
              "      <button class=\"colab-df-convert\" onclick=\"convertToInteractive('df-53384540-3e9e-4468-b877-bf8c73435371')\"\n",
              "              title=\"Convert this dataframe to an interactive table.\"\n",
              "              style=\"display:none;\">\n",
              "        \n",
              "  <svg xmlns=\"http://www.w3.org/2000/svg\" height=\"24px\"viewBox=\"0 0 24 24\"\n",
              "       width=\"24px\">\n",
              "    <path d=\"M0 0h24v24H0V0z\" fill=\"none\"/>\n",
              "    <path d=\"M18.56 5.44l.94 2.06.94-2.06 2.06-.94-2.06-.94-.94-2.06-.94 2.06-2.06.94zm-11 1L8.5 8.5l.94-2.06 2.06-.94-2.06-.94L8.5 2.5l-.94 2.06-2.06.94zm10 10l.94 2.06.94-2.06 2.06-.94-2.06-.94-.94-2.06-.94 2.06-2.06.94z\"/><path d=\"M17.41 7.96l-1.37-1.37c-.4-.4-.92-.59-1.43-.59-.52 0-1.04.2-1.43.59L10.3 9.45l-7.72 7.72c-.78.78-.78 2.05 0 2.83L4 21.41c.39.39.9.59 1.41.59.51 0 1.02-.2 1.41-.59l7.78-7.78 2.81-2.81c.8-.78.8-2.07 0-2.86zM5.41 20L4 18.59l7.72-7.72 1.47 1.35L5.41 20z\"/>\n",
              "  </svg>\n",
              "      </button>\n",
              "      \n",
              "  <style>\n",
              "    .colab-df-container {\n",
              "      display:flex;\n",
              "      flex-wrap:wrap;\n",
              "      gap: 12px;\n",
              "    }\n",
              "\n",
              "    .colab-df-convert {\n",
              "      background-color: #E8F0FE;\n",
              "      border: none;\n",
              "      border-radius: 50%;\n",
              "      cursor: pointer;\n",
              "      display: none;\n",
              "      fill: #1967D2;\n",
              "      height: 32px;\n",
              "      padding: 0 0 0 0;\n",
              "      width: 32px;\n",
              "    }\n",
              "\n",
              "    .colab-df-convert:hover {\n",
              "      background-color: #E2EBFA;\n",
              "      box-shadow: 0px 1px 2px rgba(60, 64, 67, 0.3), 0px 1px 3px 1px rgba(60, 64, 67, 0.15);\n",
              "      fill: #174EA6;\n",
              "    }\n",
              "\n",
              "    [theme=dark] .colab-df-convert {\n",
              "      background-color: #3B4455;\n",
              "      fill: #D2E3FC;\n",
              "    }\n",
              "\n",
              "    [theme=dark] .colab-df-convert:hover {\n",
              "      background-color: #434B5C;\n",
              "      box-shadow: 0px 1px 3px 1px rgba(0, 0, 0, 0.15);\n",
              "      filter: drop-shadow(0px 1px 2px rgba(0, 0, 0, 0.3));\n",
              "      fill: #FFFFFF;\n",
              "    }\n",
              "  </style>\n",
              "\n",
              "      <script>\n",
              "        const buttonEl =\n",
              "          document.querySelector('#df-53384540-3e9e-4468-b877-bf8c73435371 button.colab-df-convert');\n",
              "        buttonEl.style.display =\n",
              "          google.colab.kernel.accessAllowed ? 'block' : 'none';\n",
              "\n",
              "        async function convertToInteractive(key) {\n",
              "          const element = document.querySelector('#df-53384540-3e9e-4468-b877-bf8c73435371');\n",
              "          const dataTable =\n",
              "            await google.colab.kernel.invokeFunction('convertToInteractive',\n",
              "                                                     [key], {});\n",
              "          if (!dataTable) return;\n",
              "\n",
              "          const docLinkHtml = 'Like what you see? Visit the ' +\n",
              "            '<a target=\"_blank\" href=https://colab.research.google.com/notebooks/data_table.ipynb>data table notebook</a>'\n",
              "            + ' to learn more about interactive tables.';\n",
              "          element.innerHTML = '';\n",
              "          dataTable['output_type'] = 'display_data';\n",
              "          await google.colab.output.renderOutput(dataTable, element);\n",
              "          const docLink = document.createElement('div');\n",
              "          docLink.innerHTML = docLinkHtml;\n",
              "          element.appendChild(docLink);\n",
              "        }\n",
              "      </script>\n",
              "    </div>\n",
              "  </div>\n",
              "  "
            ]
          },
          "metadata": {},
          "execution_count": 151
        }
      ]
    },
    {
      "cell_type": "code",
      "source": [
        "delta_is_gag_paper, p_value_is_gag_paper, dof_is_gag_paper, c_expected_is_gag_paper = chi2_contingency (gag_paper_crosstab)"
      ],
      "metadata": {
        "id": "aZv_Kjy0aA-W"
      },
      "execution_count": null,
      "outputs": []
    },
    {
      "cell_type": "code",
      "source": [
        "print(f'There were {dof_is_gag_paper} degrees of freedom in the table.')\n",
        "print(f'It expects to see the matrix\\n{c_expected_is_gag_paper}')\n",
        "\n",
        "print(f'There was a difference of {delta_is_gag_paper} between the expected and observed matrices.')\n",
        "print(f'The likelihood of seeing this large a difference by chance is p={p_value_is_gag_paper}.')"
      ],
      "metadata": {
        "colab": {
          "base_uri": "https://localhost:8080/"
        },
        "id": "mLKOUZ3uZulz",
        "outputId": "c0059f86-d231-4775-bc92-d2336136e6d7"
      },
      "execution_count": null,
      "outputs": [
        {
          "output_type": "stream",
          "name": "stdout",
          "text": [
            "There were 1 degrees of freedom in the table.\n",
            "It expects to see the matrix\n",
            "[[ 403.74788136   13.25211864]\n",
            " [  53.25211864    1.74788136]]\n",
            "There was a difference of 0.04109675378853467 between the expected and observed matrices.\n",
            "The likelihood of seeing this large a difference by chance is p=0.83935127693922.\n"
          ]
        }
      ]
    },
    {
      "cell_type": "code",
      "source": [
        "is_LTR_CGI_paper = table['in_paper'] == 'LTR_CGI'\n",
        "is_LTR_CGI_paper"
      ],
      "metadata": {
        "colab": {
          "base_uri": "https://localhost:8080/"
        },
        "id": "ep8q62wguUPR",
        "outputId": "6ecd3d75-44c9-4d61-cc1b-840873939a44"
      },
      "execution_count": null,
      "outputs": [
        {
          "output_type": "execute_result",
          "data": {
            "text/plain": [
              "0      False\n",
              "1      False\n",
              "2      False\n",
              "3      False\n",
              "4      False\n",
              "       ...  \n",
              "467    False\n",
              "468    False\n",
              "469    False\n",
              "470    False\n",
              "471    False\n",
              "Name: in_paper, Length: 472, dtype: bool"
            ]
          },
          "metadata": {},
          "execution_count": 154
        }
      ]
    },
    {
      "cell_type": "code",
      "source": [
        "is_LTR_CGI_paper_crosstab = pd.crosstab (is_LTR_CGI_paper, is_mod)\n",
        "is_LTR_CGI_paper_crosstab "
      ],
      "metadata": {
        "colab": {
          "base_uri": "https://localhost:8080/",
          "height": 143
        },
        "id": "IcsgBwczugxW",
        "outputId": "98adecfb-5018-491d-e481-356275991979"
      },
      "execution_count": null,
      "outputs": [
        {
          "output_type": "execute_result",
          "data": {
            "text/plain": [
              "Percentage_of_mod_bases  False  True\n",
              "in_paper                            \n",
              "False                      423    15\n",
              "True                        34     0"
            ],
            "text/html": [
              "\n",
              "  <div id=\"df-6521d094-bc1f-46f6-9ff9-71f4856792cd\">\n",
              "    <div class=\"colab-df-container\">\n",
              "      <div>\n",
              "<style scoped>\n",
              "    .dataframe tbody tr th:only-of-type {\n",
              "        vertical-align: middle;\n",
              "    }\n",
              "\n",
              "    .dataframe tbody tr th {\n",
              "        vertical-align: top;\n",
              "    }\n",
              "\n",
              "    .dataframe thead th {\n",
              "        text-align: right;\n",
              "    }\n",
              "</style>\n",
              "<table border=\"1\" class=\"dataframe\">\n",
              "  <thead>\n",
              "    <tr style=\"text-align: right;\">\n",
              "      <th>Percentage_of_mod_bases</th>\n",
              "      <th>False</th>\n",
              "      <th>True</th>\n",
              "    </tr>\n",
              "    <tr>\n",
              "      <th>in_paper</th>\n",
              "      <th></th>\n",
              "      <th></th>\n",
              "    </tr>\n",
              "  </thead>\n",
              "  <tbody>\n",
              "    <tr>\n",
              "      <th>False</th>\n",
              "      <td>423</td>\n",
              "      <td>15</td>\n",
              "    </tr>\n",
              "    <tr>\n",
              "      <th>True</th>\n",
              "      <td>34</td>\n",
              "      <td>0</td>\n",
              "    </tr>\n",
              "  </tbody>\n",
              "</table>\n",
              "</div>\n",
              "      <button class=\"colab-df-convert\" onclick=\"convertToInteractive('df-6521d094-bc1f-46f6-9ff9-71f4856792cd')\"\n",
              "              title=\"Convert this dataframe to an interactive table.\"\n",
              "              style=\"display:none;\">\n",
              "        \n",
              "  <svg xmlns=\"http://www.w3.org/2000/svg\" height=\"24px\"viewBox=\"0 0 24 24\"\n",
              "       width=\"24px\">\n",
              "    <path d=\"M0 0h24v24H0V0z\" fill=\"none\"/>\n",
              "    <path d=\"M18.56 5.44l.94 2.06.94-2.06 2.06-.94-2.06-.94-.94-2.06-.94 2.06-2.06.94zm-11 1L8.5 8.5l.94-2.06 2.06-.94-2.06-.94L8.5 2.5l-.94 2.06-2.06.94zm10 10l.94 2.06.94-2.06 2.06-.94-2.06-.94-.94-2.06-.94 2.06-2.06.94z\"/><path d=\"M17.41 7.96l-1.37-1.37c-.4-.4-.92-.59-1.43-.59-.52 0-1.04.2-1.43.59L10.3 9.45l-7.72 7.72c-.78.78-.78 2.05 0 2.83L4 21.41c.39.39.9.59 1.41.59.51 0 1.02-.2 1.41-.59l7.78-7.78 2.81-2.81c.8-.78.8-2.07 0-2.86zM5.41 20L4 18.59l7.72-7.72 1.47 1.35L5.41 20z\"/>\n",
              "  </svg>\n",
              "      </button>\n",
              "      \n",
              "  <style>\n",
              "    .colab-df-container {\n",
              "      display:flex;\n",
              "      flex-wrap:wrap;\n",
              "      gap: 12px;\n",
              "    }\n",
              "\n",
              "    .colab-df-convert {\n",
              "      background-color: #E8F0FE;\n",
              "      border: none;\n",
              "      border-radius: 50%;\n",
              "      cursor: pointer;\n",
              "      display: none;\n",
              "      fill: #1967D2;\n",
              "      height: 32px;\n",
              "      padding: 0 0 0 0;\n",
              "      width: 32px;\n",
              "    }\n",
              "\n",
              "    .colab-df-convert:hover {\n",
              "      background-color: #E2EBFA;\n",
              "      box-shadow: 0px 1px 2px rgba(60, 64, 67, 0.3), 0px 1px 3px 1px rgba(60, 64, 67, 0.15);\n",
              "      fill: #174EA6;\n",
              "    }\n",
              "\n",
              "    [theme=dark] .colab-df-convert {\n",
              "      background-color: #3B4455;\n",
              "      fill: #D2E3FC;\n",
              "    }\n",
              "\n",
              "    [theme=dark] .colab-df-convert:hover {\n",
              "      background-color: #434B5C;\n",
              "      box-shadow: 0px 1px 3px 1px rgba(0, 0, 0, 0.15);\n",
              "      filter: drop-shadow(0px 1px 2px rgba(0, 0, 0, 0.3));\n",
              "      fill: #FFFFFF;\n",
              "    }\n",
              "  </style>\n",
              "\n",
              "      <script>\n",
              "        const buttonEl =\n",
              "          document.querySelector('#df-6521d094-bc1f-46f6-9ff9-71f4856792cd button.colab-df-convert');\n",
              "        buttonEl.style.display =\n",
              "          google.colab.kernel.accessAllowed ? 'block' : 'none';\n",
              "\n",
              "        async function convertToInteractive(key) {\n",
              "          const element = document.querySelector('#df-6521d094-bc1f-46f6-9ff9-71f4856792cd');\n",
              "          const dataTable =\n",
              "            await google.colab.kernel.invokeFunction('convertToInteractive',\n",
              "                                                     [key], {});\n",
              "          if (!dataTable) return;\n",
              "\n",
              "          const docLinkHtml = 'Like what you see? Visit the ' +\n",
              "            '<a target=\"_blank\" href=https://colab.research.google.com/notebooks/data_table.ipynb>data table notebook</a>'\n",
              "            + ' to learn more about interactive tables.';\n",
              "          element.innerHTML = '';\n",
              "          dataTable['output_type'] = 'display_data';\n",
              "          await google.colab.output.renderOutput(dataTable, element);\n",
              "          const docLink = document.createElement('div');\n",
              "          docLink.innerHTML = docLinkHtml;\n",
              "          element.appendChild(docLink);\n",
              "        }\n",
              "      </script>\n",
              "    </div>\n",
              "  </div>\n",
              "  "
            ]
          },
          "metadata": {},
          "execution_count": 155
        }
      ]
    },
    {
      "cell_type": "code",
      "source": [
        "delta_is_LTR_CGI_paper, p_value_is_LTR_CGI_paper, dof_is_LTR_CGI_paper, c_expected_is_LTR_CGI_paper = chi2_contingency (is_LTR_CGI_paper_crosstab )"
      ],
      "metadata": {
        "id": "xLw_4JsFuvyp"
      },
      "execution_count": null,
      "outputs": []
    },
    {
      "cell_type": "code",
      "source": [
        "print(f'There were {dof_is_LTR_CGI_paper} degrees of freedom in the table.')\n",
        "print(f'It expects to see the matrix\\n{c_expected_is_LTR_CGI_paper}')\n",
        "\n",
        "print(f'There was a difference of {delta_is_LTR_CGI_paper} between the expected and observed matrices.')\n",
        "print(f'The likelihood of seeing this large a difference by chance is p={p_value_is_LTR_CGI_paper}.')"
      ],
      "metadata": {
        "colab": {
          "base_uri": "https://localhost:8080/"
        },
        "id": "ionorHLSu91r",
        "outputId": "4ca46dcb-fb71-466d-edfa-740619cbbda1"
      },
      "execution_count": null,
      "outputs": [
        {
          "output_type": "stream",
          "name": "stdout",
          "text": [
            "There were 1 degrees of freedom in the table.\n",
            "It expects to see the matrix\n",
            "[[ 424.08050847   13.91949153]\n",
            " [  32.91949153    1.08050847]]\n",
            "There was a difference of 0.34712239821340446 between the expected and observed matrices.\n",
            "The likelihood of seeing this large a difference by chance is p=0.5557466081627536.\n"
          ]
        }
      ]
    },
    {
      "cell_type": "code",
      "source": [
        "table\n"
      ],
      "metadata": {
        "colab": {
          "base_uri": "https://localhost:8080/",
          "height": 487
        },
        "id": "FcLzTXkhXUzq",
        "outputId": "b87c20a0-fb59-418e-c914-4cbc215c8938"
      },
      "execution_count": null,
      "outputs": [
        {
          "output_type": "execute_result",
          "data": {
            "text/plain": [
              "    Reference_sequence_name  Start_position  End_position_excl  \\\n",
              "0                     HXB2F               2                  3   \n",
              "1                     HXB2F               6                  7   \n",
              "2                     HXB2F              23                 24   \n",
              "3                     HXB2F              24                 25   \n",
              "4                     HXB2F              37                 38   \n",
              "..                      ...             ...                ...   \n",
              "467                   HXB2F            9476               9477   \n",
              "468                   HXB2F            9491               9492   \n",
              "469                   HXB2F            9492               9493   \n",
              "470                   HXB2F            9648               9649   \n",
              "471                   HXB2F            9649               9650   \n",
              "\n",
              "    Modification_type  Score Strand  Read_coverage_at_reference  \\\n",
              "0                 5mC     35      -                          28   \n",
              "1                 5mC     32      -                          31   \n",
              "2                 5mC    861      +                         108   \n",
              "3                 5mC   1000      -                          35   \n",
              "4                 5mC      9      +                         108   \n",
              "..                ...    ...    ...                         ...   \n",
              "467               5mC    500      -                           4   \n",
              "468               5mC    857      +                           7   \n",
              "469               5mC   1000      -                           3   \n",
              "470               5mC    857      +                           7   \n",
              "471               5mC   1000      -                           2   \n",
              "\n",
              "     Percentage_of_mod_bases Reading_frame_1 Reading_frame_2  \\\n",
              "0                       0.00           LTR_5             NaN   \n",
              "1                       0.00           LTR_5             NaN   \n",
              "2                       0.00           LTR_5             NaN   \n",
              "3                       0.00           LTR_5             NaN   \n",
              "4                       0.00           LTR_5             NaN   \n",
              "..                       ...             ...             ...   \n",
              "467                     0.00             NaN           LTR_3   \n",
              "468                     0.00             NaN           LTR_3   \n",
              "469                    33.33             NaN           LTR_3   \n",
              "470                    16.67             NaN           LTR_3   \n",
              "471                     0.00             NaN           LTR_3   \n",
              "\n",
              "    Reading_frame_2.1 Reading_frame_3 in_paper tat_reading rev_reading  \n",
              "0                 NaN             NaN      NaN         NaN         NaN  \n",
              "1                 NaN             NaN      NaN         NaN         NaN  \n",
              "2                 NaN             NaN      NaN         NaN         NaN  \n",
              "3                 NaN             NaN      NaN         NaN         NaN  \n",
              "4                 NaN             NaN      NaN         NaN         NaN  \n",
              "..                ...             ...      ...         ...         ...  \n",
              "467               NaN             NaN      NaN         NaN         NaN  \n",
              "468               NaN             NaN      NaN         NaN         NaN  \n",
              "469               NaN             NaN      NaN         NaN         NaN  \n",
              "470               NaN             NaN      NaN         NaN         NaN  \n",
              "471               NaN             NaN      NaN         NaN         NaN  \n",
              "\n",
              "[472 rows x 15 columns]"
            ],
            "text/html": [
              "\n",
              "  <div id=\"df-1e647cff-4769-4ff3-a2ca-6deefcbf140d\">\n",
              "    <div class=\"colab-df-container\">\n",
              "      <div>\n",
              "<style scoped>\n",
              "    .dataframe tbody tr th:only-of-type {\n",
              "        vertical-align: middle;\n",
              "    }\n",
              "\n",
              "    .dataframe tbody tr th {\n",
              "        vertical-align: top;\n",
              "    }\n",
              "\n",
              "    .dataframe thead th {\n",
              "        text-align: right;\n",
              "    }\n",
              "</style>\n",
              "<table border=\"1\" class=\"dataframe\">\n",
              "  <thead>\n",
              "    <tr style=\"text-align: right;\">\n",
              "      <th></th>\n",
              "      <th>Reference_sequence_name</th>\n",
              "      <th>Start_position</th>\n",
              "      <th>End_position_excl</th>\n",
              "      <th>Modification_type</th>\n",
              "      <th>Score</th>\n",
              "      <th>Strand</th>\n",
              "      <th>Read_coverage_at_reference</th>\n",
              "      <th>Percentage_of_mod_bases</th>\n",
              "      <th>Reading_frame_1</th>\n",
              "      <th>Reading_frame_2</th>\n",
              "      <th>Reading_frame_2.1</th>\n",
              "      <th>Reading_frame_3</th>\n",
              "      <th>in_paper</th>\n",
              "      <th>tat_reading</th>\n",
              "      <th>rev_reading</th>\n",
              "    </tr>\n",
              "  </thead>\n",
              "  <tbody>\n",
              "    <tr>\n",
              "      <th>0</th>\n",
              "      <td>HXB2F</td>\n",
              "      <td>2</td>\n",
              "      <td>3</td>\n",
              "      <td>5mC</td>\n",
              "      <td>35</td>\n",
              "      <td>-</td>\n",
              "      <td>28</td>\n",
              "      <td>0.00</td>\n",
              "      <td>LTR_5</td>\n",
              "      <td>NaN</td>\n",
              "      <td>NaN</td>\n",
              "      <td>NaN</td>\n",
              "      <td>NaN</td>\n",
              "      <td>NaN</td>\n",
              "      <td>NaN</td>\n",
              "    </tr>\n",
              "    <tr>\n",
              "      <th>1</th>\n",
              "      <td>HXB2F</td>\n",
              "      <td>6</td>\n",
              "      <td>7</td>\n",
              "      <td>5mC</td>\n",
              "      <td>32</td>\n",
              "      <td>-</td>\n",
              "      <td>31</td>\n",
              "      <td>0.00</td>\n",
              "      <td>LTR_5</td>\n",
              "      <td>NaN</td>\n",
              "      <td>NaN</td>\n",
              "      <td>NaN</td>\n",
              "      <td>NaN</td>\n",
              "      <td>NaN</td>\n",
              "      <td>NaN</td>\n",
              "    </tr>\n",
              "    <tr>\n",
              "      <th>2</th>\n",
              "      <td>HXB2F</td>\n",
              "      <td>23</td>\n",
              "      <td>24</td>\n",
              "      <td>5mC</td>\n",
              "      <td>861</td>\n",
              "      <td>+</td>\n",
              "      <td>108</td>\n",
              "      <td>0.00</td>\n",
              "      <td>LTR_5</td>\n",
              "      <td>NaN</td>\n",
              "      <td>NaN</td>\n",
              "      <td>NaN</td>\n",
              "      <td>NaN</td>\n",
              "      <td>NaN</td>\n",
              "      <td>NaN</td>\n",
              "    </tr>\n",
              "    <tr>\n",
              "      <th>3</th>\n",
              "      <td>HXB2F</td>\n",
              "      <td>24</td>\n",
              "      <td>25</td>\n",
              "      <td>5mC</td>\n",
              "      <td>1000</td>\n",
              "      <td>-</td>\n",
              "      <td>35</td>\n",
              "      <td>0.00</td>\n",
              "      <td>LTR_5</td>\n",
              "      <td>NaN</td>\n",
              "      <td>NaN</td>\n",
              "      <td>NaN</td>\n",
              "      <td>NaN</td>\n",
              "      <td>NaN</td>\n",
              "      <td>NaN</td>\n",
              "    </tr>\n",
              "    <tr>\n",
              "      <th>4</th>\n",
              "      <td>HXB2F</td>\n",
              "      <td>37</td>\n",
              "      <td>38</td>\n",
              "      <td>5mC</td>\n",
              "      <td>9</td>\n",
              "      <td>+</td>\n",
              "      <td>108</td>\n",
              "      <td>0.00</td>\n",
              "      <td>LTR_5</td>\n",
              "      <td>NaN</td>\n",
              "      <td>NaN</td>\n",
              "      <td>NaN</td>\n",
              "      <td>NaN</td>\n",
              "      <td>NaN</td>\n",
              "      <td>NaN</td>\n",
              "    </tr>\n",
              "    <tr>\n",
              "      <th>...</th>\n",
              "      <td>...</td>\n",
              "      <td>...</td>\n",
              "      <td>...</td>\n",
              "      <td>...</td>\n",
              "      <td>...</td>\n",
              "      <td>...</td>\n",
              "      <td>...</td>\n",
              "      <td>...</td>\n",
              "      <td>...</td>\n",
              "      <td>...</td>\n",
              "      <td>...</td>\n",
              "      <td>...</td>\n",
              "      <td>...</td>\n",
              "      <td>...</td>\n",
              "      <td>...</td>\n",
              "    </tr>\n",
              "    <tr>\n",
              "      <th>467</th>\n",
              "      <td>HXB2F</td>\n",
              "      <td>9476</td>\n",
              "      <td>9477</td>\n",
              "      <td>5mC</td>\n",
              "      <td>500</td>\n",
              "      <td>-</td>\n",
              "      <td>4</td>\n",
              "      <td>0.00</td>\n",
              "      <td>NaN</td>\n",
              "      <td>LTR_3</td>\n",
              "      <td>NaN</td>\n",
              "      <td>NaN</td>\n",
              "      <td>NaN</td>\n",
              "      <td>NaN</td>\n",
              "      <td>NaN</td>\n",
              "    </tr>\n",
              "    <tr>\n",
              "      <th>468</th>\n",
              "      <td>HXB2F</td>\n",
              "      <td>9491</td>\n",
              "      <td>9492</td>\n",
              "      <td>5mC</td>\n",
              "      <td>857</td>\n",
              "      <td>+</td>\n",
              "      <td>7</td>\n",
              "      <td>0.00</td>\n",
              "      <td>NaN</td>\n",
              "      <td>LTR_3</td>\n",
              "      <td>NaN</td>\n",
              "      <td>NaN</td>\n",
              "      <td>NaN</td>\n",
              "      <td>NaN</td>\n",
              "      <td>NaN</td>\n",
              "    </tr>\n",
              "    <tr>\n",
              "      <th>469</th>\n",
              "      <td>HXB2F</td>\n",
              "      <td>9492</td>\n",
              "      <td>9493</td>\n",
              "      <td>5mC</td>\n",
              "      <td>1000</td>\n",
              "      <td>-</td>\n",
              "      <td>3</td>\n",
              "      <td>33.33</td>\n",
              "      <td>NaN</td>\n",
              "      <td>LTR_3</td>\n",
              "      <td>NaN</td>\n",
              "      <td>NaN</td>\n",
              "      <td>NaN</td>\n",
              "      <td>NaN</td>\n",
              "      <td>NaN</td>\n",
              "    </tr>\n",
              "    <tr>\n",
              "      <th>470</th>\n",
              "      <td>HXB2F</td>\n",
              "      <td>9648</td>\n",
              "      <td>9649</td>\n",
              "      <td>5mC</td>\n",
              "      <td>857</td>\n",
              "      <td>+</td>\n",
              "      <td>7</td>\n",
              "      <td>16.67</td>\n",
              "      <td>NaN</td>\n",
              "      <td>LTR_3</td>\n",
              "      <td>NaN</td>\n",
              "      <td>NaN</td>\n",
              "      <td>NaN</td>\n",
              "      <td>NaN</td>\n",
              "      <td>NaN</td>\n",
              "    </tr>\n",
              "    <tr>\n",
              "      <th>471</th>\n",
              "      <td>HXB2F</td>\n",
              "      <td>9649</td>\n",
              "      <td>9650</td>\n",
              "      <td>5mC</td>\n",
              "      <td>1000</td>\n",
              "      <td>-</td>\n",
              "      <td>2</td>\n",
              "      <td>0.00</td>\n",
              "      <td>NaN</td>\n",
              "      <td>LTR_3</td>\n",
              "      <td>NaN</td>\n",
              "      <td>NaN</td>\n",
              "      <td>NaN</td>\n",
              "      <td>NaN</td>\n",
              "      <td>NaN</td>\n",
              "    </tr>\n",
              "  </tbody>\n",
              "</table>\n",
              "<p>472 rows × 15 columns</p>\n",
              "</div>\n",
              "      <button class=\"colab-df-convert\" onclick=\"convertToInteractive('df-1e647cff-4769-4ff3-a2ca-6deefcbf140d')\"\n",
              "              title=\"Convert this dataframe to an interactive table.\"\n",
              "              style=\"display:none;\">\n",
              "        \n",
              "  <svg xmlns=\"http://www.w3.org/2000/svg\" height=\"24px\"viewBox=\"0 0 24 24\"\n",
              "       width=\"24px\">\n",
              "    <path d=\"M0 0h24v24H0V0z\" fill=\"none\"/>\n",
              "    <path d=\"M18.56 5.44l.94 2.06.94-2.06 2.06-.94-2.06-.94-.94-2.06-.94 2.06-2.06.94zm-11 1L8.5 8.5l.94-2.06 2.06-.94-2.06-.94L8.5 2.5l-.94 2.06-2.06.94zm10 10l.94 2.06.94-2.06 2.06-.94-2.06-.94-.94-2.06-.94 2.06-2.06.94z\"/><path d=\"M17.41 7.96l-1.37-1.37c-.4-.4-.92-.59-1.43-.59-.52 0-1.04.2-1.43.59L10.3 9.45l-7.72 7.72c-.78.78-.78 2.05 0 2.83L4 21.41c.39.39.9.59 1.41.59.51 0 1.02-.2 1.41-.59l7.78-7.78 2.81-2.81c.8-.78.8-2.07 0-2.86zM5.41 20L4 18.59l7.72-7.72 1.47 1.35L5.41 20z\"/>\n",
              "  </svg>\n",
              "      </button>\n",
              "      \n",
              "  <style>\n",
              "    .colab-df-container {\n",
              "      display:flex;\n",
              "      flex-wrap:wrap;\n",
              "      gap: 12px;\n",
              "    }\n",
              "\n",
              "    .colab-df-convert {\n",
              "      background-color: #E8F0FE;\n",
              "      border: none;\n",
              "      border-radius: 50%;\n",
              "      cursor: pointer;\n",
              "      display: none;\n",
              "      fill: #1967D2;\n",
              "      height: 32px;\n",
              "      padding: 0 0 0 0;\n",
              "      width: 32px;\n",
              "    }\n",
              "\n",
              "    .colab-df-convert:hover {\n",
              "      background-color: #E2EBFA;\n",
              "      box-shadow: 0px 1px 2px rgba(60, 64, 67, 0.3), 0px 1px 3px 1px rgba(60, 64, 67, 0.15);\n",
              "      fill: #174EA6;\n",
              "    }\n",
              "\n",
              "    [theme=dark] .colab-df-convert {\n",
              "      background-color: #3B4455;\n",
              "      fill: #D2E3FC;\n",
              "    }\n",
              "\n",
              "    [theme=dark] .colab-df-convert:hover {\n",
              "      background-color: #434B5C;\n",
              "      box-shadow: 0px 1px 3px 1px rgba(0, 0, 0, 0.15);\n",
              "      filter: drop-shadow(0px 1px 2px rgba(0, 0, 0, 0.3));\n",
              "      fill: #FFFFFF;\n",
              "    }\n",
              "  </style>\n",
              "\n",
              "      <script>\n",
              "        const buttonEl =\n",
              "          document.querySelector('#df-1e647cff-4769-4ff3-a2ca-6deefcbf140d button.colab-df-convert');\n",
              "        buttonEl.style.display =\n",
              "          google.colab.kernel.accessAllowed ? 'block' : 'none';\n",
              "\n",
              "        async function convertToInteractive(key) {\n",
              "          const element = document.querySelector('#df-1e647cff-4769-4ff3-a2ca-6deefcbf140d');\n",
              "          const dataTable =\n",
              "            await google.colab.kernel.invokeFunction('convertToInteractive',\n",
              "                                                     [key], {});\n",
              "          if (!dataTable) return;\n",
              "\n",
              "          const docLinkHtml = 'Like what you see? Visit the ' +\n",
              "            '<a target=\"_blank\" href=https://colab.research.google.com/notebooks/data_table.ipynb>data table notebook</a>'\n",
              "            + ' to learn more about interactive tables.';\n",
              "          element.innerHTML = '';\n",
              "          dataTable['output_type'] = 'display_data';\n",
              "          await google.colab.output.renderOutput(dataTable, element);\n",
              "          const docLink = document.createElement('div');\n",
              "          docLink.innerHTML = docLinkHtml;\n",
              "          element.appendChild(docLink);\n",
              "        }\n",
              "      </script>\n",
              "    </div>\n",
              "  </div>\n",
              "  "
            ]
          },
          "metadata": {},
          "execution_count": 158
        }
      ]
    },
    {
      "cell_type": "code",
      "source": [
        "is_score = table['Score']>500\n",
        "is_score"
      ],
      "metadata": {
        "colab": {
          "base_uri": "https://localhost:8080/"
        },
        "id": "BsJDznpQvONQ",
        "outputId": "c70341b6-90a2-42db-f247-e75d7b599d1c"
      },
      "execution_count": null,
      "outputs": [
        {
          "output_type": "execute_result",
          "data": {
            "text/plain": [
              "0      False\n",
              "1      False\n",
              "2       True\n",
              "3       True\n",
              "4      False\n",
              "       ...  \n",
              "467    False\n",
              "468     True\n",
              "469     True\n",
              "470     True\n",
              "471     True\n",
              "Name: Score, Length: 472, dtype: bool"
            ]
          },
          "metadata": {},
          "execution_count": 159
        }
      ]
    },
    {
      "cell_type": "code",
      "source": [
        "is_LTR_CGI_paper_crosstab_score = pd.crosstab (is_LTR_CGI_paper, is_score)\n",
        "is_LTR_CGI_paper_crosstab_score"
      ],
      "metadata": {
        "colab": {
          "base_uri": "https://localhost:8080/",
          "height": 143
        },
        "id": "DEkCh6KPvmrz",
        "outputId": "31186459-dd18-49a9-e3da-48e03ad83e14"
      },
      "execution_count": null,
      "outputs": [
        {
          "output_type": "execute_result",
          "data": {
            "text/plain": [
              "Score     False  True\n",
              "in_paper             \n",
              "False       264   174\n",
              "True         17    17"
            ],
            "text/html": [
              "\n",
              "  <div id=\"df-174537c6-9f9f-4278-8f71-d30cc082188c\">\n",
              "    <div class=\"colab-df-container\">\n",
              "      <div>\n",
              "<style scoped>\n",
              "    .dataframe tbody tr th:only-of-type {\n",
              "        vertical-align: middle;\n",
              "    }\n",
              "\n",
              "    .dataframe tbody tr th {\n",
              "        vertical-align: top;\n",
              "    }\n",
              "\n",
              "    .dataframe thead th {\n",
              "        text-align: right;\n",
              "    }\n",
              "</style>\n",
              "<table border=\"1\" class=\"dataframe\">\n",
              "  <thead>\n",
              "    <tr style=\"text-align: right;\">\n",
              "      <th>Score</th>\n",
              "      <th>False</th>\n",
              "      <th>True</th>\n",
              "    </tr>\n",
              "    <tr>\n",
              "      <th>in_paper</th>\n",
              "      <th></th>\n",
              "      <th></th>\n",
              "    </tr>\n",
              "  </thead>\n",
              "  <tbody>\n",
              "    <tr>\n",
              "      <th>False</th>\n",
              "      <td>264</td>\n",
              "      <td>174</td>\n",
              "    </tr>\n",
              "    <tr>\n",
              "      <th>True</th>\n",
              "      <td>17</td>\n",
              "      <td>17</td>\n",
              "    </tr>\n",
              "  </tbody>\n",
              "</table>\n",
              "</div>\n",
              "      <button class=\"colab-df-convert\" onclick=\"convertToInteractive('df-174537c6-9f9f-4278-8f71-d30cc082188c')\"\n",
              "              title=\"Convert this dataframe to an interactive table.\"\n",
              "              style=\"display:none;\">\n",
              "        \n",
              "  <svg xmlns=\"http://www.w3.org/2000/svg\" height=\"24px\"viewBox=\"0 0 24 24\"\n",
              "       width=\"24px\">\n",
              "    <path d=\"M0 0h24v24H0V0z\" fill=\"none\"/>\n",
              "    <path d=\"M18.56 5.44l.94 2.06.94-2.06 2.06-.94-2.06-.94-.94-2.06-.94 2.06-2.06.94zm-11 1L8.5 8.5l.94-2.06 2.06-.94-2.06-.94L8.5 2.5l-.94 2.06-2.06.94zm10 10l.94 2.06.94-2.06 2.06-.94-2.06-.94-.94-2.06-.94 2.06-2.06.94z\"/><path d=\"M17.41 7.96l-1.37-1.37c-.4-.4-.92-.59-1.43-.59-.52 0-1.04.2-1.43.59L10.3 9.45l-7.72 7.72c-.78.78-.78 2.05 0 2.83L4 21.41c.39.39.9.59 1.41.59.51 0 1.02-.2 1.41-.59l7.78-7.78 2.81-2.81c.8-.78.8-2.07 0-2.86zM5.41 20L4 18.59l7.72-7.72 1.47 1.35L5.41 20z\"/>\n",
              "  </svg>\n",
              "      </button>\n",
              "      \n",
              "  <style>\n",
              "    .colab-df-container {\n",
              "      display:flex;\n",
              "      flex-wrap:wrap;\n",
              "      gap: 12px;\n",
              "    }\n",
              "\n",
              "    .colab-df-convert {\n",
              "      background-color: #E8F0FE;\n",
              "      border: none;\n",
              "      border-radius: 50%;\n",
              "      cursor: pointer;\n",
              "      display: none;\n",
              "      fill: #1967D2;\n",
              "      height: 32px;\n",
              "      padding: 0 0 0 0;\n",
              "      width: 32px;\n",
              "    }\n",
              "\n",
              "    .colab-df-convert:hover {\n",
              "      background-color: #E2EBFA;\n",
              "      box-shadow: 0px 1px 2px rgba(60, 64, 67, 0.3), 0px 1px 3px 1px rgba(60, 64, 67, 0.15);\n",
              "      fill: #174EA6;\n",
              "    }\n",
              "\n",
              "    [theme=dark] .colab-df-convert {\n",
              "      background-color: #3B4455;\n",
              "      fill: #D2E3FC;\n",
              "    }\n",
              "\n",
              "    [theme=dark] .colab-df-convert:hover {\n",
              "      background-color: #434B5C;\n",
              "      box-shadow: 0px 1px 3px 1px rgba(0, 0, 0, 0.15);\n",
              "      filter: drop-shadow(0px 1px 2px rgba(0, 0, 0, 0.3));\n",
              "      fill: #FFFFFF;\n",
              "    }\n",
              "  </style>\n",
              "\n",
              "      <script>\n",
              "        const buttonEl =\n",
              "          document.querySelector('#df-174537c6-9f9f-4278-8f71-d30cc082188c button.colab-df-convert');\n",
              "        buttonEl.style.display =\n",
              "          google.colab.kernel.accessAllowed ? 'block' : 'none';\n",
              "\n",
              "        async function convertToInteractive(key) {\n",
              "          const element = document.querySelector('#df-174537c6-9f9f-4278-8f71-d30cc082188c');\n",
              "          const dataTable =\n",
              "            await google.colab.kernel.invokeFunction('convertToInteractive',\n",
              "                                                     [key], {});\n",
              "          if (!dataTable) return;\n",
              "\n",
              "          const docLinkHtml = 'Like what you see? Visit the ' +\n",
              "            '<a target=\"_blank\" href=https://colab.research.google.com/notebooks/data_table.ipynb>data table notebook</a>'\n",
              "            + ' to learn more about interactive tables.';\n",
              "          element.innerHTML = '';\n",
              "          dataTable['output_type'] = 'display_data';\n",
              "          await google.colab.output.renderOutput(dataTable, element);\n",
              "          const docLink = document.createElement('div');\n",
              "          docLink.innerHTML = docLinkHtml;\n",
              "          element.appendChild(docLink);\n",
              "        }\n",
              "      </script>\n",
              "    </div>\n",
              "  </div>\n",
              "  "
            ]
          },
          "metadata": {},
          "execution_count": 160
        }
      ]
    },
    {
      "cell_type": "code",
      "source": [
        "delta_is_LTR_CGI_paper_score, p_value_is_LTR_CGI_paper_score, dof_is_LTR_CGI_paper_score, c_expected_is_LTR_CGI_paper_score = chi2_contingency (is_LTR_CGI_paper_crosstab_score)"
      ],
      "metadata": {
        "id": "sKPrbW3yvu4M"
      },
      "execution_count": null,
      "outputs": []
    },
    {
      "cell_type": "code",
      "source": [
        "print(f'There were {dof_is_LTR_CGI_paper} degrees of freedom in the table.')\n",
        "print(f'It expects to see the matrix\\n{c_expected_is_LTR_CGI_paper}')\n",
        "\n",
        "print(f'There was a difference of {delta_is_LTR_CGI_paper} between the expected and observed matrices.')\n",
        "print(f'The likelihood of seeing this large a difference by chance is p={p_value_is_LTR_CGI_paper}.')"
      ],
      "metadata": {
        "colab": {
          "base_uri": "https://localhost:8080/"
        },
        "id": "1QTK2ucXv-0F",
        "outputId": "688efafa-7cec-40f1-ef1d-fbc6e5bd9c2b"
      },
      "execution_count": null,
      "outputs": [
        {
          "output_type": "stream",
          "name": "stdout",
          "text": [
            "There were 1 degrees of freedom in the table.\n",
            "It expects to see the matrix\n",
            "[[ 424.08050847   13.91949153]\n",
            " [  32.91949153    1.08050847]]\n",
            "There was a difference of 0.34712239821340446 between the expected and observed matrices.\n",
            "The likelihood of seeing this large a difference by chance is p=0.5557466081627536.\n"
          ]
        }
      ]
    },
    {
      "cell_type": "code",
      "source": [
        "table\n"
      ],
      "metadata": {
        "colab": {
          "base_uri": "https://localhost:8080/",
          "height": 487
        },
        "id": "oQfBnyIvUsU6",
        "outputId": "e278264a-71fa-40ee-c409-7cc6be74f6d9"
      },
      "execution_count": null,
      "outputs": [
        {
          "output_type": "execute_result",
          "data": {
            "text/plain": [
              "    Reference_sequence_name  Start_position  End_position_excl  \\\n",
              "0                     HXB2F               2                  3   \n",
              "1                     HXB2F               6                  7   \n",
              "2                     HXB2F              23                 24   \n",
              "3                     HXB2F              24                 25   \n",
              "4                     HXB2F              37                 38   \n",
              "..                      ...             ...                ...   \n",
              "467                   HXB2F            9476               9477   \n",
              "468                   HXB2F            9491               9492   \n",
              "469                   HXB2F            9492               9493   \n",
              "470                   HXB2F            9648               9649   \n",
              "471                   HXB2F            9649               9650   \n",
              "\n",
              "    Modification_type  Score Strand  Read_coverage_at_reference  \\\n",
              "0                 5mC     35      -                          28   \n",
              "1                 5mC     32      -                          31   \n",
              "2                 5mC    861      +                         108   \n",
              "3                 5mC   1000      -                          35   \n",
              "4                 5mC      9      +                         108   \n",
              "..                ...    ...    ...                         ...   \n",
              "467               5mC    500      -                           4   \n",
              "468               5mC    857      +                           7   \n",
              "469               5mC   1000      -                           3   \n",
              "470               5mC    857      +                           7   \n",
              "471               5mC   1000      -                           2   \n",
              "\n",
              "     Percentage_of_mod_bases Reading_frame_1 Reading_frame_2  \\\n",
              "0                       0.00           LTR_5             NaN   \n",
              "1                       0.00           LTR_5             NaN   \n",
              "2                       0.00           LTR_5             NaN   \n",
              "3                       0.00           LTR_5             NaN   \n",
              "4                       0.00           LTR_5             NaN   \n",
              "..                       ...             ...             ...   \n",
              "467                     0.00             NaN           LTR_3   \n",
              "468                     0.00             NaN           LTR_3   \n",
              "469                    33.33             NaN           LTR_3   \n",
              "470                    16.67             NaN           LTR_3   \n",
              "471                     0.00             NaN           LTR_3   \n",
              "\n",
              "    Reading_frame_2.1 Reading_frame_3 in_paper tat_reading rev_reading  \n",
              "0                 NaN             NaN      NaN         NaN         NaN  \n",
              "1                 NaN             NaN      NaN         NaN         NaN  \n",
              "2                 NaN             NaN      NaN         NaN         NaN  \n",
              "3                 NaN             NaN      NaN         NaN         NaN  \n",
              "4                 NaN             NaN      NaN         NaN         NaN  \n",
              "..                ...             ...      ...         ...         ...  \n",
              "467               NaN             NaN      NaN         NaN         NaN  \n",
              "468               NaN             NaN      NaN         NaN         NaN  \n",
              "469               NaN             NaN      NaN         NaN         NaN  \n",
              "470               NaN             NaN      NaN         NaN         NaN  \n",
              "471               NaN             NaN      NaN         NaN         NaN  \n",
              "\n",
              "[472 rows x 15 columns]"
            ],
            "text/html": [
              "\n",
              "  <div id=\"df-2c04e2a2-d8fd-438a-9db8-49f2b3d1be47\">\n",
              "    <div class=\"colab-df-container\">\n",
              "      <div>\n",
              "<style scoped>\n",
              "    .dataframe tbody tr th:only-of-type {\n",
              "        vertical-align: middle;\n",
              "    }\n",
              "\n",
              "    .dataframe tbody tr th {\n",
              "        vertical-align: top;\n",
              "    }\n",
              "\n",
              "    .dataframe thead th {\n",
              "        text-align: right;\n",
              "    }\n",
              "</style>\n",
              "<table border=\"1\" class=\"dataframe\">\n",
              "  <thead>\n",
              "    <tr style=\"text-align: right;\">\n",
              "      <th></th>\n",
              "      <th>Reference_sequence_name</th>\n",
              "      <th>Start_position</th>\n",
              "      <th>End_position_excl</th>\n",
              "      <th>Modification_type</th>\n",
              "      <th>Score</th>\n",
              "      <th>Strand</th>\n",
              "      <th>Read_coverage_at_reference</th>\n",
              "      <th>Percentage_of_mod_bases</th>\n",
              "      <th>Reading_frame_1</th>\n",
              "      <th>Reading_frame_2</th>\n",
              "      <th>Reading_frame_2.1</th>\n",
              "      <th>Reading_frame_3</th>\n",
              "      <th>in_paper</th>\n",
              "      <th>tat_reading</th>\n",
              "      <th>rev_reading</th>\n",
              "    </tr>\n",
              "  </thead>\n",
              "  <tbody>\n",
              "    <tr>\n",
              "      <th>0</th>\n",
              "      <td>HXB2F</td>\n",
              "      <td>2</td>\n",
              "      <td>3</td>\n",
              "      <td>5mC</td>\n",
              "      <td>35</td>\n",
              "      <td>-</td>\n",
              "      <td>28</td>\n",
              "      <td>0.00</td>\n",
              "      <td>LTR_5</td>\n",
              "      <td>NaN</td>\n",
              "      <td>NaN</td>\n",
              "      <td>NaN</td>\n",
              "      <td>NaN</td>\n",
              "      <td>NaN</td>\n",
              "      <td>NaN</td>\n",
              "    </tr>\n",
              "    <tr>\n",
              "      <th>1</th>\n",
              "      <td>HXB2F</td>\n",
              "      <td>6</td>\n",
              "      <td>7</td>\n",
              "      <td>5mC</td>\n",
              "      <td>32</td>\n",
              "      <td>-</td>\n",
              "      <td>31</td>\n",
              "      <td>0.00</td>\n",
              "      <td>LTR_5</td>\n",
              "      <td>NaN</td>\n",
              "      <td>NaN</td>\n",
              "      <td>NaN</td>\n",
              "      <td>NaN</td>\n",
              "      <td>NaN</td>\n",
              "      <td>NaN</td>\n",
              "    </tr>\n",
              "    <tr>\n",
              "      <th>2</th>\n",
              "      <td>HXB2F</td>\n",
              "      <td>23</td>\n",
              "      <td>24</td>\n",
              "      <td>5mC</td>\n",
              "      <td>861</td>\n",
              "      <td>+</td>\n",
              "      <td>108</td>\n",
              "      <td>0.00</td>\n",
              "      <td>LTR_5</td>\n",
              "      <td>NaN</td>\n",
              "      <td>NaN</td>\n",
              "      <td>NaN</td>\n",
              "      <td>NaN</td>\n",
              "      <td>NaN</td>\n",
              "      <td>NaN</td>\n",
              "    </tr>\n",
              "    <tr>\n",
              "      <th>3</th>\n",
              "      <td>HXB2F</td>\n",
              "      <td>24</td>\n",
              "      <td>25</td>\n",
              "      <td>5mC</td>\n",
              "      <td>1000</td>\n",
              "      <td>-</td>\n",
              "      <td>35</td>\n",
              "      <td>0.00</td>\n",
              "      <td>LTR_5</td>\n",
              "      <td>NaN</td>\n",
              "      <td>NaN</td>\n",
              "      <td>NaN</td>\n",
              "      <td>NaN</td>\n",
              "      <td>NaN</td>\n",
              "      <td>NaN</td>\n",
              "    </tr>\n",
              "    <tr>\n",
              "      <th>4</th>\n",
              "      <td>HXB2F</td>\n",
              "      <td>37</td>\n",
              "      <td>38</td>\n",
              "      <td>5mC</td>\n",
              "      <td>9</td>\n",
              "      <td>+</td>\n",
              "      <td>108</td>\n",
              "      <td>0.00</td>\n",
              "      <td>LTR_5</td>\n",
              "      <td>NaN</td>\n",
              "      <td>NaN</td>\n",
              "      <td>NaN</td>\n",
              "      <td>NaN</td>\n",
              "      <td>NaN</td>\n",
              "      <td>NaN</td>\n",
              "    </tr>\n",
              "    <tr>\n",
              "      <th>...</th>\n",
              "      <td>...</td>\n",
              "      <td>...</td>\n",
              "      <td>...</td>\n",
              "      <td>...</td>\n",
              "      <td>...</td>\n",
              "      <td>...</td>\n",
              "      <td>...</td>\n",
              "      <td>...</td>\n",
              "      <td>...</td>\n",
              "      <td>...</td>\n",
              "      <td>...</td>\n",
              "      <td>...</td>\n",
              "      <td>...</td>\n",
              "      <td>...</td>\n",
              "      <td>...</td>\n",
              "    </tr>\n",
              "    <tr>\n",
              "      <th>467</th>\n",
              "      <td>HXB2F</td>\n",
              "      <td>9476</td>\n",
              "      <td>9477</td>\n",
              "      <td>5mC</td>\n",
              "      <td>500</td>\n",
              "      <td>-</td>\n",
              "      <td>4</td>\n",
              "      <td>0.00</td>\n",
              "      <td>NaN</td>\n",
              "      <td>LTR_3</td>\n",
              "      <td>NaN</td>\n",
              "      <td>NaN</td>\n",
              "      <td>NaN</td>\n",
              "      <td>NaN</td>\n",
              "      <td>NaN</td>\n",
              "    </tr>\n",
              "    <tr>\n",
              "      <th>468</th>\n",
              "      <td>HXB2F</td>\n",
              "      <td>9491</td>\n",
              "      <td>9492</td>\n",
              "      <td>5mC</td>\n",
              "      <td>857</td>\n",
              "      <td>+</td>\n",
              "      <td>7</td>\n",
              "      <td>0.00</td>\n",
              "      <td>NaN</td>\n",
              "      <td>LTR_3</td>\n",
              "      <td>NaN</td>\n",
              "      <td>NaN</td>\n",
              "      <td>NaN</td>\n",
              "      <td>NaN</td>\n",
              "      <td>NaN</td>\n",
              "    </tr>\n",
              "    <tr>\n",
              "      <th>469</th>\n",
              "      <td>HXB2F</td>\n",
              "      <td>9492</td>\n",
              "      <td>9493</td>\n",
              "      <td>5mC</td>\n",
              "      <td>1000</td>\n",
              "      <td>-</td>\n",
              "      <td>3</td>\n",
              "      <td>33.33</td>\n",
              "      <td>NaN</td>\n",
              "      <td>LTR_3</td>\n",
              "      <td>NaN</td>\n",
              "      <td>NaN</td>\n",
              "      <td>NaN</td>\n",
              "      <td>NaN</td>\n",
              "      <td>NaN</td>\n",
              "    </tr>\n",
              "    <tr>\n",
              "      <th>470</th>\n",
              "      <td>HXB2F</td>\n",
              "      <td>9648</td>\n",
              "      <td>9649</td>\n",
              "      <td>5mC</td>\n",
              "      <td>857</td>\n",
              "      <td>+</td>\n",
              "      <td>7</td>\n",
              "      <td>16.67</td>\n",
              "      <td>NaN</td>\n",
              "      <td>LTR_3</td>\n",
              "      <td>NaN</td>\n",
              "      <td>NaN</td>\n",
              "      <td>NaN</td>\n",
              "      <td>NaN</td>\n",
              "      <td>NaN</td>\n",
              "    </tr>\n",
              "    <tr>\n",
              "      <th>471</th>\n",
              "      <td>HXB2F</td>\n",
              "      <td>9649</td>\n",
              "      <td>9650</td>\n",
              "      <td>5mC</td>\n",
              "      <td>1000</td>\n",
              "      <td>-</td>\n",
              "      <td>2</td>\n",
              "      <td>0.00</td>\n",
              "      <td>NaN</td>\n",
              "      <td>LTR_3</td>\n",
              "      <td>NaN</td>\n",
              "      <td>NaN</td>\n",
              "      <td>NaN</td>\n",
              "      <td>NaN</td>\n",
              "      <td>NaN</td>\n",
              "    </tr>\n",
              "  </tbody>\n",
              "</table>\n",
              "<p>472 rows × 15 columns</p>\n",
              "</div>\n",
              "      <button class=\"colab-df-convert\" onclick=\"convertToInteractive('df-2c04e2a2-d8fd-438a-9db8-49f2b3d1be47')\"\n",
              "              title=\"Convert this dataframe to an interactive table.\"\n",
              "              style=\"display:none;\">\n",
              "        \n",
              "  <svg xmlns=\"http://www.w3.org/2000/svg\" height=\"24px\"viewBox=\"0 0 24 24\"\n",
              "       width=\"24px\">\n",
              "    <path d=\"M0 0h24v24H0V0z\" fill=\"none\"/>\n",
              "    <path d=\"M18.56 5.44l.94 2.06.94-2.06 2.06-.94-2.06-.94-.94-2.06-.94 2.06-2.06.94zm-11 1L8.5 8.5l.94-2.06 2.06-.94-2.06-.94L8.5 2.5l-.94 2.06-2.06.94zm10 10l.94 2.06.94-2.06 2.06-.94-2.06-.94-.94-2.06-.94 2.06-2.06.94z\"/><path d=\"M17.41 7.96l-1.37-1.37c-.4-.4-.92-.59-1.43-.59-.52 0-1.04.2-1.43.59L10.3 9.45l-7.72 7.72c-.78.78-.78 2.05 0 2.83L4 21.41c.39.39.9.59 1.41.59.51 0 1.02-.2 1.41-.59l7.78-7.78 2.81-2.81c.8-.78.8-2.07 0-2.86zM5.41 20L4 18.59l7.72-7.72 1.47 1.35L5.41 20z\"/>\n",
              "  </svg>\n",
              "      </button>\n",
              "      \n",
              "  <style>\n",
              "    .colab-df-container {\n",
              "      display:flex;\n",
              "      flex-wrap:wrap;\n",
              "      gap: 12px;\n",
              "    }\n",
              "\n",
              "    .colab-df-convert {\n",
              "      background-color: #E8F0FE;\n",
              "      border: none;\n",
              "      border-radius: 50%;\n",
              "      cursor: pointer;\n",
              "      display: none;\n",
              "      fill: #1967D2;\n",
              "      height: 32px;\n",
              "      padding: 0 0 0 0;\n",
              "      width: 32px;\n",
              "    }\n",
              "\n",
              "    .colab-df-convert:hover {\n",
              "      background-color: #E2EBFA;\n",
              "      box-shadow: 0px 1px 2px rgba(60, 64, 67, 0.3), 0px 1px 3px 1px rgba(60, 64, 67, 0.15);\n",
              "      fill: #174EA6;\n",
              "    }\n",
              "\n",
              "    [theme=dark] .colab-df-convert {\n",
              "      background-color: #3B4455;\n",
              "      fill: #D2E3FC;\n",
              "    }\n",
              "\n",
              "    [theme=dark] .colab-df-convert:hover {\n",
              "      background-color: #434B5C;\n",
              "      box-shadow: 0px 1px 3px 1px rgba(0, 0, 0, 0.15);\n",
              "      filter: drop-shadow(0px 1px 2px rgba(0, 0, 0, 0.3));\n",
              "      fill: #FFFFFF;\n",
              "    }\n",
              "  </style>\n",
              "\n",
              "      <script>\n",
              "        const buttonEl =\n",
              "          document.querySelector('#df-2c04e2a2-d8fd-438a-9db8-49f2b3d1be47 button.colab-df-convert');\n",
              "        buttonEl.style.display =\n",
              "          google.colab.kernel.accessAllowed ? 'block' : 'none';\n",
              "\n",
              "        async function convertToInteractive(key) {\n",
              "          const element = document.querySelector('#df-2c04e2a2-d8fd-438a-9db8-49f2b3d1be47');\n",
              "          const dataTable =\n",
              "            await google.colab.kernel.invokeFunction('convertToInteractive',\n",
              "                                                     [key], {});\n",
              "          if (!dataTable) return;\n",
              "\n",
              "          const docLinkHtml = 'Like what you see? Visit the ' +\n",
              "            '<a target=\"_blank\" href=https://colab.research.google.com/notebooks/data_table.ipynb>data table notebook</a>'\n",
              "            + ' to learn more about interactive tables.';\n",
              "          element.innerHTML = '';\n",
              "          dataTable['output_type'] = 'display_data';\n",
              "          await google.colab.output.renderOutput(dataTable, element);\n",
              "          const docLink = document.createElement('div');\n",
              "          docLink.innerHTML = docLinkHtml;\n",
              "          element.appendChild(docLink);\n",
              "        }\n",
              "      </script>\n",
              "    </div>\n",
              "  </div>\n",
              "  "
            ]
          },
          "metadata": {},
          "execution_count": 163
        }
      ]
    },
    {
      "cell_type": "code",
      "source": [
        "sns.scatterplot(data=table, x='Start_position', y='Read_coverage_at_reference',\n",
        "hue='Modification_type')\n"
      ],
      "metadata": {
        "colab": {
          "base_uri": "https://localhost:8080/",
          "height": 297
        },
        "id": "1ViDMm8mUtd5",
        "outputId": "9e29a498-69bc-4ebe-bacf-27bfbb670307"
      },
      "execution_count": 227,
      "outputs": [
        {
          "output_type": "execute_result",
          "data": {
            "text/plain": [
              "<AxesSubplot:xlabel='Start_position', ylabel='Read_coverage_at_reference'>"
            ]
          },
          "metadata": {},
          "execution_count": 227
        },
        {
          "output_type": "display_data",
          "data": {
            "text/plain": [
              "<Figure size 432x288 with 1 Axes>"
            ],
            "image/png": "[encoded data removed]"
          },
          "metadata": {
            "needs_background": "light"
          }
        }
      ]
    },
    {
      "cell_type": "code",
      "source": [
        "sns.scatterplot(data=table, x='Start_position', y='Read_coverage_at_reference'\n",
        "hue=\"methylation_site_present_absent\",)"
      ],
      "metadata": {
        "id": "P2vPMhMOcw5D"
      },
      "execution_count": null,
      "outputs": []
    },
    {
      "cell_type": "code",
      "source": [
        "sns.scatterplot(data=table, x='Start_position', y='Percentage_of_mod_bases')\n",
        "                )"
      ],
      "metadata": {
        "colab": {
          "base_uri": "https://localhost:8080/",
          "height": 297
        },
        "id": "3N5iLJ1uae_Z",
        "outputId": "8ef7ad72-af73-43f2-e09c-fbced2c5d92c"
      },
      "execution_count": null,
      "outputs": [
        {
          "output_type": "execute_result",
          "data": {
            "text/plain": [
              "<AxesSubplot:xlabel='Start_position', ylabel='Percentage_of_mod_bases'>"
            ]
          },
          "metadata": {},
          "execution_count": 165
        },
        {
          "output_type": "display_data",
          "data": {
            "text/plain": [
              "<Figure size 432x288 with 1 Axes>"
            ],
            "image/png": "[encoded data removed]"
          },
          "metadata": {
            "needs_background": "light"
          }
        }
      ]
    },
    {
      "cell_type": "code",
      "source": [
        "mod_position_bases = table.groupby('Start_position')['Percentage_of_mod_bases'].first()/100\n",
        "mod_position_bases "
      ],
      "metadata": {
        "colab": {
          "base_uri": "https://localhost:8080/"
        },
        "id": "tZblgJ0WUtf7",
        "outputId": "4bbfbe31-2002-4473-b963-e73b01155f2c"
      },
      "execution_count": null,
      "outputs": [
        {
          "output_type": "execute_result",
          "data": {
            "text/plain": [
              "Start_position\n",
              "2       0.0000\n",
              "6       0.0000\n",
              "23      0.0000\n",
              "24      0.0000\n",
              "37      0.0000\n",
              "         ...  \n",
              "9476    0.0000\n",
              "9491    0.0000\n",
              "9492    0.3333\n",
              "9648    0.1667\n",
              "9649    0.0000\n",
              "Name: Percentage_of_mod_bases, Length: 472, dtype: float64"
            ]
          },
          "metadata": {},
          "execution_count": 166
        }
      ]
    },
    {
      "cell_type": "code",
      "source": [
        "ax = mod_position_bases.rolling(10).sum().plot()\n",
        "ax.set_ylabel('sum(%mod_bases)')"
      ],
      "metadata": {
        "colab": {
          "base_uri": "https://localhost:8080/",
          "height": 297
        },
        "id": "T2aMky8oUthf",
        "outputId": "e048cef2-ed71-4766-e1d2-c6c8b770a5bc"
      },
      "execution_count": null,
      "outputs": [
        {
          "output_type": "execute_result",
          "data": {
            "text/plain": [
              "Text(0, 0.5, 'sum(%mod_bases)')"
            ]
          },
          "metadata": {},
          "execution_count": 167
        },
        {
          "output_type": "display_data",
          "data": {
            "text/plain": [
              "<Figure size 432x288 with 1 Axes>"
            ],
            "image/png": "[encoded data removed]"
          },
          "metadata": {
            "needs_background": "light"
          }
        }
      ]
    },
    {
      "cell_type": "code",
      "source": [
        "ax = mod_position_bases.rolling(20).sum().plot()\n",
        "ax.set_ylabel('sum(%mod_bases)')"
      ],
      "metadata": {
        "colab": {
          "base_uri": "https://localhost:8080/",
          "height": 297
        },
        "id": "N8QciN9SXqdZ",
        "outputId": "781166fa-02fe-4681-fa9b-fa9ac85b7f5c"
      },
      "execution_count": null,
      "outputs": [
        {
          "output_type": "execute_result",
          "data": {
            "text/plain": [
              "Text(0, 0.5, 'sum(%mod_bases)')"
            ]
          },
          "metadata": {},
          "execution_count": 168
        },
        {
          "output_type": "display_data",
          "data": {
            "text/plain": [
              "<Figure size 432x288 with 1 Axes>"
            ],
            "image/png": "[encoded data removed]"
          },
          "metadata": {
            "needs_background": "light"
          }
        }
      ]
    },
    {
      "cell_type": "code",
      "source": [
        "ax = mod_position_bases.rolling(30).sum().plot()\n",
        "ax.set_ylabel('sum(%mod_bases)')"
      ],
      "metadata": {
        "colab": {
          "base_uri": "https://localhost:8080/",
          "height": 298
        },
        "id": "egOrjEonXqfT",
        "outputId": "3d2c4c1f-d4c9-4b0b-adf0-6c60b8177010"
      },
      "execution_count": null,
      "outputs": [
        {
          "output_type": "execute_result",
          "data": {
            "text/plain": [
              "Text(0, 0.5, 'sum(%mod_bases)')"
            ]
          },
          "metadata": {},
          "execution_count": 169
        },
        {
          "output_type": "display_data",
          "data": {
            "text/plain": [
              "<Figure size 432x288 with 1 Axes>"
            ],
            "image/png": "[encoded data removed]"
          },
          "metadata": {
            "needs_background": "light"
          }
        }
      ]
    },
    {
      "cell_type": "code",
      "source": [
        "ax = mod_position_bases.rolling(50).sum().plot()\n",
        "ax.set_ylabel('sum(%mod_bases)')"
      ],
      "metadata": {
        "colab": {
          "base_uri": "https://localhost:8080/",
          "height": 297
        },
        "id": "nj8NHGAhXqhJ",
        "outputId": "55a7dc72-d20d-4dfe-ea50-e0dddff2fb1b"
      },
      "execution_count": null,
      "outputs": [
        {
          "output_type": "execute_result",
          "data": {
            "text/plain": [
              "Text(0, 0.5, 'sum(%mod_bases)')"
            ]
          },
          "metadata": {},
          "execution_count": 170
        },
        {
          "output_type": "display_data",
          "data": {
            "text/plain": [
              "<Figure size 432x288 with 1 Axes>"
            ],
            "image/png": "[encoded data removed]"
          },
          "metadata": {
            "needs_background": "light"
          }
        }
      ]
    },
    {
      "cell_type": "code",
      "source": [
        "ax = mod_position_bases.rolling(75).sum().plot()\n",
        "ax.set_ylabel('sum(%mod_bases)')"
      ],
      "metadata": {
        "colab": {
          "base_uri": "https://localhost:8080/",
          "height": 297
        },
        "id": "4sY02M-dXqi9",
        "outputId": "feee7c93-9da5-4ce1-ba56-41300894a560"
      },
      "execution_count": null,
      "outputs": [
        {
          "output_type": "execute_result",
          "data": {
            "text/plain": [
              "Text(0, 0.5, 'sum(%mod_bases)')"
            ]
          },
          "metadata": {},
          "execution_count": 171
        },
        {
          "output_type": "display_data",
          "data": {
            "text/plain": [
              "<Figure size 432x288 with 1 Axes>"
            ],
            "image/png": "[encoded data removed]"
          },
          "metadata": {
            "needs_background": "light"
          }
        }
      ]
    },
    {
      "cell_type": "code",
      "source": [
        "ax = mod_position_bases.rolling(100).sum().plot()\n",
        "ax.set_ylabel('sum(%mod_bases)')"
      ],
      "metadata": {
        "colab": {
          "base_uri": "https://localhost:8080/",
          "height": 297
        },
        "id": "11rHyXxkeToJ",
        "outputId": "5c2684de-5161-4cc8-94d7-98399389830a"
      },
      "execution_count": null,
      "outputs": [
        {
          "output_type": "execute_result",
          "data": {
            "text/plain": [
              "Text(0, 0.5, 'sum(%mod_bases)')"
            ]
          },
          "metadata": {},
          "execution_count": 172
        },
        {
          "output_type": "display_data",
          "data": {
            "text/plain": [
              "<Figure size 432x288 with 1 Axes>"
            ],
            "image/png": "[encoded data removed]"
          },
          "metadata": {
            "needs_background": "light"
          }
        }
      ]
    },
    {
      "cell_type": "code",
      "source": [
        "mod_score_bases = table.groupby('Start_position')['Score'].first()/100\n",
        "mod_score_bases "
      ],
      "metadata": {
        "colab": {
          "base_uri": "https://localhost:8080/"
        },
        "id": "ZiILj0vCz5TU",
        "outputId": "d1cf32f6-7e4e-4324-bf10-51fb62eac90b"
      },
      "execution_count": null,
      "outputs": [
        {
          "output_type": "execute_result",
          "data": {
            "text/plain": [
              "Start_position\n",
              "2        0.35\n",
              "6        0.32\n",
              "23       8.61\n",
              "24      10.00\n",
              "37       0.09\n",
              "        ...  \n",
              "9476     5.00\n",
              "9491     8.57\n",
              "9492    10.00\n",
              "9648     8.57\n",
              "9649    10.00\n",
              "Name: Score, Length: 472, dtype: float64"
            ]
          },
          "metadata": {},
          "execution_count": 173
        }
      ]
    },
    {
      "cell_type": "code",
      "source": [
        "ax = mod_score_bases.rolling(100).sum().plot()\n",
        "ax.set_ylabel('sum_score)')"
      ],
      "metadata": {
        "colab": {
          "base_uri": "https://localhost:8080/",
          "height": 297
        },
        "id": "pa3sf7Xp1TQA",
        "outputId": "f18800b7-bded-4aa3-f161-13cd1de571d9"
      },
      "execution_count": null,
      "outputs": [
        {
          "output_type": "execute_result",
          "data": {
            "text/plain": [
              "Text(0, 0.5, 'sum_score)')"
            ]
          },
          "metadata": {},
          "execution_count": 174
        },
        {
          "output_type": "display_data",
          "data": {
            "text/plain": [
              "<Figure size 432x288 with 1 Axes>"
            ],
            "image/png": "[encoded data removed]"
          },
          "metadata": {
            "needs_background": "light"
          }
        }
      ]
    },
    {
      "cell_type": "code",
      "source": [
        "is_score = table['Score']>500\n",
        "is_score "
      ],
      "metadata": {
        "colab": {
          "base_uri": "https://localhost:8080/"
        },
        "id": "RDEnOzUX1uZB",
        "outputId": "73aa0491-80b0-469f-b0e3-f831145eec3c"
      },
      "execution_count": null,
      "outputs": [
        {
          "output_type": "execute_result",
          "data": {
            "text/plain": [
              "0      False\n",
              "1      False\n",
              "2       True\n",
              "3       True\n",
              "4      False\n",
              "       ...  \n",
              "467    False\n",
              "468     True\n",
              "469     True\n",
              "470     True\n",
              "471     True\n",
              "Name: Score, Length: 472, dtype: bool"
            ]
          },
          "metadata": {},
          "execution_count": 175
        }
      ]
    },
    {
      "cell_type": "code",
      "source": [
        "!pip install biopython"
      ],
      "metadata": {
        "colab": {
          "base_uri": "https://localhost:8080/"
        },
        "id": "i0Z5_jjTZDwl",
        "outputId": "05ef5fc8-baef-4114-a2f1-f1216208877d"
      },
      "execution_count": null,
      "outputs": [
        {
          "output_type": "stream",
          "name": "stdout",
          "text": [
            "Looking in indexes: https://pypi.org/simple, https://us-python.pkg.dev/colab-wheels/public/simple/\n",
            "Requirement already satisfied: biopython in /usr/local/lib/python3.9/dist-packages (1.81)\n",
            "Requirement already satisfied: numpy in /usr/local/lib/python3.9/dist-packages (from biopython) (1.22.4)\n"
          ]
        }
      ]
    },
    {
      "cell_type": "code",
      "source": [
        "from Bio import SeqIO\n",
        "\n",
        "max_sequence_id = None\n",
        "max_gc_content = 0\n",
        "for seq_record in SeqIO.parse(\"hxb2f-grna-labeled.gb\", \"gb\"):\n",
        "    sequence = str(seq_record.seq) # convert sequence to string\n",
        "    sequence_id = seq_record.id\n",
        "    gc_content = (sequence.count(\"C\") + sequence.count(\"G\")) / len(sequence) * 100\n",
        "    if gc_content > max_gc_content:\n",
        "        max_sequence_id = sequence_id\n",
        "        max_gc_content = gc_content\n",
        "\n",
        "print(max_sequence_id)\n",
        "print(max_gc_content)"
      ],
      "metadata": {
        "colab": {
          "base_uri": "https://localhost:8080/"
        },
        "id": "F-mNtlAGV-5r",
        "outputId": "3cc833fd-9340-4517-9895-e8dbaa100572"
      },
      "execution_count": null,
      "outputs": [
        {
          "output_type": "stream",
          "name": "stdout",
          "text": [
            ".\n",
            "42.673389586334636\n"
          ]
        }
      ]
    },
    {
      "cell_type": "code",
      "source": [
        "def get_reference():\n",
        "  return next(SeqIO.parse(\"hxb2f-grna-labeled.gb\", \"gb\")) "
      ],
      "metadata": {
        "id": "I9VvkVDuZtVJ"
      },
      "execution_count": null,
      "outputs": []
    },
    {
      "cell_type": "code",
      "source": [
        "ref = get_reference()\n",
        "ref"
      ],
      "metadata": {
        "colab": {
          "base_uri": "https://localhost:8080/"
        },
        "id": "GjhUZahgbQz-",
        "outputId": "f4d3c480-4cf3-4fe5-bd03-11df874aa17b"
      },
      "execution_count": null,
      "outputs": [
        {
          "output_type": "execute_result",
          "data": {
            "text/plain": [
              "SeqRecord(seq=Seq('TGGAAGGGCTAATTCACTCCCAACGAAGACAAGATATCCTTGATCTGTGGATCT...GCA'), id='.', name='Exported', description='HIV reference HXB2 with fixed tat, nef, and vpr', dbxrefs=[])"
            ]
          },
          "metadata": {},
          "execution_count": 179
        }
      ]
    },
    {
      "cell_type": "code",
      "source": [
        "import pandas as pd\n"
      ],
      "metadata": {
        "id": "aozUewp6caSW"
      },
      "execution_count": null,
      "outputs": []
    },
    {
      "cell_type": "code",
      "source": [
        "ref_series = pd.Series(list(str(ref.seq)))\n",
        "\n",
        "next_ref_series = pd.Series(list(str(ref.seq))[1:]+['*'])\n"
      ],
      "metadata": {
        "id": "lCzh__LZbVWf"
      },
      "execution_count": null,
      "outputs": []
    },
    {
      "cell_type": "code",
      "source": [
        "ref_series_value = ref_series.value_counts()\n",
        "ref_series_value"
      ],
      "metadata": {
        "colab": {
          "base_uri": "https://localhost:8080/"
        },
        "id": "Hh0Z3zo5buS_",
        "outputId": "4783db69-06d6-4f91-aa12-b75b9e456345"
      },
      "execution_count": null,
      "outputs": [
        {
          "output_type": "execute_result",
          "data": {
            "text/plain": [
              "A    3409\n",
              "G    2374\n",
              "T    2162\n",
              "C    1773\n",
              "dtype: int64"
            ]
          },
          "metadata": {},
          "execution_count": 182
        }
      ]
    },
    {
      "cell_type": "code",
      "source": [
        "is_GC = (ref_series == 'C') | (ref_series == 'G')\n",
        "is_GC \n"
      ],
      "metadata": {
        "colab": {
          "base_uri": "https://localhost:8080/"
        },
        "id": "9Y15lks2cv_M",
        "outputId": "fb6fa399-5e94-409f-846f-4d034a9b5281"
      },
      "execution_count": null,
      "outputs": [
        {
          "output_type": "execute_result",
          "data": {
            "text/plain": [
              "0       False\n",
              "1        True\n",
              "2        True\n",
              "3       False\n",
              "4       False\n",
              "        ...  \n",
              "9713    False\n",
              "9714    False\n",
              "9715     True\n",
              "9716     True\n",
              "9717    False\n",
              "Length: 9718, dtype: bool"
            ]
          },
          "metadata": {},
          "execution_count": 183
        }
      ]
    },
    {
      "cell_type": "code",
      "source": [
        "is_GC.mean()"
      ],
      "metadata": {
        "colab": {
          "base_uri": "https://localhost:8080/"
        },
        "id": "T9sEIiNvdONX",
        "outputId": "7001eae6-46f6-4bb0-a77a-9cff163c4783"
      },
      "execution_count": null,
      "outputs": [
        {
          "output_type": "execute_result",
          "data": {
            "text/plain": [
              "0.42673389586334637"
            ]
          },
          "metadata": {},
          "execution_count": 184
        }
      ]
    },
    {
      "cell_type": "code",
      "source": [
        "ax = is_GC.rolling(201).mean().plot()\n",
        "ax.set_ylabel('%GC_content')"
      ],
      "metadata": {
        "colab": {
          "base_uri": "https://localhost:8080/",
          "height": 282
        },
        "id": "fEl0Ib2pdXB-",
        "outputId": "703b719a-b9ec-49ba-efce-19b85a0b17d3"
      },
      "execution_count": null,
      "outputs": [
        {
          "output_type": "execute_result",
          "data": {
            "text/plain": [
              "Text(0, 0.5, '%GC_content')"
            ]
          },
          "metadata": {},
          "execution_count": 185
        },
        {
          "output_type": "display_data",
          "data": {
            "text/plain": [
              "<Figure size 432x288 with 1 Axes>"
            ],
            "image/png": "[encoded data removed]"
          },
          "metadata": {
            "needs_background": "light"
          }
        }
      ]
    },
    {
      "cell_type": "code",
      "source": [
        "is_island = (ref_series == 'C') & (next_ref_series == 'G')\n",
        "is_island |= (ref_series == 'G') & (next_ref_series == 'C')"
      ],
      "metadata": {
        "id": "fK-LdQMre2Fu"
      },
      "execution_count": null,
      "outputs": []
    },
    {
      "cell_type": "code",
      "source": [
        "ax = is_island.rolling(201).sum().plot()\n",
        "ax.set_ylabel('sum %GC island content')\n",
        "ax.set_xlabel('Start Position')"
      ],
      "metadata": {
        "colab": {
          "base_uri": "https://localhost:8080/",
          "height": 296
        },
        "id": "SytSXWgCgR7V",
        "outputId": "ebfeb587-db7f-4976-8339-a6474fd05a3f"
      },
      "execution_count": null,
      "outputs": [
        {
          "output_type": "execute_result",
          "data": {
            "text/plain": [
              "Text(0.5, 0, 'Start Position')"
            ]
          },
          "metadata": {},
          "execution_count": 187
        },
        {
          "output_type": "display_data",
          "data": {
            "text/plain": [
              "<Figure size 432x288 with 1 Axes>"
            ],
            "image/png": "[encoded data removed]"
          },
          "metadata": {
            "needs_background": "light"
          }
        }
      ]
    }
  ]
}