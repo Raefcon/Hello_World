{
  "nbformat": 4,
  "nbformat_minor": 0,
  "metadata": {
    "colab": {
      "provenance": []
    },
    "kernelspec": {
      "name": "python3",
      "display_name": "Python 3"
    },
    "language_info": {
      "name": "python"
    }
  },
  "cells": [
    {
      "cell_type": "code",
      "source": [
        "import pandas as pd"
      ],
      "metadata": {
        "id": "cUkKoZz-kjpT"
      },
      "execution_count": 5,
      "outputs": []
    },
    {
      "cell_type": "code",
      "source": [
        "from scipy.stats import chi2_contingency\n",
        "import seaborn as sns\n",
        "import numpy as np"
      ],
      "metadata": {
        "id": "vvume5Vrk4UY"
      },
      "execution_count": 6,
      "outputs": []
    },
    {
      "cell_type": "code",
      "source": [
        "import numpy as np\n",
        "import seaborn as sns\n",
        "from datascience import *\n",
        "%matplotlib inline"
      ],
      "metadata": {
        "id": "p-sJyosqz7ob"
      },
      "execution_count": 7,
      "outputs": []
    },
    {
      "cell_type": "code",
      "source": [
        "table = pd.read_excel('hxb2f.meth_cleaned_genes.xlsx')\n",
        "\n",
        "table\n"
      ],
      "metadata": {
        "colab": {
          "base_uri": "https://localhost:8080/",
          "height": 505
        },
        "id": "ADdCcLepk0Nd",
        "outputId": "04f5ce5d-b805-4dcc-a334-5b2fd32f048d"
      },
      "execution_count": 8,
      "outputs": [
        {
          "output_type": "execute_result",
          "data": {
            "text/plain": [
              "    Reference_sequence_name  Start_position  End_position_excl  \\\n",
              "0                     HXB2F               2                  3   \n",
              "1                     HXB2F               6                  7   \n",
              "2                     HXB2F              23                 24   \n",
              "3                     HXB2F              24                 25   \n",
              "4                     HXB2F              37                 38   \n",
              "..                      ...             ...                ...   \n",
              "450                   HXB2F            9476               9477   \n",
              "451                   HXB2F            9491               9492   \n",
              "452                   HXB2F            9492               9493   \n",
              "453                   HXB2F            9648               9649   \n",
              "454                   HXB2F            9649               9650   \n",
              "\n",
              "    Modification_type  Score Strand  Read_coverage_at_reference  \\\n",
              "0                5hmC     35      -                          28   \n",
              "1                5hmC     32      -                          31   \n",
              "2                5hmC    814      +                         108   \n",
              "3                5hmC    857      -                          35   \n",
              "4                5hmC      9      +                         108   \n",
              "..                ...    ...    ...                         ...   \n",
              "450              5hmC    500      -                           4   \n",
              "451              5hmC    857      +                           7   \n",
              "452              5hmC   1000      -                           3   \n",
              "453              5hmC    857      +                           7   \n",
              "454              5hmC    500      -                           2   \n",
              "\n",
              "     Percentage_of_mod_bases Reading_frame_1 Reading_frame_2 Reading_frame_3  \\\n",
              "0                     100.00           LTR_5             NaN             NaN   \n",
              "1                       0.00           LTR_5             NaN             NaN   \n",
              "2                       3.41           LTR_5             NaN             NaN   \n",
              "3                      23.33           LTR_5             NaN             NaN   \n",
              "4                       0.00           LTR_5             NaN             NaN   \n",
              "..                       ...             ...             ...             ...   \n",
              "450                     0.00             NaN           LTR_3             NaN   \n",
              "451                    16.67             NaN           LTR_3             NaN   \n",
              "452                     0.00             NaN           LTR_3             NaN   \n",
              "453                    33.33             NaN           LTR_3             NaN   \n",
              "454                     0.00             NaN             NaN             NaN   \n",
              "\n",
              "    in_paper tat_reading rev_reading Unnamed: 14  \n",
              "0        NaN         NaN         NaN         NaN  \n",
              "1        NaN         NaN         NaN         NaN  \n",
              "2        NaN         NaN         NaN         NaN  \n",
              "3        NaN         NaN         NaN         NaN  \n",
              "4        NaN         NaN         NaN         NaN  \n",
              "..       ...         ...         ...         ...  \n",
              "450      NaN         NaN         NaN         NaN  \n",
              "451      NaN         NaN         NaN         NaN  \n",
              "452      NaN         NaN         NaN         NaN  \n",
              "453      NaN         NaN         NaN         NaN  \n",
              "454      NaN         NaN         NaN         NaN  \n",
              "\n",
              "[455 rows x 15 columns]"
            ],
            "text/html": [
              "\n",
              "  <div id=\"df-bac751fe-63d0-4d0a-b130-bacdd2db8e6f\">\n",
              "    <div class=\"colab-df-container\">\n",
              "      <div>\n",
              "<style scoped>\n",
              "    .dataframe tbody tr th:only-of-type {\n",
              "        vertical-align: middle;\n",
              "    }\n",
              "\n",
              "    .dataframe tbody tr th {\n",
              "        vertical-align: top;\n",
              "    }\n",
              "\n",
              "    .dataframe thead th {\n",
              "        text-align: right;\n",
              "    }\n",
              "</style>\n",
              "<table border=\"1\" class=\"dataframe\">\n",
              "  <thead>\n",
              "    <tr style=\"text-align: right;\">\n",
              "      <th></th>\n",
              "      <th>Reference_sequence_name</th>\n",
              "      <th>Start_position</th>\n",
              "      <th>End_position_excl</th>\n",
              "      <th>Modification_type</th>\n",
              "      <th>Score</th>\n",
              "      <th>Strand</th>\n",
              "      <th>Read_coverage_at_reference</th>\n",
              "      <th>Percentage_of_mod_bases</th>\n",
              "      <th>Reading_frame_1</th>\n",
              "      <th>Reading_frame_2</th>\n",
              "      <th>Reading_frame_3</th>\n",
              "      <th>in_paper</th>\n",
              "      <th>tat_reading</th>\n",
              "      <th>rev_reading</th>\n",
              "      <th>Unnamed: 14</th>\n",
              "    </tr>\n",
              "  </thead>\n",
              "  <tbody>\n",
              "    <tr>\n",
              "      <th>0</th>\n",
              "      <td>HXB2F</td>\n",
              "      <td>2</td>\n",
              "      <td>3</td>\n",
              "      <td>5hmC</td>\n",
              "      <td>35</td>\n",
              "      <td>-</td>\n",
              "      <td>28</td>\n",
              "      <td>100.00</td>\n",
              "      <td>LTR_5</td>\n",
              "      <td>NaN</td>\n",
              "      <td>NaN</td>\n",
              "      <td>NaN</td>\n",
              "      <td>NaN</td>\n",
              "      <td>NaN</td>\n",
              "      <td>NaN</td>\n",
              "    </tr>\n",
              "    <tr>\n",
              "      <th>1</th>\n",
              "      <td>HXB2F</td>\n",
              "      <td>6</td>\n",
              "      <td>7</td>\n",
              "      <td>5hmC</td>\n",
              "      <td>32</td>\n",
              "      <td>-</td>\n",
              "      <td>31</td>\n",
              "      <td>0.00</td>\n",
              "      <td>LTR_5</td>\n",
              "      <td>NaN</td>\n",
              "      <td>NaN</td>\n",
              "      <td>NaN</td>\n",
              "      <td>NaN</td>\n",
              "      <td>NaN</td>\n",
              "      <td>NaN</td>\n",
              "    </tr>\n",
              "    <tr>\n",
              "      <th>2</th>\n",
              "      <td>HXB2F</td>\n",
              "      <td>23</td>\n",
              "      <td>24</td>\n",
              "      <td>5hmC</td>\n",
              "      <td>814</td>\n",
              "      <td>+</td>\n",
              "      <td>108</td>\n",
              "      <td>3.41</td>\n",
              "      <td>LTR_5</td>\n",
              "      <td>NaN</td>\n",
              "      <td>NaN</td>\n",
              "      <td>NaN</td>\n",
              "      <td>NaN</td>\n",
              "      <td>NaN</td>\n",
              "      <td>NaN</td>\n",
              "    </tr>\n",
              "    <tr>\n",
              "      <th>3</th>\n",
              "      <td>HXB2F</td>\n",
              "      <td>24</td>\n",
              "      <td>25</td>\n",
              "      <td>5hmC</td>\n",
              "      <td>857</td>\n",
              "      <td>-</td>\n",
              "      <td>35</td>\n",
              "      <td>23.33</td>\n",
              "      <td>LTR_5</td>\n",
              "      <td>NaN</td>\n",
              "      <td>NaN</td>\n",
              "      <td>NaN</td>\n",
              "      <td>NaN</td>\n",
              "      <td>NaN</td>\n",
              "      <td>NaN</td>\n",
              "    </tr>\n",
              "    <tr>\n",
              "      <th>4</th>\n",
              "      <td>HXB2F</td>\n",
              "      <td>37</td>\n",
              "      <td>38</td>\n",
              "      <td>5hmC</td>\n",
              "      <td>9</td>\n",
              "      <td>+</td>\n",
              "      <td>108</td>\n",
              "      <td>0.00</td>\n",
              "      <td>LTR_5</td>\n",
              "      <td>NaN</td>\n",
              "      <td>NaN</td>\n",
              "      <td>NaN</td>\n",
              "      <td>NaN</td>\n",
              "      <td>NaN</td>\n",
              "      <td>NaN</td>\n",
              "    </tr>\n",
              "    <tr>\n",
              "      <th>...</th>\n",
              "      <td>...</td>\n",
              "      <td>...</td>\n",
              "      <td>...</td>\n",
              "      <td>...</td>\n",
              "      <td>...</td>\n",
              "      <td>...</td>\n",
              "      <td>...</td>\n",
              "      <td>...</td>\n",
              "      <td>...</td>\n",
              "      <td>...</td>\n",
              "      <td>...</td>\n",
              "      <td>...</td>\n",
              "      <td>...</td>\n",
              "      <td>...</td>\n",
              "      <td>...</td>\n",
              "    </tr>\n",
              "    <tr>\n",
              "      <th>450</th>\n",
              "      <td>HXB2F</td>\n",
              "      <td>9476</td>\n",
              "      <td>9477</td>\n",
              "      <td>5hmC</td>\n",
              "      <td>500</td>\n",
              "      <td>-</td>\n",
              "      <td>4</td>\n",
              "      <td>0.00</td>\n",
              "      <td>NaN</td>\n",
              "      <td>LTR_3</td>\n",
              "      <td>NaN</td>\n",
              "      <td>NaN</td>\n",
              "      <td>NaN</td>\n",
              "      <td>NaN</td>\n",
              "      <td>NaN</td>\n",
              "    </tr>\n",
              "    <tr>\n",
              "      <th>451</th>\n",
              "      <td>HXB2F</td>\n",
              "      <td>9491</td>\n",
              "      <td>9492</td>\n",
              "      <td>5hmC</td>\n",
              "      <td>857</td>\n",
              "      <td>+</td>\n",
              "      <td>7</td>\n",
              "      <td>16.67</td>\n",
              "      <td>NaN</td>\n",
              "      <td>LTR_3</td>\n",
              "      <td>NaN</td>\n",
              "      <td>NaN</td>\n",
              "      <td>NaN</td>\n",
              "      <td>NaN</td>\n",
              "      <td>NaN</td>\n",
              "    </tr>\n",
              "    <tr>\n",
              "      <th>452</th>\n",
              "      <td>HXB2F</td>\n",
              "      <td>9492</td>\n",
              "      <td>9493</td>\n",
              "      <td>5hmC</td>\n",
              "      <td>1000</td>\n",
              "      <td>-</td>\n",
              "      <td>3</td>\n",
              "      <td>0.00</td>\n",
              "      <td>NaN</td>\n",
              "      <td>LTR_3</td>\n",
              "      <td>NaN</td>\n",
              "      <td>NaN</td>\n",
              "      <td>NaN</td>\n",
              "      <td>NaN</td>\n",
              "      <td>NaN</td>\n",
              "    </tr>\n",
              "    <tr>\n",
              "      <th>453</th>\n",
              "      <td>HXB2F</td>\n",
              "      <td>9648</td>\n",
              "      <td>9649</td>\n",
              "      <td>5hmC</td>\n",
              "      <td>857</td>\n",
              "      <td>+</td>\n",
              "      <td>7</td>\n",
              "      <td>33.33</td>\n",
              "      <td>NaN</td>\n",
              "      <td>LTR_3</td>\n",
              "      <td>NaN</td>\n",
              "      <td>NaN</td>\n",
              "      <td>NaN</td>\n",
              "      <td>NaN</td>\n",
              "      <td>NaN</td>\n",
              "    </tr>\n",
              "    <tr>\n",
              "      <th>454</th>\n",
              "      <td>HXB2F</td>\n",
              "      <td>9649</td>\n",
              "      <td>9650</td>\n",
              "      <td>5hmC</td>\n",
              "      <td>500</td>\n",
              "      <td>-</td>\n",
              "      <td>2</td>\n",
              "      <td>0.00</td>\n",
              "      <td>NaN</td>\n",
              "      <td>NaN</td>\n",
              "      <td>NaN</td>\n",
              "      <td>NaN</td>\n",
              "      <td>NaN</td>\n",
              "      <td>NaN</td>\n",
              "      <td>NaN</td>\n",
              "    </tr>\n",
              "  </tbody>\n",
              "</table>\n",
              "<p>455 rows × 15 columns</p>\n",
              "</div>\n",
              "      <button class=\"colab-df-convert\" onclick=\"convertToInteractive('df-bac751fe-63d0-4d0a-b130-bacdd2db8e6f')\"\n",
              "              title=\"Convert this dataframe to an interactive table.\"\n",
              "              style=\"display:none;\">\n",
              "        \n",
              "  <svg xmlns=\"http://www.w3.org/2000/svg\" height=\"24px\"viewBox=\"0 0 24 24\"\n",
              "       width=\"24px\">\n",
              "    <path d=\"M0 0h24v24H0V0z\" fill=\"none\"/>\n",
              "    <path d=\"M18.56 5.44l.94 2.06.94-2.06 2.06-.94-2.06-.94-.94-2.06-.94 2.06-2.06.94zm-11 1L8.5 8.5l.94-2.06 2.06-.94-2.06-.94L8.5 2.5l-.94 2.06-2.06.94zm10 10l.94 2.06.94-2.06 2.06-.94-2.06-.94-.94-2.06-.94 2.06-2.06.94z\"/><path d=\"M17.41 7.96l-1.37-1.37c-.4-.4-.92-.59-1.43-.59-.52 0-1.04.2-1.43.59L10.3 9.45l-7.72 7.72c-.78.78-.78 2.05 0 2.83L4 21.41c.39.39.9.59 1.41.59.51 0 1.02-.2 1.41-.59l7.78-7.78 2.81-2.81c.8-.78.8-2.07 0-2.86zM5.41 20L4 18.59l7.72-7.72 1.47 1.35L5.41 20z\"/>\n",
              "  </svg>\n",
              "      </button>\n",
              "      \n",
              "  <style>\n",
              "    .colab-df-container {\n",
              "      display:flex;\n",
              "      flex-wrap:wrap;\n",
              "      gap: 12px;\n",
              "    }\n",
              "\n",
              "    .colab-df-convert {\n",
              "      background-color: #E8F0FE;\n",
              "      border: none;\n",
              "      border-radius: 50%;\n",
              "      cursor: pointer;\n",
              "      display: none;\n",
              "      fill: #1967D2;\n",
              "      height: 32px;\n",
              "      padding: 0 0 0 0;\n",
              "      width: 32px;\n",
              "    }\n",
              "\n",
              "    .colab-df-convert:hover {\n",
              "      background-color: #E2EBFA;\n",
              "      box-shadow: 0px 1px 2px rgba(60, 64, 67, 0.3), 0px 1px 3px 1px rgba(60, 64, 67, 0.15);\n",
              "      fill: #174EA6;\n",
              "    }\n",
              "\n",
              "    [theme=dark] .colab-df-convert {\n",
              "      background-color: #3B4455;\n",
              "      fill: #D2E3FC;\n",
              "    }\n",
              "\n",
              "    [theme=dark] .colab-df-convert:hover {\n",
              "      background-color: #434B5C;\n",
              "      box-shadow: 0px 1px 3px 1px rgba(0, 0, 0, 0.15);\n",
              "      filter: drop-shadow(0px 1px 2px rgba(0, 0, 0, 0.3));\n",
              "      fill: #FFFFFF;\n",
              "    }\n",
              "  </style>\n",
              "\n",
              "      <script>\n",
              "        const buttonEl =\n",
              "          document.querySelector('#df-bac751fe-63d0-4d0a-b130-bacdd2db8e6f button.colab-df-convert');\n",
              "        buttonEl.style.display =\n",
              "          google.colab.kernel.accessAllowed ? 'block' : 'none';\n",
              "\n",
              "        async function convertToInteractive(key) {\n",
              "          const element = document.querySelector('#df-bac751fe-63d0-4d0a-b130-bacdd2db8e6f');\n",
              "          const dataTable =\n",
              "            await google.colab.kernel.invokeFunction('convertToInteractive',\n",
              "                                                     [key], {});\n",
              "          if (!dataTable) return;\n",
              "\n",
              "          const docLinkHtml = 'Like what you see? Visit the ' +\n",
              "            '<a target=\"_blank\" href=https://colab.research.google.com/notebooks/data_table.ipynb>data table notebook</a>'\n",
              "            + ' to learn more about interactive tables.';\n",
              "          element.innerHTML = '';\n",
              "          dataTable['output_type'] = 'display_data';\n",
              "          await google.colab.output.renderOutput(dataTable, element);\n",
              "          const docLink = document.createElement('div');\n",
              "          docLink.innerHTML = docLinkHtml;\n",
              "          element.appendChild(docLink);\n",
              "        }\n",
              "      </script>\n",
              "    </div>\n",
              "  </div>\n",
              "  "
            ]
          },
          "metadata": {},
          "execution_count": 8
        }
      ]
    },
    {
      "cell_type": "code",
      "source": [
        "is_mod = table['Percentage_of_mod_bases']>50\n",
        "is_mod"
      ],
      "metadata": {
        "colab": {
          "base_uri": "https://localhost:8080/"
        },
        "id": "kcNx_bQRzm5U",
        "outputId": "29ef93b3-9c4e-44e1-e5f0-3d671342abf1"
      },
      "execution_count": 9,
      "outputs": [
        {
          "output_type": "execute_result",
          "data": {
            "text/plain": [
              "0       True\n",
              "1      False\n",
              "2      False\n",
              "3      False\n",
              "4      False\n",
              "       ...  \n",
              "450    False\n",
              "451    False\n",
              "452    False\n",
              "453    False\n",
              "454    False\n",
              "Name: Percentage_of_mod_bases, Length: 455, dtype: bool"
            ]
          },
          "metadata": {},
          "execution_count": 9
        }
      ]
    },
    {
      "cell_type": "code",
      "source": [
        "is_LTR_5 = table['Reading_frame_1'] == 'LTR_5'\n",
        "is_LTR_5 "
      ],
      "metadata": {
        "colab": {
          "base_uri": "https://localhost:8080/"
        },
        "id": "QBbDwmPJW8lq",
        "outputId": "5fe94f8f-9463-48be-a1b9-1d2d43bc9d24"
      },
      "execution_count": 10,
      "outputs": [
        {
          "output_type": "execute_result",
          "data": {
            "text/plain": [
              "0       True\n",
              "1       True\n",
              "2       True\n",
              "3       True\n",
              "4       True\n",
              "       ...  \n",
              "450    False\n",
              "451    False\n",
              "452    False\n",
              "453    False\n",
              "454    False\n",
              "Name: Reading_frame_1, Length: 455, dtype: bool"
            ]
          },
          "metadata": {},
          "execution_count": 10
        }
      ]
    },
    {
      "cell_type": "code",
      "source": [
        "LTR_5_crosstab = pd.crosstab (is_LTR_5, is_mod)\n",
        "LTR_5_crosstab"
      ],
      "metadata": {
        "colab": {
          "base_uri": "https://localhost:8080/",
          "height": 143
        },
        "id": "X3GRFhvPXqVA",
        "outputId": "43e92ec7-bb9f-4f57-b6ce-9a43a6b1d5a6"
      },
      "execution_count": 11,
      "outputs": [
        {
          "output_type": "execute_result",
          "data": {
            "text/plain": [
              "Percentage_of_mod_bases  False  True\n",
              "Reading_frame_1                     \n",
              "False                      336    32\n",
              "True                        80     7"
            ],
            "text/html": [
              "\n",
              "  <div id=\"df-ce254851-afef-408d-94c9-6a472e5c0210\">\n",
              "    <div class=\"colab-df-container\">\n",
              "      <div>\n",
              "<style scoped>\n",
              "    .dataframe tbody tr th:only-of-type {\n",
              "        vertical-align: middle;\n",
              "    }\n",
              "\n",
              "    .dataframe tbody tr th {\n",
              "        vertical-align: top;\n",
              "    }\n",
              "\n",
              "    .dataframe thead th {\n",
              "        text-align: right;\n",
              "    }\n",
              "</style>\n",
              "<table border=\"1\" class=\"dataframe\">\n",
              "  <thead>\n",
              "    <tr style=\"text-align: right;\">\n",
              "      <th>Percentage_of_mod_bases</th>\n",
              "      <th>False</th>\n",
              "      <th>True</th>\n",
              "    </tr>\n",
              "    <tr>\n",
              "      <th>Reading_frame_1</th>\n",
              "      <th></th>\n",
              "      <th></th>\n",
              "    </tr>\n",
              "  </thead>\n",
              "  <tbody>\n",
              "    <tr>\n",
              "      <th>False</th>\n",
              "      <td>336</td>\n",
              "      <td>32</td>\n",
              "    </tr>\n",
              "    <tr>\n",
              "      <th>True</th>\n",
              "      <td>80</td>\n",
              "      <td>7</td>\n",
              "    </tr>\n",
              "  </tbody>\n",
              "</table>\n",
              "</div>\n",
              "      <button class=\"colab-df-convert\" onclick=\"convertToInteractive('df-ce254851-afef-408d-94c9-6a472e5c0210')\"\n",
              "              title=\"Convert this dataframe to an interactive table.\"\n",
              "              style=\"display:none;\">\n",
              "        \n",
              "  <svg xmlns=\"http://www.w3.org/2000/svg\" height=\"24px\"viewBox=\"0 0 24 24\"\n",
              "       width=\"24px\">\n",
              "    <path d=\"M0 0h24v24H0V0z\" fill=\"none\"/>\n",
              "    <path d=\"M18.56 5.44l.94 2.06.94-2.06 2.06-.94-2.06-.94-.94-2.06-.94 2.06-2.06.94zm-11 1L8.5 8.5l.94-2.06 2.06-.94-2.06-.94L8.5 2.5l-.94 2.06-2.06.94zm10 10l.94 2.06.94-2.06 2.06-.94-2.06-.94-.94-2.06-.94 2.06-2.06.94z\"/><path d=\"M17.41 7.96l-1.37-1.37c-.4-.4-.92-.59-1.43-.59-.52 0-1.04.2-1.43.59L10.3 9.45l-7.72 7.72c-.78.78-.78 2.05 0 2.83L4 21.41c.39.39.9.59 1.41.59.51 0 1.02-.2 1.41-.59l7.78-7.78 2.81-2.81c.8-.78.8-2.07 0-2.86zM5.41 20L4 18.59l7.72-7.72 1.47 1.35L5.41 20z\"/>\n",
              "  </svg>\n",
              "      </button>\n",
              "      \n",
              "  <style>\n",
              "    .colab-df-container {\n",
              "      display:flex;\n",
              "      flex-wrap:wrap;\n",
              "      gap: 12px;\n",
              "    }\n",
              "\n",
              "    .colab-df-convert {\n",
              "      background-color: #E8F0FE;\n",
              "      border: none;\n",
              "      border-radius: 50%;\n",
              "      cursor: pointer;\n",
              "      display: none;\n",
              "      fill: #1967D2;\n",
              "      height: 32px;\n",
              "      padding: 0 0 0 0;\n",
              "      width: 32px;\n",
              "    }\n",
              "\n",
              "    .colab-df-convert:hover {\n",
              "      background-color: #E2EBFA;\n",
              "      box-shadow: 0px 1px 2px rgba(60, 64, 67, 0.3), 0px 1px 3px 1px rgba(60, 64, 67, 0.15);\n",
              "      fill: #174EA6;\n",
              "    }\n",
              "\n",
              "    [theme=dark] .colab-df-convert {\n",
              "      background-color: #3B4455;\n",
              "      fill: #D2E3FC;\n",
              "    }\n",
              "\n",
              "    [theme=dark] .colab-df-convert:hover {\n",
              "      background-color: #434B5C;\n",
              "      box-shadow: 0px 1px 3px 1px rgba(0, 0, 0, 0.15);\n",
              "      filter: drop-shadow(0px 1px 2px rgba(0, 0, 0, 0.3));\n",
              "      fill: #FFFFFF;\n",
              "    }\n",
              "  </style>\n",
              "\n",
              "      <script>\n",
              "        const buttonEl =\n",
              "          document.querySelector('#df-ce254851-afef-408d-94c9-6a472e5c0210 button.colab-df-convert');\n",
              "        buttonEl.style.display =\n",
              "          google.colab.kernel.accessAllowed ? 'block' : 'none';\n",
              "\n",
              "        async function convertToInteractive(key) {\n",
              "          const element = document.querySelector('#df-ce254851-afef-408d-94c9-6a472e5c0210');\n",
              "          const dataTable =\n",
              "            await google.colab.kernel.invokeFunction('convertToInteractive',\n",
              "                                                     [key], {});\n",
              "          if (!dataTable) return;\n",
              "\n",
              "          const docLinkHtml = 'Like what you see? Visit the ' +\n",
              "            '<a target=\"_blank\" href=https://colab.research.google.com/notebooks/data_table.ipynb>data table notebook</a>'\n",
              "            + ' to learn more about interactive tables.';\n",
              "          element.innerHTML = '';\n",
              "          dataTable['output_type'] = 'display_data';\n",
              "          await google.colab.output.renderOutput(dataTable, element);\n",
              "          const docLink = document.createElement('div');\n",
              "          docLink.innerHTML = docLinkHtml;\n",
              "          element.appendChild(docLink);\n",
              "        }\n",
              "      </script>\n",
              "    </div>\n",
              "  </div>\n",
              "  "
            ]
          },
          "metadata": {},
          "execution_count": 11
        }
      ]
    },
    {
      "cell_type": "code",
      "source": [
        "from scipy.stats import chi2_contingency"
      ],
      "metadata": {
        "id": "oeJMg6e9YFzV"
      },
      "execution_count": 12,
      "outputs": []
    },
    {
      "cell_type": "code",
      "source": [
        "delta, p_value, dof, c_expected = chi2_contingency (LTR_5_crosstab)"
      ],
      "metadata": {
        "id": "1qaFwcGqYQbL"
      },
      "execution_count": 13,
      "outputs": []
    },
    {
      "cell_type": "code",
      "source": [
        "\n",
        "print(f'There were {dof} degrees of freedom in the table.')\n",
        "print(f'It expects to see the matrix\\n{c_expected}')\n",
        "\n",
        "print(f'There was a difference of {delta} between the expected and observed matrices.')\n",
        "print(f'The likelihood of seeing this large a difference by chance is p={p_value}.')"
      ],
      "metadata": {
        "colab": {
          "base_uri": "https://localhost:8080/"
        },
        "id": "sDGggsPuYvJN",
        "outputId": "e9dc98f2-cfaa-4d28-9391-20a4a07e2a57"
      },
      "execution_count": 14,
      "outputs": [
        {
          "output_type": "stream",
          "name": "stdout",
          "text": [
            "There were 1 degrees of freedom in the table.\n",
            "It expects to see the matrix\n",
            "[[ 336.45714286   31.54285714]\n",
            " [  79.54285714    7.45714286]]\n",
            "There was a difference of 0.0 between the expected and observed matrices.\n",
            "The likelihood of seeing this large a difference by chance is p=1.0.\n"
          ]
        }
      ]
    },
    {
      "cell_type": "code",
      "source": [
        "is_gag = table['Reading_frame_1'] == 'gag'\n",
        "is_gag "
      ],
      "metadata": {
        "colab": {
          "base_uri": "https://localhost:8080/"
        },
        "id": "9C6ab87rnG38",
        "outputId": "c88ba301-0ac5-4258-bb19-35b888d38ed1"
      },
      "execution_count": 15,
      "outputs": [
        {
          "output_type": "execute_result",
          "data": {
            "text/plain": [
              "0      False\n",
              "1      False\n",
              "2      False\n",
              "3      False\n",
              "4      False\n",
              "       ...  \n",
              "450    False\n",
              "451    False\n",
              "452    False\n",
              "453    False\n",
              "454    False\n",
              "Name: Reading_frame_1, Length: 455, dtype: bool"
            ]
          },
          "metadata": {},
          "execution_count": 15
        }
      ]
    },
    {
      "cell_type": "code",
      "source": [
        "gag_crosstab = pd.crosstab (is_gag, is_mod)\n",
        "gag_crosstab"
      ],
      "metadata": {
        "colab": {
          "base_uri": "https://localhost:8080/",
          "height": 143
        },
        "id": "zi59ccOOCwo4",
        "outputId": "5ab20bc8-2e9e-4fa7-fa64-6ace561998e2"
      },
      "execution_count": 16,
      "outputs": [
        {
          "output_type": "execute_result",
          "data": {
            "text/plain": [
              "Percentage_of_mod_bases  False  True\n",
              "Reading_frame_1                     \n",
              "False                      347    32\n",
              "True                        69     7"
            ],
            "text/html": [
              "\n",
              "  <div id=\"df-4e87178f-c477-4b6f-9ecb-3bdaa4a7a5e3\">\n",
              "    <div class=\"colab-df-container\">\n",
              "      <div>\n",
              "<style scoped>\n",
              "    .dataframe tbody tr th:only-of-type {\n",
              "        vertical-align: middle;\n",
              "    }\n",
              "\n",
              "    .dataframe tbody tr th {\n",
              "        vertical-align: top;\n",
              "    }\n",
              "\n",
              "    .dataframe thead th {\n",
              "        text-align: right;\n",
              "    }\n",
              "</style>\n",
              "<table border=\"1\" class=\"dataframe\">\n",
              "  <thead>\n",
              "    <tr style=\"text-align: right;\">\n",
              "      <th>Percentage_of_mod_bases</th>\n",
              "      <th>False</th>\n",
              "      <th>True</th>\n",
              "    </tr>\n",
              "    <tr>\n",
              "      <th>Reading_frame_1</th>\n",
              "      <th></th>\n",
              "      <th></th>\n",
              "    </tr>\n",
              "  </thead>\n",
              "  <tbody>\n",
              "    <tr>\n",
              "      <th>False</th>\n",
              "      <td>347</td>\n",
              "      <td>32</td>\n",
              "    </tr>\n",
              "    <tr>\n",
              "      <th>True</th>\n",
              "      <td>69</td>\n",
              "      <td>7</td>\n",
              "    </tr>\n",
              "  </tbody>\n",
              "</table>\n",
              "</div>\n",
              "      <button class=\"colab-df-convert\" onclick=\"convertToInteractive('df-4e87178f-c477-4b6f-9ecb-3bdaa4a7a5e3')\"\n",
              "              title=\"Convert this dataframe to an interactive table.\"\n",
              "              style=\"display:none;\">\n",
              "        \n",
              "  <svg xmlns=\"http://www.w3.org/2000/svg\" height=\"24px\"viewBox=\"0 0 24 24\"\n",
              "       width=\"24px\">\n",
              "    <path d=\"M0 0h24v24H0V0z\" fill=\"none\"/>\n",
              "    <path d=\"M18.56 5.44l.94 2.06.94-2.06 2.06-.94-2.06-.94-.94-2.06-.94 2.06-2.06.94zm-11 1L8.5 8.5l.94-2.06 2.06-.94-2.06-.94L8.5 2.5l-.94 2.06-2.06.94zm10 10l.94 2.06.94-2.06 2.06-.94-2.06-.94-.94-2.06-.94 2.06-2.06.94z\"/><path d=\"M17.41 7.96l-1.37-1.37c-.4-.4-.92-.59-1.43-.59-.52 0-1.04.2-1.43.59L10.3 9.45l-7.72 7.72c-.78.78-.78 2.05 0 2.83L4 21.41c.39.39.9.59 1.41.59.51 0 1.02-.2 1.41-.59l7.78-7.78 2.81-2.81c.8-.78.8-2.07 0-2.86zM5.41 20L4 18.59l7.72-7.72 1.47 1.35L5.41 20z\"/>\n",
              "  </svg>\n",
              "      </button>\n",
              "      \n",
              "  <style>\n",
              "    .colab-df-container {\n",
              "      display:flex;\n",
              "      flex-wrap:wrap;\n",
              "      gap: 12px;\n",
              "    }\n",
              "\n",
              "    .colab-df-convert {\n",
              "      background-color: #E8F0FE;\n",
              "      border: none;\n",
              "      border-radius: 50%;\n",
              "      cursor: pointer;\n",
              "      display: none;\n",
              "      fill: #1967D2;\n",
              "      height: 32px;\n",
              "      padding: 0 0 0 0;\n",
              "      width: 32px;\n",
              "    }\n",
              "\n",
              "    .colab-df-convert:hover {\n",
              "      background-color: #E2EBFA;\n",
              "      box-shadow: 0px 1px 2px rgba(60, 64, 67, 0.3), 0px 1px 3px 1px rgba(60, 64, 67, 0.15);\n",
              "      fill: #174EA6;\n",
              "    }\n",
              "\n",
              "    [theme=dark] .colab-df-convert {\n",
              "      background-color: #3B4455;\n",
              "      fill: #D2E3FC;\n",
              "    }\n",
              "\n",
              "    [theme=dark] .colab-df-convert:hover {\n",
              "      background-color: #434B5C;\n",
              "      box-shadow: 0px 1px 3px 1px rgba(0, 0, 0, 0.15);\n",
              "      filter: drop-shadow(0px 1px 2px rgba(0, 0, 0, 0.3));\n",
              "      fill: #FFFFFF;\n",
              "    }\n",
              "  </style>\n",
              "\n",
              "      <script>\n",
              "        const buttonEl =\n",
              "          document.querySelector('#df-4e87178f-c477-4b6f-9ecb-3bdaa4a7a5e3 button.colab-df-convert');\n",
              "        buttonEl.style.display =\n",
              "          google.colab.kernel.accessAllowed ? 'block' : 'none';\n",
              "\n",
              "        async function convertToInteractive(key) {\n",
              "          const element = document.querySelector('#df-4e87178f-c477-4b6f-9ecb-3bdaa4a7a5e3');\n",
              "          const dataTable =\n",
              "            await google.colab.kernel.invokeFunction('convertToInteractive',\n",
              "                                                     [key], {});\n",
              "          if (!dataTable) return;\n",
              "\n",
              "          const docLinkHtml = 'Like what you see? Visit the ' +\n",
              "            '<a target=\"_blank\" href=https://colab.research.google.com/notebooks/data_table.ipynb>data table notebook</a>'\n",
              "            + ' to learn more about interactive tables.';\n",
              "          element.innerHTML = '';\n",
              "          dataTable['output_type'] = 'display_data';\n",
              "          await google.colab.output.renderOutput(dataTable, element);\n",
              "          const docLink = document.createElement('div');\n",
              "          docLink.innerHTML = docLinkHtml;\n",
              "          element.appendChild(docLink);\n",
              "        }\n",
              "      </script>\n",
              "    </div>\n",
              "  </div>\n",
              "  "
            ]
          },
          "metadata": {},
          "execution_count": 16
        }
      ]
    },
    {
      "cell_type": "code",
      "source": [
        "delta_gag, p_value_gag, dof_gag, c_expected_gag = chi2_contingency (gag_crosstab)"
      ],
      "metadata": {
        "id": "7o9S9021IL2d"
      },
      "execution_count": 17,
      "outputs": []
    },
    {
      "cell_type": "code",
      "source": [
        "print(f'There were {dof_gag} degrees of freedom in the table.')\n",
        "print(f'It expects to see the matrix\\n{c_expected_gag}')\n",
        "\n",
        "print(f'There was a difference of {delta_gag} between the expected and observed matrices.')\n",
        "print(f'The likelihood of seeing this large a difference by chance is p={p_value_gag}.')"
      ],
      "metadata": {
        "colab": {
          "base_uri": "https://localhost:8080/"
        },
        "id": "zFpmwsZFFB4u",
        "outputId": "32231d82-267e-44db-f1c4-38a4e7605dba"
      },
      "execution_count": 18,
      "outputs": [
        {
          "output_type": "stream",
          "name": "stdout",
          "text": [
            "There were 1 degrees of freedom in the table.\n",
            "It expects to see the matrix\n",
            "[[ 346.51428571   32.48571429]\n",
            " [  69.48571429    6.51428571]]\n",
            "There was a difference of 0.0 between the expected and observed matrices.\n",
            "The likelihood of seeing this large a difference by chance is p=1.0.\n"
          ]
        }
      ]
    },
    {
      "cell_type": "code",
      "source": [
        "is_pol = table['Reading_frame_3' ] == 'pol'\n",
        "\n",
        "is_pol"
      ],
      "metadata": {
        "colab": {
          "base_uri": "https://localhost:8080/"
        },
        "id": "V2AmerCfIowj",
        "outputId": "f89d0133-609f-4224-e524-aa030ec76cef"
      },
      "execution_count": 19,
      "outputs": [
        {
          "output_type": "execute_result",
          "data": {
            "text/plain": [
              "0      False\n",
              "1      False\n",
              "2      False\n",
              "3      False\n",
              "4      False\n",
              "       ...  \n",
              "450    False\n",
              "451    False\n",
              "452    False\n",
              "453    False\n",
              "454    False\n",
              "Name: Reading_frame_3, Length: 455, dtype: bool"
            ]
          },
          "metadata": {},
          "execution_count": 19
        }
      ]
    },
    {
      "cell_type": "code",
      "source": [
        "pd.crosstab (is_pol, is_mod)"
      ],
      "metadata": {
        "colab": {
          "base_uri": "https://localhost:8080/",
          "height": 143
        },
        "id": "MxCA-nuHJu7f",
        "outputId": "115e63fa-da1f-416a-ed25-6651cb8d6d78"
      },
      "execution_count": 20,
      "outputs": [
        {
          "output_type": "execute_result",
          "data": {
            "text/plain": [
              "Percentage_of_mod_bases  False  True\n",
              "Reading_frame_3                     \n",
              "False                      366    29\n",
              "True                        50    10"
            ],
            "text/html": [
              "\n",
              "  <div id=\"df-55c78218-37d6-4aa7-a32f-a83faaa9bbfd\">\n",
              "    <div class=\"colab-df-container\">\n",
              "      <div>\n",
              "<style scoped>\n",
              "    .dataframe tbody tr th:only-of-type {\n",
              "        vertical-align: middle;\n",
              "    }\n",
              "\n",
              "    .dataframe tbody tr th {\n",
              "        vertical-align: top;\n",
              "    }\n",
              "\n",
              "    .dataframe thead th {\n",
              "        text-align: right;\n",
              "    }\n",
              "</style>\n",
              "<table border=\"1\" class=\"dataframe\">\n",
              "  <thead>\n",
              "    <tr style=\"text-align: right;\">\n",
              "      <th>Percentage_of_mod_bases</th>\n",
              "      <th>False</th>\n",
              "      <th>True</th>\n",
              "    </tr>\n",
              "    <tr>\n",
              "      <th>Reading_frame_3</th>\n",
              "      <th></th>\n",
              "      <th></th>\n",
              "    </tr>\n",
              "  </thead>\n",
              "  <tbody>\n",
              "    <tr>\n",
              "      <th>False</th>\n",
              "      <td>366</td>\n",
              "      <td>29</td>\n",
              "    </tr>\n",
              "    <tr>\n",
              "      <th>True</th>\n",
              "      <td>50</td>\n",
              "      <td>10</td>\n",
              "    </tr>\n",
              "  </tbody>\n",
              "</table>\n",
              "</div>\n",
              "      <button class=\"colab-df-convert\" onclick=\"convertToInteractive('df-55c78218-37d6-4aa7-a32f-a83faaa9bbfd')\"\n",
              "              title=\"Convert this dataframe to an interactive table.\"\n",
              "              style=\"display:none;\">\n",
              "        \n",
              "  <svg xmlns=\"http://www.w3.org/2000/svg\" height=\"24px\"viewBox=\"0 0 24 24\"\n",
              "       width=\"24px\">\n",
              "    <path d=\"M0 0h24v24H0V0z\" fill=\"none\"/>\n",
              "    <path d=\"M18.56 5.44l.94 2.06.94-2.06 2.06-.94-2.06-.94-.94-2.06-.94 2.06-2.06.94zm-11 1L8.5 8.5l.94-2.06 2.06-.94-2.06-.94L8.5 2.5l-.94 2.06-2.06.94zm10 10l.94 2.06.94-2.06 2.06-.94-2.06-.94-.94-2.06-.94 2.06-2.06.94z\"/><path d=\"M17.41 7.96l-1.37-1.37c-.4-.4-.92-.59-1.43-.59-.52 0-1.04.2-1.43.59L10.3 9.45l-7.72 7.72c-.78.78-.78 2.05 0 2.83L4 21.41c.39.39.9.59 1.41.59.51 0 1.02-.2 1.41-.59l7.78-7.78 2.81-2.81c.8-.78.8-2.07 0-2.86zM5.41 20L4 18.59l7.72-7.72 1.47 1.35L5.41 20z\"/>\n",
              "  </svg>\n",
              "      </button>\n",
              "      \n",
              "  <style>\n",
              "    .colab-df-container {\n",
              "      display:flex;\n",
              "      flex-wrap:wrap;\n",
              "      gap: 12px;\n",
              "    }\n",
              "\n",
              "    .colab-df-convert {\n",
              "      background-color: #E8F0FE;\n",
              "      border: none;\n",
              "      border-radius: 50%;\n",
              "      cursor: pointer;\n",
              "      display: none;\n",
              "      fill: #1967D2;\n",
              "      height: 32px;\n",
              "      padding: 0 0 0 0;\n",
              "      width: 32px;\n",
              "    }\n",
              "\n",
              "    .colab-df-convert:hover {\n",
              "      background-color: #E2EBFA;\n",
              "      box-shadow: 0px 1px 2px rgba(60, 64, 67, 0.3), 0px 1px 3px 1px rgba(60, 64, 67, 0.15);\n",
              "      fill: #174EA6;\n",
              "    }\n",
              "\n",
              "    [theme=dark] .colab-df-convert {\n",
              "      background-color: #3B4455;\n",
              "      fill: #D2E3FC;\n",
              "    }\n",
              "\n",
              "    [theme=dark] .colab-df-convert:hover {\n",
              "      background-color: #434B5C;\n",
              "      box-shadow: 0px 1px 3px 1px rgba(0, 0, 0, 0.15);\n",
              "      filter: drop-shadow(0px 1px 2px rgba(0, 0, 0, 0.3));\n",
              "      fill: #FFFFFF;\n",
              "    }\n",
              "  </style>\n",
              "\n",
              "      <script>\n",
              "        const buttonEl =\n",
              "          document.querySelector('#df-55c78218-37d6-4aa7-a32f-a83faaa9bbfd button.colab-df-convert');\n",
              "        buttonEl.style.display =\n",
              "          google.colab.kernel.accessAllowed ? 'block' : 'none';\n",
              "\n",
              "        async function convertToInteractive(key) {\n",
              "          const element = document.querySelector('#df-55c78218-37d6-4aa7-a32f-a83faaa9bbfd');\n",
              "          const dataTable =\n",
              "            await google.colab.kernel.invokeFunction('convertToInteractive',\n",
              "                                                     [key], {});\n",
              "          if (!dataTable) return;\n",
              "\n",
              "          const docLinkHtml = 'Like what you see? Visit the ' +\n",
              "            '<a target=\"_blank\" href=https://colab.research.google.com/notebooks/data_table.ipynb>data table notebook</a>'\n",
              "            + ' to learn more about interactive tables.';\n",
              "          element.innerHTML = '';\n",
              "          dataTable['output_type'] = 'display_data';\n",
              "          await google.colab.output.renderOutput(dataTable, element);\n",
              "          const docLink = document.createElement('div');\n",
              "          docLink.innerHTML = docLinkHtml;\n",
              "          element.appendChild(docLink);\n",
              "        }\n",
              "      </script>\n",
              "    </div>\n",
              "  </div>\n",
              "  "
            ]
          },
          "metadata": {},
          "execution_count": 20
        }
      ]
    },
    {
      "cell_type": "code",
      "source": [
        "delta_pol, p_value_pol, dof_pol, c_expected_pol = chi2_contingency (pd.crosstab (is_gag, is_mod))"
      ],
      "metadata": {
        "id": "eNZW96xyJ7Qj"
      },
      "execution_count": 21,
      "outputs": []
    },
    {
      "cell_type": "code",
      "source": [
        "print(f'There were {dof_pol} degrees of freedom in the table.')\n",
        "print(f'It expects to see the matrix\\n{c_expected_pol}')\n",
        "\n",
        "print(f'There was a difference of {delta_pol} between the expected and observed matrices.')\n",
        "print(f'The likelihood of seeing this large a difference by chance is p={p_value_pol}.')"
      ],
      "metadata": {
        "colab": {
          "base_uri": "https://localhost:8080/"
        },
        "id": "f-mXfKi-KDdN",
        "outputId": "e1270ccf-48e3-4eee-9426-8c1912ac2960"
      },
      "execution_count": 22,
      "outputs": [
        {
          "output_type": "stream",
          "name": "stdout",
          "text": [
            "There were 1 degrees of freedom in the table.\n",
            "It expects to see the matrix\n",
            "[[ 346.51428571   32.48571429]\n",
            " [  69.48571429    6.51428571]]\n",
            "There was a difference of 0.0 between the expected and observed matrices.\n",
            "The likelihood of seeing this large a difference by chance is p=1.0.\n"
          ]
        }
      ]
    },
    {
      "cell_type": "code",
      "source": [
        "is_vif = table['Reading_frame_1'] == 'vif'\n",
        "is_vif"
      ],
      "metadata": {
        "colab": {
          "base_uri": "https://localhost:8080/"
        },
        "id": "JWbh7i1ZLUKe",
        "outputId": "22d32b2e-f59b-404f-efe3-b0532a6c6afa"
      },
      "execution_count": 23,
      "outputs": [
        {
          "output_type": "execute_result",
          "data": {
            "text/plain": [
              "0      False\n",
              "1      False\n",
              "2      False\n",
              "3      False\n",
              "4      False\n",
              "       ...  \n",
              "450    False\n",
              "451    False\n",
              "452    False\n",
              "453    False\n",
              "454    False\n",
              "Name: Reading_frame_1, Length: 455, dtype: bool"
            ]
          },
          "metadata": {},
          "execution_count": 23
        }
      ]
    },
    {
      "cell_type": "code",
      "source": [
        "vif_crosstab = pd.crosstab (is_vif, is_mod)\n",
        "vif_crosstab"
      ],
      "metadata": {
        "colab": {
          "base_uri": "https://localhost:8080/",
          "height": 143
        },
        "id": "6NgxzOGEN_Gl",
        "outputId": "194fdde7-cc51-4c83-eebf-641ea0946faa"
      },
      "execution_count": 24,
      "outputs": [
        {
          "output_type": "execute_result",
          "data": {
            "text/plain": [
              "Percentage_of_mod_bases  False  True\n",
              "Reading_frame_1                     \n",
              "False                      409    37\n",
              "True                         7     2"
            ],
            "text/html": [
              "\n",
              "  <div id=\"df-a24d4f77-e0cd-4960-9c1c-0f4f6320be84\">\n",
              "    <div class=\"colab-df-container\">\n",
              "      <div>\n",
              "<style scoped>\n",
              "    .dataframe tbody tr th:only-of-type {\n",
              "        vertical-align: middle;\n",
              "    }\n",
              "\n",
              "    .dataframe tbody tr th {\n",
              "        vertical-align: top;\n",
              "    }\n",
              "\n",
              "    .dataframe thead th {\n",
              "        text-align: right;\n",
              "    }\n",
              "</style>\n",
              "<table border=\"1\" class=\"dataframe\">\n",
              "  <thead>\n",
              "    <tr style=\"text-align: right;\">\n",
              "      <th>Percentage_of_mod_bases</th>\n",
              "      <th>False</th>\n",
              "      <th>True</th>\n",
              "    </tr>\n",
              "    <tr>\n",
              "      <th>Reading_frame_1</th>\n",
              "      <th></th>\n",
              "      <th></th>\n",
              "    </tr>\n",
              "  </thead>\n",
              "  <tbody>\n",
              "    <tr>\n",
              "      <th>False</th>\n",
              "      <td>409</td>\n",
              "      <td>37</td>\n",
              "    </tr>\n",
              "    <tr>\n",
              "      <th>True</th>\n",
              "      <td>7</td>\n",
              "      <td>2</td>\n",
              "    </tr>\n",
              "  </tbody>\n",
              "</table>\n",
              "</div>\n",
              "      <button class=\"colab-df-convert\" onclick=\"convertToInteractive('df-a24d4f77-e0cd-4960-9c1c-0f4f6320be84')\"\n",
              "              title=\"Convert this dataframe to an interactive table.\"\n",
              "              style=\"display:none;\">\n",
              "        \n",
              "  <svg xmlns=\"http://www.w3.org/2000/svg\" height=\"24px\"viewBox=\"0 0 24 24\"\n",
              "       width=\"24px\">\n",
              "    <path d=\"M0 0h24v24H0V0z\" fill=\"none\"/>\n",
              "    <path d=\"M18.56 5.44l.94 2.06.94-2.06 2.06-.94-2.06-.94-.94-2.06-.94 2.06-2.06.94zm-11 1L8.5 8.5l.94-2.06 2.06-.94-2.06-.94L8.5 2.5l-.94 2.06-2.06.94zm10 10l.94 2.06.94-2.06 2.06-.94-2.06-.94-.94-2.06-.94 2.06-2.06.94z\"/><path d=\"M17.41 7.96l-1.37-1.37c-.4-.4-.92-.59-1.43-.59-.52 0-1.04.2-1.43.59L10.3 9.45l-7.72 7.72c-.78.78-.78 2.05 0 2.83L4 21.41c.39.39.9.59 1.41.59.51 0 1.02-.2 1.41-.59l7.78-7.78 2.81-2.81c.8-.78.8-2.07 0-2.86zM5.41 20L4 18.59l7.72-7.72 1.47 1.35L5.41 20z\"/>\n",
              "  </svg>\n",
              "      </button>\n",
              "      \n",
              "  <style>\n",
              "    .colab-df-container {\n",
              "      display:flex;\n",
              "      flex-wrap:wrap;\n",
              "      gap: 12px;\n",
              "    }\n",
              "\n",
              "    .colab-df-convert {\n",
              "      background-color: #E8F0FE;\n",
              "      border: none;\n",
              "      border-radius: 50%;\n",
              "      cursor: pointer;\n",
              "      display: none;\n",
              "      fill: #1967D2;\n",
              "      height: 32px;\n",
              "      padding: 0 0 0 0;\n",
              "      width: 32px;\n",
              "    }\n",
              "\n",
              "    .colab-df-convert:hover {\n",
              "      background-color: #E2EBFA;\n",
              "      box-shadow: 0px 1px 2px rgba(60, 64, 67, 0.3), 0px 1px 3px 1px rgba(60, 64, 67, 0.15);\n",
              "      fill: #174EA6;\n",
              "    }\n",
              "\n",
              "    [theme=dark] .colab-df-convert {\n",
              "      background-color: #3B4455;\n",
              "      fill: #D2E3FC;\n",
              "    }\n",
              "\n",
              "    [theme=dark] .colab-df-convert:hover {\n",
              "      background-color: #434B5C;\n",
              "      box-shadow: 0px 1px 3px 1px rgba(0, 0, 0, 0.15);\n",
              "      filter: drop-shadow(0px 1px 2px rgba(0, 0, 0, 0.3));\n",
              "      fill: #FFFFFF;\n",
              "    }\n",
              "  </style>\n",
              "\n",
              "      <script>\n",
              "        const buttonEl =\n",
              "          document.querySelector('#df-a24d4f77-e0cd-4960-9c1c-0f4f6320be84 button.colab-df-convert');\n",
              "        buttonEl.style.display =\n",
              "          google.colab.kernel.accessAllowed ? 'block' : 'none';\n",
              "\n",
              "        async function convertToInteractive(key) {\n",
              "          const element = document.querySelector('#df-a24d4f77-e0cd-4960-9c1c-0f4f6320be84');\n",
              "          const dataTable =\n",
              "            await google.colab.kernel.invokeFunction('convertToInteractive',\n",
              "                                                     [key], {});\n",
              "          if (!dataTable) return;\n",
              "\n",
              "          const docLinkHtml = 'Like what you see? Visit the ' +\n",
              "            '<a target=\"_blank\" href=https://colab.research.google.com/notebooks/data_table.ipynb>data table notebook</a>'\n",
              "            + ' to learn more about interactive tables.';\n",
              "          element.innerHTML = '';\n",
              "          dataTable['output_type'] = 'display_data';\n",
              "          await google.colab.output.renderOutput(dataTable, element);\n",
              "          const docLink = document.createElement('div');\n",
              "          docLink.innerHTML = docLinkHtml;\n",
              "          element.appendChild(docLink);\n",
              "        }\n",
              "      </script>\n",
              "    </div>\n",
              "  </div>\n",
              "  "
            ]
          },
          "metadata": {},
          "execution_count": 24
        }
      ]
    },
    {
      "cell_type": "code",
      "source": [
        "delta_vif, p_value_vif, dof_vif, c_expected_vif = chi2_contingency (vif_crosstab)"
      ],
      "metadata": {
        "id": "sPGtWSQYONZl"
      },
      "execution_count": 25,
      "outputs": []
    },
    {
      "cell_type": "code",
      "source": [
        "print(f'There were {dof_vif} degrees of freedom in the table.')\n",
        "print(f'It expects to see the matrix\\n{c_expected_vif}')\n",
        "\n",
        "print(f'There was a difference of {delta_vif} between the expected and observed matrices.')\n",
        "print(f'The likelihood of seeing this large a difference by chance is p={p_value_vif}.')"
      ],
      "metadata": {
        "colab": {
          "base_uri": "https://localhost:8080/"
        },
        "id": "9LwIw-INNA0k",
        "outputId": "4485d6de-c7ab-40d8-9664-5e96d6005e54"
      },
      "execution_count": 26,
      "outputs": [
        {
          "output_type": "stream",
          "name": "stdout",
          "text": [
            "There were 1 degrees of freedom in the table.\n",
            "It expects to see the matrix\n",
            "[[ 407.77142857   38.22857143]\n",
            " [   8.22857143    0.77142857]]\n",
            "There was a difference of 0.767791246263079 between the expected and observed matrices.\n",
            "The likelihood of seeing this large a difference by chance is p=0.3809012164487693.\n"
          ]
        }
      ]
    },
    {
      "cell_type": "code",
      "source": [
        "is_vpr = table['Reading_frame_3'] == 'vpr'\n",
        "is_vpr"
      ],
      "metadata": {
        "colab": {
          "base_uri": "https://localhost:8080/"
        },
        "id": "BMNR_ae0PdzO",
        "outputId": "2697fe53-e59c-4e13-f492-ffd893aee692"
      },
      "execution_count": 27,
      "outputs": [
        {
          "output_type": "execute_result",
          "data": {
            "text/plain": [
              "0      False\n",
              "1      False\n",
              "2      False\n",
              "3      False\n",
              "4      False\n",
              "       ...  \n",
              "450    False\n",
              "451    False\n",
              "452    False\n",
              "453    False\n",
              "454    False\n",
              "Name: Reading_frame_3, Length: 455, dtype: bool"
            ]
          },
          "metadata": {},
          "execution_count": 27
        }
      ]
    },
    {
      "cell_type": "code",
      "source": [
        "table"
      ],
      "metadata": {
        "colab": {
          "base_uri": "https://localhost:8080/",
          "height": 505
        },
        "id": "GXMlWSNtsGIS",
        "outputId": "1e47a1cf-526e-47b4-e91b-b64b6d330be7"
      },
      "execution_count": 28,
      "outputs": [
        {
          "output_type": "execute_result",
          "data": {
            "text/plain": [
              "    Reference_sequence_name  Start_position  End_position_excl  \\\n",
              "0                     HXB2F               2                  3   \n",
              "1                     HXB2F               6                  7   \n",
              "2                     HXB2F              23                 24   \n",
              "3                     HXB2F              24                 25   \n",
              "4                     HXB2F              37                 38   \n",
              "..                      ...             ...                ...   \n",
              "450                   HXB2F            9476               9477   \n",
              "451                   HXB2F            9491               9492   \n",
              "452                   HXB2F            9492               9493   \n",
              "453                   HXB2F            9648               9649   \n",
              "454                   HXB2F            9649               9650   \n",
              "\n",
              "    Modification_type  Score Strand  Read_coverage_at_reference  \\\n",
              "0                5hmC     35      -                          28   \n",
              "1                5hmC     32      -                          31   \n",
              "2                5hmC    814      +                         108   \n",
              "3                5hmC    857      -                          35   \n",
              "4                5hmC      9      +                         108   \n",
              "..                ...    ...    ...                         ...   \n",
              "450              5hmC    500      -                           4   \n",
              "451              5hmC    857      +                           7   \n",
              "452              5hmC   1000      -                           3   \n",
              "453              5hmC    857      +                           7   \n",
              "454              5hmC    500      -                           2   \n",
              "\n",
              "     Percentage_of_mod_bases Reading_frame_1 Reading_frame_2 Reading_frame_3  \\\n",
              "0                     100.00           LTR_5             NaN             NaN   \n",
              "1                       0.00           LTR_5             NaN             NaN   \n",
              "2                       3.41           LTR_5             NaN             NaN   \n",
              "3                      23.33           LTR_5             NaN             NaN   \n",
              "4                       0.00           LTR_5             NaN             NaN   \n",
              "..                       ...             ...             ...             ...   \n",
              "450                     0.00             NaN           LTR_3             NaN   \n",
              "451                    16.67             NaN           LTR_3             NaN   \n",
              "452                     0.00             NaN           LTR_3             NaN   \n",
              "453                    33.33             NaN           LTR_3             NaN   \n",
              "454                     0.00             NaN             NaN             NaN   \n",
              "\n",
              "    in_paper tat_reading rev_reading Unnamed: 14  \n",
              "0        NaN         NaN         NaN         NaN  \n",
              "1        NaN         NaN         NaN         NaN  \n",
              "2        NaN         NaN         NaN         NaN  \n",
              "3        NaN         NaN         NaN         NaN  \n",
              "4        NaN         NaN         NaN         NaN  \n",
              "..       ...         ...         ...         ...  \n",
              "450      NaN         NaN         NaN         NaN  \n",
              "451      NaN         NaN         NaN         NaN  \n",
              "452      NaN         NaN         NaN         NaN  \n",
              "453      NaN         NaN         NaN         NaN  \n",
              "454      NaN         NaN         NaN         NaN  \n",
              "\n",
              "[455 rows x 15 columns]"
            ],
            "text/html": [
              "\n",
              "  <div id=\"df-c8a3b307-c004-401d-b722-9620df729624\">\n",
              "    <div class=\"colab-df-container\">\n",
              "      <div>\n",
              "<style scoped>\n",
              "    .dataframe tbody tr th:only-of-type {\n",
              "        vertical-align: middle;\n",
              "    }\n",
              "\n",
              "    .dataframe tbody tr th {\n",
              "        vertical-align: top;\n",
              "    }\n",
              "\n",
              "    .dataframe thead th {\n",
              "        text-align: right;\n",
              "    }\n",
              "</style>\n",
              "<table border=\"1\" class=\"dataframe\">\n",
              "  <thead>\n",
              "    <tr style=\"text-align: right;\">\n",
              "      <th></th>\n",
              "      <th>Reference_sequence_name</th>\n",
              "      <th>Start_position</th>\n",
              "      <th>End_position_excl</th>\n",
              "      <th>Modification_type</th>\n",
              "      <th>Score</th>\n",
              "      <th>Strand</th>\n",
              "      <th>Read_coverage_at_reference</th>\n",
              "      <th>Percentage_of_mod_bases</th>\n",
              "      <th>Reading_frame_1</th>\n",
              "      <th>Reading_frame_2</th>\n",
              "      <th>Reading_frame_3</th>\n",
              "      <th>in_paper</th>\n",
              "      <th>tat_reading</th>\n",
              "      <th>rev_reading</th>\n",
              "      <th>Unnamed: 14</th>\n",
              "    </tr>\n",
              "  </thead>\n",
              "  <tbody>\n",
              "    <tr>\n",
              "      <th>0</th>\n",
              "      <td>HXB2F</td>\n",
              "      <td>2</td>\n",
              "      <td>3</td>\n",
              "      <td>5hmC</td>\n",
              "      <td>35</td>\n",
              "      <td>-</td>\n",
              "      <td>28</td>\n",
              "      <td>100.00</td>\n",
              "      <td>LTR_5</td>\n",
              "      <td>NaN</td>\n",
              "      <td>NaN</td>\n",
              "      <td>NaN</td>\n",
              "      <td>NaN</td>\n",
              "      <td>NaN</td>\n",
              "      <td>NaN</td>\n",
              "    </tr>\n",
              "    <tr>\n",
              "      <th>1</th>\n",
              "      <td>HXB2F</td>\n",
              "      <td>6</td>\n",
              "      <td>7</td>\n",
              "      <td>5hmC</td>\n",
              "      <td>32</td>\n",
              "      <td>-</td>\n",
              "      <td>31</td>\n",
              "      <td>0.00</td>\n",
              "      <td>LTR_5</td>\n",
              "      <td>NaN</td>\n",
              "      <td>NaN</td>\n",
              "      <td>NaN</td>\n",
              "      <td>NaN</td>\n",
              "      <td>NaN</td>\n",
              "      <td>NaN</td>\n",
              "    </tr>\n",
              "    <tr>\n",
              "      <th>2</th>\n",
              "      <td>HXB2F</td>\n",
              "      <td>23</td>\n",
              "      <td>24</td>\n",
              "      <td>5hmC</td>\n",
              "      <td>814</td>\n",
              "      <td>+</td>\n",
              "      <td>108</td>\n",
              "      <td>3.41</td>\n",
              "      <td>LTR_5</td>\n",
              "      <td>NaN</td>\n",
              "      <td>NaN</td>\n",
              "      <td>NaN</td>\n",
              "      <td>NaN</td>\n",
              "      <td>NaN</td>\n",
              "      <td>NaN</td>\n",
              "    </tr>\n",
              "    <tr>\n",
              "      <th>3</th>\n",
              "      <td>HXB2F</td>\n",
              "      <td>24</td>\n",
              "      <td>25</td>\n",
              "      <td>5hmC</td>\n",
              "      <td>857</td>\n",
              "      <td>-</td>\n",
              "      <td>35</td>\n",
              "      <td>23.33</td>\n",
              "      <td>LTR_5</td>\n",
              "      <td>NaN</td>\n",
              "      <td>NaN</td>\n",
              "      <td>NaN</td>\n",
              "      <td>NaN</td>\n",
              "      <td>NaN</td>\n",
              "      <td>NaN</td>\n",
              "    </tr>\n",
              "    <tr>\n",
              "      <th>4</th>\n",
              "      <td>HXB2F</td>\n",
              "      <td>37</td>\n",
              "      <td>38</td>\n",
              "      <td>5hmC</td>\n",
              "      <td>9</td>\n",
              "      <td>+</td>\n",
              "      <td>108</td>\n",
              "      <td>0.00</td>\n",
              "      <td>LTR_5</td>\n",
              "      <td>NaN</td>\n",
              "      <td>NaN</td>\n",
              "      <td>NaN</td>\n",
              "      <td>NaN</td>\n",
              "      <td>NaN</td>\n",
              "      <td>NaN</td>\n",
              "    </tr>\n",
              "    <tr>\n",
              "      <th>...</th>\n",
              "      <td>...</td>\n",
              "      <td>...</td>\n",
              "      <td>...</td>\n",
              "      <td>...</td>\n",
              "      <td>...</td>\n",
              "      <td>...</td>\n",
              "      <td>...</td>\n",
              "      <td>...</td>\n",
              "      <td>...</td>\n",
              "      <td>...</td>\n",
              "      <td>...</td>\n",
              "      <td>...</td>\n",
              "      <td>...</td>\n",
              "      <td>...</td>\n",
              "      <td>...</td>\n",
              "    </tr>\n",
              "    <tr>\n",
              "      <th>450</th>\n",
              "      <td>HXB2F</td>\n",
              "      <td>9476</td>\n",
              "      <td>9477</td>\n",
              "      <td>5hmC</td>\n",
              "      <td>500</td>\n",
              "      <td>-</td>\n",
              "      <td>4</td>\n",
              "      <td>0.00</td>\n",
              "      <td>NaN</td>\n",
              "      <td>LTR_3</td>\n",
              "      <td>NaN</td>\n",
              "      <td>NaN</td>\n",
              "      <td>NaN</td>\n",
              "      <td>NaN</td>\n",
              "      <td>NaN</td>\n",
              "    </tr>\n",
              "    <tr>\n",
              "      <th>451</th>\n",
              "      <td>HXB2F</td>\n",
              "      <td>9491</td>\n",
              "      <td>9492</td>\n",
              "      <td>5hmC</td>\n",
              "      <td>857</td>\n",
              "      <td>+</td>\n",
              "      <td>7</td>\n",
              "      <td>16.67</td>\n",
              "      <td>NaN</td>\n",
              "      <td>LTR_3</td>\n",
              "      <td>NaN</td>\n",
              "      <td>NaN</td>\n",
              "      <td>NaN</td>\n",
              "      <td>NaN</td>\n",
              "      <td>NaN</td>\n",
              "    </tr>\n",
              "    <tr>\n",
              "      <th>452</th>\n",
              "      <td>HXB2F</td>\n",
              "      <td>9492</td>\n",
              "      <td>9493</td>\n",
              "      <td>5hmC</td>\n",
              "      <td>1000</td>\n",
              "      <td>-</td>\n",
              "      <td>3</td>\n",
              "      <td>0.00</td>\n",
              "      <td>NaN</td>\n",
              "      <td>LTR_3</td>\n",
              "      <td>NaN</td>\n",
              "      <td>NaN</td>\n",
              "      <td>NaN</td>\n",
              "      <td>NaN</td>\n",
              "      <td>NaN</td>\n",
              "    </tr>\n",
              "    <tr>\n",
              "      <th>453</th>\n",
              "      <td>HXB2F</td>\n",
              "      <td>9648</td>\n",
              "      <td>9649</td>\n",
              "      <td>5hmC</td>\n",
              "      <td>857</td>\n",
              "      <td>+</td>\n",
              "      <td>7</td>\n",
              "      <td>33.33</td>\n",
              "      <td>NaN</td>\n",
              "      <td>LTR_3</td>\n",
              "      <td>NaN</td>\n",
              "      <td>NaN</td>\n",
              "      <td>NaN</td>\n",
              "      <td>NaN</td>\n",
              "      <td>NaN</td>\n",
              "    </tr>\n",
              "    <tr>\n",
              "      <th>454</th>\n",
              "      <td>HXB2F</td>\n",
              "      <td>9649</td>\n",
              "      <td>9650</td>\n",
              "      <td>5hmC</td>\n",
              "      <td>500</td>\n",
              "      <td>-</td>\n",
              "      <td>2</td>\n",
              "      <td>0.00</td>\n",
              "      <td>NaN</td>\n",
              "      <td>NaN</td>\n",
              "      <td>NaN</td>\n",
              "      <td>NaN</td>\n",
              "      <td>NaN</td>\n",
              "      <td>NaN</td>\n",
              "      <td>NaN</td>\n",
              "    </tr>\n",
              "  </tbody>\n",
              "</table>\n",
              "<p>455 rows × 15 columns</p>\n",
              "</div>\n",
              "      <button class=\"colab-df-convert\" onclick=\"convertToInteractive('df-c8a3b307-c004-401d-b722-9620df729624')\"\n",
              "              title=\"Convert this dataframe to an interactive table.\"\n",
              "              style=\"display:none;\">\n",
              "        \n",
              "  <svg xmlns=\"http://www.w3.org/2000/svg\" height=\"24px\"viewBox=\"0 0 24 24\"\n",
              "       width=\"24px\">\n",
              "    <path d=\"M0 0h24v24H0V0z\" fill=\"none\"/>\n",
              "    <path d=\"M18.56 5.44l.94 2.06.94-2.06 2.06-.94-2.06-.94-.94-2.06-.94 2.06-2.06.94zm-11 1L8.5 8.5l.94-2.06 2.06-.94-2.06-.94L8.5 2.5l-.94 2.06-2.06.94zm10 10l.94 2.06.94-2.06 2.06-.94-2.06-.94-.94-2.06-.94 2.06-2.06.94z\"/><path d=\"M17.41 7.96l-1.37-1.37c-.4-.4-.92-.59-1.43-.59-.52 0-1.04.2-1.43.59L10.3 9.45l-7.72 7.72c-.78.78-.78 2.05 0 2.83L4 21.41c.39.39.9.59 1.41.59.51 0 1.02-.2 1.41-.59l7.78-7.78 2.81-2.81c.8-.78.8-2.07 0-2.86zM5.41 20L4 18.59l7.72-7.72 1.47 1.35L5.41 20z\"/>\n",
              "  </svg>\n",
              "      </button>\n",
              "      \n",
              "  <style>\n",
              "    .colab-df-container {\n",
              "      display:flex;\n",
              "      flex-wrap:wrap;\n",
              "      gap: 12px;\n",
              "    }\n",
              "\n",
              "    .colab-df-convert {\n",
              "      background-color: #E8F0FE;\n",
              "      border: none;\n",
              "      border-radius: 50%;\n",
              "      cursor: pointer;\n",
              "      display: none;\n",
              "      fill: #1967D2;\n",
              "      height: 32px;\n",
              "      padding: 0 0 0 0;\n",
              "      width: 32px;\n",
              "    }\n",
              "\n",
              "    .colab-df-convert:hover {\n",
              "      background-color: #E2EBFA;\n",
              "      box-shadow: 0px 1px 2px rgba(60, 64, 67, 0.3), 0px 1px 3px 1px rgba(60, 64, 67, 0.15);\n",
              "      fill: #174EA6;\n",
              "    }\n",
              "\n",
              "    [theme=dark] .colab-df-convert {\n",
              "      background-color: #3B4455;\n",
              "      fill: #D2E3FC;\n",
              "    }\n",
              "\n",
              "    [theme=dark] .colab-df-convert:hover {\n",
              "      background-color: #434B5C;\n",
              "      box-shadow: 0px 1px 3px 1px rgba(0, 0, 0, 0.15);\n",
              "      filter: drop-shadow(0px 1px 2px rgba(0, 0, 0, 0.3));\n",
              "      fill: #FFFFFF;\n",
              "    }\n",
              "  </style>\n",
              "\n",
              "      <script>\n",
              "        const buttonEl =\n",
              "          document.querySelector('#df-c8a3b307-c004-401d-b722-9620df729624 button.colab-df-convert');\n",
              "        buttonEl.style.display =\n",
              "          google.colab.kernel.accessAllowed ? 'block' : 'none';\n",
              "\n",
              "        async function convertToInteractive(key) {\n",
              "          const element = document.querySelector('#df-c8a3b307-c004-401d-b722-9620df729624');\n",
              "          const dataTable =\n",
              "            await google.colab.kernel.invokeFunction('convertToInteractive',\n",
              "                                                     [key], {});\n",
              "          if (!dataTable) return;\n",
              "\n",
              "          const docLinkHtml = 'Like what you see? Visit the ' +\n",
              "            '<a target=\"_blank\" href=https://colab.research.google.com/notebooks/data_table.ipynb>data table notebook</a>'\n",
              "            + ' to learn more about interactive tables.';\n",
              "          element.innerHTML = '';\n",
              "          dataTable['output_type'] = 'display_data';\n",
              "          await google.colab.output.renderOutput(dataTable, element);\n",
              "          const docLink = document.createElement('div');\n",
              "          docLink.innerHTML = docLinkHtml;\n",
              "          element.appendChild(docLink);\n",
              "        }\n",
              "      </script>\n",
              "    </div>\n",
              "  </div>\n",
              "  "
            ]
          },
          "metadata": {},
          "execution_count": 28
        }
      ]
    },
    {
      "cell_type": "code",
      "source": [
        "vpr_crosstab = pd.crosstab (is_vpr, is_mod)"
      ],
      "metadata": {
        "id": "H7yzgBKir24h"
      },
      "execution_count": 29,
      "outputs": []
    },
    {
      "cell_type": "code",
      "source": [
        "delta_vpr, p_value_vpr, dof_vpr, c_expected_vpr = chi2_contingency (vpr_crosstab)"
      ],
      "metadata": {
        "id": "pDTK2kTJPwhx"
      },
      "execution_count": 30,
      "outputs": []
    },
    {
      "cell_type": "code",
      "source": [
        "print(f'There were {dof_vpr} degrees of freedom in the table.')\n",
        "print(f'It expects to see the matrix\\n{c_expected_vpr}')\n",
        "\n",
        "print(f'There was a difference of {delta_vpr} between the expected and observed matrices.')\n",
        "print(f'The likelihood of seeing this large a difference by chance is p={p_value_vpr}.')"
      ],
      "metadata": {
        "colab": {
          "base_uri": "https://localhost:8080/"
        },
        "id": "YOtK4jugQLbo",
        "outputId": "3470b0f7-d6af-46db-cb07-3ec5ed87c73b"
      },
      "execution_count": 31,
      "outputs": [
        {
          "output_type": "stream",
          "name": "stdout",
          "text": [
            "There were 1 degrees of freedom in the table.\n",
            "It expects to see the matrix\n",
            "[[ 406.85714286   38.14285714]\n",
            " [   9.14285714    0.85714286]]\n",
            "There was a difference of 0.1664179541198501 between the expected and observed matrices.\n",
            "The likelihood of seeing this large a difference by chance is p=0.6833151061980818.\n"
          ]
        }
      ]
    },
    {
      "cell_type": "code",
      "source": [
        "is_tat = table['tat_reading'] == 'tat'\n",
        "is_tat"
      ],
      "metadata": {
        "colab": {
          "base_uri": "https://localhost:8080/"
        },
        "id": "YJMqI9bPsWFZ",
        "outputId": "eeca2ab4-a300-4912-c3c5-270feb7d6eaf"
      },
      "execution_count": 32,
      "outputs": [
        {
          "output_type": "execute_result",
          "data": {
            "text/plain": [
              "0      False\n",
              "1      False\n",
              "2      False\n",
              "3      False\n",
              "4      False\n",
              "       ...  \n",
              "450    False\n",
              "451    False\n",
              "452    False\n",
              "453    False\n",
              "454    False\n",
              "Name: tat_reading, Length: 455, dtype: bool"
            ]
          },
          "metadata": {},
          "execution_count": 32
        }
      ]
    },
    {
      "cell_type": "code",
      "source": [
        "tat_crosstab = pd.crosstab (is_tat, is_mod)\n",
        "tat_crosstab\n"
      ],
      "metadata": {
        "colab": {
          "base_uri": "https://localhost:8080/",
          "height": 143
        },
        "id": "OThiafZKZAU8",
        "outputId": "e90370a1-992f-4090-ff35-440e787bbf48"
      },
      "execution_count": 33,
      "outputs": [
        {
          "output_type": "execute_result",
          "data": {
            "text/plain": [
              "Percentage_of_mod_bases  False  True\n",
              "tat_reading                         \n",
              "False                      392    38\n",
              "True                        24     1"
            ],
            "text/html": [
              "\n",
              "  <div id=\"df-dea14bdf-a918-48e5-9c89-4ab99454914b\">\n",
              "    <div class=\"colab-df-container\">\n",
              "      <div>\n",
              "<style scoped>\n",
              "    .dataframe tbody tr th:only-of-type {\n",
              "        vertical-align: middle;\n",
              "    }\n",
              "\n",
              "    .dataframe tbody tr th {\n",
              "        vertical-align: top;\n",
              "    }\n",
              "\n",
              "    .dataframe thead th {\n",
              "        text-align: right;\n",
              "    }\n",
              "</style>\n",
              "<table border=\"1\" class=\"dataframe\">\n",
              "  <thead>\n",
              "    <tr style=\"text-align: right;\">\n",
              "      <th>Percentage_of_mod_bases</th>\n",
              "      <th>False</th>\n",
              "      <th>True</th>\n",
              "    </tr>\n",
              "    <tr>\n",
              "      <th>tat_reading</th>\n",
              "      <th></th>\n",
              "      <th></th>\n",
              "    </tr>\n",
              "  </thead>\n",
              "  <tbody>\n",
              "    <tr>\n",
              "      <th>False</th>\n",
              "      <td>392</td>\n",
              "      <td>38</td>\n",
              "    </tr>\n",
              "    <tr>\n",
              "      <th>True</th>\n",
              "      <td>24</td>\n",
              "      <td>1</td>\n",
              "    </tr>\n",
              "  </tbody>\n",
              "</table>\n",
              "</div>\n",
              "      <button class=\"colab-df-convert\" onclick=\"convertToInteractive('df-dea14bdf-a918-48e5-9c89-4ab99454914b')\"\n",
              "              title=\"Convert this dataframe to an interactive table.\"\n",
              "              style=\"display:none;\">\n",
              "        \n",
              "  <svg xmlns=\"http://www.w3.org/2000/svg\" height=\"24px\"viewBox=\"0 0 24 24\"\n",
              "       width=\"24px\">\n",
              "    <path d=\"M0 0h24v24H0V0z\" fill=\"none\"/>\n",
              "    <path d=\"M18.56 5.44l.94 2.06.94-2.06 2.06-.94-2.06-.94-.94-2.06-.94 2.06-2.06.94zm-11 1L8.5 8.5l.94-2.06 2.06-.94-2.06-.94L8.5 2.5l-.94 2.06-2.06.94zm10 10l.94 2.06.94-2.06 2.06-.94-2.06-.94-.94-2.06-.94 2.06-2.06.94z\"/><path d=\"M17.41 7.96l-1.37-1.37c-.4-.4-.92-.59-1.43-.59-.52 0-1.04.2-1.43.59L10.3 9.45l-7.72 7.72c-.78.78-.78 2.05 0 2.83L4 21.41c.39.39.9.59 1.41.59.51 0 1.02-.2 1.41-.59l7.78-7.78 2.81-2.81c.8-.78.8-2.07 0-2.86zM5.41 20L4 18.59l7.72-7.72 1.47 1.35L5.41 20z\"/>\n",
              "  </svg>\n",
              "      </button>\n",
              "      \n",
              "  <style>\n",
              "    .colab-df-container {\n",
              "      display:flex;\n",
              "      flex-wrap:wrap;\n",
              "      gap: 12px;\n",
              "    }\n",
              "\n",
              "    .colab-df-convert {\n",
              "      background-color: #E8F0FE;\n",
              "      border: none;\n",
              "      border-radius: 50%;\n",
              "      cursor: pointer;\n",
              "      display: none;\n",
              "      fill: #1967D2;\n",
              "      height: 32px;\n",
              "      padding: 0 0 0 0;\n",
              "      width: 32px;\n",
              "    }\n",
              "\n",
              "    .colab-df-convert:hover {\n",
              "      background-color: #E2EBFA;\n",
              "      box-shadow: 0px 1px 2px rgba(60, 64, 67, 0.3), 0px 1px 3px 1px rgba(60, 64, 67, 0.15);\n",
              "      fill: #174EA6;\n",
              "    }\n",
              "\n",
              "    [theme=dark] .colab-df-convert {\n",
              "      background-color: #3B4455;\n",
              "      fill: #D2E3FC;\n",
              "    }\n",
              "\n",
              "    [theme=dark] .colab-df-convert:hover {\n",
              "      background-color: #434B5C;\n",
              "      box-shadow: 0px 1px 3px 1px rgba(0, 0, 0, 0.15);\n",
              "      filter: drop-shadow(0px 1px 2px rgba(0, 0, 0, 0.3));\n",
              "      fill: #FFFFFF;\n",
              "    }\n",
              "  </style>\n",
              "\n",
              "      <script>\n",
              "        const buttonEl =\n",
              "          document.querySelector('#df-dea14bdf-a918-48e5-9c89-4ab99454914b button.colab-df-convert');\n",
              "        buttonEl.style.display =\n",
              "          google.colab.kernel.accessAllowed ? 'block' : 'none';\n",
              "\n",
              "        async function convertToInteractive(key) {\n",
              "          const element = document.querySelector('#df-dea14bdf-a918-48e5-9c89-4ab99454914b');\n",
              "          const dataTable =\n",
              "            await google.colab.kernel.invokeFunction('convertToInteractive',\n",
              "                                                     [key], {});\n",
              "          if (!dataTable) return;\n",
              "\n",
              "          const docLinkHtml = 'Like what you see? Visit the ' +\n",
              "            '<a target=\"_blank\" href=https://colab.research.google.com/notebooks/data_table.ipynb>data table notebook</a>'\n",
              "            + ' to learn more about interactive tables.';\n",
              "          element.innerHTML = '';\n",
              "          dataTable['output_type'] = 'display_data';\n",
              "          await google.colab.output.renderOutput(dataTable, element);\n",
              "          const docLink = document.createElement('div');\n",
              "          docLink.innerHTML = docLinkHtml;\n",
              "          element.appendChild(docLink);\n",
              "        }\n",
              "      </script>\n",
              "    </div>\n",
              "  </div>\n",
              "  "
            ]
          },
          "metadata": {},
          "execution_count": 33
        }
      ]
    },
    {
      "cell_type": "code",
      "source": [
        "delta_tat, p_value_tat, dof_tat, c_expected_tat = chi2_contingency (tat_crosstab)"
      ],
      "metadata": {
        "id": "yCEQZOyWZuEE"
      },
      "execution_count": 34,
      "outputs": []
    },
    {
      "cell_type": "code",
      "source": [
        "print(f'There were {dof_tat} degrees of freedom in the table.')\n",
        "print(f'It expects to see the matrix\\n{c_expected_tat}')\n",
        "\n",
        "print(f'There was a difference of {delta_tat} between the expected and observed matrices.')\n",
        "print(f'The likelihood of seeing this large a difference by chance is p={p_value_tat}.')"
      ],
      "metadata": {
        "colab": {
          "base_uri": "https://localhost:8080/"
        },
        "id": "bqGGUrWAZNfX",
        "outputId": "f98ddb67-8465-469d-b6b8-cf19386867d3"
      },
      "execution_count": 35,
      "outputs": [
        {
          "output_type": "stream",
          "name": "stdout",
          "text": [
            "There were 1 degrees of freedom in the table.\n",
            "It expects to see the matrix\n",
            "[[ 393.14285714   36.85714286]\n",
            " [  22.85714286    2.14285714]]\n",
            "There was a difference of 0.22320130813953498 between the expected and observed matrices.\n",
            "The likelihood of seeing this large a difference by chance is p=0.6366114337797564.\n"
          ]
        }
      ]
    },
    {
      "cell_type": "code",
      "source": [
        "is_rev = table['rev_reading' ] == 'rev'\n",
        "is_rev"
      ],
      "metadata": {
        "colab": {
          "base_uri": "https://localhost:8080/"
        },
        "id": "IEvkLyraaB3I",
        "outputId": "5c71fb5a-d187-44f3-a785-2e7ab3daa9bf"
      },
      "execution_count": 36,
      "outputs": [
        {
          "output_type": "execute_result",
          "data": {
            "text/plain": [
              "0      False\n",
              "1      False\n",
              "2      False\n",
              "3      False\n",
              "4      False\n",
              "       ...  \n",
              "450    False\n",
              "451    False\n",
              "452    False\n",
              "453    False\n",
              "454    False\n",
              "Name: rev_reading, Length: 455, dtype: bool"
            ]
          },
          "metadata": {},
          "execution_count": 36
        }
      ]
    },
    {
      "cell_type": "code",
      "source": [
        "rev_crosstab = pd.crosstab (is_rev, is_mod)"
      ],
      "metadata": {
        "id": "Q-02LLzIbSSq"
      },
      "execution_count": 37,
      "outputs": []
    },
    {
      "cell_type": "code",
      "source": [
        "delta_rev, p_value_rev, dof_rev, c_expected_rev = chi2_contingency (rev_crosstab)"
      ],
      "metadata": {
        "id": "yeTWKJ6bbtvi"
      },
      "execution_count": 38,
      "outputs": []
    },
    {
      "cell_type": "code",
      "source": [
        "print(f'There were {dof_rev} degrees of freedom in the table.')\n",
        "print(f'It expects to see the matrix\\n{c_expected_rev}')\n",
        "\n",
        "print(f'There was a difference of {delta_rev} between the expected and observed matrices.')\n",
        "print(f'The likelihood of seeing this large a difference by chance is p={p_value_rev}.')"
      ],
      "metadata": {
        "colab": {
          "base_uri": "https://localhost:8080/"
        },
        "id": "EKUCXR7kb2hT",
        "outputId": "7ddf1be4-43b7-4001-abd7-a70fe88825d5"
      },
      "execution_count": 39,
      "outputs": [
        {
          "output_type": "stream",
          "name": "stdout",
          "text": [
            "There were 1 degrees of freedom in the table.\n",
            "It expects to see the matrix\n",
            "[[ 409.6   38.4]\n",
            " [   6.4    0.6]]\n",
            "There was a difference of 0.0 between the expected and observed matrices.\n",
            "The likelihood of seeing this large a difference by chance is p=1.0.\n"
          ]
        }
      ]
    },
    {
      "cell_type": "code",
      "source": [
        "is_env = table['Reading_frame_3'] == 'env'\n",
        "is_env"
      ],
      "metadata": {
        "colab": {
          "base_uri": "https://localhost:8080/"
        },
        "id": "17reM8JDclwl",
        "outputId": "6c06f99f-8bdb-4fbc-9d98-fa38b19f8dec"
      },
      "execution_count": 40,
      "outputs": [
        {
          "output_type": "execute_result",
          "data": {
            "text/plain": [
              "0      False\n",
              "1      False\n",
              "2      False\n",
              "3      False\n",
              "4      False\n",
              "       ...  \n",
              "450    False\n",
              "451    False\n",
              "452    False\n",
              "453    False\n",
              "454    False\n",
              "Name: Reading_frame_3, Length: 455, dtype: bool"
            ]
          },
          "metadata": {},
          "execution_count": 40
        }
      ]
    },
    {
      "cell_type": "code",
      "source": [
        "env_crosstab = pd.crosstab (is_env, is_mod)\n",
        "env_crosstab"
      ],
      "metadata": {
        "colab": {
          "base_uri": "https://localhost:8080/",
          "height": 143
        },
        "id": "v-w7d3MkdzPP",
        "outputId": "6bdb24e9-6cec-4b4a-edd2-84ea6c9db9bc"
      },
      "execution_count": 41,
      "outputs": [
        {
          "output_type": "execute_result",
          "data": {
            "text/plain": [
              "Percentage_of_mod_bases  False  True\n",
              "Reading_frame_3                     \n",
              "False                      320    34\n",
              "True                        96     5"
            ],
            "text/html": [
              "\n",
              "  <div id=\"df-fa03bde3-0076-4c11-8e35-de2ace8af5c1\">\n",
              "    <div class=\"colab-df-container\">\n",
              "      <div>\n",
              "<style scoped>\n",
              "    .dataframe tbody tr th:only-of-type {\n",
              "        vertical-align: middle;\n",
              "    }\n",
              "\n",
              "    .dataframe tbody tr th {\n",
              "        vertical-align: top;\n",
              "    }\n",
              "\n",
              "    .dataframe thead th {\n",
              "        text-align: right;\n",
              "    }\n",
              "</style>\n",
              "<table border=\"1\" class=\"dataframe\">\n",
              "  <thead>\n",
              "    <tr style=\"text-align: right;\">\n",
              "      <th>Percentage_of_mod_bases</th>\n",
              "      <th>False</th>\n",
              "      <th>True</th>\n",
              "    </tr>\n",
              "    <tr>\n",
              "      <th>Reading_frame_3</th>\n",
              "      <th></th>\n",
              "      <th></th>\n",
              "    </tr>\n",
              "  </thead>\n",
              "  <tbody>\n",
              "    <tr>\n",
              "      <th>False</th>\n",
              "      <td>320</td>\n",
              "      <td>34</td>\n",
              "    </tr>\n",
              "    <tr>\n",
              "      <th>True</th>\n",
              "      <td>96</td>\n",
              "      <td>5</td>\n",
              "    </tr>\n",
              "  </tbody>\n",
              "</table>\n",
              "</div>\n",
              "      <button class=\"colab-df-convert\" onclick=\"convertToInteractive('df-fa03bde3-0076-4c11-8e35-de2ace8af5c1')\"\n",
              "              title=\"Convert this dataframe to an interactive table.\"\n",
              "              style=\"display:none;\">\n",
              "        \n",
              "  <svg xmlns=\"http://www.w3.org/2000/svg\" height=\"24px\"viewBox=\"0 0 24 24\"\n",
              "       width=\"24px\">\n",
              "    <path d=\"M0 0h24v24H0V0z\" fill=\"none\"/>\n",
              "    <path d=\"M18.56 5.44l.94 2.06.94-2.06 2.06-.94-2.06-.94-.94-2.06-.94 2.06-2.06.94zm-11 1L8.5 8.5l.94-2.06 2.06-.94-2.06-.94L8.5 2.5l-.94 2.06-2.06.94zm10 10l.94 2.06.94-2.06 2.06-.94-2.06-.94-.94-2.06-.94 2.06-2.06.94z\"/><path d=\"M17.41 7.96l-1.37-1.37c-.4-.4-.92-.59-1.43-.59-.52 0-1.04.2-1.43.59L10.3 9.45l-7.72 7.72c-.78.78-.78 2.05 0 2.83L4 21.41c.39.39.9.59 1.41.59.51 0 1.02-.2 1.41-.59l7.78-7.78 2.81-2.81c.8-.78.8-2.07 0-2.86zM5.41 20L4 18.59l7.72-7.72 1.47 1.35L5.41 20z\"/>\n",
              "  </svg>\n",
              "      </button>\n",
              "      \n",
              "  <style>\n",
              "    .colab-df-container {\n",
              "      display:flex;\n",
              "      flex-wrap:wrap;\n",
              "      gap: 12px;\n",
              "    }\n",
              "\n",
              "    .colab-df-convert {\n",
              "      background-color: #E8F0FE;\n",
              "      border: none;\n",
              "      border-radius: 50%;\n",
              "      cursor: pointer;\n",
              "      display: none;\n",
              "      fill: #1967D2;\n",
              "      height: 32px;\n",
              "      padding: 0 0 0 0;\n",
              "      width: 32px;\n",
              "    }\n",
              "\n",
              "    .colab-df-convert:hover {\n",
              "      background-color: #E2EBFA;\n",
              "      box-shadow: 0px 1px 2px rgba(60, 64, 67, 0.3), 0px 1px 3px 1px rgba(60, 64, 67, 0.15);\n",
              "      fill: #174EA6;\n",
              "    }\n",
              "\n",
              "    [theme=dark] .colab-df-convert {\n",
              "      background-color: #3B4455;\n",
              "      fill: #D2E3FC;\n",
              "    }\n",
              "\n",
              "    [theme=dark] .colab-df-convert:hover {\n",
              "      background-color: #434B5C;\n",
              "      box-shadow: 0px 1px 3px 1px rgba(0, 0, 0, 0.15);\n",
              "      filter: drop-shadow(0px 1px 2px rgba(0, 0, 0, 0.3));\n",
              "      fill: #FFFFFF;\n",
              "    }\n",
              "  </style>\n",
              "\n",
              "      <script>\n",
              "        const buttonEl =\n",
              "          document.querySelector('#df-fa03bde3-0076-4c11-8e35-de2ace8af5c1 button.colab-df-convert');\n",
              "        buttonEl.style.display =\n",
              "          google.colab.kernel.accessAllowed ? 'block' : 'none';\n",
              "\n",
              "        async function convertToInteractive(key) {\n",
              "          const element = document.querySelector('#df-fa03bde3-0076-4c11-8e35-de2ace8af5c1');\n",
              "          const dataTable =\n",
              "            await google.colab.kernel.invokeFunction('convertToInteractive',\n",
              "                                                     [key], {});\n",
              "          if (!dataTable) return;\n",
              "\n",
              "          const docLinkHtml = 'Like what you see? Visit the ' +\n",
              "            '<a target=\"_blank\" href=https://colab.research.google.com/notebooks/data_table.ipynb>data table notebook</a>'\n",
              "            + ' to learn more about interactive tables.';\n",
              "          element.innerHTML = '';\n",
              "          dataTable['output_type'] = 'display_data';\n",
              "          await google.colab.output.renderOutput(dataTable, element);\n",
              "          const docLink = document.createElement('div');\n",
              "          docLink.innerHTML = docLinkHtml;\n",
              "          element.appendChild(docLink);\n",
              "        }\n",
              "      </script>\n",
              "    </div>\n",
              "  </div>\n",
              "  "
            ]
          },
          "metadata": {},
          "execution_count": 41
        }
      ]
    },
    {
      "cell_type": "code",
      "source": [
        "delta_env, p_value_env, dof_env, c_expected_env = chi2_contingency (env_crosstab)"
      ],
      "metadata": {
        "id": "2v66Ho6md6Mu"
      },
      "execution_count": 42,
      "outputs": []
    },
    {
      "cell_type": "code",
      "source": [
        "print(f'There were {dof_env} degrees of freedom in the table.')\n",
        "print(f'It expects to see the matrix\\n{c_expected_env}')\n",
        "\n",
        "print(f'There was a difference of {delta_env} between the expected and observed matrices.')\n",
        "print(f'The likelihood of seeing this large a difference by chance is p={p_value_env}.')"
      ],
      "metadata": {
        "colab": {
          "base_uri": "https://localhost:8080/"
        },
        "id": "JuTMBEbaeFUQ",
        "outputId": "4b9e1e56-afe9-4956-9123-ac5558bc7c6a"
      },
      "execution_count": 43,
      "outputs": [
        {
          "output_type": "stream",
          "name": "stdout",
          "text": [
            "There were 1 degrees of freedom in the table.\n",
            "It expects to see the matrix\n",
            "[[ 323.65714286   30.34285714]\n",
            " [  92.34285714    8.65714286]]\n",
            "There was a difference of 1.6186020416130593 between the expected and observed matrices.\n",
            "The likelihood of seeing this large a difference by chance is p=0.2032868231345772.\n"
          ]
        }
      ]
    },
    {
      "cell_type": "code",
      "source": [
        "is_LTR_3 = table['Reading_frame_2'] == 'LTR_3'\n",
        "is_LTR_3"
      ],
      "metadata": {
        "colab": {
          "base_uri": "https://localhost:8080/"
        },
        "id": "enzMFq8AhamS",
        "outputId": "87720f0c-b37c-42cb-9159-8bf874bbca96"
      },
      "execution_count": 44,
      "outputs": [
        {
          "output_type": "execute_result",
          "data": {
            "text/plain": [
              "0      False\n",
              "1      False\n",
              "2      False\n",
              "3      False\n",
              "4      False\n",
              "       ...  \n",
              "450     True\n",
              "451     True\n",
              "452     True\n",
              "453     True\n",
              "454    False\n",
              "Name: Reading_frame_2, Length: 455, dtype: bool"
            ]
          },
          "metadata": {},
          "execution_count": 44
        }
      ]
    },
    {
      "cell_type": "code",
      "source": [
        "LTR_3_crosstab = pd.crosstab (is_LTR_3, is_mod)"
      ],
      "metadata": {
        "id": "Ec1oeczuhxHI"
      },
      "execution_count": 45,
      "outputs": []
    },
    {
      "cell_type": "code",
      "source": [
        "delta_LTR_3, p_value_LTR_3, dof_LTR_3, c_expected_LTR_3 = chi2_contingency (LTR_3_crosstab )"
      ],
      "metadata": {
        "id": "GW7pK_tAh1x4"
      },
      "execution_count": 46,
      "outputs": []
    },
    {
      "cell_type": "code",
      "source": [
        "print(f'There were {dof_LTR_3} degrees of freedom in the table.')\n",
        "print(f'It expects to see the matrix\\n{c_expected_LTR_3}')\n",
        "\n",
        "print(f'There was a difference of {delta_LTR_3} between the expected and observed matrices.')\n",
        "print(f'The likelihood of seeing this large a difference by chance is p={p_value_LTR_3}.')"
      ],
      "metadata": {
        "colab": {
          "base_uri": "https://localhost:8080/"
        },
        "id": "4asb5ZNZiB49",
        "outputId": "b75a89af-9cda-4e8b-b5f1-0c4989ad34d4"
      },
      "execution_count": 47,
      "outputs": [
        {
          "output_type": "stream",
          "name": "stdout",
          "text": [
            "There were 1 degrees of freedom in the table.\n",
            "It expects to see the matrix\n",
            "[[ 391.31428571   36.68571429]\n",
            " [  24.68571429    2.31428571]]\n",
            "There was a difference of 0.0 between the expected and observed matrices.\n",
            "The likelihood of seeing this large a difference by chance is p=1.0.\n"
          ]
        }
      ]
    },
    {
      "cell_type": "code",
      "source": [
        "is_tat_paper = table['in_paper'] == 'tat_CGI'\n",
        "is_tat_paper"
      ],
      "metadata": {
        "colab": {
          "base_uri": "https://localhost:8080/"
        },
        "id": "t-tmZLzPWcWc",
        "outputId": "2036c201-4e71-4bbd-e37a-3db7d354a538"
      },
      "execution_count": 48,
      "outputs": [
        {
          "output_type": "execute_result",
          "data": {
            "text/plain": [
              "0      False\n",
              "1      False\n",
              "2      False\n",
              "3      False\n",
              "4      False\n",
              "       ...  \n",
              "450    False\n",
              "451    False\n",
              "452    False\n",
              "453    False\n",
              "454    False\n",
              "Name: in_paper, Length: 455, dtype: bool"
            ]
          },
          "metadata": {},
          "execution_count": 48
        }
      ]
    },
    {
      "cell_type": "code",
      "source": [
        "tat_paper_crosstab = pd.crosstab (is_tat_paper, is_mod)\n",
        "tat_paper_crosstab "
      ],
      "metadata": {
        "colab": {
          "base_uri": "https://localhost:8080/",
          "height": 143
        },
        "id": "v72m8Rt4Wg85",
        "outputId": "e0923694-eb4d-4558-8aa6-2bf22c527486"
      },
      "execution_count": 49,
      "outputs": [
        {
          "output_type": "execute_result",
          "data": {
            "text/plain": [
              "Percentage_of_mod_bases  False  True\n",
              "in_paper                            \n",
              "False                      385    39\n",
              "True                        31     0"
            ],
            "text/html": [
              "\n",
              "  <div id=\"df-5224a10a-a2a4-48f1-9bd9-016a018468c3\">\n",
              "    <div class=\"colab-df-container\">\n",
              "      <div>\n",
              "<style scoped>\n",
              "    .dataframe tbody tr th:only-of-type {\n",
              "        vertical-align: middle;\n",
              "    }\n",
              "\n",
              "    .dataframe tbody tr th {\n",
              "        vertical-align: top;\n",
              "    }\n",
              "\n",
              "    .dataframe thead th {\n",
              "        text-align: right;\n",
              "    }\n",
              "</style>\n",
              "<table border=\"1\" class=\"dataframe\">\n",
              "  <thead>\n",
              "    <tr style=\"text-align: right;\">\n",
              "      <th>Percentage_of_mod_bases</th>\n",
              "      <th>False</th>\n",
              "      <th>True</th>\n",
              "    </tr>\n",
              "    <tr>\n",
              "      <th>in_paper</th>\n",
              "      <th></th>\n",
              "      <th></th>\n",
              "    </tr>\n",
              "  </thead>\n",
              "  <tbody>\n",
              "    <tr>\n",
              "      <th>False</th>\n",
              "      <td>385</td>\n",
              "      <td>39</td>\n",
              "    </tr>\n",
              "    <tr>\n",
              "      <th>True</th>\n",
              "      <td>31</td>\n",
              "      <td>0</td>\n",
              "    </tr>\n",
              "  </tbody>\n",
              "</table>\n",
              "</div>\n",
              "      <button class=\"colab-df-convert\" onclick=\"convertToInteractive('df-5224a10a-a2a4-48f1-9bd9-016a018468c3')\"\n",
              "              title=\"Convert this dataframe to an interactive table.\"\n",
              "              style=\"display:none;\">\n",
              "        \n",
              "  <svg xmlns=\"http://www.w3.org/2000/svg\" height=\"24px\"viewBox=\"0 0 24 24\"\n",
              "       width=\"24px\">\n",
              "    <path d=\"M0 0h24v24H0V0z\" fill=\"none\"/>\n",
              "    <path d=\"M18.56 5.44l.94 2.06.94-2.06 2.06-.94-2.06-.94-.94-2.06-.94 2.06-2.06.94zm-11 1L8.5 8.5l.94-2.06 2.06-.94-2.06-.94L8.5 2.5l-.94 2.06-2.06.94zm10 10l.94 2.06.94-2.06 2.06-.94-2.06-.94-.94-2.06-.94 2.06-2.06.94z\"/><path d=\"M17.41 7.96l-1.37-1.37c-.4-.4-.92-.59-1.43-.59-.52 0-1.04.2-1.43.59L10.3 9.45l-7.72 7.72c-.78.78-.78 2.05 0 2.83L4 21.41c.39.39.9.59 1.41.59.51 0 1.02-.2 1.41-.59l7.78-7.78 2.81-2.81c.8-.78.8-2.07 0-2.86zM5.41 20L4 18.59l7.72-7.72 1.47 1.35L5.41 20z\"/>\n",
              "  </svg>\n",
              "      </button>\n",
              "      \n",
              "  <style>\n",
              "    .colab-df-container {\n",
              "      display:flex;\n",
              "      flex-wrap:wrap;\n",
              "      gap: 12px;\n",
              "    }\n",
              "\n",
              "    .colab-df-convert {\n",
              "      background-color: #E8F0FE;\n",
              "      border: none;\n",
              "      border-radius: 50%;\n",
              "      cursor: pointer;\n",
              "      display: none;\n",
              "      fill: #1967D2;\n",
              "      height: 32px;\n",
              "      padding: 0 0 0 0;\n",
              "      width: 32px;\n",
              "    }\n",
              "\n",
              "    .colab-df-convert:hover {\n",
              "      background-color: #E2EBFA;\n",
              "      box-shadow: 0px 1px 2px rgba(60, 64, 67, 0.3), 0px 1px 3px 1px rgba(60, 64, 67, 0.15);\n",
              "      fill: #174EA6;\n",
              "    }\n",
              "\n",
              "    [theme=dark] .colab-df-convert {\n",
              "      background-color: #3B4455;\n",
              "      fill: #D2E3FC;\n",
              "    }\n",
              "\n",
              "    [theme=dark] .colab-df-convert:hover {\n",
              "      background-color: #434B5C;\n",
              "      box-shadow: 0px 1px 3px 1px rgba(0, 0, 0, 0.15);\n",
              "      filter: drop-shadow(0px 1px 2px rgba(0, 0, 0, 0.3));\n",
              "      fill: #FFFFFF;\n",
              "    }\n",
              "  </style>\n",
              "\n",
              "      <script>\n",
              "        const buttonEl =\n",
              "          document.querySelector('#df-5224a10a-a2a4-48f1-9bd9-016a018468c3 button.colab-df-convert');\n",
              "        buttonEl.style.display =\n",
              "          google.colab.kernel.accessAllowed ? 'block' : 'none';\n",
              "\n",
              "        async function convertToInteractive(key) {\n",
              "          const element = document.querySelector('#df-5224a10a-a2a4-48f1-9bd9-016a018468c3');\n",
              "          const dataTable =\n",
              "            await google.colab.kernel.invokeFunction('convertToInteractive',\n",
              "                                                     [key], {});\n",
              "          if (!dataTable) return;\n",
              "\n",
              "          const docLinkHtml = 'Like what you see? Visit the ' +\n",
              "            '<a target=\"_blank\" href=https://colab.research.google.com/notebooks/data_table.ipynb>data table notebook</a>'\n",
              "            + ' to learn more about interactive tables.';\n",
              "          element.innerHTML = '';\n",
              "          dataTable['output_type'] = 'display_data';\n",
              "          await google.colab.output.renderOutput(dataTable, element);\n",
              "          const docLink = document.createElement('div');\n",
              "          docLink.innerHTML = docLinkHtml;\n",
              "          element.appendChild(docLink);\n",
              "        }\n",
              "      </script>\n",
              "    </div>\n",
              "  </div>\n",
              "  "
            ]
          },
          "metadata": {},
          "execution_count": 49
        }
      ]
    },
    {
      "cell_type": "code",
      "source": [
        "delta_is_tat_paper, p_value_is_tat_paper, dof_is_tat_paper, c_expected_is_tat_paper = chi2_contingency (tat_paper_crosstab)"
      ],
      "metadata": {
        "id": "zL4VgM9DYcdC"
      },
      "execution_count": 50,
      "outputs": []
    },
    {
      "cell_type": "code",
      "source": [
        "print(f'There were {dof_is_tat_paper} degrees of freedom in the table.')\n",
        "print(f'It expects to see the matrix\\n{c_expected_is_tat_paper}')\n",
        "\n",
        "print(f'There was a difference of {delta_is_tat_paper} between the expected and observed matrices.')\n",
        "print(f'The likelihood of seeing this large a difference by chance is p={p_value_is_tat_paper}.')"
      ],
      "metadata": {
        "colab": {
          "base_uri": "https://localhost:8080/"
        },
        "id": "Q1plUTRlZJf9",
        "outputId": "9cecca90-5578-4f6f-b83a-630a2223392b"
      },
      "execution_count": 51,
      "outputs": [
        {
          "output_type": "stream",
          "name": "stdout",
          "text": [
            "There were 1 degrees of freedom in the table.\n",
            "It expects to see the matrix\n",
            "[[ 387.65714286   36.34285714]\n",
            " [  28.34285714    2.65714286]]\n",
            "There was a difference of 2.0554481052825118 between the expected and observed matrices.\n",
            "The likelihood of seeing this large a difference by chance is p=0.15166263006489156.\n"
          ]
        }
      ]
    },
    {
      "cell_type": "code",
      "source": [
        "is_gag_paper = table['in_paper'] == 'gag_leader'\n",
        "is_gag_paper"
      ],
      "metadata": {
        "colab": {
          "base_uri": "https://localhost:8080/"
        },
        "id": "RgEgrPeYZWwq",
        "outputId": "5a522f0d-ee3b-4c8e-de0e-7e0744589ea9"
      },
      "execution_count": 52,
      "outputs": [
        {
          "output_type": "execute_result",
          "data": {
            "text/plain": [
              "0      False\n",
              "1      False\n",
              "2      False\n",
              "3      False\n",
              "4      False\n",
              "       ...  \n",
              "450    False\n",
              "451    False\n",
              "452    False\n",
              "453    False\n",
              "454    False\n",
              "Name: in_paper, Length: 455, dtype: bool"
            ]
          },
          "metadata": {},
          "execution_count": 52
        }
      ]
    },
    {
      "cell_type": "code",
      "source": [
        "gag_paper_crosstab = pd.crosstab (is_gag_paper, is_mod)\n",
        "gag_paper_crosstab "
      ],
      "metadata": {
        "colab": {
          "base_uri": "https://localhost:8080/",
          "height": 143
        },
        "id": "jJO_4IRdZo9m",
        "outputId": "7f86f856-4d41-4b11-edb0-4084e842e47d"
      },
      "execution_count": 53,
      "outputs": [
        {
          "output_type": "execute_result",
          "data": {
            "text/plain": [
              "Percentage_of_mod_bases  False  True\n",
              "in_paper                            \n",
              "False                      364    36\n",
              "True                        52     3"
            ],
            "text/html": [
              "\n",
              "  <div id=\"df-a9d4a513-189a-40ab-b600-3c000e0c8134\">\n",
              "    <div class=\"colab-df-container\">\n",
              "      <div>\n",
              "<style scoped>\n",
              "    .dataframe tbody tr th:only-of-type {\n",
              "        vertical-align: middle;\n",
              "    }\n",
              "\n",
              "    .dataframe tbody tr th {\n",
              "        vertical-align: top;\n",
              "    }\n",
              "\n",
              "    .dataframe thead th {\n",
              "        text-align: right;\n",
              "    }\n",
              "</style>\n",
              "<table border=\"1\" class=\"dataframe\">\n",
              "  <thead>\n",
              "    <tr style=\"text-align: right;\">\n",
              "      <th>Percentage_of_mod_bases</th>\n",
              "      <th>False</th>\n",
              "      <th>True</th>\n",
              "    </tr>\n",
              "    <tr>\n",
              "      <th>in_paper</th>\n",
              "      <th></th>\n",
              "      <th></th>\n",
              "    </tr>\n",
              "  </thead>\n",
              "  <tbody>\n",
              "    <tr>\n",
              "      <th>False</th>\n",
              "      <td>364</td>\n",
              "      <td>36</td>\n",
              "    </tr>\n",
              "    <tr>\n",
              "      <th>True</th>\n",
              "      <td>52</td>\n",
              "      <td>3</td>\n",
              "    </tr>\n",
              "  </tbody>\n",
              "</table>\n",
              "</div>\n",
              "      <button class=\"colab-df-convert\" onclick=\"convertToInteractive('df-a9d4a513-189a-40ab-b600-3c000e0c8134')\"\n",
              "              title=\"Convert this dataframe to an interactive table.\"\n",
              "              style=\"display:none;\">\n",
              "        \n",
              "  <svg xmlns=\"http://www.w3.org/2000/svg\" height=\"24px\"viewBox=\"0 0 24 24\"\n",
              "       width=\"24px\">\n",
              "    <path d=\"M0 0h24v24H0V0z\" fill=\"none\"/>\n",
              "    <path d=\"M18.56 5.44l.94 2.06.94-2.06 2.06-.94-2.06-.94-.94-2.06-.94 2.06-2.06.94zm-11 1L8.5 8.5l.94-2.06 2.06-.94-2.06-.94L8.5 2.5l-.94 2.06-2.06.94zm10 10l.94 2.06.94-2.06 2.06-.94-2.06-.94-.94-2.06-.94 2.06-2.06.94z\"/><path d=\"M17.41 7.96l-1.37-1.37c-.4-.4-.92-.59-1.43-.59-.52 0-1.04.2-1.43.59L10.3 9.45l-7.72 7.72c-.78.78-.78 2.05 0 2.83L4 21.41c.39.39.9.59 1.41.59.51 0 1.02-.2 1.41-.59l7.78-7.78 2.81-2.81c.8-.78.8-2.07 0-2.86zM5.41 20L4 18.59l7.72-7.72 1.47 1.35L5.41 20z\"/>\n",
              "  </svg>\n",
              "      </button>\n",
              "      \n",
              "  <style>\n",
              "    .colab-df-container {\n",
              "      display:flex;\n",
              "      flex-wrap:wrap;\n",
              "      gap: 12px;\n",
              "    }\n",
              "\n",
              "    .colab-df-convert {\n",
              "      background-color: #E8F0FE;\n",
              "      border: none;\n",
              "      border-radius: 50%;\n",
              "      cursor: pointer;\n",
              "      display: none;\n",
              "      fill: #1967D2;\n",
              "      height: 32px;\n",
              "      padding: 0 0 0 0;\n",
              "      width: 32px;\n",
              "    }\n",
              "\n",
              "    .colab-df-convert:hover {\n",
              "      background-color: #E2EBFA;\n",
              "      box-shadow: 0px 1px 2px rgba(60, 64, 67, 0.3), 0px 1px 3px 1px rgba(60, 64, 67, 0.15);\n",
              "      fill: #174EA6;\n",
              "    }\n",
              "\n",
              "    [theme=dark] .colab-df-convert {\n",
              "      background-color: #3B4455;\n",
              "      fill: #D2E3FC;\n",
              "    }\n",
              "\n",
              "    [theme=dark] .colab-df-convert:hover {\n",
              "      background-color: #434B5C;\n",
              "      box-shadow: 0px 1px 3px 1px rgba(0, 0, 0, 0.15);\n",
              "      filter: drop-shadow(0px 1px 2px rgba(0, 0, 0, 0.3));\n",
              "      fill: #FFFFFF;\n",
              "    }\n",
              "  </style>\n",
              "\n",
              "      <script>\n",
              "        const buttonEl =\n",
              "          document.querySelector('#df-a9d4a513-189a-40ab-b600-3c000e0c8134 button.colab-df-convert');\n",
              "        buttonEl.style.display =\n",
              "          google.colab.kernel.accessAllowed ? 'block' : 'none';\n",
              "\n",
              "        async function convertToInteractive(key) {\n",
              "          const element = document.querySelector('#df-a9d4a513-189a-40ab-b600-3c000e0c8134');\n",
              "          const dataTable =\n",
              "            await google.colab.kernel.invokeFunction('convertToInteractive',\n",
              "                                                     [key], {});\n",
              "          if (!dataTable) return;\n",
              "\n",
              "          const docLinkHtml = 'Like what you see? Visit the ' +\n",
              "            '<a target=\"_blank\" href=https://colab.research.google.com/notebooks/data_table.ipynb>data table notebook</a>'\n",
              "            + ' to learn more about interactive tables.';\n",
              "          element.innerHTML = '';\n",
              "          dataTable['output_type'] = 'display_data';\n",
              "          await google.colab.output.renderOutput(dataTable, element);\n",
              "          const docLink = document.createElement('div');\n",
              "          docLink.innerHTML = docLinkHtml;\n",
              "          element.appendChild(docLink);\n",
              "        }\n",
              "      </script>\n",
              "    </div>\n",
              "  </div>\n",
              "  "
            ]
          },
          "metadata": {},
          "execution_count": 53
        }
      ]
    },
    {
      "cell_type": "code",
      "source": [
        "delta_is_gag_paper, p_value_is_gag_paper, dof_is_gag_paper, c_expected_is_gag_paper = chi2_contingency (gag_paper_crosstab)"
      ],
      "metadata": {
        "id": "aZv_Kjy0aA-W"
      },
      "execution_count": 54,
      "outputs": []
    },
    {
      "cell_type": "code",
      "source": [
        "print(f'There were {dof_is_gag_paper} degrees of freedom in the table.')\n",
        "print(f'It expects to see the matrix\\n{c_expected_is_gag_paper}')\n",
        "\n",
        "print(f'There was a difference of {delta_is_gag_paper} between the expected and observed matrices.')\n",
        "print(f'The likelihood of seeing this large a difference by chance is p={p_value_is_gag_paper}.')"
      ],
      "metadata": {
        "colab": {
          "base_uri": "https://localhost:8080/"
        },
        "id": "mLKOUZ3uZulz",
        "outputId": "9aa4b393-4a9b-43de-d274-994e1f02393b"
      },
      "execution_count": 55,
      "outputs": [
        {
          "output_type": "stream",
          "name": "stdout",
          "text": [
            "There were 1 degrees of freedom in the table.\n",
            "It expects to see the matrix\n",
            "[[ 365.71428571   34.28571429]\n",
            " [  50.28571429    4.71428571]]\n",
            "There was a difference of 0.38913056344696995 between the expected and observed matrices.\n",
            "The likelihood of seeing this large a difference by chance is p=0.5327567688217003.\n"
          ]
        }
      ]
    },
    {
      "cell_type": "code",
      "source": [
        "is_LTR_CGI_paper = table['in_paper'] == 'LTR_CGI'\n",
        "is_LTR_CGI_paper"
      ],
      "metadata": {
        "colab": {
          "base_uri": "https://localhost:8080/"
        },
        "id": "ep8q62wguUPR",
        "outputId": "1a44d064-da0f-49e5-9023-bfbedbea59b7"
      },
      "execution_count": 56,
      "outputs": [
        {
          "output_type": "execute_result",
          "data": {
            "text/plain": [
              "0      False\n",
              "1      False\n",
              "2      False\n",
              "3      False\n",
              "4      False\n",
              "       ...  \n",
              "450    False\n",
              "451    False\n",
              "452    False\n",
              "453    False\n",
              "454    False\n",
              "Name: in_paper, Length: 455, dtype: bool"
            ]
          },
          "metadata": {},
          "execution_count": 56
        }
      ]
    },
    {
      "cell_type": "code",
      "source": [
        "is_LTR_CGI_paper_crosstab = pd.crosstab (is_LTR_CGI_paper, is_mod)\n",
        "is_LTR_CGI_paper_crosstab "
      ],
      "metadata": {
        "colab": {
          "base_uri": "https://localhost:8080/",
          "height": 143
        },
        "id": "IcsgBwczugxW",
        "outputId": "59e4d04b-aae4-4484-8b51-5827c3214873"
      },
      "execution_count": 57,
      "outputs": [
        {
          "output_type": "execute_result",
          "data": {
            "text/plain": [
              "Percentage_of_mod_bases  False  True\n",
              "in_paper                            \n",
              "False                      383    38\n",
              "True                        33     1"
            ],
            "text/html": [
              "\n",
              "  <div id=\"df-b93b4fae-e1fa-4f27-b3e2-ccd3e9ddee27\">\n",
              "    <div class=\"colab-df-container\">\n",
              "      <div>\n",
              "<style scoped>\n",
              "    .dataframe tbody tr th:only-of-type {\n",
              "        vertical-align: middle;\n",
              "    }\n",
              "\n",
              "    .dataframe tbody tr th {\n",
              "        vertical-align: top;\n",
              "    }\n",
              "\n",
              "    .dataframe thead th {\n",
              "        text-align: right;\n",
              "    }\n",
              "</style>\n",
              "<table border=\"1\" class=\"dataframe\">\n",
              "  <thead>\n",
              "    <tr style=\"text-align: right;\">\n",
              "      <th>Percentage_of_mod_bases</th>\n",
              "      <th>False</th>\n",
              "      <th>True</th>\n",
              "    </tr>\n",
              "    <tr>\n",
              "      <th>in_paper</th>\n",
              "      <th></th>\n",
              "      <th></th>\n",
              "    </tr>\n",
              "  </thead>\n",
              "  <tbody>\n",
              "    <tr>\n",
              "      <th>False</th>\n",
              "      <td>383</td>\n",
              "      <td>38</td>\n",
              "    </tr>\n",
              "    <tr>\n",
              "      <th>True</th>\n",
              "      <td>33</td>\n",
              "      <td>1</td>\n",
              "    </tr>\n",
              "  </tbody>\n",
              "</table>\n",
              "</div>\n",
              "      <button class=\"colab-df-convert\" onclick=\"convertToInteractive('df-b93b4fae-e1fa-4f27-b3e2-ccd3e9ddee27')\"\n",
              "              title=\"Convert this dataframe to an interactive table.\"\n",
              "              style=\"display:none;\">\n",
              "        \n",
              "  <svg xmlns=\"http://www.w3.org/2000/svg\" height=\"24px\"viewBox=\"0 0 24 24\"\n",
              "       width=\"24px\">\n",
              "    <path d=\"M0 0h24v24H0V0z\" fill=\"none\"/>\n",
              "    <path d=\"M18.56 5.44l.94 2.06.94-2.06 2.06-.94-2.06-.94-.94-2.06-.94 2.06-2.06.94zm-11 1L8.5 8.5l.94-2.06 2.06-.94-2.06-.94L8.5 2.5l-.94 2.06-2.06.94zm10 10l.94 2.06.94-2.06 2.06-.94-2.06-.94-.94-2.06-.94 2.06-2.06.94z\"/><path d=\"M17.41 7.96l-1.37-1.37c-.4-.4-.92-.59-1.43-.59-.52 0-1.04.2-1.43.59L10.3 9.45l-7.72 7.72c-.78.78-.78 2.05 0 2.83L4 21.41c.39.39.9.59 1.41.59.51 0 1.02-.2 1.41-.59l7.78-7.78 2.81-2.81c.8-.78.8-2.07 0-2.86zM5.41 20L4 18.59l7.72-7.72 1.47 1.35L5.41 20z\"/>\n",
              "  </svg>\n",
              "      </button>\n",
              "      \n",
              "  <style>\n",
              "    .colab-df-container {\n",
              "      display:flex;\n",
              "      flex-wrap:wrap;\n",
              "      gap: 12px;\n",
              "    }\n",
              "\n",
              "    .colab-df-convert {\n",
              "      background-color: #E8F0FE;\n",
              "      border: none;\n",
              "      border-radius: 50%;\n",
              "      cursor: pointer;\n",
              "      display: none;\n",
              "      fill: #1967D2;\n",
              "      height: 32px;\n",
              "      padding: 0 0 0 0;\n",
              "      width: 32px;\n",
              "    }\n",
              "\n",
              "    .colab-df-convert:hover {\n",
              "      background-color: #E2EBFA;\n",
              "      box-shadow: 0px 1px 2px rgba(60, 64, 67, 0.3), 0px 1px 3px 1px rgba(60, 64, 67, 0.15);\n",
              "      fill: #174EA6;\n",
              "    }\n",
              "\n",
              "    [theme=dark] .colab-df-convert {\n",
              "      background-color: #3B4455;\n",
              "      fill: #D2E3FC;\n",
              "    }\n",
              "\n",
              "    [theme=dark] .colab-df-convert:hover {\n",
              "      background-color: #434B5C;\n",
              "      box-shadow: 0px 1px 3px 1px rgba(0, 0, 0, 0.15);\n",
              "      filter: drop-shadow(0px 1px 2px rgba(0, 0, 0, 0.3));\n",
              "      fill: #FFFFFF;\n",
              "    }\n",
              "  </style>\n",
              "\n",
              "      <script>\n",
              "        const buttonEl =\n",
              "          document.querySelector('#df-b93b4fae-e1fa-4f27-b3e2-ccd3e9ddee27 button.colab-df-convert');\n",
              "        buttonEl.style.display =\n",
              "          google.colab.kernel.accessAllowed ? 'block' : 'none';\n",
              "\n",
              "        async function convertToInteractive(key) {\n",
              "          const element = document.querySelector('#df-b93b4fae-e1fa-4f27-b3e2-ccd3e9ddee27');\n",
              "          const dataTable =\n",
              "            await google.colab.kernel.invokeFunction('convertToInteractive',\n",
              "                                                     [key], {});\n",
              "          if (!dataTable) return;\n",
              "\n",
              "          const docLinkHtml = 'Like what you see? Visit the ' +\n",
              "            '<a target=\"_blank\" href=https://colab.research.google.com/notebooks/data_table.ipynb>data table notebook</a>'\n",
              "            + ' to learn more about interactive tables.';\n",
              "          element.innerHTML = '';\n",
              "          dataTable['output_type'] = 'display_data';\n",
              "          await google.colab.output.renderOutput(dataTable, element);\n",
              "          const docLink = document.createElement('div');\n",
              "          docLink.innerHTML = docLinkHtml;\n",
              "          element.appendChild(docLink);\n",
              "        }\n",
              "      </script>\n",
              "    </div>\n",
              "  </div>\n",
              "  "
            ]
          },
          "metadata": {},
          "execution_count": 57
        }
      ]
    },
    {
      "cell_type": "code",
      "source": [
        "delta_is_LTR_CGI_paper, p_value_is_LTR_CGI_paper, dof_is_LTR_CGI_paper, c_expected_is_LTR_CGI_paper = chi2_contingency (is_LTR_CGI_paper_crosstab )"
      ],
      "metadata": {
        "id": "xLw_4JsFuvyp"
      },
      "execution_count": 58,
      "outputs": []
    },
    {
      "cell_type": "code",
      "source": [
        "print(f'There were {dof_is_LTR_CGI_paper} degrees of freedom in the table.')\n",
        "print(f'It expects to see the matrix\\n{c_expected_is_LTR_CGI_paper}')\n",
        "\n",
        "print(f'There was a difference of {delta_is_LTR_CGI_paper} between the expected and observed matrices.')\n",
        "print(f'The likelihood of seeing this large a difference by chance is p={p_value_is_LTR_CGI_paper}.')"
      ],
      "metadata": {
        "colab": {
          "base_uri": "https://localhost:8080/"
        },
        "id": "ionorHLSu91r",
        "outputId": "bea8cea6-aa46-4c9e-85a7-154e38bd4cfb"
      },
      "execution_count": 59,
      "outputs": [
        {
          "output_type": "stream",
          "name": "stdout",
          "text": [
            "There were 1 degrees of freedom in the table.\n",
            "It expects to see the matrix\n",
            "[[ 384.91428571   36.08571429]\n",
            " [  31.08571429    2.91428571]]\n",
            "There was a difference of 0.8113150805155788 between the expected and observed matrices.\n",
            "The likelihood of seeing this large a difference by chance is p=0.367731732187215.\n"
          ]
        }
      ]
    },
    {
      "cell_type": "code",
      "source": [
        "table\n"
      ],
      "metadata": {
        "colab": {
          "base_uri": "https://localhost:8080/",
          "height": 505
        },
        "id": "FcLzTXkhXUzq",
        "outputId": "c8ab4817-8b7e-4b4f-bbc5-2224bc6c9014"
      },
      "execution_count": 60,
      "outputs": [
        {
          "output_type": "execute_result",
          "data": {
            "text/plain": [
              "    Reference_sequence_name  Start_position  End_position_excl  \\\n",
              "0                     HXB2F               2                  3   \n",
              "1                     HXB2F               6                  7   \n",
              "2                     HXB2F              23                 24   \n",
              "3                     HXB2F              24                 25   \n",
              "4                     HXB2F              37                 38   \n",
              "..                      ...             ...                ...   \n",
              "450                   HXB2F            9476               9477   \n",
              "451                   HXB2F            9491               9492   \n",
              "452                   HXB2F            9492               9493   \n",
              "453                   HXB2F            9648               9649   \n",
              "454                   HXB2F            9649               9650   \n",
              "\n",
              "    Modification_type  Score Strand  Read_coverage_at_reference  \\\n",
              "0                5hmC     35      -                          28   \n",
              "1                5hmC     32      -                          31   \n",
              "2                5hmC    814      +                         108   \n",
              "3                5hmC    857      -                          35   \n",
              "4                5hmC      9      +                         108   \n",
              "..                ...    ...    ...                         ...   \n",
              "450              5hmC    500      -                           4   \n",
              "451              5hmC    857      +                           7   \n",
              "452              5hmC   1000      -                           3   \n",
              "453              5hmC    857      +                           7   \n",
              "454              5hmC    500      -                           2   \n",
              "\n",
              "     Percentage_of_mod_bases Reading_frame_1 Reading_frame_2 Reading_frame_3  \\\n",
              "0                     100.00           LTR_5             NaN             NaN   \n",
              "1                       0.00           LTR_5             NaN             NaN   \n",
              "2                       3.41           LTR_5             NaN             NaN   \n",
              "3                      23.33           LTR_5             NaN             NaN   \n",
              "4                       0.00           LTR_5             NaN             NaN   \n",
              "..                       ...             ...             ...             ...   \n",
              "450                     0.00             NaN           LTR_3             NaN   \n",
              "451                    16.67             NaN           LTR_3             NaN   \n",
              "452                     0.00             NaN           LTR_3             NaN   \n",
              "453                    33.33             NaN           LTR_3             NaN   \n",
              "454                     0.00             NaN             NaN             NaN   \n",
              "\n",
              "    in_paper tat_reading rev_reading Unnamed: 14  \n",
              "0        NaN         NaN         NaN         NaN  \n",
              "1        NaN         NaN         NaN         NaN  \n",
              "2        NaN         NaN         NaN         NaN  \n",
              "3        NaN         NaN         NaN         NaN  \n",
              "4        NaN         NaN         NaN         NaN  \n",
              "..       ...         ...         ...         ...  \n",
              "450      NaN         NaN         NaN         NaN  \n",
              "451      NaN         NaN         NaN         NaN  \n",
              "452      NaN         NaN         NaN         NaN  \n",
              "453      NaN         NaN         NaN         NaN  \n",
              "454      NaN         NaN         NaN         NaN  \n",
              "\n",
              "[455 rows x 15 columns]"
            ],
            "text/html": [
              "\n",
              "  <div id=\"df-c14e5041-1e6b-4b19-9f46-472f37b6eede\">\n",
              "    <div class=\"colab-df-container\">\n",
              "      <div>\n",
              "<style scoped>\n",
              "    .dataframe tbody tr th:only-of-type {\n",
              "        vertical-align: middle;\n",
              "    }\n",
              "\n",
              "    .dataframe tbody tr th {\n",
              "        vertical-align: top;\n",
              "    }\n",
              "\n",
              "    .dataframe thead th {\n",
              "        text-align: right;\n",
              "    }\n",
              "</style>\n",
              "<table border=\"1\" class=\"dataframe\">\n",
              "  <thead>\n",
              "    <tr style=\"text-align: right;\">\n",
              "      <th></th>\n",
              "      <th>Reference_sequence_name</th>\n",
              "      <th>Start_position</th>\n",
              "      <th>End_position_excl</th>\n",
              "      <th>Modification_type</th>\n",
              "      <th>Score</th>\n",
              "      <th>Strand</th>\n",
              "      <th>Read_coverage_at_reference</th>\n",
              "      <th>Percentage_of_mod_bases</th>\n",
              "      <th>Reading_frame_1</th>\n",
              "      <th>Reading_frame_2</th>\n",
              "      <th>Reading_frame_3</th>\n",
              "      <th>in_paper</th>\n",
              "      <th>tat_reading</th>\n",
              "      <th>rev_reading</th>\n",
              "      <th>Unnamed: 14</th>\n",
              "    </tr>\n",
              "  </thead>\n",
              "  <tbody>\n",
              "    <tr>\n",
              "      <th>0</th>\n",
              "      <td>HXB2F</td>\n",
              "      <td>2</td>\n",
              "      <td>3</td>\n",
              "      <td>5hmC</td>\n",
              "      <td>35</td>\n",
              "      <td>-</td>\n",
              "      <td>28</td>\n",
              "      <td>100.00</td>\n",
              "      <td>LTR_5</td>\n",
              "      <td>NaN</td>\n",
              "      <td>NaN</td>\n",
              "      <td>NaN</td>\n",
              "      <td>NaN</td>\n",
              "      <td>NaN</td>\n",
              "      <td>NaN</td>\n",
              "    </tr>\n",
              "    <tr>\n",
              "      <th>1</th>\n",
              "      <td>HXB2F</td>\n",
              "      <td>6</td>\n",
              "      <td>7</td>\n",
              "      <td>5hmC</td>\n",
              "      <td>32</td>\n",
              "      <td>-</td>\n",
              "      <td>31</td>\n",
              "      <td>0.00</td>\n",
              "      <td>LTR_5</td>\n",
              "      <td>NaN</td>\n",
              "      <td>NaN</td>\n",
              "      <td>NaN</td>\n",
              "      <td>NaN</td>\n",
              "      <td>NaN</td>\n",
              "      <td>NaN</td>\n",
              "    </tr>\n",
              "    <tr>\n",
              "      <th>2</th>\n",
              "      <td>HXB2F</td>\n",
              "      <td>23</td>\n",
              "      <td>24</td>\n",
              "      <td>5hmC</td>\n",
              "      <td>814</td>\n",
              "      <td>+</td>\n",
              "      <td>108</td>\n",
              "      <td>3.41</td>\n",
              "      <td>LTR_5</td>\n",
              "      <td>NaN</td>\n",
              "      <td>NaN</td>\n",
              "      <td>NaN</td>\n",
              "      <td>NaN</td>\n",
              "      <td>NaN</td>\n",
              "      <td>NaN</td>\n",
              "    </tr>\n",
              "    <tr>\n",
              "      <th>3</th>\n",
              "      <td>HXB2F</td>\n",
              "      <td>24</td>\n",
              "      <td>25</td>\n",
              "      <td>5hmC</td>\n",
              "      <td>857</td>\n",
              "      <td>-</td>\n",
              "      <td>35</td>\n",
              "      <td>23.33</td>\n",
              "      <td>LTR_5</td>\n",
              "      <td>NaN</td>\n",
              "      <td>NaN</td>\n",
              "      <td>NaN</td>\n",
              "      <td>NaN</td>\n",
              "      <td>NaN</td>\n",
              "      <td>NaN</td>\n",
              "    </tr>\n",
              "    <tr>\n",
              "      <th>4</th>\n",
              "      <td>HXB2F</td>\n",
              "      <td>37</td>\n",
              "      <td>38</td>\n",
              "      <td>5hmC</td>\n",
              "      <td>9</td>\n",
              "      <td>+</td>\n",
              "      <td>108</td>\n",
              "      <td>0.00</td>\n",
              "      <td>LTR_5</td>\n",
              "      <td>NaN</td>\n",
              "      <td>NaN</td>\n",
              "      <td>NaN</td>\n",
              "      <td>NaN</td>\n",
              "      <td>NaN</td>\n",
              "      <td>NaN</td>\n",
              "    </tr>\n",
              "    <tr>\n",
              "      <th>...</th>\n",
              "      <td>...</td>\n",
              "      <td>...</td>\n",
              "      <td>...</td>\n",
              "      <td>...</td>\n",
              "      <td>...</td>\n",
              "      <td>...</td>\n",
              "      <td>...</td>\n",
              "      <td>...</td>\n",
              "      <td>...</td>\n",
              "      <td>...</td>\n",
              "      <td>...</td>\n",
              "      <td>...</td>\n",
              "      <td>...</td>\n",
              "      <td>...</td>\n",
              "      <td>...</td>\n",
              "    </tr>\n",
              "    <tr>\n",
              "      <th>450</th>\n",
              "      <td>HXB2F</td>\n",
              "      <td>9476</td>\n",
              "      <td>9477</td>\n",
              "      <td>5hmC</td>\n",
              "      <td>500</td>\n",
              "      <td>-</td>\n",
              "      <td>4</td>\n",
              "      <td>0.00</td>\n",
              "      <td>NaN</td>\n",
              "      <td>LTR_3</td>\n",
              "      <td>NaN</td>\n",
              "      <td>NaN</td>\n",
              "      <td>NaN</td>\n",
              "      <td>NaN</td>\n",
              "      <td>NaN</td>\n",
              "    </tr>\n",
              "    <tr>\n",
              "      <th>451</th>\n",
              "      <td>HXB2F</td>\n",
              "      <td>9491</td>\n",
              "      <td>9492</td>\n",
              "      <td>5hmC</td>\n",
              "      <td>857</td>\n",
              "      <td>+</td>\n",
              "      <td>7</td>\n",
              "      <td>16.67</td>\n",
              "      <td>NaN</td>\n",
              "      <td>LTR_3</td>\n",
              "      <td>NaN</td>\n",
              "      <td>NaN</td>\n",
              "      <td>NaN</td>\n",
              "      <td>NaN</td>\n",
              "      <td>NaN</td>\n",
              "    </tr>\n",
              "    <tr>\n",
              "      <th>452</th>\n",
              "      <td>HXB2F</td>\n",
              "      <td>9492</td>\n",
              "      <td>9493</td>\n",
              "      <td>5hmC</td>\n",
              "      <td>1000</td>\n",
              "      <td>-</td>\n",
              "      <td>3</td>\n",
              "      <td>0.00</td>\n",
              "      <td>NaN</td>\n",
              "      <td>LTR_3</td>\n",
              "      <td>NaN</td>\n",
              "      <td>NaN</td>\n",
              "      <td>NaN</td>\n",
              "      <td>NaN</td>\n",
              "      <td>NaN</td>\n",
              "    </tr>\n",
              "    <tr>\n",
              "      <th>453</th>\n",
              "      <td>HXB2F</td>\n",
              "      <td>9648</td>\n",
              "      <td>9649</td>\n",
              "      <td>5hmC</td>\n",
              "      <td>857</td>\n",
              "      <td>+</td>\n",
              "      <td>7</td>\n",
              "      <td>33.33</td>\n",
              "      <td>NaN</td>\n",
              "      <td>LTR_3</td>\n",
              "      <td>NaN</td>\n",
              "      <td>NaN</td>\n",
              "      <td>NaN</td>\n",
              "      <td>NaN</td>\n",
              "      <td>NaN</td>\n",
              "    </tr>\n",
              "    <tr>\n",
              "      <th>454</th>\n",
              "      <td>HXB2F</td>\n",
              "      <td>9649</td>\n",
              "      <td>9650</td>\n",
              "      <td>5hmC</td>\n",
              "      <td>500</td>\n",
              "      <td>-</td>\n",
              "      <td>2</td>\n",
              "      <td>0.00</td>\n",
              "      <td>NaN</td>\n",
              "      <td>NaN</td>\n",
              "      <td>NaN</td>\n",
              "      <td>NaN</td>\n",
              "      <td>NaN</td>\n",
              "      <td>NaN</td>\n",
              "      <td>NaN</td>\n",
              "    </tr>\n",
              "  </tbody>\n",
              "</table>\n",
              "<p>455 rows × 15 columns</p>\n",
              "</div>\n",
              "      <button class=\"colab-df-convert\" onclick=\"convertToInteractive('df-c14e5041-1e6b-4b19-9f46-472f37b6eede')\"\n",
              "              title=\"Convert this dataframe to an interactive table.\"\n",
              "              style=\"display:none;\">\n",
              "        \n",
              "  <svg xmlns=\"http://www.w3.org/2000/svg\" height=\"24px\"viewBox=\"0 0 24 24\"\n",
              "       width=\"24px\">\n",
              "    <path d=\"M0 0h24v24H0V0z\" fill=\"none\"/>\n",
              "    <path d=\"M18.56 5.44l.94 2.06.94-2.06 2.06-.94-2.06-.94-.94-2.06-.94 2.06-2.06.94zm-11 1L8.5 8.5l.94-2.06 2.06-.94-2.06-.94L8.5 2.5l-.94 2.06-2.06.94zm10 10l.94 2.06.94-2.06 2.06-.94-2.06-.94-.94-2.06-.94 2.06-2.06.94z\"/><path d=\"M17.41 7.96l-1.37-1.37c-.4-.4-.92-.59-1.43-.59-.52 0-1.04.2-1.43.59L10.3 9.45l-7.72 7.72c-.78.78-.78 2.05 0 2.83L4 21.41c.39.39.9.59 1.41.59.51 0 1.02-.2 1.41-.59l7.78-7.78 2.81-2.81c.8-.78.8-2.07 0-2.86zM5.41 20L4 18.59l7.72-7.72 1.47 1.35L5.41 20z\"/>\n",
              "  </svg>\n",
              "      </button>\n",
              "      \n",
              "  <style>\n",
              "    .colab-df-container {\n",
              "      display:flex;\n",
              "      flex-wrap:wrap;\n",
              "      gap: 12px;\n",
              "    }\n",
              "\n",
              "    .colab-df-convert {\n",
              "      background-color: #E8F0FE;\n",
              "      border: none;\n",
              "      border-radius: 50%;\n",
              "      cursor: pointer;\n",
              "      display: none;\n",
              "      fill: #1967D2;\n",
              "      height: 32px;\n",
              "      padding: 0 0 0 0;\n",
              "      width: 32px;\n",
              "    }\n",
              "\n",
              "    .colab-df-convert:hover {\n",
              "      background-color: #E2EBFA;\n",
              "      box-shadow: 0px 1px 2px rgba(60, 64, 67, 0.3), 0px 1px 3px 1px rgba(60, 64, 67, 0.15);\n",
              "      fill: #174EA6;\n",
              "    }\n",
              "\n",
              "    [theme=dark] .colab-df-convert {\n",
              "      background-color: #3B4455;\n",
              "      fill: #D2E3FC;\n",
              "    }\n",
              "\n",
              "    [theme=dark] .colab-df-convert:hover {\n",
              "      background-color: #434B5C;\n",
              "      box-shadow: 0px 1px 3px 1px rgba(0, 0, 0, 0.15);\n",
              "      filter: drop-shadow(0px 1px 2px rgba(0, 0, 0, 0.3));\n",
              "      fill: #FFFFFF;\n",
              "    }\n",
              "  </style>\n",
              "\n",
              "      <script>\n",
              "        const buttonEl =\n",
              "          document.querySelector('#df-c14e5041-1e6b-4b19-9f46-472f37b6eede button.colab-df-convert');\n",
              "        buttonEl.style.display =\n",
              "          google.colab.kernel.accessAllowed ? 'block' : 'none';\n",
              "\n",
              "        async function convertToInteractive(key) {\n",
              "          const element = document.querySelector('#df-c14e5041-1e6b-4b19-9f46-472f37b6eede');\n",
              "          const dataTable =\n",
              "            await google.colab.kernel.invokeFunction('convertToInteractive',\n",
              "                                                     [key], {});\n",
              "          if (!dataTable) return;\n",
              "\n",
              "          const docLinkHtml = 'Like what you see? Visit the ' +\n",
              "            '<a target=\"_blank\" href=https://colab.research.google.com/notebooks/data_table.ipynb>data table notebook</a>'\n",
              "            + ' to learn more about interactive tables.';\n",
              "          element.innerHTML = '';\n",
              "          dataTable['output_type'] = 'display_data';\n",
              "          await google.colab.output.renderOutput(dataTable, element);\n",
              "          const docLink = document.createElement('div');\n",
              "          docLink.innerHTML = docLinkHtml;\n",
              "          element.appendChild(docLink);\n",
              "        }\n",
              "      </script>\n",
              "    </div>\n",
              "  </div>\n",
              "  "
            ]
          },
          "metadata": {},
          "execution_count": 60
        }
      ]
    },
    {
      "cell_type": "code",
      "source": [
        "is_score = table['Score']>500\n",
        "is_score"
      ],
      "metadata": {
        "colab": {
          "base_uri": "https://localhost:8080/"
        },
        "id": "BsJDznpQvONQ",
        "outputId": "e781bf44-1a0f-4b69-91c9-c3f2d50be31c"
      },
      "execution_count": 61,
      "outputs": [
        {
          "output_type": "execute_result",
          "data": {
            "text/plain": [
              "0      False\n",
              "1      False\n",
              "2       True\n",
              "3       True\n",
              "4      False\n",
              "       ...  \n",
              "450    False\n",
              "451     True\n",
              "452     True\n",
              "453     True\n",
              "454    False\n",
              "Name: Score, Length: 455, dtype: bool"
            ]
          },
          "metadata": {},
          "execution_count": 61
        }
      ]
    },
    {
      "cell_type": "code",
      "source": [
        "is_LTR_CGI_paper_crosstab_score = pd.crosstab (is_LTR_CGI_paper, is_score)\n",
        "is_LTR_CGI_paper_crosstab_score"
      ],
      "metadata": {
        "colab": {
          "base_uri": "https://localhost:8080/",
          "height": 143
        },
        "id": "DEkCh6KPvmrz",
        "outputId": "158cfb68-fa60-4e20-c982-10f322b2f6c6"
      },
      "execution_count": 62,
      "outputs": [
        {
          "output_type": "execute_result",
          "data": {
            "text/plain": [
              "Score     False  True\n",
              "in_paper             \n",
              "False       250   171\n",
              "True         17    17"
            ],
            "text/html": [
              "\n",
              "  <div id=\"df-53d18ccb-9d12-427f-8470-237d2e73c96f\">\n",
              "    <div class=\"colab-df-container\">\n",
              "      <div>\n",
              "<style scoped>\n",
              "    .dataframe tbody tr th:only-of-type {\n",
              "        vertical-align: middle;\n",
              "    }\n",
              "\n",
              "    .dataframe tbody tr th {\n",
              "        vertical-align: top;\n",
              "    }\n",
              "\n",
              "    .dataframe thead th {\n",
              "        text-align: right;\n",
              "    }\n",
              "</style>\n",
              "<table border=\"1\" class=\"dataframe\">\n",
              "  <thead>\n",
              "    <tr style=\"text-align: right;\">\n",
              "      <th>Score</th>\n",
              "      <th>False</th>\n",
              "      <th>True</th>\n",
              "    </tr>\n",
              "    <tr>\n",
              "      <th>in_paper</th>\n",
              "      <th></th>\n",
              "      <th></th>\n",
              "    </tr>\n",
              "  </thead>\n",
              "  <tbody>\n",
              "    <tr>\n",
              "      <th>False</th>\n",
              "      <td>250</td>\n",
              "      <td>171</td>\n",
              "    </tr>\n",
              "    <tr>\n",
              "      <th>True</th>\n",
              "      <td>17</td>\n",
              "      <td>17</td>\n",
              "    </tr>\n",
              "  </tbody>\n",
              "</table>\n",
              "</div>\n",
              "      <button class=\"colab-df-convert\" onclick=\"convertToInteractive('df-53d18ccb-9d12-427f-8470-237d2e73c96f')\"\n",
              "              title=\"Convert this dataframe to an interactive table.\"\n",
              "              style=\"display:none;\">\n",
              "        \n",
              "  <svg xmlns=\"http://www.w3.org/2000/svg\" height=\"24px\"viewBox=\"0 0 24 24\"\n",
              "       width=\"24px\">\n",
              "    <path d=\"M0 0h24v24H0V0z\" fill=\"none\"/>\n",
              "    <path d=\"M18.56 5.44l.94 2.06.94-2.06 2.06-.94-2.06-.94-.94-2.06-.94 2.06-2.06.94zm-11 1L8.5 8.5l.94-2.06 2.06-.94-2.06-.94L8.5 2.5l-.94 2.06-2.06.94zm10 10l.94 2.06.94-2.06 2.06-.94-2.06-.94-.94-2.06-.94 2.06-2.06.94z\"/><path d=\"M17.41 7.96l-1.37-1.37c-.4-.4-.92-.59-1.43-.59-.52 0-1.04.2-1.43.59L10.3 9.45l-7.72 7.72c-.78.78-.78 2.05 0 2.83L4 21.41c.39.39.9.59 1.41.59.51 0 1.02-.2 1.41-.59l7.78-7.78 2.81-2.81c.8-.78.8-2.07 0-2.86zM5.41 20L4 18.59l7.72-7.72 1.47 1.35L5.41 20z\"/>\n",
              "  </svg>\n",
              "      </button>\n",
              "      \n",
              "  <style>\n",
              "    .colab-df-container {\n",
              "      display:flex;\n",
              "      flex-wrap:wrap;\n",
              "      gap: 12px;\n",
              "    }\n",
              "\n",
              "    .colab-df-convert {\n",
              "      background-color: #E8F0FE;\n",
              "      border: none;\n",
              "      border-radius: 50%;\n",
              "      cursor: pointer;\n",
              "      display: none;\n",
              "      fill: #1967D2;\n",
              "      height: 32px;\n",
              "      padding: 0 0 0 0;\n",
              "      width: 32px;\n",
              "    }\n",
              "\n",
              "    .colab-df-convert:hover {\n",
              "      background-color: #E2EBFA;\n",
              "      box-shadow: 0px 1px 2px rgba(60, 64, 67, 0.3), 0px 1px 3px 1px rgba(60, 64, 67, 0.15);\n",
              "      fill: #174EA6;\n",
              "    }\n",
              "\n",
              "    [theme=dark] .colab-df-convert {\n",
              "      background-color: #3B4455;\n",
              "      fill: #D2E3FC;\n",
              "    }\n",
              "\n",
              "    [theme=dark] .colab-df-convert:hover {\n",
              "      background-color: #434B5C;\n",
              "      box-shadow: 0px 1px 3px 1px rgba(0, 0, 0, 0.15);\n",
              "      filter: drop-shadow(0px 1px 2px rgba(0, 0, 0, 0.3));\n",
              "      fill: #FFFFFF;\n",
              "    }\n",
              "  </style>\n",
              "\n",
              "      <script>\n",
              "        const buttonEl =\n",
              "          document.querySelector('#df-53d18ccb-9d12-427f-8470-237d2e73c96f button.colab-df-convert');\n",
              "        buttonEl.style.display =\n",
              "          google.colab.kernel.accessAllowed ? 'block' : 'none';\n",
              "\n",
              "        async function convertToInteractive(key) {\n",
              "          const element = document.querySelector('#df-53d18ccb-9d12-427f-8470-237d2e73c96f');\n",
              "          const dataTable =\n",
              "            await google.colab.kernel.invokeFunction('convertToInteractive',\n",
              "                                                     [key], {});\n",
              "          if (!dataTable) return;\n",
              "\n",
              "          const docLinkHtml = 'Like what you see? Visit the ' +\n",
              "            '<a target=\"_blank\" href=https://colab.research.google.com/notebooks/data_table.ipynb>data table notebook</a>'\n",
              "            + ' to learn more about interactive tables.';\n",
              "          element.innerHTML = '';\n",
              "          dataTable['output_type'] = 'display_data';\n",
              "          await google.colab.output.renderOutput(dataTable, element);\n",
              "          const docLink = document.createElement('div');\n",
              "          docLink.innerHTML = docLinkHtml;\n",
              "          element.appendChild(docLink);\n",
              "        }\n",
              "      </script>\n",
              "    </div>\n",
              "  </div>\n",
              "  "
            ]
          },
          "metadata": {},
          "execution_count": 62
        }
      ]
    },
    {
      "cell_type": "code",
      "source": [
        "delta_is_LTR_CGI_paper_score, p_value_is_LTR_CGI_paper_score, dof_is_LTR_CGI_paper_score, c_expected_is_LTR_CGI_paper_score = chi2_contingency (is_LTR_CGI_paper_crosstab_score)"
      ],
      "metadata": {
        "id": "sKPrbW3yvu4M"
      },
      "execution_count": 63,
      "outputs": []
    },
    {
      "cell_type": "code",
      "source": [
        "print(f'There were {dof_is_LTR_CGI_paper} degrees of freedom in the table.')\n",
        "print(f'It expects to see the matrix\\n{c_expected_is_LTR_CGI_paper}')\n",
        "\n",
        "print(f'There was a difference of {delta_is_LTR_CGI_paper} between the expected and observed matrices.')\n",
        "print(f'The likelihood of seeing this large a difference by chance is p={p_value_is_LTR_CGI_paper}.')"
      ],
      "metadata": {
        "colab": {
          "base_uri": "https://localhost:8080/"
        },
        "id": "1QTK2ucXv-0F",
        "outputId": "e799c709-483c-4c62-b780-7db91af80556"
      },
      "execution_count": 64,
      "outputs": [
        {
          "output_type": "stream",
          "name": "stdout",
          "text": [
            "There were 1 degrees of freedom in the table.\n",
            "It expects to see the matrix\n",
            "[[ 384.91428571   36.08571429]\n",
            " [  31.08571429    2.91428571]]\n",
            "There was a difference of 0.8113150805155788 between the expected and observed matrices.\n",
            "The likelihood of seeing this large a difference by chance is p=0.367731732187215.\n"
          ]
        }
      ]
    },
    {
      "cell_type": "code",
      "source": [
        "table\n"
      ],
      "metadata": {
        "colab": {
          "base_uri": "https://localhost:8080/",
          "height": 505
        },
        "id": "oQfBnyIvUsU6",
        "outputId": "1cc7a18d-edd0-455f-feda-f509d254229c"
      },
      "execution_count": 74,
      "outputs": [
        {
          "output_type": "execute_result",
          "data": {
            "text/plain": [
              "    Reference_sequence_name  Start_position  End_position_excl  \\\n",
              "0                     HXB2F               2                  3   \n",
              "1                     HXB2F               6                  7   \n",
              "2                     HXB2F              23                 24   \n",
              "3                     HXB2F              24                 25   \n",
              "4                     HXB2F              37                 38   \n",
              "..                      ...             ...                ...   \n",
              "450                   HXB2F            9476               9477   \n",
              "451                   HXB2F            9491               9492   \n",
              "452                   HXB2F            9492               9493   \n",
              "453                   HXB2F            9648               9649   \n",
              "454                   HXB2F            9649               9650   \n",
              "\n",
              "    Modification_type  Score Strand  Read_coverage_at_reference  \\\n",
              "0                5hmC     35      -                          28   \n",
              "1                5hmC     32      -                          31   \n",
              "2                5hmC    814      +                         108   \n",
              "3                5hmC    857      -                          35   \n",
              "4                5hmC      9      +                         108   \n",
              "..                ...    ...    ...                         ...   \n",
              "450              5hmC    500      -                           4   \n",
              "451              5hmC    857      +                           7   \n",
              "452              5hmC   1000      -                           3   \n",
              "453              5hmC    857      +                           7   \n",
              "454              5hmC    500      -                           2   \n",
              "\n",
              "     Percentage_of_mod_bases Reading_frame_1 Reading_frame_2 Reading_frame_3  \\\n",
              "0                     100.00           LTR_5             NaN             NaN   \n",
              "1                       0.00           LTR_5             NaN             NaN   \n",
              "2                       3.41           LTR_5             NaN             NaN   \n",
              "3                      23.33           LTR_5             NaN             NaN   \n",
              "4                       0.00           LTR_5             NaN             NaN   \n",
              "..                       ...             ...             ...             ...   \n",
              "450                     0.00             NaN           LTR_3             NaN   \n",
              "451                    16.67             NaN           LTR_3             NaN   \n",
              "452                     0.00             NaN           LTR_3             NaN   \n",
              "453                    33.33             NaN           LTR_3             NaN   \n",
              "454                     0.00             NaN             NaN             NaN   \n",
              "\n",
              "    in_paper tat_reading rev_reading Unnamed: 14  \n",
              "0        NaN         NaN         NaN         NaN  \n",
              "1        NaN         NaN         NaN         NaN  \n",
              "2        NaN         NaN         NaN         NaN  \n",
              "3        NaN         NaN         NaN         NaN  \n",
              "4        NaN         NaN         NaN         NaN  \n",
              "..       ...         ...         ...         ...  \n",
              "450      NaN         NaN         NaN         NaN  \n",
              "451      NaN         NaN         NaN         NaN  \n",
              "452      NaN         NaN         NaN         NaN  \n",
              "453      NaN         NaN         NaN         NaN  \n",
              "454      NaN         NaN         NaN         NaN  \n",
              "\n",
              "[455 rows x 15 columns]"
            ],
            "text/html": [
              "\n",
              "  <div id=\"df-7c755772-7c6e-4d2a-8ddc-3ed7fdbbc00d\">\n",
              "    <div class=\"colab-df-container\">\n",
              "      <div>\n",
              "<style scoped>\n",
              "    .dataframe tbody tr th:only-of-type {\n",
              "        vertical-align: middle;\n",
              "    }\n",
              "\n",
              "    .dataframe tbody tr th {\n",
              "        vertical-align: top;\n",
              "    }\n",
              "\n",
              "    .dataframe thead th {\n",
              "        text-align: right;\n",
              "    }\n",
              "</style>\n",
              "<table border=\"1\" class=\"dataframe\">\n",
              "  <thead>\n",
              "    <tr style=\"text-align: right;\">\n",
              "      <th></th>\n",
              "      <th>Reference_sequence_name</th>\n",
              "      <th>Start_position</th>\n",
              "      <th>End_position_excl</th>\n",
              "      <th>Modification_type</th>\n",
              "      <th>Score</th>\n",
              "      <th>Strand</th>\n",
              "      <th>Read_coverage_at_reference</th>\n",
              "      <th>Percentage_of_mod_bases</th>\n",
              "      <th>Reading_frame_1</th>\n",
              "      <th>Reading_frame_2</th>\n",
              "      <th>Reading_frame_3</th>\n",
              "      <th>in_paper</th>\n",
              "      <th>tat_reading</th>\n",
              "      <th>rev_reading</th>\n",
              "      <th>Unnamed: 14</th>\n",
              "    </tr>\n",
              "  </thead>\n",
              "  <tbody>\n",
              "    <tr>\n",
              "      <th>0</th>\n",
              "      <td>HXB2F</td>\n",
              "      <td>2</td>\n",
              "      <td>3</td>\n",
              "      <td>5hmC</td>\n",
              "      <td>35</td>\n",
              "      <td>-</td>\n",
              "      <td>28</td>\n",
              "      <td>100.00</td>\n",
              "      <td>LTR_5</td>\n",
              "      <td>NaN</td>\n",
              "      <td>NaN</td>\n",
              "      <td>NaN</td>\n",
              "      <td>NaN</td>\n",
              "      <td>NaN</td>\n",
              "      <td>NaN</td>\n",
              "    </tr>\n",
              "    <tr>\n",
              "      <th>1</th>\n",
              "      <td>HXB2F</td>\n",
              "      <td>6</td>\n",
              "      <td>7</td>\n",
              "      <td>5hmC</td>\n",
              "      <td>32</td>\n",
              "      <td>-</td>\n",
              "      <td>31</td>\n",
              "      <td>0.00</td>\n",
              "      <td>LTR_5</td>\n",
              "      <td>NaN</td>\n",
              "      <td>NaN</td>\n",
              "      <td>NaN</td>\n",
              "      <td>NaN</td>\n",
              "      <td>NaN</td>\n",
              "      <td>NaN</td>\n",
              "    </tr>\n",
              "    <tr>\n",
              "      <th>2</th>\n",
              "      <td>HXB2F</td>\n",
              "      <td>23</td>\n",
              "      <td>24</td>\n",
              "      <td>5hmC</td>\n",
              "      <td>814</td>\n",
              "      <td>+</td>\n",
              "      <td>108</td>\n",
              "      <td>3.41</td>\n",
              "      <td>LTR_5</td>\n",
              "      <td>NaN</td>\n",
              "      <td>NaN</td>\n",
              "      <td>NaN</td>\n",
              "      <td>NaN</td>\n",
              "      <td>NaN</td>\n",
              "      <td>NaN</td>\n",
              "    </tr>\n",
              "    <tr>\n",
              "      <th>3</th>\n",
              "      <td>HXB2F</td>\n",
              "      <td>24</td>\n",
              "      <td>25</td>\n",
              "      <td>5hmC</td>\n",
              "      <td>857</td>\n",
              "      <td>-</td>\n",
              "      <td>35</td>\n",
              "      <td>23.33</td>\n",
              "      <td>LTR_5</td>\n",
              "      <td>NaN</td>\n",
              "      <td>NaN</td>\n",
              "      <td>NaN</td>\n",
              "      <td>NaN</td>\n",
              "      <td>NaN</td>\n",
              "      <td>NaN</td>\n",
              "    </tr>\n",
              "    <tr>\n",
              "      <th>4</th>\n",
              "      <td>HXB2F</td>\n",
              "      <td>37</td>\n",
              "      <td>38</td>\n",
              "      <td>5hmC</td>\n",
              "      <td>9</td>\n",
              "      <td>+</td>\n",
              "      <td>108</td>\n",
              "      <td>0.00</td>\n",
              "      <td>LTR_5</td>\n",
              "      <td>NaN</td>\n",
              "      <td>NaN</td>\n",
              "      <td>NaN</td>\n",
              "      <td>NaN</td>\n",
              "      <td>NaN</td>\n",
              "      <td>NaN</td>\n",
              "    </tr>\n",
              "    <tr>\n",
              "      <th>...</th>\n",
              "      <td>...</td>\n",
              "      <td>...</td>\n",
              "      <td>...</td>\n",
              "      <td>...</td>\n",
              "      <td>...</td>\n",
              "      <td>...</td>\n",
              "      <td>...</td>\n",
              "      <td>...</td>\n",
              "      <td>...</td>\n",
              "      <td>...</td>\n",
              "      <td>...</td>\n",
              "      <td>...</td>\n",
              "      <td>...</td>\n",
              "      <td>...</td>\n",
              "      <td>...</td>\n",
              "    </tr>\n",
              "    <tr>\n",
              "      <th>450</th>\n",
              "      <td>HXB2F</td>\n",
              "      <td>9476</td>\n",
              "      <td>9477</td>\n",
              "      <td>5hmC</td>\n",
              "      <td>500</td>\n",
              "      <td>-</td>\n",
              "      <td>4</td>\n",
              "      <td>0.00</td>\n",
              "      <td>NaN</td>\n",
              "      <td>LTR_3</td>\n",
              "      <td>NaN</td>\n",
              "      <td>NaN</td>\n",
              "      <td>NaN</td>\n",
              "      <td>NaN</td>\n",
              "      <td>NaN</td>\n",
              "    </tr>\n",
              "    <tr>\n",
              "      <th>451</th>\n",
              "      <td>HXB2F</td>\n",
              "      <td>9491</td>\n",
              "      <td>9492</td>\n",
              "      <td>5hmC</td>\n",
              "      <td>857</td>\n",
              "      <td>+</td>\n",
              "      <td>7</td>\n",
              "      <td>16.67</td>\n",
              "      <td>NaN</td>\n",
              "      <td>LTR_3</td>\n",
              "      <td>NaN</td>\n",
              "      <td>NaN</td>\n",
              "      <td>NaN</td>\n",
              "      <td>NaN</td>\n",
              "      <td>NaN</td>\n",
              "    </tr>\n",
              "    <tr>\n",
              "      <th>452</th>\n",
              "      <td>HXB2F</td>\n",
              "      <td>9492</td>\n",
              "      <td>9493</td>\n",
              "      <td>5hmC</td>\n",
              "      <td>1000</td>\n",
              "      <td>-</td>\n",
              "      <td>3</td>\n",
              "      <td>0.00</td>\n",
              "      <td>NaN</td>\n",
              "      <td>LTR_3</td>\n",
              "      <td>NaN</td>\n",
              "      <td>NaN</td>\n",
              "      <td>NaN</td>\n",
              "      <td>NaN</td>\n",
              "      <td>NaN</td>\n",
              "    </tr>\n",
              "    <tr>\n",
              "      <th>453</th>\n",
              "      <td>HXB2F</td>\n",
              "      <td>9648</td>\n",
              "      <td>9649</td>\n",
              "      <td>5hmC</td>\n",
              "      <td>857</td>\n",
              "      <td>+</td>\n",
              "      <td>7</td>\n",
              "      <td>33.33</td>\n",
              "      <td>NaN</td>\n",
              "      <td>LTR_3</td>\n",
              "      <td>NaN</td>\n",
              "      <td>NaN</td>\n",
              "      <td>NaN</td>\n",
              "      <td>NaN</td>\n",
              "      <td>NaN</td>\n",
              "    </tr>\n",
              "    <tr>\n",
              "      <th>454</th>\n",
              "      <td>HXB2F</td>\n",
              "      <td>9649</td>\n",
              "      <td>9650</td>\n",
              "      <td>5hmC</td>\n",
              "      <td>500</td>\n",
              "      <td>-</td>\n",
              "      <td>2</td>\n",
              "      <td>0.00</td>\n",
              "      <td>NaN</td>\n",
              "      <td>NaN</td>\n",
              "      <td>NaN</td>\n",
              "      <td>NaN</td>\n",
              "      <td>NaN</td>\n",
              "      <td>NaN</td>\n",
              "      <td>NaN</td>\n",
              "    </tr>\n",
              "  </tbody>\n",
              "</table>\n",
              "<p>455 rows × 15 columns</p>\n",
              "</div>\n",
              "      <button class=\"colab-df-convert\" onclick=\"convertToInteractive('df-7c755772-7c6e-4d2a-8ddc-3ed7fdbbc00d')\"\n",
              "              title=\"Convert this dataframe to an interactive table.\"\n",
              "              style=\"display:none;\">\n",
              "        \n",
              "  <svg xmlns=\"http://www.w3.org/2000/svg\" height=\"24px\"viewBox=\"0 0 24 24\"\n",
              "       width=\"24px\">\n",
              "    <path d=\"M0 0h24v24H0V0z\" fill=\"none\"/>\n",
              "    <path d=\"M18.56 5.44l.94 2.06.94-2.06 2.06-.94-2.06-.94-.94-2.06-.94 2.06-2.06.94zm-11 1L8.5 8.5l.94-2.06 2.06-.94-2.06-.94L8.5 2.5l-.94 2.06-2.06.94zm10 10l.94 2.06.94-2.06 2.06-.94-2.06-.94-.94-2.06-.94 2.06-2.06.94z\"/><path d=\"M17.41 7.96l-1.37-1.37c-.4-.4-.92-.59-1.43-.59-.52 0-1.04.2-1.43.59L10.3 9.45l-7.72 7.72c-.78.78-.78 2.05 0 2.83L4 21.41c.39.39.9.59 1.41.59.51 0 1.02-.2 1.41-.59l7.78-7.78 2.81-2.81c.8-.78.8-2.07 0-2.86zM5.41 20L4 18.59l7.72-7.72 1.47 1.35L5.41 20z\"/>\n",
              "  </svg>\n",
              "      </button>\n",
              "      \n",
              "  <style>\n",
              "    .colab-df-container {\n",
              "      display:flex;\n",
              "      flex-wrap:wrap;\n",
              "      gap: 12px;\n",
              "    }\n",
              "\n",
              "    .colab-df-convert {\n",
              "      background-color: #E8F0FE;\n",
              "      border: none;\n",
              "      border-radius: 50%;\n",
              "      cursor: pointer;\n",
              "      display: none;\n",
              "      fill: #1967D2;\n",
              "      height: 32px;\n",
              "      padding: 0 0 0 0;\n",
              "      width: 32px;\n",
              "    }\n",
              "\n",
              "    .colab-df-convert:hover {\n",
              "      background-color: #E2EBFA;\n",
              "      box-shadow: 0px 1px 2px rgba(60, 64, 67, 0.3), 0px 1px 3px 1px rgba(60, 64, 67, 0.15);\n",
              "      fill: #174EA6;\n",
              "    }\n",
              "\n",
              "    [theme=dark] .colab-df-convert {\n",
              "      background-color: #3B4455;\n",
              "      fill: #D2E3FC;\n",
              "    }\n",
              "\n",
              "    [theme=dark] .colab-df-convert:hover {\n",
              "      background-color: #434B5C;\n",
              "      box-shadow: 0px 1px 3px 1px rgba(0, 0, 0, 0.15);\n",
              "      filter: drop-shadow(0px 1px 2px rgba(0, 0, 0, 0.3));\n",
              "      fill: #FFFFFF;\n",
              "    }\n",
              "  </style>\n",
              "\n",
              "      <script>\n",
              "        const buttonEl =\n",
              "          document.querySelector('#df-7c755772-7c6e-4d2a-8ddc-3ed7fdbbc00d button.colab-df-convert');\n",
              "        buttonEl.style.display =\n",
              "          google.colab.kernel.accessAllowed ? 'block' : 'none';\n",
              "\n",
              "        async function convertToInteractive(key) {\n",
              "          const element = document.querySelector('#df-7c755772-7c6e-4d2a-8ddc-3ed7fdbbc00d');\n",
              "          const dataTable =\n",
              "            await google.colab.kernel.invokeFunction('convertToInteractive',\n",
              "                                                     [key], {});\n",
              "          if (!dataTable) return;\n",
              "\n",
              "          const docLinkHtml = 'Like what you see? Visit the ' +\n",
              "            '<a target=\"_blank\" href=https://colab.research.google.com/notebooks/data_table.ipynb>data table notebook</a>'\n",
              "            + ' to learn more about interactive tables.';\n",
              "          element.innerHTML = '';\n",
              "          dataTable['output_type'] = 'display_data';\n",
              "          await google.colab.output.renderOutput(dataTable, element);\n",
              "          const docLink = document.createElement('div');\n",
              "          docLink.innerHTML = docLinkHtml;\n",
              "          element.appendChild(docLink);\n",
              "        }\n",
              "      </script>\n",
              "    </div>\n",
              "  </div>\n",
              "  "
            ]
          },
          "metadata": {},
          "execution_count": 74
        }
      ]
    },
    {
      "cell_type": "code",
      "source": [
        "sns.scatterplot(data=table, x='Start_position', y='Read_coverage_at_reference')"
      ],
      "metadata": {
        "colab": {
          "base_uri": "https://localhost:8080/",
          "height": 297
        },
        "id": "1ViDMm8mUtd5",
        "outputId": "4c9e5151-0370-48f4-b346-428515d84c04"
      },
      "execution_count": 80,
      "outputs": [
        {
          "output_type": "execute_result",
          "data": {
            "text/plain": [
              "<AxesSubplot:xlabel='Start_position', ylabel='Read_coverage_at_reference'>"
            ]
          },
          "metadata": {},
          "execution_count": 80
        },
        {
          "output_type": "display_data",
          "data": {
            "text/plain": [
              "<Figure size 432x288 with 1 Axes>"
            ],
            "image/png": "[encoded data removed]"
          },
          "metadata": {
            "needs_background": "light"
          }
        }
      ]
    },
    {
      "cell_type": "code",
      "source": [
        "sns.scatterplot(data=table, x='Start_position', y='Percentage_of_mod_bases')"
      ],
      "metadata": {
        "colab": {
          "base_uri": "https://localhost:8080/",
          "height": 297
        },
        "id": "3N5iLJ1uae_Z",
        "outputId": "d7143f9e-9627-473f-a71c-2e4af3d3b41c"
      },
      "execution_count": 76,
      "outputs": [
        {
          "output_type": "execute_result",
          "data": {
            "text/plain": [
              "<AxesSubplot:xlabel='Start_position', ylabel='Percentage_of_mod_bases'>"
            ]
          },
          "metadata": {},
          "execution_count": 76
        },
        {
          "output_type": "display_data",
          "data": {
            "text/plain": [
              "<Figure size 432x288 with 1 Axes>"
            ],
            "image/png": "[encoded data removed]"
          },
          "metadata": {
            "needs_background": "light"
          }
        }
      ]
    },
    {
      "cell_type": "code",
      "source": [
        "mod_score_bases = table.groupby('Start_position')['Percentage_of_mod_bases'].first()/100\n",
        "mod_score_bases "
      ],
      "metadata": {
        "colab": {
          "base_uri": "https://localhost:8080/"
        },
        "id": "tZblgJ0WUtf7",
        "outputId": "bf9b890b-0e54-4313-dab9-218951f7fadd"
      },
      "execution_count": 77,
      "outputs": [
        {
          "output_type": "execute_result",
          "data": {
            "text/plain": [
              "Start_position\n",
              "2       1.0000\n",
              "6       0.0000\n",
              "23      0.0341\n",
              "24      0.2333\n",
              "37      0.0000\n",
              "         ...  \n",
              "9476    0.0000\n",
              "9491    0.1667\n",
              "9492    0.0000\n",
              "9648    0.3333\n",
              "9649    0.0000\n",
              "Name: Percentage_of_mod_bases, Length: 455, dtype: float64"
            ]
          },
          "metadata": {},
          "execution_count": 77
        }
      ]
    },
    {
      "cell_type": "code",
      "source": [
        "ax = mod_score_bases.rolling(10).sum().plot()\n",
        "ax.set_ylabel('weighted sum')"
      ],
      "metadata": {
        "colab": {
          "base_uri": "https://localhost:8080/",
          "height": 297
        },
        "id": "T2aMky8oUthf",
        "outputId": "5e1c6646-d201-4b42-ec05-ef70087eae84"
      },
      "execution_count": 82,
      "outputs": [
        {
          "output_type": "execute_result",
          "data": {
            "text/plain": [
              "Text(0, 0.5, 'weighted sum')"
            ]
          },
          "metadata": {},
          "execution_count": 82
        },
        {
          "output_type": "display_data",
          "data": {
            "text/plain": [
              "<Figure size 432x288 with 1 Axes>"
            ],
            "image/png": "[encoded data removed]"
          },
          "metadata": {
            "needs_background": "light"
          }
        }
      ]
    },
    {
      "cell_type": "code",
      "source": [
        "ax = mod_score_bases.rolling(20).sum().plot()\n",
        "ax.set_ylabel('weighted sum')"
      ],
      "metadata": {
        "colab": {
          "base_uri": "https://localhost:8080/",
          "height": 297
        },
        "id": "N8QciN9SXqdZ",
        "outputId": "edac0e45-ee08-40a8-8fb1-ca876d6f9c54"
      },
      "execution_count": 83,
      "outputs": [
        {
          "output_type": "execute_result",
          "data": {
            "text/plain": [
              "Text(0, 0.5, 'weighted sum')"
            ]
          },
          "metadata": {},
          "execution_count": 83
        },
        {
          "output_type": "display_data",
          "data": {
            "text/plain": [
              "<Figure size 432x288 with 1 Axes>"
            ],
            "image/png": "[encoded data removed]"
          },
          "metadata": {
            "needs_background": "light"
          }
        }
      ]
    },
    {
      "cell_type": "code",
      "source": [
        "ax = mod_score_bases.rolling(30).sum().plot()\n",
        "ax.set_ylabel('weighted sum')"
      ],
      "metadata": {
        "colab": {
          "base_uri": "https://localhost:8080/",
          "height": 297
        },
        "id": "egOrjEonXqfT",
        "outputId": "f39d90a6-3bf6-4a8e-f63a-b33381baf458"
      },
      "execution_count": 84,
      "outputs": [
        {
          "output_type": "execute_result",
          "data": {
            "text/plain": [
              "Text(0, 0.5, 'weighted sum')"
            ]
          },
          "metadata": {},
          "execution_count": 84
        },
        {
          "output_type": "display_data",
          "data": {
            "text/plain": [
              "<Figure size 432x288 with 1 Axes>"
            ],
            "image/png": "[encoded data removed]"
          },
          "metadata": {
            "needs_background": "light"
          }
        }
      ]
    },
    {
      "cell_type": "code",
      "source": [
        "ax = mod_score_bases.rolling(50).sum().plot()\n",
        "ax.set_ylabel('sum(%mod_bases)')"
      ],
      "metadata": {
        "colab": {
          "base_uri": "https://localhost:8080/",
          "height": 297
        },
        "id": "nj8NHGAhXqhJ",
        "outputId": "60a7b095-0f27-408f-ba66-4ae5419ef1c3"
      },
      "execution_count": 88,
      "outputs": [
        {
          "output_type": "execute_result",
          "data": {
            "text/plain": [
              "Text(0, 0.5, 'sum(%mod_bases)')"
            ]
          },
          "metadata": {},
          "execution_count": 88
        },
        {
          "output_type": "display_data",
          "data": {
            "text/plain": [
              "<Figure size 432x288 with 1 Axes>"
            ],
            "image/png": "[encoded data removed]"
          },
          "metadata": {
            "needs_background": "light"
          }
        }
      ]
    },
    {
      "cell_type": "code",
      "source": [
        "ax = mod_score_bases.rolling(75).sum().plot()\n",
        "ax.set_ylabel('weighted sum')"
      ],
      "metadata": {
        "colab": {
          "base_uri": "https://localhost:8080/",
          "height": 297
        },
        "id": "4sY02M-dXqi9",
        "outputId": "ee716fdd-0fd2-449c-f433-b1299b7f1d36"
      },
      "execution_count": 86,
      "outputs": [
        {
          "output_type": "execute_result",
          "data": {
            "text/plain": [
              "Text(0, 0.5, 'weighted sum')"
            ]
          },
          "metadata": {},
          "execution_count": 86
        },
        {
          "output_type": "display_data",
          "data": {
            "text/plain": [
              "<Figure size 432x288 with 1 Axes>"
            ],
            "image/png": "[encoded data removed]"
          },
          "metadata": {
            "needs_background": "light"
          }
        }
      ]
    },
    {
      "cell_type": "code",
      "source": [
        "ax = mod_score_bases.rolling(100).sum().plot()\n",
        "ax.set_ylabel('weighted sum')"
      ],
      "metadata": {
        "colab": {
          "base_uri": "https://localhost:8080/",
          "height": 299
        },
        "id": "11rHyXxkeToJ",
        "outputId": "e64dfc27-aab1-4d2b-a4cc-e97e2fbe09c0"
      },
      "execution_count": 87,
      "outputs": [
        {
          "output_type": "execute_result",
          "data": {
            "text/plain": [
              "Text(0, 0.5, 'weighted sum')"
            ]
          },
          "metadata": {},
          "execution_count": 87
        },
        {
          "output_type": "display_data",
          "data": {
            "text/plain": [
              "<Figure size 432x288 with 1 Axes>"
            ],
            "image/png": "[encoded data removed]"
          },
          "metadata": {
            "needs_background": "light"
          }
        }
      ]
    },
    {
      "cell_type": "code",
      "source": [
        "# I did this by hand, took a while.\n",
        "\n",
        "# positions 2, 95, 186, 332, 410, 420, 463, 597 were found to be methylated in 50% of each Read_coverage_at_reference from the table. \n",
        "total_bases_LTR_five = 634\n",
        "total_mod_LTR_five = 88\n",
        "total_unmod_LTR_five = 546\n",
        "mod_LTR_five_above_cut_off = 7\n",
        "\n",
        "\n",
        "# positions 1374, 1582, 1854, 1858, 1879, 2138, 2164 were found to be methylated in >50% of each Read_coverage_at_reference from the table.\n",
        "total_bases_gag = 1523\n",
        "total_mod_gag = 75\n",
        "total_unmod_gag = 1448\n",
        "mod_gag_above_cut_off = 7\n",
        "\n",
        "\n",
        "# positions 3212, 3466, 3829, 4038, 4052, 4092, 4153, 4184, 4598, 4664 were found to be methylated >50% of each Read_coverage_at_reference from the table.\n",
        "total_bases_pol = 2738\n",
        "total_mod_pol = 59\n",
        "total_unmod_pol = 2679\n",
        "mod_pol_above_cut_off = 10\n",
        "\n",
        "# positions 5448, 5449 were found to be methylated >50% of each Read_coverage_at_reference from the table.\n",
        "total_bases_vif = 578\n",
        "total_mod_vif = 8\n",
        "total_unmod_vif = 570\n",
        "mod_vif_above_cut_off = 2\n",
        "\n",
        "# No positions were found to be methylated in >50% of each Read_coverage_at_reference from the table.\n",
        "total_base_vpr = 280\n",
        "total_mod_vpr = 10\n",
        "total_unmod_vpr  = 270\n",
        "mod_vpr_above_cut_off = 0\n",
        "\n",
        "# positions 5984 was found to be methylated >50% of each Read_coverage_at_reference from the table.\n",
        "total_bases_tat = 301\n",
        "total_mod_tat = 25\n",
        "total_unmod_tat = 276\n",
        "mod_tat_above_cut_off = 1\n",
        "\n",
        "# positions 5984 was found to be methylated >50% of each Read_coverage_at_reference from the table.\n",
        "total_bases_rev = 349\n",
        "total_mod_rev = 39\n",
        "total_unmod_rev = 310\n",
        "mod_rev_above_cut_off = 1\n",
        "\n",
        "# positions 7357, 7633, 7785, 8179, 8323,  were found to be methylated >50% of each Read_coverage_at_reference from the table.\n",
        "total_bases_env = 2570\n",
        "total_mod_env = 100\n",
        "total_unmod_env = 2470\n",
        "mod_env_above_cut_off = 5\n",
        "\n",
        "# positions 8846, 8980, 9002, 9161, 9165 were found to be methylated >50% of each Read_coverage_at_reference from the table.\n",
        "total_bases_nef = 617\n",
        "total_mod_nef = 43\n",
        "total_unmod_nef = 617\n",
        "mod_nef_above_cut_off = 5\n",
        "\n",
        "# positions 9161, 9165 were found to be methylated >50% of each Read_coverage_at_reference from the table.\n",
        "total_bases_LTR_three = 633\n",
        "total_mod_LTR_three = 27\n",
        "total_unmod_LTR_three = 606\n",
        "mod_LTR_three_above_cut_off = 2\n",
        "\n",
        "# positions 700, 680 were found to be methylated >50% of each Read_coverage_at_reference from the table.\n",
        "total_mod_bases_no_gene = 46\n",
        "total_unmod_no_gene = 123\n",
        "mod_no_gene_above_cut_off = 2\n",
        "\n"
      ],
      "metadata": {
        "id": "8NbKqduRnil7"
      },
      "execution_count": 79,
      "outputs": []
    }
  ]
}