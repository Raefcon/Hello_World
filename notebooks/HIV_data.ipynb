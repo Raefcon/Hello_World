{
  "nbformat": 4,
  "nbformat_minor": 0,
  "metadata": {
    "colab": {
      "provenance": []
    },
    "kernelspec": {
      "name": "python3",
      "display_name": "Python 3"
    },
    "language_info": {
      "name": "python"
    }
  },
  "cells": [
    {
      "cell_type": "code",
      "source": [
        "import pandas as pd"
      ],
      "metadata": {
        "id": "cUkKoZz-kjpT"
      },
      "execution_count": 5,
      "outputs": []
    },
    {
      "cell_type": "code",
      "source": [
        "from scipy.stats import chi2_contingency\n",
        "import seaborn as sns\n",
        "import numpy as np"
      ],
      "metadata": {
        "id": "vvume5Vrk4UY"
      },
      "execution_count": 6,
      "outputs": []
    },
    {
      "cell_type": "code",
      "source": [
        "import numpy as np\n",
        "import seaborn as sns\n",
        "from datascience import *\n",
        "%matplotlib inline"
      ],
      "metadata": {
        "id": "p-sJyosqz7ob"
      },
      "execution_count": 7,
      "outputs": []
    },
    {
      "cell_type": "code",
      "source": [
        "table = pd.read_excel('hxb2f.meth_cleaned_genes.xlsx')\n",
        "\n",
        "table\n"
      ],
      "metadata": {
        "colab": {
          "base_uri": "https://localhost:8080/",
          "height": 505
        },
        "id": "ADdCcLepk0Nd",
        "outputId": "bfd92ec2-c0ad-4ef8-eecb-c59e03b502aa"
      },
      "execution_count": 8,
      "outputs": [
        {
          "output_type": "execute_result",
          "data": {
            "text/plain": [
              "    Reference_sequence_name  Start_position  End_position_excl  \\\n",
              "0                     HXB2F               2                  3   \n",
              "1                     HXB2F               6                  7   \n",
              "2                     HXB2F              23                 24   \n",
              "3                     HXB2F              24                 25   \n",
              "4                     HXB2F              37                 38   \n",
              "..                      ...             ...                ...   \n",
              "450                   HXB2F            9476               9477   \n",
              "451                   HXB2F            9491               9492   \n",
              "452                   HXB2F            9492               9493   \n",
              "453                   HXB2F            9648               9649   \n",
              "454                   HXB2F            9649               9650   \n",
              "\n",
              "    Modification_type  Score Strand  Read_coverage_at_reference  \\\n",
              "0                5hmC     35      -                          28   \n",
              "1                5hmC     32      -                          31   \n",
              "2                5hmC    814      +                         108   \n",
              "3                5hmC    857      -                          35   \n",
              "4                5hmC      9      +                         108   \n",
              "..                ...    ...    ...                         ...   \n",
              "450              5hmC    500      -                           4   \n",
              "451              5hmC    857      +                           7   \n",
              "452              5hmC   1000      -                           3   \n",
              "453              5hmC    857      +                           7   \n",
              "454              5hmC    500      -                           2   \n",
              "\n",
              "     Percentage_of_mod_bases Reading_frame_1 Reading_frame_2 Reading_frame_3  \\\n",
              "0                     100.00           LTR_5             NaN             NaN   \n",
              "1                       0.00           LTR_5             NaN             NaN   \n",
              "2                       3.41           LTR_5             NaN             NaN   \n",
              "3                      23.33           LTR_5             NaN             NaN   \n",
              "4                       0.00           LTR_5             NaN             NaN   \n",
              "..                       ...             ...             ...             ...   \n",
              "450                     0.00             NaN           LTR_3             NaN   \n",
              "451                    16.67             NaN           LTR_3             NaN   \n",
              "452                     0.00             NaN           LTR_3             NaN   \n",
              "453                    33.33             NaN           LTR_3             NaN   \n",
              "454                     0.00             NaN             NaN             NaN   \n",
              "\n",
              "    in_paper tat_reading rev_reading Unnamed: 14  \n",
              "0        NaN         NaN         NaN         NaN  \n",
              "1        NaN         NaN         NaN         NaN  \n",
              "2        NaN         NaN         NaN         NaN  \n",
              "3        NaN         NaN         NaN         NaN  \n",
              "4        NaN         NaN         NaN         NaN  \n",
              "..       ...         ...         ...         ...  \n",
              "450      NaN         NaN         NaN         NaN  \n",
              "451      NaN         NaN         NaN         NaN  \n",
              "452      NaN         NaN         NaN         NaN  \n",
              "453      NaN         NaN         NaN         NaN  \n",
              "454      NaN         NaN         NaN         NaN  \n",
              "\n",
              "[455 rows x 15 columns]"
            ],
            "text/html": [
              "\n",
              "  <div id=\"df-68cdafef-0111-42ec-bccf-5f6417877bdb\">\n",
              "    <div class=\"colab-df-container\">\n",
              "      <div>\n",
              "<style scoped>\n",
              "    .dataframe tbody tr th:only-of-type {\n",
              "        vertical-align: middle;\n",
              "    }\n",
              "\n",
              "    .dataframe tbody tr th {\n",
              "        vertical-align: top;\n",
              "    }\n",
              "\n",
              "    .dataframe thead th {\n",
              "        text-align: right;\n",
              "    }\n",
              "</style>\n",
              "<table border=\"1\" class=\"dataframe\">\n",
              "  <thead>\n",
              "    <tr style=\"text-align: right;\">\n",
              "      <th></th>\n",
              "      <th>Reference_sequence_name</th>\n",
              "      <th>Start_position</th>\n",
              "      <th>End_position_excl</th>\n",
              "      <th>Modification_type</th>\n",
              "      <th>Score</th>\n",
              "      <th>Strand</th>\n",
              "      <th>Read_coverage_at_reference</th>\n",
              "      <th>Percentage_of_mod_bases</th>\n",
              "      <th>Reading_frame_1</th>\n",
              "      <th>Reading_frame_2</th>\n",
              "      <th>Reading_frame_3</th>\n",
              "      <th>in_paper</th>\n",
              "      <th>tat_reading</th>\n",
              "      <th>rev_reading</th>\n",
              "      <th>Unnamed: 14</th>\n",
              "    </tr>\n",
              "  </thead>\n",
              "  <tbody>\n",
              "    <tr>\n",
              "      <th>0</th>\n",
              "      <td>HXB2F</td>\n",
              "      <td>2</td>\n",
              "      <td>3</td>\n",
              "      <td>5hmC</td>\n",
              "      <td>35</td>\n",
              "      <td>-</td>\n",
              "      <td>28</td>\n",
              "      <td>100.00</td>\n",
              "      <td>LTR_5</td>\n",
              "      <td>NaN</td>\n",
              "      <td>NaN</td>\n",
              "      <td>NaN</td>\n",
              "      <td>NaN</td>\n",
              "      <td>NaN</td>\n",
              "      <td>NaN</td>\n",
              "    </tr>\n",
              "    <tr>\n",
              "      <th>1</th>\n",
              "      <td>HXB2F</td>\n",
              "      <td>6</td>\n",
              "      <td>7</td>\n",
              "      <td>5hmC</td>\n",
              "      <td>32</td>\n",
              "      <td>-</td>\n",
              "      <td>31</td>\n",
              "      <td>0.00</td>\n",
              "      <td>LTR_5</td>\n",
              "      <td>NaN</td>\n",
              "      <td>NaN</td>\n",
              "      <td>NaN</td>\n",
              "      <td>NaN</td>\n",
              "      <td>NaN</td>\n",
              "      <td>NaN</td>\n",
              "    </tr>\n",
              "    <tr>\n",
              "      <th>2</th>\n",
              "      <td>HXB2F</td>\n",
              "      <td>23</td>\n",
              "      <td>24</td>\n",
              "      <td>5hmC</td>\n",
              "      <td>814</td>\n",
              "      <td>+</td>\n",
              "      <td>108</td>\n",
              "      <td>3.41</td>\n",
              "      <td>LTR_5</td>\n",
              "      <td>NaN</td>\n",
              "      <td>NaN</td>\n",
              "      <td>NaN</td>\n",
              "      <td>NaN</td>\n",
              "      <td>NaN</td>\n",
              "      <td>NaN</td>\n",
              "    </tr>\n",
              "    <tr>\n",
              "      <th>3</th>\n",
              "      <td>HXB2F</td>\n",
              "      <td>24</td>\n",
              "      <td>25</td>\n",
              "      <td>5hmC</td>\n",
              "      <td>857</td>\n",
              "      <td>-</td>\n",
              "      <td>35</td>\n",
              "      <td>23.33</td>\n",
              "      <td>LTR_5</td>\n",
              "      <td>NaN</td>\n",
              "      <td>NaN</td>\n",
              "      <td>NaN</td>\n",
              "      <td>NaN</td>\n",
              "      <td>NaN</td>\n",
              "      <td>NaN</td>\n",
              "    </tr>\n",
              "    <tr>\n",
              "      <th>4</th>\n",
              "      <td>HXB2F</td>\n",
              "      <td>37</td>\n",
              "      <td>38</td>\n",
              "      <td>5hmC</td>\n",
              "      <td>9</td>\n",
              "      <td>+</td>\n",
              "      <td>108</td>\n",
              "      <td>0.00</td>\n",
              "      <td>LTR_5</td>\n",
              "      <td>NaN</td>\n",
              "      <td>NaN</td>\n",
              "      <td>NaN</td>\n",
              "      <td>NaN</td>\n",
              "      <td>NaN</td>\n",
              "      <td>NaN</td>\n",
              "    </tr>\n",
              "    <tr>\n",
              "      <th>...</th>\n",
              "      <td>...</td>\n",
              "      <td>...</td>\n",
              "      <td>...</td>\n",
              "      <td>...</td>\n",
              "      <td>...</td>\n",
              "      <td>...</td>\n",
              "      <td>...</td>\n",
              "      <td>...</td>\n",
              "      <td>...</td>\n",
              "      <td>...</td>\n",
              "      <td>...</td>\n",
              "      <td>...</td>\n",
              "      <td>...</td>\n",
              "      <td>...</td>\n",
              "      <td>...</td>\n",
              "    </tr>\n",
              "    <tr>\n",
              "      <th>450</th>\n",
              "      <td>HXB2F</td>\n",
              "      <td>9476</td>\n",
              "      <td>9477</td>\n",
              "      <td>5hmC</td>\n",
              "      <td>500</td>\n",
              "      <td>-</td>\n",
              "      <td>4</td>\n",
              "      <td>0.00</td>\n",
              "      <td>NaN</td>\n",
              "      <td>LTR_3</td>\n",
              "      <td>NaN</td>\n",
              "      <td>NaN</td>\n",
              "      <td>NaN</td>\n",
              "      <td>NaN</td>\n",
              "      <td>NaN</td>\n",
              "    </tr>\n",
              "    <tr>\n",
              "      <th>451</th>\n",
              "      <td>HXB2F</td>\n",
              "      <td>9491</td>\n",
              "      <td>9492</td>\n",
              "      <td>5hmC</td>\n",
              "      <td>857</td>\n",
              "      <td>+</td>\n",
              "      <td>7</td>\n",
              "      <td>16.67</td>\n",
              "      <td>NaN</td>\n",
              "      <td>LTR_3</td>\n",
              "      <td>NaN</td>\n",
              "      <td>NaN</td>\n",
              "      <td>NaN</td>\n",
              "      <td>NaN</td>\n",
              "      <td>NaN</td>\n",
              "    </tr>\n",
              "    <tr>\n",
              "      <th>452</th>\n",
              "      <td>HXB2F</td>\n",
              "      <td>9492</td>\n",
              "      <td>9493</td>\n",
              "      <td>5hmC</td>\n",
              "      <td>1000</td>\n",
              "      <td>-</td>\n",
              "      <td>3</td>\n",
              "      <td>0.00</td>\n",
              "      <td>NaN</td>\n",
              "      <td>LTR_3</td>\n",
              "      <td>NaN</td>\n",
              "      <td>NaN</td>\n",
              "      <td>NaN</td>\n",
              "      <td>NaN</td>\n",
              "      <td>NaN</td>\n",
              "    </tr>\n",
              "    <tr>\n",
              "      <th>453</th>\n",
              "      <td>HXB2F</td>\n",
              "      <td>9648</td>\n",
              "      <td>9649</td>\n",
              "      <td>5hmC</td>\n",
              "      <td>857</td>\n",
              "      <td>+</td>\n",
              "      <td>7</td>\n",
              "      <td>33.33</td>\n",
              "      <td>NaN</td>\n",
              "      <td>LTR_3</td>\n",
              "      <td>NaN</td>\n",
              "      <td>NaN</td>\n",
              "      <td>NaN</td>\n",
              "      <td>NaN</td>\n",
              "      <td>NaN</td>\n",
              "    </tr>\n",
              "    <tr>\n",
              "      <th>454</th>\n",
              "      <td>HXB2F</td>\n",
              "      <td>9649</td>\n",
              "      <td>9650</td>\n",
              "      <td>5hmC</td>\n",
              "      <td>500</td>\n",
              "      <td>-</td>\n",
              "      <td>2</td>\n",
              "      <td>0.00</td>\n",
              "      <td>NaN</td>\n",
              "      <td>NaN</td>\n",
              "      <td>NaN</td>\n",
              "      <td>NaN</td>\n",
              "      <td>NaN</td>\n",
              "      <td>NaN</td>\n",
              "      <td>NaN</td>\n",
              "    </tr>\n",
              "  </tbody>\n",
              "</table>\n",
              "<p>455 rows × 15 columns</p>\n",
              "</div>\n",
              "      <button class=\"colab-df-convert\" onclick=\"convertToInteractive('df-68cdafef-0111-42ec-bccf-5f6417877bdb')\"\n",
              "              title=\"Convert this dataframe to an interactive table.\"\n",
              "              style=\"display:none;\">\n",
              "        \n",
              "  <svg xmlns=\"http://www.w3.org/2000/svg\" height=\"24px\"viewBox=\"0 0 24 24\"\n",
              "       width=\"24px\">\n",
              "    <path d=\"M0 0h24v24H0V0z\" fill=\"none\"/>\n",
              "    <path d=\"M18.56 5.44l.94 2.06.94-2.06 2.06-.94-2.06-.94-.94-2.06-.94 2.06-2.06.94zm-11 1L8.5 8.5l.94-2.06 2.06-.94-2.06-.94L8.5 2.5l-.94 2.06-2.06.94zm10 10l.94 2.06.94-2.06 2.06-.94-2.06-.94-.94-2.06-.94 2.06-2.06.94z\"/><path d=\"M17.41 7.96l-1.37-1.37c-.4-.4-.92-.59-1.43-.59-.52 0-1.04.2-1.43.59L10.3 9.45l-7.72 7.72c-.78.78-.78 2.05 0 2.83L4 21.41c.39.39.9.59 1.41.59.51 0 1.02-.2 1.41-.59l7.78-7.78 2.81-2.81c.8-.78.8-2.07 0-2.86zM5.41 20L4 18.59l7.72-7.72 1.47 1.35L5.41 20z\"/>\n",
              "  </svg>\n",
              "      </button>\n",
              "      \n",
              "  <style>\n",
              "    .colab-df-container {\n",
              "      display:flex;\n",
              "      flex-wrap:wrap;\n",
              "      gap: 12px;\n",
              "    }\n",
              "\n",
              "    .colab-df-convert {\n",
              "      background-color: #E8F0FE;\n",
              "      border: none;\n",
              "      border-radius: 50%;\n",
              "      cursor: pointer;\n",
              "      display: none;\n",
              "      fill: #1967D2;\n",
              "      height: 32px;\n",
              "      padding: 0 0 0 0;\n",
              "      width: 32px;\n",
              "    }\n",
              "\n",
              "    .colab-df-convert:hover {\n",
              "      background-color: #E2EBFA;\n",
              "      box-shadow: 0px 1px 2px rgba(60, 64, 67, 0.3), 0px 1px 3px 1px rgba(60, 64, 67, 0.15);\n",
              "      fill: #174EA6;\n",
              "    }\n",
              "\n",
              "    [theme=dark] .colab-df-convert {\n",
              "      background-color: #3B4455;\n",
              "      fill: #D2E3FC;\n",
              "    }\n",
              "\n",
              "    [theme=dark] .colab-df-convert:hover {\n",
              "      background-color: #434B5C;\n",
              "      box-shadow: 0px 1px 3px 1px rgba(0, 0, 0, 0.15);\n",
              "      filter: drop-shadow(0px 1px 2px rgba(0, 0, 0, 0.3));\n",
              "      fill: #FFFFFF;\n",
              "    }\n",
              "  </style>\n",
              "\n",
              "      <script>\n",
              "        const buttonEl =\n",
              "          document.querySelector('#df-68cdafef-0111-42ec-bccf-5f6417877bdb button.colab-df-convert');\n",
              "        buttonEl.style.display =\n",
              "          google.colab.kernel.accessAllowed ? 'block' : 'none';\n",
              "\n",
              "        async function convertToInteractive(key) {\n",
              "          const element = document.querySelector('#df-68cdafef-0111-42ec-bccf-5f6417877bdb');\n",
              "          const dataTable =\n",
              "            await google.colab.kernel.invokeFunction('convertToInteractive',\n",
              "                                                     [key], {});\n",
              "          if (!dataTable) return;\n",
              "\n",
              "          const docLinkHtml = 'Like what you see? Visit the ' +\n",
              "            '<a target=\"_blank\" href=https://colab.research.google.com/notebooks/data_table.ipynb>data table notebook</a>'\n",
              "            + ' to learn more about interactive tables.';\n",
              "          element.innerHTML = '';\n",
              "          dataTable['output_type'] = 'display_data';\n",
              "          await google.colab.output.renderOutput(dataTable, element);\n",
              "          const docLink = document.createElement('div');\n",
              "          docLink.innerHTML = docLinkHtml;\n",
              "          element.appendChild(docLink);\n",
              "        }\n",
              "      </script>\n",
              "    </div>\n",
              "  </div>\n",
              "  "
            ]
          },
          "metadata": {},
          "execution_count": 8
        }
      ]
    },
    {
      "cell_type": "code",
      "source": [
        "is_mod = table['Percentage_of_mod_bases']>50\n",
        "is_mod"
      ],
      "metadata": {
        "colab": {
          "base_uri": "https://localhost:8080/"
        },
        "id": "kcNx_bQRzm5U",
        "outputId": "db01a990-57f6-437e-a463-7617d58065a5"
      },
      "execution_count": 9,
      "outputs": [
        {
          "output_type": "execute_result",
          "data": {
            "text/plain": [
              "0       True\n",
              "1      False\n",
              "2      False\n",
              "3      False\n",
              "4      False\n",
              "       ...  \n",
              "450    False\n",
              "451    False\n",
              "452    False\n",
              "453    False\n",
              "454    False\n",
              "Name: Percentage_of_mod_bases, Length: 455, dtype: bool"
            ]
          },
          "metadata": {},
          "execution_count": 9
        }
      ]
    },
    {
      "cell_type": "code",
      "source": [
        "is_LTR_5 = table['Reading_frame_1'] == 'LTR_5'\n",
        "is_LTR_5 "
      ],
      "metadata": {
        "colab": {
          "base_uri": "https://localhost:8080/"
        },
        "id": "QBbDwmPJW8lq",
        "outputId": "2f2fccab-0e86-40a4-8896-adc049d0fe92"
      },
      "execution_count": 10,
      "outputs": [
        {
          "output_type": "execute_result",
          "data": {
            "text/plain": [
              "0       True\n",
              "1       True\n",
              "2       True\n",
              "3       True\n",
              "4       True\n",
              "       ...  \n",
              "450    False\n",
              "451    False\n",
              "452    False\n",
              "453    False\n",
              "454    False\n",
              "Name: Reading_frame_1, Length: 455, dtype: bool"
            ]
          },
          "metadata": {},
          "execution_count": 10
        }
      ]
    },
    {
      "cell_type": "code",
      "source": [
        "pd.crosstab (is_LTR_5, is_mod)"
      ],
      "metadata": {
        "colab": {
          "base_uri": "https://localhost:8080/",
          "height": 143
        },
        "id": "X3GRFhvPXqVA",
        "outputId": "a8804257-5e47-4bb0-a521-ff7db1e0d546"
      },
      "execution_count": 11,
      "outputs": [
        {
          "output_type": "execute_result",
          "data": {
            "text/plain": [
              "Percentage_of_mod_bases  False  True\n",
              "Reading_frame_1                     \n",
              "False                      336    32\n",
              "True                        80     7"
            ],
            "text/html": [
              "\n",
              "  <div id=\"df-2d538348-f114-411e-8ca8-ada746700f37\">\n",
              "    <div class=\"colab-df-container\">\n",
              "      <div>\n",
              "<style scoped>\n",
              "    .dataframe tbody tr th:only-of-type {\n",
              "        vertical-align: middle;\n",
              "    }\n",
              "\n",
              "    .dataframe tbody tr th {\n",
              "        vertical-align: top;\n",
              "    }\n",
              "\n",
              "    .dataframe thead th {\n",
              "        text-align: right;\n",
              "    }\n",
              "</style>\n",
              "<table border=\"1\" class=\"dataframe\">\n",
              "  <thead>\n",
              "    <tr style=\"text-align: right;\">\n",
              "      <th>Percentage_of_mod_bases</th>\n",
              "      <th>False</th>\n",
              "      <th>True</th>\n",
              "    </tr>\n",
              "    <tr>\n",
              "      <th>Reading_frame_1</th>\n",
              "      <th></th>\n",
              "      <th></th>\n",
              "    </tr>\n",
              "  </thead>\n",
              "  <tbody>\n",
              "    <tr>\n",
              "      <th>False</th>\n",
              "      <td>336</td>\n",
              "      <td>32</td>\n",
              "    </tr>\n",
              "    <tr>\n",
              "      <th>True</th>\n",
              "      <td>80</td>\n",
              "      <td>7</td>\n",
              "    </tr>\n",
              "  </tbody>\n",
              "</table>\n",
              "</div>\n",
              "      <button class=\"colab-df-convert\" onclick=\"convertToInteractive('df-2d538348-f114-411e-8ca8-ada746700f37')\"\n",
              "              title=\"Convert this dataframe to an interactive table.\"\n",
              "              style=\"display:none;\">\n",
              "        \n",
              "  <svg xmlns=\"http://www.w3.org/2000/svg\" height=\"24px\"viewBox=\"0 0 24 24\"\n",
              "       width=\"24px\">\n",
              "    <path d=\"M0 0h24v24H0V0z\" fill=\"none\"/>\n",
              "    <path d=\"M18.56 5.44l.94 2.06.94-2.06 2.06-.94-2.06-.94-.94-2.06-.94 2.06-2.06.94zm-11 1L8.5 8.5l.94-2.06 2.06-.94-2.06-.94L8.5 2.5l-.94 2.06-2.06.94zm10 10l.94 2.06.94-2.06 2.06-.94-2.06-.94-.94-2.06-.94 2.06-2.06.94z\"/><path d=\"M17.41 7.96l-1.37-1.37c-.4-.4-.92-.59-1.43-.59-.52 0-1.04.2-1.43.59L10.3 9.45l-7.72 7.72c-.78.78-.78 2.05 0 2.83L4 21.41c.39.39.9.59 1.41.59.51 0 1.02-.2 1.41-.59l7.78-7.78 2.81-2.81c.8-.78.8-2.07 0-2.86zM5.41 20L4 18.59l7.72-7.72 1.47 1.35L5.41 20z\"/>\n",
              "  </svg>\n",
              "      </button>\n",
              "      \n",
              "  <style>\n",
              "    .colab-df-container {\n",
              "      display:flex;\n",
              "      flex-wrap:wrap;\n",
              "      gap: 12px;\n",
              "    }\n",
              "\n",
              "    .colab-df-convert {\n",
              "      background-color: #E8F0FE;\n",
              "      border: none;\n",
              "      border-radius: 50%;\n",
              "      cursor: pointer;\n",
              "      display: none;\n",
              "      fill: #1967D2;\n",
              "      height: 32px;\n",
              "      padding: 0 0 0 0;\n",
              "      width: 32px;\n",
              "    }\n",
              "\n",
              "    .colab-df-convert:hover {\n",
              "      background-color: #E2EBFA;\n",
              "      box-shadow: 0px 1px 2px rgba(60, 64, 67, 0.3), 0px 1px 3px 1px rgba(60, 64, 67, 0.15);\n",
              "      fill: #174EA6;\n",
              "    }\n",
              "\n",
              "    [theme=dark] .colab-df-convert {\n",
              "      background-color: #3B4455;\n",
              "      fill: #D2E3FC;\n",
              "    }\n",
              "\n",
              "    [theme=dark] .colab-df-convert:hover {\n",
              "      background-color: #434B5C;\n",
              "      box-shadow: 0px 1px 3px 1px rgba(0, 0, 0, 0.15);\n",
              "      filter: drop-shadow(0px 1px 2px rgba(0, 0, 0, 0.3));\n",
              "      fill: #FFFFFF;\n",
              "    }\n",
              "  </style>\n",
              "\n",
              "      <script>\n",
              "        const buttonEl =\n",
              "          document.querySelector('#df-2d538348-f114-411e-8ca8-ada746700f37 button.colab-df-convert');\n",
              "        buttonEl.style.display =\n",
              "          google.colab.kernel.accessAllowed ? 'block' : 'none';\n",
              "\n",
              "        async function convertToInteractive(key) {\n",
              "          const element = document.querySelector('#df-2d538348-f114-411e-8ca8-ada746700f37');\n",
              "          const dataTable =\n",
              "            await google.colab.kernel.invokeFunction('convertToInteractive',\n",
              "                                                     [key], {});\n",
              "          if (!dataTable) return;\n",
              "\n",
              "          const docLinkHtml = 'Like what you see? Visit the ' +\n",
              "            '<a target=\"_blank\" href=https://colab.research.google.com/notebooks/data_table.ipynb>data table notebook</a>'\n",
              "            + ' to learn more about interactive tables.';\n",
              "          element.innerHTML = '';\n",
              "          dataTable['output_type'] = 'display_data';\n",
              "          await google.colab.output.renderOutput(dataTable, element);\n",
              "          const docLink = document.createElement('div');\n",
              "          docLink.innerHTML = docLinkHtml;\n",
              "          element.appendChild(docLink);\n",
              "        }\n",
              "      </script>\n",
              "    </div>\n",
              "  </div>\n",
              "  "
            ]
          },
          "metadata": {},
          "execution_count": 11
        }
      ]
    },
    {
      "cell_type": "code",
      "source": [
        "from scipy.stats import chi2_contingency"
      ],
      "metadata": {
        "id": "oeJMg6e9YFzV"
      },
      "execution_count": 12,
      "outputs": []
    },
    {
      "cell_type": "code",
      "source": [
        "delta, p_value, dof, c_expected = chi2_contingency (pd.crosstab (is_LTR_5, is_mod))"
      ],
      "metadata": {
        "id": "1qaFwcGqYQbL"
      },
      "execution_count": 13,
      "outputs": []
    },
    {
      "cell_type": "code",
      "source": [
        "\n",
        "print(f'There were {dof} degrees of freedom in the table.')\n",
        "print(f'It expects to see the matrix\\n{c_expected}')\n",
        "\n",
        "print(f'There was a difference of {delta} between the expected and observed matrices.')\n",
        "print(f'The likelihood of seeing this large a difference by chance is p={p_value}.')"
      ],
      "metadata": {
        "colab": {
          "base_uri": "https://localhost:8080/"
        },
        "id": "sDGggsPuYvJN",
        "outputId": "c2aa6a85-c843-49b3-c188-90a7590d859d"
      },
      "execution_count": 14,
      "outputs": [
        {
          "output_type": "stream",
          "name": "stdout",
          "text": [
            "There were 1 degrees of freedom in the table.\n",
            "It expects to see the matrix\n",
            "[[ 336.45714286   31.54285714]\n",
            " [  79.54285714    7.45714286]]\n",
            "There was a difference of 0.0 between the expected and observed matrices.\n",
            "The likelihood of seeing this large a difference by chance is p=1.0.\n"
          ]
        }
      ]
    },
    {
      "cell_type": "code",
      "source": [
        "# Apperently this is by chance ?????"
      ],
      "metadata": {
        "id": "fZrCPbUaFYMK"
      },
      "execution_count": 15,
      "outputs": []
    },
    {
      "cell_type": "code",
      "source": [
        "is_gag = table['Reading_frame_1'] == 'gag'\n",
        "is_gag "
      ],
      "metadata": {
        "colab": {
          "base_uri": "https://localhost:8080/"
        },
        "id": "9C6ab87rnG38",
        "outputId": "5acdf730-f1fa-42be-df8e-0ceb91703c08"
      },
      "execution_count": 16,
      "outputs": [
        {
          "output_type": "execute_result",
          "data": {
            "text/plain": [
              "0      False\n",
              "1      False\n",
              "2      False\n",
              "3      False\n",
              "4      False\n",
              "       ...  \n",
              "450    False\n",
              "451    False\n",
              "452    False\n",
              "453    False\n",
              "454    False\n",
              "Name: Reading_frame_1, Length: 455, dtype: bool"
            ]
          },
          "metadata": {},
          "execution_count": 16
        }
      ]
    },
    {
      "cell_type": "code",
      "source": [
        "pd.crosstab (is_gag, is_mod)"
      ],
      "metadata": {
        "colab": {
          "base_uri": "https://localhost:8080/",
          "height": 143
        },
        "id": "zi59ccOOCwo4",
        "outputId": "10335d06-4a9b-4682-b67e-2219cc52a4db"
      },
      "execution_count": 17,
      "outputs": [
        {
          "output_type": "execute_result",
          "data": {
            "text/plain": [
              "Percentage_of_mod_bases  False  True\n",
              "Reading_frame_1                     \n",
              "False                      347    32\n",
              "True                        69     7"
            ],
            "text/html": [
              "\n",
              "  <div id=\"df-a103c711-fad8-4b72-9282-807448030bcb\">\n",
              "    <div class=\"colab-df-container\">\n",
              "      <div>\n",
              "<style scoped>\n",
              "    .dataframe tbody tr th:only-of-type {\n",
              "        vertical-align: middle;\n",
              "    }\n",
              "\n",
              "    .dataframe tbody tr th {\n",
              "        vertical-align: top;\n",
              "    }\n",
              "\n",
              "    .dataframe thead th {\n",
              "        text-align: right;\n",
              "    }\n",
              "</style>\n",
              "<table border=\"1\" class=\"dataframe\">\n",
              "  <thead>\n",
              "    <tr style=\"text-align: right;\">\n",
              "      <th>Percentage_of_mod_bases</th>\n",
              "      <th>False</th>\n",
              "      <th>True</th>\n",
              "    </tr>\n",
              "    <tr>\n",
              "      <th>Reading_frame_1</th>\n",
              "      <th></th>\n",
              "      <th></th>\n",
              "    </tr>\n",
              "  </thead>\n",
              "  <tbody>\n",
              "    <tr>\n",
              "      <th>False</th>\n",
              "      <td>347</td>\n",
              "      <td>32</td>\n",
              "    </tr>\n",
              "    <tr>\n",
              "      <th>True</th>\n",
              "      <td>69</td>\n",
              "      <td>7</td>\n",
              "    </tr>\n",
              "  </tbody>\n",
              "</table>\n",
              "</div>\n",
              "      <button class=\"colab-df-convert\" onclick=\"convertToInteractive('df-a103c711-fad8-4b72-9282-807448030bcb')\"\n",
              "              title=\"Convert this dataframe to an interactive table.\"\n",
              "              style=\"display:none;\">\n",
              "        \n",
              "  <svg xmlns=\"http://www.w3.org/2000/svg\" height=\"24px\"viewBox=\"0 0 24 24\"\n",
              "       width=\"24px\">\n",
              "    <path d=\"M0 0h24v24H0V0z\" fill=\"none\"/>\n",
              "    <path d=\"M18.56 5.44l.94 2.06.94-2.06 2.06-.94-2.06-.94-.94-2.06-.94 2.06-2.06.94zm-11 1L8.5 8.5l.94-2.06 2.06-.94-2.06-.94L8.5 2.5l-.94 2.06-2.06.94zm10 10l.94 2.06.94-2.06 2.06-.94-2.06-.94-.94-2.06-.94 2.06-2.06.94z\"/><path d=\"M17.41 7.96l-1.37-1.37c-.4-.4-.92-.59-1.43-.59-.52 0-1.04.2-1.43.59L10.3 9.45l-7.72 7.72c-.78.78-.78 2.05 0 2.83L4 21.41c.39.39.9.59 1.41.59.51 0 1.02-.2 1.41-.59l7.78-7.78 2.81-2.81c.8-.78.8-2.07 0-2.86zM5.41 20L4 18.59l7.72-7.72 1.47 1.35L5.41 20z\"/>\n",
              "  </svg>\n",
              "      </button>\n",
              "      \n",
              "  <style>\n",
              "    .colab-df-container {\n",
              "      display:flex;\n",
              "      flex-wrap:wrap;\n",
              "      gap: 12px;\n",
              "    }\n",
              "\n",
              "    .colab-df-convert {\n",
              "      background-color: #E8F0FE;\n",
              "      border: none;\n",
              "      border-radius: 50%;\n",
              "      cursor: pointer;\n",
              "      display: none;\n",
              "      fill: #1967D2;\n",
              "      height: 32px;\n",
              "      padding: 0 0 0 0;\n",
              "      width: 32px;\n",
              "    }\n",
              "\n",
              "    .colab-df-convert:hover {\n",
              "      background-color: #E2EBFA;\n",
              "      box-shadow: 0px 1px 2px rgba(60, 64, 67, 0.3), 0px 1px 3px 1px rgba(60, 64, 67, 0.15);\n",
              "      fill: #174EA6;\n",
              "    }\n",
              "\n",
              "    [theme=dark] .colab-df-convert {\n",
              "      background-color: #3B4455;\n",
              "      fill: #D2E3FC;\n",
              "    }\n",
              "\n",
              "    [theme=dark] .colab-df-convert:hover {\n",
              "      background-color: #434B5C;\n",
              "      box-shadow: 0px 1px 3px 1px rgba(0, 0, 0, 0.15);\n",
              "      filter: drop-shadow(0px 1px 2px rgba(0, 0, 0, 0.3));\n",
              "      fill: #FFFFFF;\n",
              "    }\n",
              "  </style>\n",
              "\n",
              "      <script>\n",
              "        const buttonEl =\n",
              "          document.querySelector('#df-a103c711-fad8-4b72-9282-807448030bcb button.colab-df-convert');\n",
              "        buttonEl.style.display =\n",
              "          google.colab.kernel.accessAllowed ? 'block' : 'none';\n",
              "\n",
              "        async function convertToInteractive(key) {\n",
              "          const element = document.querySelector('#df-a103c711-fad8-4b72-9282-807448030bcb');\n",
              "          const dataTable =\n",
              "            await google.colab.kernel.invokeFunction('convertToInteractive',\n",
              "                                                     [key], {});\n",
              "          if (!dataTable) return;\n",
              "\n",
              "          const docLinkHtml = 'Like what you see? Visit the ' +\n",
              "            '<a target=\"_blank\" href=https://colab.research.google.com/notebooks/data_table.ipynb>data table notebook</a>'\n",
              "            + ' to learn more about interactive tables.';\n",
              "          element.innerHTML = '';\n",
              "          dataTable['output_type'] = 'display_data';\n",
              "          await google.colab.output.renderOutput(dataTable, element);\n",
              "          const docLink = document.createElement('div');\n",
              "          docLink.innerHTML = docLinkHtml;\n",
              "          element.appendChild(docLink);\n",
              "        }\n",
              "      </script>\n",
              "    </div>\n",
              "  </div>\n",
              "  "
            ]
          },
          "metadata": {},
          "execution_count": 17
        }
      ]
    },
    {
      "cell_type": "code",
      "source": [
        "delta_gag, p_value_gag, dof_gag, c_expected_gag = chi2_contingency (pd.crosstab (is_gag, is_mod))"
      ],
      "metadata": {
        "id": "7o9S9021IL2d"
      },
      "execution_count": 18,
      "outputs": []
    },
    {
      "cell_type": "code",
      "source": [
        "print(f'There were {dof_gag} degrees of freedom in the table.')\n",
        "print(f'It expects to see the matrix\\n{c_expected_gag}')\n",
        "\n",
        "print(f'There was a difference of {delta_gag} between the expected and observed matrices.')\n",
        "print(f'The likelihood of seeing this large a difference by chance is p={p_value_gag}.')"
      ],
      "metadata": {
        "colab": {
          "base_uri": "https://localhost:8080/"
        },
        "id": "zFpmwsZFFB4u",
        "outputId": "127e9983-c73a-433f-ba97-569eeb50e6cc"
      },
      "execution_count": 19,
      "outputs": [
        {
          "output_type": "stream",
          "name": "stdout",
          "text": [
            "There were 1 degrees of freedom in the table.\n",
            "It expects to see the matrix\n",
            "[[ 346.51428571   32.48571429]\n",
            " [  69.48571429    6.51428571]]\n",
            "There was a difference of 0.0 between the expected and observed matrices.\n",
            "The likelihood of seeing this large a difference by chance is p=1.0.\n"
          ]
        }
      ]
    },
    {
      "cell_type": "code",
      "source": [
        "# We see the same in the gag gene as well."
      ],
      "metadata": {
        "id": "KH9wd4kNITEk"
      },
      "execution_count": 20,
      "outputs": []
    },
    {
      "cell_type": "code",
      "source": [
        "is_pol = table['Reading_frame_3' ] == 'pol'\n",
        "\n",
        "is_pol"
      ],
      "metadata": {
        "colab": {
          "base_uri": "https://localhost:8080/"
        },
        "id": "V2AmerCfIowj",
        "outputId": "83fdd9d5-c59e-4ddc-f4d5-8011f5b5bcd7"
      },
      "execution_count": 21,
      "outputs": [
        {
          "output_type": "execute_result",
          "data": {
            "text/plain": [
              "0      False\n",
              "1      False\n",
              "2      False\n",
              "3      False\n",
              "4      False\n",
              "       ...  \n",
              "450    False\n",
              "451    False\n",
              "452    False\n",
              "453    False\n",
              "454    False\n",
              "Name: Reading_frame_3, Length: 455, dtype: bool"
            ]
          },
          "metadata": {},
          "execution_count": 21
        }
      ]
    },
    {
      "cell_type": "code",
      "source": [
        "pd.crosstab (is_pol, is_mod)"
      ],
      "metadata": {
        "colab": {
          "base_uri": "https://localhost:8080/",
          "height": 143
        },
        "id": "MxCA-nuHJu7f",
        "outputId": "79cc044c-00eb-4bfa-8c57-b0e41c587ac8"
      },
      "execution_count": 22,
      "outputs": [
        {
          "output_type": "execute_result",
          "data": {
            "text/plain": [
              "Percentage_of_mod_bases  False  True\n",
              "Reading_frame_3                     \n",
              "False                      366    29\n",
              "True                        50    10"
            ],
            "text/html": [
              "\n",
              "  <div id=\"df-7deb28c0-f3c2-466c-8764-20fe0e8d0379\">\n",
              "    <div class=\"colab-df-container\">\n",
              "      <div>\n",
              "<style scoped>\n",
              "    .dataframe tbody tr th:only-of-type {\n",
              "        vertical-align: middle;\n",
              "    }\n",
              "\n",
              "    .dataframe tbody tr th {\n",
              "        vertical-align: top;\n",
              "    }\n",
              "\n",
              "    .dataframe thead th {\n",
              "        text-align: right;\n",
              "    }\n",
              "</style>\n",
              "<table border=\"1\" class=\"dataframe\">\n",
              "  <thead>\n",
              "    <tr style=\"text-align: right;\">\n",
              "      <th>Percentage_of_mod_bases</th>\n",
              "      <th>False</th>\n",
              "      <th>True</th>\n",
              "    </tr>\n",
              "    <tr>\n",
              "      <th>Reading_frame_3</th>\n",
              "      <th></th>\n",
              "      <th></th>\n",
              "    </tr>\n",
              "  </thead>\n",
              "  <tbody>\n",
              "    <tr>\n",
              "      <th>False</th>\n",
              "      <td>366</td>\n",
              "      <td>29</td>\n",
              "    </tr>\n",
              "    <tr>\n",
              "      <th>True</th>\n",
              "      <td>50</td>\n",
              "      <td>10</td>\n",
              "    </tr>\n",
              "  </tbody>\n",
              "</table>\n",
              "</div>\n",
              "      <button class=\"colab-df-convert\" onclick=\"convertToInteractive('df-7deb28c0-f3c2-466c-8764-20fe0e8d0379')\"\n",
              "              title=\"Convert this dataframe to an interactive table.\"\n",
              "              style=\"display:none;\">\n",
              "        \n",
              "  <svg xmlns=\"http://www.w3.org/2000/svg\" height=\"24px\"viewBox=\"0 0 24 24\"\n",
              "       width=\"24px\">\n",
              "    <path d=\"M0 0h24v24H0V0z\" fill=\"none\"/>\n",
              "    <path d=\"M18.56 5.44l.94 2.06.94-2.06 2.06-.94-2.06-.94-.94-2.06-.94 2.06-2.06.94zm-11 1L8.5 8.5l.94-2.06 2.06-.94-2.06-.94L8.5 2.5l-.94 2.06-2.06.94zm10 10l.94 2.06.94-2.06 2.06-.94-2.06-.94-.94-2.06-.94 2.06-2.06.94z\"/><path d=\"M17.41 7.96l-1.37-1.37c-.4-.4-.92-.59-1.43-.59-.52 0-1.04.2-1.43.59L10.3 9.45l-7.72 7.72c-.78.78-.78 2.05 0 2.83L4 21.41c.39.39.9.59 1.41.59.51 0 1.02-.2 1.41-.59l7.78-7.78 2.81-2.81c.8-.78.8-2.07 0-2.86zM5.41 20L4 18.59l7.72-7.72 1.47 1.35L5.41 20z\"/>\n",
              "  </svg>\n",
              "      </button>\n",
              "      \n",
              "  <style>\n",
              "    .colab-df-container {\n",
              "      display:flex;\n",
              "      flex-wrap:wrap;\n",
              "      gap: 12px;\n",
              "    }\n",
              "\n",
              "    .colab-df-convert {\n",
              "      background-color: #E8F0FE;\n",
              "      border: none;\n",
              "      border-radius: 50%;\n",
              "      cursor: pointer;\n",
              "      display: none;\n",
              "      fill: #1967D2;\n",
              "      height: 32px;\n",
              "      padding: 0 0 0 0;\n",
              "      width: 32px;\n",
              "    }\n",
              "\n",
              "    .colab-df-convert:hover {\n",
              "      background-color: #E2EBFA;\n",
              "      box-shadow: 0px 1px 2px rgba(60, 64, 67, 0.3), 0px 1px 3px 1px rgba(60, 64, 67, 0.15);\n",
              "      fill: #174EA6;\n",
              "    }\n",
              "\n",
              "    [theme=dark] .colab-df-convert {\n",
              "      background-color: #3B4455;\n",
              "      fill: #D2E3FC;\n",
              "    }\n",
              "\n",
              "    [theme=dark] .colab-df-convert:hover {\n",
              "      background-color: #434B5C;\n",
              "      box-shadow: 0px 1px 3px 1px rgba(0, 0, 0, 0.15);\n",
              "      filter: drop-shadow(0px 1px 2px rgba(0, 0, 0, 0.3));\n",
              "      fill: #FFFFFF;\n",
              "    }\n",
              "  </style>\n",
              "\n",
              "      <script>\n",
              "        const buttonEl =\n",
              "          document.querySelector('#df-7deb28c0-f3c2-466c-8764-20fe0e8d0379 button.colab-df-convert');\n",
              "        buttonEl.style.display =\n",
              "          google.colab.kernel.accessAllowed ? 'block' : 'none';\n",
              "\n",
              "        async function convertToInteractive(key) {\n",
              "          const element = document.querySelector('#df-7deb28c0-f3c2-466c-8764-20fe0e8d0379');\n",
              "          const dataTable =\n",
              "            await google.colab.kernel.invokeFunction('convertToInteractive',\n",
              "                                                     [key], {});\n",
              "          if (!dataTable) return;\n",
              "\n",
              "          const docLinkHtml = 'Like what you see? Visit the ' +\n",
              "            '<a target=\"_blank\" href=https://colab.research.google.com/notebooks/data_table.ipynb>data table notebook</a>'\n",
              "            + ' to learn more about interactive tables.';\n",
              "          element.innerHTML = '';\n",
              "          dataTable['output_type'] = 'display_data';\n",
              "          await google.colab.output.renderOutput(dataTable, element);\n",
              "          const docLink = document.createElement('div');\n",
              "          docLink.innerHTML = docLinkHtml;\n",
              "          element.appendChild(docLink);\n",
              "        }\n",
              "      </script>\n",
              "    </div>\n",
              "  </div>\n",
              "  "
            ]
          },
          "metadata": {},
          "execution_count": 22
        }
      ]
    },
    {
      "cell_type": "code",
      "source": [
        "delta_pol, p_value_pol, dof_pol, c_expected_pol = chi2_contingency (pd.crosstab (is_gag, is_mod))"
      ],
      "metadata": {
        "id": "eNZW96xyJ7Qj"
      },
      "execution_count": 23,
      "outputs": []
    },
    {
      "cell_type": "code",
      "source": [
        "print(f'There were {dof_pol} degrees of freedom in the table.')\n",
        "print(f'It expects to see the matrix\\n{c_expected_pol}')\n",
        "\n",
        "print(f'There was a difference of {delta_pol} between the expected and observed matrices.')\n",
        "print(f'The likelihood of seeing this large a difference by chance is p={p_value_pol}.')"
      ],
      "metadata": {
        "colab": {
          "base_uri": "https://localhost:8080/"
        },
        "id": "f-mXfKi-KDdN",
        "outputId": "a0a2222d-d5c1-43fc-feaa-6e8f7daa459b"
      },
      "execution_count": 24,
      "outputs": [
        {
          "output_type": "stream",
          "name": "stdout",
          "text": [
            "There were 1 degrees of freedom in the table.\n",
            "It expects to see the matrix\n",
            "[[ 346.51428571   32.48571429]\n",
            " [  69.48571429    6.51428571]]\n",
            "There was a difference of 0.0 between the expected and observed matrices.\n",
            "The likelihood of seeing this large a difference by chance is p=1.0.\n"
          ]
        }
      ]
    },
    {
      "cell_type": "markdown",
      "source": [
        "# The same for the pol gene. Does Python know that the entire genome of the HIV is 9718? Does that even matter?"
      ],
      "metadata": {
        "id": "-mHG3nhUKOfD"
      }
    },
    {
      "cell_type": "code",
      "source": [
        "is_vif = table['Reading_frame_1' ] == 'vif'\n",
        "is_vif"
      ],
      "metadata": {
        "colab": {
          "base_uri": "https://localhost:8080/"
        },
        "id": "JWbh7i1ZLUKe",
        "outputId": "cf5f4fc8-1c9c-4474-b0f9-838bcf13c2f3"
      },
      "execution_count": 25,
      "outputs": [
        {
          "output_type": "execute_result",
          "data": {
            "text/plain": [
              "0      False\n",
              "1      False\n",
              "2      False\n",
              "3      False\n",
              "4      False\n",
              "       ...  \n",
              "450    False\n",
              "451    False\n",
              "452    False\n",
              "453    False\n",
              "454    False\n",
              "Name: Reading_frame_1, Length: 455, dtype: bool"
            ]
          },
          "metadata": {},
          "execution_count": 25
        }
      ]
    },
    {
      "cell_type": "code",
      "source": [
        "pd.crosstab (is_vif, is_mod)"
      ],
      "metadata": {
        "colab": {
          "base_uri": "https://localhost:8080/",
          "height": 143
        },
        "id": "6NgxzOGEN_Gl",
        "outputId": "e1ad1834-520c-4371-dfdb-d8e1e3e9eb47"
      },
      "execution_count": 26,
      "outputs": [
        {
          "output_type": "execute_result",
          "data": {
            "text/plain": [
              "Percentage_of_mod_bases  False  True\n",
              "Reading_frame_1                     \n",
              "False                      409    37\n",
              "True                         7     2"
            ],
            "text/html": [
              "\n",
              "  <div id=\"df-d9b2b163-4711-4d7b-b86d-0a6e5b001407\">\n",
              "    <div class=\"colab-df-container\">\n",
              "      <div>\n",
              "<style scoped>\n",
              "    .dataframe tbody tr th:only-of-type {\n",
              "        vertical-align: middle;\n",
              "    }\n",
              "\n",
              "    .dataframe tbody tr th {\n",
              "        vertical-align: top;\n",
              "    }\n",
              "\n",
              "    .dataframe thead th {\n",
              "        text-align: right;\n",
              "    }\n",
              "</style>\n",
              "<table border=\"1\" class=\"dataframe\">\n",
              "  <thead>\n",
              "    <tr style=\"text-align: right;\">\n",
              "      <th>Percentage_of_mod_bases</th>\n",
              "      <th>False</th>\n",
              "      <th>True</th>\n",
              "    </tr>\n",
              "    <tr>\n",
              "      <th>Reading_frame_1</th>\n",
              "      <th></th>\n",
              "      <th></th>\n",
              "    </tr>\n",
              "  </thead>\n",
              "  <tbody>\n",
              "    <tr>\n",
              "      <th>False</th>\n",
              "      <td>409</td>\n",
              "      <td>37</td>\n",
              "    </tr>\n",
              "    <tr>\n",
              "      <th>True</th>\n",
              "      <td>7</td>\n",
              "      <td>2</td>\n",
              "    </tr>\n",
              "  </tbody>\n",
              "</table>\n",
              "</div>\n",
              "      <button class=\"colab-df-convert\" onclick=\"convertToInteractive('df-d9b2b163-4711-4d7b-b86d-0a6e5b001407')\"\n",
              "              title=\"Convert this dataframe to an interactive table.\"\n",
              "              style=\"display:none;\">\n",
              "        \n",
              "  <svg xmlns=\"http://www.w3.org/2000/svg\" height=\"24px\"viewBox=\"0 0 24 24\"\n",
              "       width=\"24px\">\n",
              "    <path d=\"M0 0h24v24H0V0z\" fill=\"none\"/>\n",
              "    <path d=\"M18.56 5.44l.94 2.06.94-2.06 2.06-.94-2.06-.94-.94-2.06-.94 2.06-2.06.94zm-11 1L8.5 8.5l.94-2.06 2.06-.94-2.06-.94L8.5 2.5l-.94 2.06-2.06.94zm10 10l.94 2.06.94-2.06 2.06-.94-2.06-.94-.94-2.06-.94 2.06-2.06.94z\"/><path d=\"M17.41 7.96l-1.37-1.37c-.4-.4-.92-.59-1.43-.59-.52 0-1.04.2-1.43.59L10.3 9.45l-7.72 7.72c-.78.78-.78 2.05 0 2.83L4 21.41c.39.39.9.59 1.41.59.51 0 1.02-.2 1.41-.59l7.78-7.78 2.81-2.81c.8-.78.8-2.07 0-2.86zM5.41 20L4 18.59l7.72-7.72 1.47 1.35L5.41 20z\"/>\n",
              "  </svg>\n",
              "      </button>\n",
              "      \n",
              "  <style>\n",
              "    .colab-df-container {\n",
              "      display:flex;\n",
              "      flex-wrap:wrap;\n",
              "      gap: 12px;\n",
              "    }\n",
              "\n",
              "    .colab-df-convert {\n",
              "      background-color: #E8F0FE;\n",
              "      border: none;\n",
              "      border-radius: 50%;\n",
              "      cursor: pointer;\n",
              "      display: none;\n",
              "      fill: #1967D2;\n",
              "      height: 32px;\n",
              "      padding: 0 0 0 0;\n",
              "      width: 32px;\n",
              "    }\n",
              "\n",
              "    .colab-df-convert:hover {\n",
              "      background-color: #E2EBFA;\n",
              "      box-shadow: 0px 1px 2px rgba(60, 64, 67, 0.3), 0px 1px 3px 1px rgba(60, 64, 67, 0.15);\n",
              "      fill: #174EA6;\n",
              "    }\n",
              "\n",
              "    [theme=dark] .colab-df-convert {\n",
              "      background-color: #3B4455;\n",
              "      fill: #D2E3FC;\n",
              "    }\n",
              "\n",
              "    [theme=dark] .colab-df-convert:hover {\n",
              "      background-color: #434B5C;\n",
              "      box-shadow: 0px 1px 3px 1px rgba(0, 0, 0, 0.15);\n",
              "      filter: drop-shadow(0px 1px 2px rgba(0, 0, 0, 0.3));\n",
              "      fill: #FFFFFF;\n",
              "    }\n",
              "  </style>\n",
              "\n",
              "      <script>\n",
              "        const buttonEl =\n",
              "          document.querySelector('#df-d9b2b163-4711-4d7b-b86d-0a6e5b001407 button.colab-df-convert');\n",
              "        buttonEl.style.display =\n",
              "          google.colab.kernel.accessAllowed ? 'block' : 'none';\n",
              "\n",
              "        async function convertToInteractive(key) {\n",
              "          const element = document.querySelector('#df-d9b2b163-4711-4d7b-b86d-0a6e5b001407');\n",
              "          const dataTable =\n",
              "            await google.colab.kernel.invokeFunction('convertToInteractive',\n",
              "                                                     [key], {});\n",
              "          if (!dataTable) return;\n",
              "\n",
              "          const docLinkHtml = 'Like what you see? Visit the ' +\n",
              "            '<a target=\"_blank\" href=https://colab.research.google.com/notebooks/data_table.ipynb>data table notebook</a>'\n",
              "            + ' to learn more about interactive tables.';\n",
              "          element.innerHTML = '';\n",
              "          dataTable['output_type'] = 'display_data';\n",
              "          await google.colab.output.renderOutput(dataTable, element);\n",
              "          const docLink = document.createElement('div');\n",
              "          docLink.innerHTML = docLinkHtml;\n",
              "          element.appendChild(docLink);\n",
              "        }\n",
              "      </script>\n",
              "    </div>\n",
              "  </div>\n",
              "  "
            ]
          },
          "metadata": {},
          "execution_count": 26
        }
      ]
    },
    {
      "cell_type": "code",
      "source": [
        "delta_vif, p_value_vif, dof_vif, c_expected_vif = chi2_contingency (pd.crosstab (is_vif, is_mod))"
      ],
      "metadata": {
        "id": "sPGtWSQYONZl"
      },
      "execution_count": 27,
      "outputs": []
    },
    {
      "cell_type": "code",
      "source": [
        "print(f'There were {dof_vif} degrees of freedom in the table.')\n",
        "print(f'It expects to see the matrix\\n{c_expected_vif}')\n",
        "\n",
        "print(f'There was a difference of {delta_vif} between the expected and observed matrices.')\n",
        "print(f'The likelihood of seeing this large a difference by chance is p={p_value_vif}.')"
      ],
      "metadata": {
        "colab": {
          "base_uri": "https://localhost:8080/"
        },
        "id": "9LwIw-INNA0k",
        "outputId": "e073afb3-56ca-4a65-fa63-3a0ccaad7bb2"
      },
      "execution_count": 28,
      "outputs": [
        {
          "output_type": "stream",
          "name": "stdout",
          "text": [
            "There were 1 degrees of freedom in the table.\n",
            "It expects to see the matrix\n",
            "[[ 407.77142857   38.22857143]\n",
            " [   8.22857143    0.77142857]]\n",
            "There was a difference of 0.767791246263079 between the expected and observed matrices.\n",
            "The likelihood of seeing this large a difference by chance is p=0.3809012164487693.\n"
          ]
        }
      ]
    },
    {
      "cell_type": "code",
      "source": [
        "# That the methylation ion this gene is probably not by random chance. "
      ],
      "metadata": {
        "id": "AenATDGgOfH8"
      },
      "execution_count": 29,
      "outputs": []
    },
    {
      "cell_type": "code",
      "source": [
        "is_vpr = table['Reading_frame_3' ] == 'vpr'\n",
        "is_vpr"
      ],
      "metadata": {
        "colab": {
          "base_uri": "https://localhost:8080/"
        },
        "id": "BMNR_ae0PdzO",
        "outputId": "b0a0dd36-6088-491d-b8ad-19a50b2f7b7d"
      },
      "execution_count": 30,
      "outputs": [
        {
          "output_type": "execute_result",
          "data": {
            "text/plain": [
              "0      False\n",
              "1      False\n",
              "2      False\n",
              "3      False\n",
              "4      False\n",
              "       ...  \n",
              "450    False\n",
              "451    False\n",
              "452    False\n",
              "453    False\n",
              "454    False\n",
              "Name: Reading_frame_3, Length: 455, dtype: bool"
            ]
          },
          "metadata": {},
          "execution_count": 30
        }
      ]
    },
    {
      "cell_type": "code",
      "source": [
        "delta_vpr, p_value_vpr, dof_vpr, c_expected_vpr = chi2_contingency (pd.crosstab (is_vpr, is_mod))"
      ],
      "metadata": {
        "id": "pDTK2kTJPwhx"
      },
      "execution_count": 31,
      "outputs": []
    },
    {
      "cell_type": "code",
      "source": [
        "print(f'There were {dof_vpr} degrees of freedom in the table.')\n",
        "print(f'It expects to see the matrix\\n{c_expected_vpr}')\n",
        "\n",
        "print(f'There was a difference of {delta_vpr} between the expected and observed matrices.')\n",
        "print(f'The likelihood of seeing this large a difference by chance is p={p_value_vpr}.')"
      ],
      "metadata": {
        "colab": {
          "base_uri": "https://localhost:8080/"
        },
        "id": "YOtK4jugQLbo",
        "outputId": "5b5e338d-9c5e-4537-ee6a-e6e24667a110"
      },
      "execution_count": 32,
      "outputs": [
        {
          "output_type": "stream",
          "name": "stdout",
          "text": [
            "There were 1 degrees of freedom in the table.\n",
            "It expects to see the matrix\n",
            "[[ 406.85714286   38.14285714]\n",
            " [   9.14285714    0.85714286]]\n",
            "There was a difference of 0.1664179541198501 between the expected and observed matrices.\n",
            "The likelihood of seeing this large a difference by chance is p=0.6833151061980818.\n"
          ]
        }
      ]
    },
    {
      "cell_type": "code",
      "source": [
        "is_tat = table['tat_reading'] == 'tat'\n",
        "is_tat\n"
      ],
      "metadata": {
        "colab": {
          "base_uri": "https://localhost:8080/"
        },
        "id": "F9nUl-4NQrEd",
        "outputId": "e7e406ca-3450-48c7-81b9-0e9666954c23"
      },
      "execution_count": 33,
      "outputs": [
        {
          "output_type": "execute_result",
          "data": {
            "text/plain": [
              "0      False\n",
              "1      False\n",
              "2      False\n",
              "3      False\n",
              "4      False\n",
              "       ...  \n",
              "450    False\n",
              "451    False\n",
              "452    False\n",
              "453    False\n",
              "454    False\n",
              "Name: tat_reading, Length: 455, dtype: bool"
            ]
          },
          "metadata": {},
          "execution_count": 33
        }
      ]
    },
    {
      "cell_type": "code",
      "source": [
        "pd.crosstab (is_tat, is_mod)"
      ],
      "metadata": {
        "colab": {
          "base_uri": "https://localhost:8080/",
          "height": 143
        },
        "id": "OThiafZKZAU8",
        "outputId": "f52910e2-5efb-41f5-c214-dbc9177199b0"
      },
      "execution_count": 34,
      "outputs": [
        {
          "output_type": "execute_result",
          "data": {
            "text/plain": [
              "Percentage_of_mod_bases  False  True\n",
              "tat_reading                         \n",
              "False                      392    38\n",
              "True                        24     1"
            ],
            "text/html": [
              "\n",
              "  <div id=\"df-15495851-08a1-4b92-b3d4-477a3f21e2bc\">\n",
              "    <div class=\"colab-df-container\">\n",
              "      <div>\n",
              "<style scoped>\n",
              "    .dataframe tbody tr th:only-of-type {\n",
              "        vertical-align: middle;\n",
              "    }\n",
              "\n",
              "    .dataframe tbody tr th {\n",
              "        vertical-align: top;\n",
              "    }\n",
              "\n",
              "    .dataframe thead th {\n",
              "        text-align: right;\n",
              "    }\n",
              "</style>\n",
              "<table border=\"1\" class=\"dataframe\">\n",
              "  <thead>\n",
              "    <tr style=\"text-align: right;\">\n",
              "      <th>Percentage_of_mod_bases</th>\n",
              "      <th>False</th>\n",
              "      <th>True</th>\n",
              "    </tr>\n",
              "    <tr>\n",
              "      <th>tat_reading</th>\n",
              "      <th></th>\n",
              "      <th></th>\n",
              "    </tr>\n",
              "  </thead>\n",
              "  <tbody>\n",
              "    <tr>\n",
              "      <th>False</th>\n",
              "      <td>392</td>\n",
              "      <td>38</td>\n",
              "    </tr>\n",
              "    <tr>\n",
              "      <th>True</th>\n",
              "      <td>24</td>\n",
              "      <td>1</td>\n",
              "    </tr>\n",
              "  </tbody>\n",
              "</table>\n",
              "</div>\n",
              "      <button class=\"colab-df-convert\" onclick=\"convertToInteractive('df-15495851-08a1-4b92-b3d4-477a3f21e2bc')\"\n",
              "              title=\"Convert this dataframe to an interactive table.\"\n",
              "              style=\"display:none;\">\n",
              "        \n",
              "  <svg xmlns=\"http://www.w3.org/2000/svg\" height=\"24px\"viewBox=\"0 0 24 24\"\n",
              "       width=\"24px\">\n",
              "    <path d=\"M0 0h24v24H0V0z\" fill=\"none\"/>\n",
              "    <path d=\"M18.56 5.44l.94 2.06.94-2.06 2.06-.94-2.06-.94-.94-2.06-.94 2.06-2.06.94zm-11 1L8.5 8.5l.94-2.06 2.06-.94-2.06-.94L8.5 2.5l-.94 2.06-2.06.94zm10 10l.94 2.06.94-2.06 2.06-.94-2.06-.94-.94-2.06-.94 2.06-2.06.94z\"/><path d=\"M17.41 7.96l-1.37-1.37c-.4-.4-.92-.59-1.43-.59-.52 0-1.04.2-1.43.59L10.3 9.45l-7.72 7.72c-.78.78-.78 2.05 0 2.83L4 21.41c.39.39.9.59 1.41.59.51 0 1.02-.2 1.41-.59l7.78-7.78 2.81-2.81c.8-.78.8-2.07 0-2.86zM5.41 20L4 18.59l7.72-7.72 1.47 1.35L5.41 20z\"/>\n",
              "  </svg>\n",
              "      </button>\n",
              "      \n",
              "  <style>\n",
              "    .colab-df-container {\n",
              "      display:flex;\n",
              "      flex-wrap:wrap;\n",
              "      gap: 12px;\n",
              "    }\n",
              "\n",
              "    .colab-df-convert {\n",
              "      background-color: #E8F0FE;\n",
              "      border: none;\n",
              "      border-radius: 50%;\n",
              "      cursor: pointer;\n",
              "      display: none;\n",
              "      fill: #1967D2;\n",
              "      height: 32px;\n",
              "      padding: 0 0 0 0;\n",
              "      width: 32px;\n",
              "    }\n",
              "\n",
              "    .colab-df-convert:hover {\n",
              "      background-color: #E2EBFA;\n",
              "      box-shadow: 0px 1px 2px rgba(60, 64, 67, 0.3), 0px 1px 3px 1px rgba(60, 64, 67, 0.15);\n",
              "      fill: #174EA6;\n",
              "    }\n",
              "\n",
              "    [theme=dark] .colab-df-convert {\n",
              "      background-color: #3B4455;\n",
              "      fill: #D2E3FC;\n",
              "    }\n",
              "\n",
              "    [theme=dark] .colab-df-convert:hover {\n",
              "      background-color: #434B5C;\n",
              "      box-shadow: 0px 1px 3px 1px rgba(0, 0, 0, 0.15);\n",
              "      filter: drop-shadow(0px 1px 2px rgba(0, 0, 0, 0.3));\n",
              "      fill: #FFFFFF;\n",
              "    }\n",
              "  </style>\n",
              "\n",
              "      <script>\n",
              "        const buttonEl =\n",
              "          document.querySelector('#df-15495851-08a1-4b92-b3d4-477a3f21e2bc button.colab-df-convert');\n",
              "        buttonEl.style.display =\n",
              "          google.colab.kernel.accessAllowed ? 'block' : 'none';\n",
              "\n",
              "        async function convertToInteractive(key) {\n",
              "          const element = document.querySelector('#df-15495851-08a1-4b92-b3d4-477a3f21e2bc');\n",
              "          const dataTable =\n",
              "            await google.colab.kernel.invokeFunction('convertToInteractive',\n",
              "                                                     [key], {});\n",
              "          if (!dataTable) return;\n",
              "\n",
              "          const docLinkHtml = 'Like what you see? Visit the ' +\n",
              "            '<a target=\"_blank\" href=https://colab.research.google.com/notebooks/data_table.ipynb>data table notebook</a>'\n",
              "            + ' to learn more about interactive tables.';\n",
              "          element.innerHTML = '';\n",
              "          dataTable['output_type'] = 'display_data';\n",
              "          await google.colab.output.renderOutput(dataTable, element);\n",
              "          const docLink = document.createElement('div');\n",
              "          docLink.innerHTML = docLinkHtml;\n",
              "          element.appendChild(docLink);\n",
              "        }\n",
              "      </script>\n",
              "    </div>\n",
              "  </div>\n",
              "  "
            ]
          },
          "metadata": {},
          "execution_count": 34
        }
      ]
    },
    {
      "cell_type": "code",
      "source": [
        "delta_tat, p_value_tat, dof_tat, c_expected_tat = chi2_contingency (pd.crosstab (is_tat, is_mod))"
      ],
      "metadata": {
        "id": "yCEQZOyWZuEE"
      },
      "execution_count": 35,
      "outputs": []
    },
    {
      "cell_type": "code",
      "source": [
        "print(f'There were {dof_tat} degrees of freedom in the table.')\n",
        "print(f'It expects to see the matrix\\n{c_expected_tat}')\n",
        "\n",
        "print(f'There was a difference of {delta_tat} between the expected and observed matrices.')\n",
        "print(f'The likelihood of seeing this large a difference by chance is p={p_value_tat}.')"
      ],
      "metadata": {
        "colab": {
          "base_uri": "https://localhost:8080/"
        },
        "id": "bqGGUrWAZNfX",
        "outputId": "06ec731a-a958-46fe-d2c2-588248441929"
      },
      "execution_count": 36,
      "outputs": [
        {
          "output_type": "stream",
          "name": "stdout",
          "text": [
            "There were 1 degrees of freedom in the table.\n",
            "It expects to see the matrix\n",
            "[[ 393.14285714   36.85714286]\n",
            " [  22.85714286    2.14285714]]\n",
            "There was a difference of 0.22320130813953498 between the expected and observed matrices.\n",
            "The likelihood of seeing this large a difference by chance is p=0.6366114337797564.\n"
          ]
        }
      ]
    },
    {
      "cell_type": "code",
      "source": [
        "# WRITE HERE!"
      ],
      "metadata": {
        "id": "1MAlwUJvTqG4"
      },
      "execution_count": 37,
      "outputs": []
    },
    {
      "cell_type": "code",
      "source": [
        "is_rev = table['rev_reading' ] == 'rev'\n",
        "is_rev"
      ],
      "metadata": {
        "colab": {
          "base_uri": "https://localhost:8080/"
        },
        "id": "IEvkLyraaB3I",
        "outputId": "dfdbb724-b568-497d-f1ce-ba5abb7364b4"
      },
      "execution_count": 38,
      "outputs": [
        {
          "output_type": "execute_result",
          "data": {
            "text/plain": [
              "0      False\n",
              "1      False\n",
              "2      False\n",
              "3      False\n",
              "4      False\n",
              "       ...  \n",
              "450    False\n",
              "451    False\n",
              "452    False\n",
              "453    False\n",
              "454    False\n",
              "Name: rev_reading, Length: 455, dtype: bool"
            ]
          },
          "metadata": {},
          "execution_count": 38
        }
      ]
    },
    {
      "cell_type": "code",
      "source": [
        "pd.crosstab (is_rev, is_mod)"
      ],
      "metadata": {
        "colab": {
          "base_uri": "https://localhost:8080/",
          "height": 143
        },
        "id": "Q-02LLzIbSSq",
        "outputId": "2f4893cd-5ad6-4ccf-ef84-ff307426d809"
      },
      "execution_count": 39,
      "outputs": [
        {
          "output_type": "execute_result",
          "data": {
            "text/plain": [
              "Percentage_of_mod_bases  False  True\n",
              "rev_reading                         \n",
              "False                      410    38\n",
              "True                         6     1"
            ],
            "text/html": [
              "\n",
              "  <div id=\"df-7a5a85ed-3f41-4be5-9e92-97c757cf94ef\">\n",
              "    <div class=\"colab-df-container\">\n",
              "      <div>\n",
              "<style scoped>\n",
              "    .dataframe tbody tr th:only-of-type {\n",
              "        vertical-align: middle;\n",
              "    }\n",
              "\n",
              "    .dataframe tbody tr th {\n",
              "        vertical-align: top;\n",
              "    }\n",
              "\n",
              "    .dataframe thead th {\n",
              "        text-align: right;\n",
              "    }\n",
              "</style>\n",
              "<table border=\"1\" class=\"dataframe\">\n",
              "  <thead>\n",
              "    <tr style=\"text-align: right;\">\n",
              "      <th>Percentage_of_mod_bases</th>\n",
              "      <th>False</th>\n",
              "      <th>True</th>\n",
              "    </tr>\n",
              "    <tr>\n",
              "      <th>rev_reading</th>\n",
              "      <th></th>\n",
              "      <th></th>\n",
              "    </tr>\n",
              "  </thead>\n",
              "  <tbody>\n",
              "    <tr>\n",
              "      <th>False</th>\n",
              "      <td>410</td>\n",
              "      <td>38</td>\n",
              "    </tr>\n",
              "    <tr>\n",
              "      <th>True</th>\n",
              "      <td>6</td>\n",
              "      <td>1</td>\n",
              "    </tr>\n",
              "  </tbody>\n",
              "</table>\n",
              "</div>\n",
              "      <button class=\"colab-df-convert\" onclick=\"convertToInteractive('df-7a5a85ed-3f41-4be5-9e92-97c757cf94ef')\"\n",
              "              title=\"Convert this dataframe to an interactive table.\"\n",
              "              style=\"display:none;\">\n",
              "        \n",
              "  <svg xmlns=\"http://www.w3.org/2000/svg\" height=\"24px\"viewBox=\"0 0 24 24\"\n",
              "       width=\"24px\">\n",
              "    <path d=\"M0 0h24v24H0V0z\" fill=\"none\"/>\n",
              "    <path d=\"M18.56 5.44l.94 2.06.94-2.06 2.06-.94-2.06-.94-.94-2.06-.94 2.06-2.06.94zm-11 1L8.5 8.5l.94-2.06 2.06-.94-2.06-.94L8.5 2.5l-.94 2.06-2.06.94zm10 10l.94 2.06.94-2.06 2.06-.94-2.06-.94-.94-2.06-.94 2.06-2.06.94z\"/><path d=\"M17.41 7.96l-1.37-1.37c-.4-.4-.92-.59-1.43-.59-.52 0-1.04.2-1.43.59L10.3 9.45l-7.72 7.72c-.78.78-.78 2.05 0 2.83L4 21.41c.39.39.9.59 1.41.59.51 0 1.02-.2 1.41-.59l7.78-7.78 2.81-2.81c.8-.78.8-2.07 0-2.86zM5.41 20L4 18.59l7.72-7.72 1.47 1.35L5.41 20z\"/>\n",
              "  </svg>\n",
              "      </button>\n",
              "      \n",
              "  <style>\n",
              "    .colab-df-container {\n",
              "      display:flex;\n",
              "      flex-wrap:wrap;\n",
              "      gap: 12px;\n",
              "    }\n",
              "\n",
              "    .colab-df-convert {\n",
              "      background-color: #E8F0FE;\n",
              "      border: none;\n",
              "      border-radius: 50%;\n",
              "      cursor: pointer;\n",
              "      display: none;\n",
              "      fill: #1967D2;\n",
              "      height: 32px;\n",
              "      padding: 0 0 0 0;\n",
              "      width: 32px;\n",
              "    }\n",
              "\n",
              "    .colab-df-convert:hover {\n",
              "      background-color: #E2EBFA;\n",
              "      box-shadow: 0px 1px 2px rgba(60, 64, 67, 0.3), 0px 1px 3px 1px rgba(60, 64, 67, 0.15);\n",
              "      fill: #174EA6;\n",
              "    }\n",
              "\n",
              "    [theme=dark] .colab-df-convert {\n",
              "      background-color: #3B4455;\n",
              "      fill: #D2E3FC;\n",
              "    }\n",
              "\n",
              "    [theme=dark] .colab-df-convert:hover {\n",
              "      background-color: #434B5C;\n",
              "      box-shadow: 0px 1px 3px 1px rgba(0, 0, 0, 0.15);\n",
              "      filter: drop-shadow(0px 1px 2px rgba(0, 0, 0, 0.3));\n",
              "      fill: #FFFFFF;\n",
              "    }\n",
              "  </style>\n",
              "\n",
              "      <script>\n",
              "        const buttonEl =\n",
              "          document.querySelector('#df-7a5a85ed-3f41-4be5-9e92-97c757cf94ef button.colab-df-convert');\n",
              "        buttonEl.style.display =\n",
              "          google.colab.kernel.accessAllowed ? 'block' : 'none';\n",
              "\n",
              "        async function convertToInteractive(key) {\n",
              "          const element = document.querySelector('#df-7a5a85ed-3f41-4be5-9e92-97c757cf94ef');\n",
              "          const dataTable =\n",
              "            await google.colab.kernel.invokeFunction('convertToInteractive',\n",
              "                                                     [key], {});\n",
              "          if (!dataTable) return;\n",
              "\n",
              "          const docLinkHtml = 'Like what you see? Visit the ' +\n",
              "            '<a target=\"_blank\" href=https://colab.research.google.com/notebooks/data_table.ipynb>data table notebook</a>'\n",
              "            + ' to learn more about interactive tables.';\n",
              "          element.innerHTML = '';\n",
              "          dataTable['output_type'] = 'display_data';\n",
              "          await google.colab.output.renderOutput(dataTable, element);\n",
              "          const docLink = document.createElement('div');\n",
              "          docLink.innerHTML = docLinkHtml;\n",
              "          element.appendChild(docLink);\n",
              "        }\n",
              "      </script>\n",
              "    </div>\n",
              "  </div>\n",
              "  "
            ]
          },
          "metadata": {},
          "execution_count": 39
        }
      ]
    },
    {
      "cell_type": "code",
      "source": [
        "delta_rev, p_value_rev, dof_rev, c_expected_rev = chi2_contingency (pd.crosstab (is_rev, is_mod))"
      ],
      "metadata": {
        "id": "yeTWKJ6bbtvi"
      },
      "execution_count": 40,
      "outputs": []
    },
    {
      "cell_type": "code",
      "source": [
        "print(f'There were {dof_rev} degrees of freedom in the table.')\n",
        "print(f'It expects to see the matrix\\n{c_expected_rev}')\n",
        "\n",
        "print(f'There was a difference of {delta_rev} between the expected and observed matrices.')\n",
        "print(f'The likelihood of seeing this large a difference by chance is p={p_value_rev}.')"
      ],
      "metadata": {
        "colab": {
          "base_uri": "https://localhost:8080/"
        },
        "id": "EKUCXR7kb2hT",
        "outputId": "a9d155ff-94ff-4855-854b-261dbe060a1b"
      },
      "execution_count": 41,
      "outputs": [
        {
          "output_type": "stream",
          "name": "stdout",
          "text": [
            "There were 1 degrees of freedom in the table.\n",
            "It expects to see the matrix\n",
            "[[ 409.6   38.4]\n",
            " [   6.4    0.6]]\n",
            "There was a difference of 0.0 between the expected and observed matrices.\n",
            "The likelihood of seeing this large a difference by chance is p=1.0.\n"
          ]
        }
      ]
    },
    {
      "cell_type": "code",
      "source": [
        "# WRITE HERE"
      ],
      "metadata": {
        "id": "CQSAWaYTchf-"
      },
      "execution_count": 42,
      "outputs": []
    },
    {
      "cell_type": "code",
      "source": [
        "is_env = table['Reading_frame_3'] == 'env'\n",
        "is_env"
      ],
      "metadata": {
        "colab": {
          "base_uri": "https://localhost:8080/"
        },
        "id": "17reM8JDclwl",
        "outputId": "a0ff43e8-e7b8-4588-da3b-d34571e44c37"
      },
      "execution_count": 43,
      "outputs": [
        {
          "output_type": "execute_result",
          "data": {
            "text/plain": [
              "0      False\n",
              "1      False\n",
              "2      False\n",
              "3      False\n",
              "4      False\n",
              "       ...  \n",
              "450    False\n",
              "451    False\n",
              "452    False\n",
              "453    False\n",
              "454    False\n",
              "Name: Reading_frame_3, Length: 455, dtype: bool"
            ]
          },
          "metadata": {},
          "execution_count": 43
        }
      ]
    },
    {
      "cell_type": "code",
      "source": [
        "pd.crosstab (is_env, is_mod)"
      ],
      "metadata": {
        "colab": {
          "base_uri": "https://localhost:8080/",
          "height": 143
        },
        "id": "v-w7d3MkdzPP",
        "outputId": "b6185fe9-36c4-4c2f-c6d9-94858099da22"
      },
      "execution_count": 44,
      "outputs": [
        {
          "output_type": "execute_result",
          "data": {
            "text/plain": [
              "Percentage_of_mod_bases  False  True\n",
              "Reading_frame_3                     \n",
              "False                      320    34\n",
              "True                        96     5"
            ],
            "text/html": [
              "\n",
              "  <div id=\"df-b77ad3a4-476d-4192-8f82-661c106e3493\">\n",
              "    <div class=\"colab-df-container\">\n",
              "      <div>\n",
              "<style scoped>\n",
              "    .dataframe tbody tr th:only-of-type {\n",
              "        vertical-align: middle;\n",
              "    }\n",
              "\n",
              "    .dataframe tbody tr th {\n",
              "        vertical-align: top;\n",
              "    }\n",
              "\n",
              "    .dataframe thead th {\n",
              "        text-align: right;\n",
              "    }\n",
              "</style>\n",
              "<table border=\"1\" class=\"dataframe\">\n",
              "  <thead>\n",
              "    <tr style=\"text-align: right;\">\n",
              "      <th>Percentage_of_mod_bases</th>\n",
              "      <th>False</th>\n",
              "      <th>True</th>\n",
              "    </tr>\n",
              "    <tr>\n",
              "      <th>Reading_frame_3</th>\n",
              "      <th></th>\n",
              "      <th></th>\n",
              "    </tr>\n",
              "  </thead>\n",
              "  <tbody>\n",
              "    <tr>\n",
              "      <th>False</th>\n",
              "      <td>320</td>\n",
              "      <td>34</td>\n",
              "    </tr>\n",
              "    <tr>\n",
              "      <th>True</th>\n",
              "      <td>96</td>\n",
              "      <td>5</td>\n",
              "    </tr>\n",
              "  </tbody>\n",
              "</table>\n",
              "</div>\n",
              "      <button class=\"colab-df-convert\" onclick=\"convertToInteractive('df-b77ad3a4-476d-4192-8f82-661c106e3493')\"\n",
              "              title=\"Convert this dataframe to an interactive table.\"\n",
              "              style=\"display:none;\">\n",
              "        \n",
              "  <svg xmlns=\"http://www.w3.org/2000/svg\" height=\"24px\"viewBox=\"0 0 24 24\"\n",
              "       width=\"24px\">\n",
              "    <path d=\"M0 0h24v24H0V0z\" fill=\"none\"/>\n",
              "    <path d=\"M18.56 5.44l.94 2.06.94-2.06 2.06-.94-2.06-.94-.94-2.06-.94 2.06-2.06.94zm-11 1L8.5 8.5l.94-2.06 2.06-.94-2.06-.94L8.5 2.5l-.94 2.06-2.06.94zm10 10l.94 2.06.94-2.06 2.06-.94-2.06-.94-.94-2.06-.94 2.06-2.06.94z\"/><path d=\"M17.41 7.96l-1.37-1.37c-.4-.4-.92-.59-1.43-.59-.52 0-1.04.2-1.43.59L10.3 9.45l-7.72 7.72c-.78.78-.78 2.05 0 2.83L4 21.41c.39.39.9.59 1.41.59.51 0 1.02-.2 1.41-.59l7.78-7.78 2.81-2.81c.8-.78.8-2.07 0-2.86zM5.41 20L4 18.59l7.72-7.72 1.47 1.35L5.41 20z\"/>\n",
              "  </svg>\n",
              "      </button>\n",
              "      \n",
              "  <style>\n",
              "    .colab-df-container {\n",
              "      display:flex;\n",
              "      flex-wrap:wrap;\n",
              "      gap: 12px;\n",
              "    }\n",
              "\n",
              "    .colab-df-convert {\n",
              "      background-color: #E8F0FE;\n",
              "      border: none;\n",
              "      border-radius: 50%;\n",
              "      cursor: pointer;\n",
              "      display: none;\n",
              "      fill: #1967D2;\n",
              "      height: 32px;\n",
              "      padding: 0 0 0 0;\n",
              "      width: 32px;\n",
              "    }\n",
              "\n",
              "    .colab-df-convert:hover {\n",
              "      background-color: #E2EBFA;\n",
              "      box-shadow: 0px 1px 2px rgba(60, 64, 67, 0.3), 0px 1px 3px 1px rgba(60, 64, 67, 0.15);\n",
              "      fill: #174EA6;\n",
              "    }\n",
              "\n",
              "    [theme=dark] .colab-df-convert {\n",
              "      background-color: #3B4455;\n",
              "      fill: #D2E3FC;\n",
              "    }\n",
              "\n",
              "    [theme=dark] .colab-df-convert:hover {\n",
              "      background-color: #434B5C;\n",
              "      box-shadow: 0px 1px 3px 1px rgba(0, 0, 0, 0.15);\n",
              "      filter: drop-shadow(0px 1px 2px rgba(0, 0, 0, 0.3));\n",
              "      fill: #FFFFFF;\n",
              "    }\n",
              "  </style>\n",
              "\n",
              "      <script>\n",
              "        const buttonEl =\n",
              "          document.querySelector('#df-b77ad3a4-476d-4192-8f82-661c106e3493 button.colab-df-convert');\n",
              "        buttonEl.style.display =\n",
              "          google.colab.kernel.accessAllowed ? 'block' : 'none';\n",
              "\n",
              "        async function convertToInteractive(key) {\n",
              "          const element = document.querySelector('#df-b77ad3a4-476d-4192-8f82-661c106e3493');\n",
              "          const dataTable =\n",
              "            await google.colab.kernel.invokeFunction('convertToInteractive',\n",
              "                                                     [key], {});\n",
              "          if (!dataTable) return;\n",
              "\n",
              "          const docLinkHtml = 'Like what you see? Visit the ' +\n",
              "            '<a target=\"_blank\" href=https://colab.research.google.com/notebooks/data_table.ipynb>data table notebook</a>'\n",
              "            + ' to learn more about interactive tables.';\n",
              "          element.innerHTML = '';\n",
              "          dataTable['output_type'] = 'display_data';\n",
              "          await google.colab.output.renderOutput(dataTable, element);\n",
              "          const docLink = document.createElement('div');\n",
              "          docLink.innerHTML = docLinkHtml;\n",
              "          element.appendChild(docLink);\n",
              "        }\n",
              "      </script>\n",
              "    </div>\n",
              "  </div>\n",
              "  "
            ]
          },
          "metadata": {},
          "execution_count": 44
        }
      ]
    },
    {
      "cell_type": "code",
      "source": [
        "delta_env, p_value_env, dof_env, c_expected_env = chi2_contingency (pd.crosstab (is_env, is_mod))"
      ],
      "metadata": {
        "id": "2v66Ho6md6Mu"
      },
      "execution_count": 45,
      "outputs": []
    },
    {
      "cell_type": "code",
      "source": [
        "print(f'There were {dof_env} degrees of freedom in the table.')\n",
        "print(f'It expects to see the matrix\\n{c_expected_env}')\n",
        "\n",
        "print(f'There was a difference of {delta_env} between the expected and observed matrices.')\n",
        "print(f'The likelihood of seeing this large a difference by chance is p={p_value_env}.')"
      ],
      "metadata": {
        "colab": {
          "base_uri": "https://localhost:8080/"
        },
        "id": "JuTMBEbaeFUQ",
        "outputId": "70c86dc5-adb9-4d22-b5d0-19c5a5e07bd6"
      },
      "execution_count": 46,
      "outputs": [
        {
          "output_type": "stream",
          "name": "stdout",
          "text": [
            "There were 1 degrees of freedom in the table.\n",
            "It expects to see the matrix\n",
            "[[ 323.65714286   30.34285714]\n",
            " [  92.34285714    8.65714286]]\n",
            "There was a difference of 1.6186020416130593 between the expected and observed matrices.\n",
            "The likelihood of seeing this large a difference by chance is p=0.2032868231345772.\n"
          ]
        }
      ]
    },
    {
      "cell_type": "code",
      "source": [
        "#Write Here!"
      ],
      "metadata": {
        "id": "3rnz3RDheK_i"
      },
      "execution_count": 47,
      "outputs": []
    },
    {
      "cell_type": "code",
      "source": [
        "is_LTR_3 = table['Reading_frame_2'] == 'LTR_3'\n",
        "is_LTR_3"
      ],
      "metadata": {
        "colab": {
          "base_uri": "https://localhost:8080/"
        },
        "id": "enzMFq8AhamS",
        "outputId": "03e07674-c50e-4e36-9dd0-36e7fbd3a71d"
      },
      "execution_count": 48,
      "outputs": [
        {
          "output_type": "execute_result",
          "data": {
            "text/plain": [
              "0      False\n",
              "1      False\n",
              "2      False\n",
              "3      False\n",
              "4      False\n",
              "       ...  \n",
              "450     True\n",
              "451     True\n",
              "452     True\n",
              "453     True\n",
              "454    False\n",
              "Name: Reading_frame_2, Length: 455, dtype: bool"
            ]
          },
          "metadata": {},
          "execution_count": 48
        }
      ]
    },
    {
      "cell_type": "code",
      "source": [
        "pd.crosstab (is_LTR_3, is_mod)"
      ],
      "metadata": {
        "colab": {
          "base_uri": "https://localhost:8080/",
          "height": 143
        },
        "id": "Ec1oeczuhxHI",
        "outputId": "093b3d52-397f-4bf0-bd37-366671c82aa9"
      },
      "execution_count": 49,
      "outputs": [
        {
          "output_type": "execute_result",
          "data": {
            "text/plain": [
              "Percentage_of_mod_bases  False  True\n",
              "Reading_frame_2                     \n",
              "False                      391    37\n",
              "True                        25     2"
            ],
            "text/html": [
              "\n",
              "  <div id=\"df-4e46c32e-3c5e-4191-81ec-b802bddc5b9c\">\n",
              "    <div class=\"colab-df-container\">\n",
              "      <div>\n",
              "<style scoped>\n",
              "    .dataframe tbody tr th:only-of-type {\n",
              "        vertical-align: middle;\n",
              "    }\n",
              "\n",
              "    .dataframe tbody tr th {\n",
              "        vertical-align: top;\n",
              "    }\n",
              "\n",
              "    .dataframe thead th {\n",
              "        text-align: right;\n",
              "    }\n",
              "</style>\n",
              "<table border=\"1\" class=\"dataframe\">\n",
              "  <thead>\n",
              "    <tr style=\"text-align: right;\">\n",
              "      <th>Percentage_of_mod_bases</th>\n",
              "      <th>False</th>\n",
              "      <th>True</th>\n",
              "    </tr>\n",
              "    <tr>\n",
              "      <th>Reading_frame_2</th>\n",
              "      <th></th>\n",
              "      <th></th>\n",
              "    </tr>\n",
              "  </thead>\n",
              "  <tbody>\n",
              "    <tr>\n",
              "      <th>False</th>\n",
              "      <td>391</td>\n",
              "      <td>37</td>\n",
              "    </tr>\n",
              "    <tr>\n",
              "      <th>True</th>\n",
              "      <td>25</td>\n",
              "      <td>2</td>\n",
              "    </tr>\n",
              "  </tbody>\n",
              "</table>\n",
              "</div>\n",
              "      <button class=\"colab-df-convert\" onclick=\"convertToInteractive('df-4e46c32e-3c5e-4191-81ec-b802bddc5b9c')\"\n",
              "              title=\"Convert this dataframe to an interactive table.\"\n",
              "              style=\"display:none;\">\n",
              "        \n",
              "  <svg xmlns=\"http://www.w3.org/2000/svg\" height=\"24px\"viewBox=\"0 0 24 24\"\n",
              "       width=\"24px\">\n",
              "    <path d=\"M0 0h24v24H0V0z\" fill=\"none\"/>\n",
              "    <path d=\"M18.56 5.44l.94 2.06.94-2.06 2.06-.94-2.06-.94-.94-2.06-.94 2.06-2.06.94zm-11 1L8.5 8.5l.94-2.06 2.06-.94-2.06-.94L8.5 2.5l-.94 2.06-2.06.94zm10 10l.94 2.06.94-2.06 2.06-.94-2.06-.94-.94-2.06-.94 2.06-2.06.94z\"/><path d=\"M17.41 7.96l-1.37-1.37c-.4-.4-.92-.59-1.43-.59-.52 0-1.04.2-1.43.59L10.3 9.45l-7.72 7.72c-.78.78-.78 2.05 0 2.83L4 21.41c.39.39.9.59 1.41.59.51 0 1.02-.2 1.41-.59l7.78-7.78 2.81-2.81c.8-.78.8-2.07 0-2.86zM5.41 20L4 18.59l7.72-7.72 1.47 1.35L5.41 20z\"/>\n",
              "  </svg>\n",
              "      </button>\n",
              "      \n",
              "  <style>\n",
              "    .colab-df-container {\n",
              "      display:flex;\n",
              "      flex-wrap:wrap;\n",
              "      gap: 12px;\n",
              "    }\n",
              "\n",
              "    .colab-df-convert {\n",
              "      background-color: #E8F0FE;\n",
              "      border: none;\n",
              "      border-radius: 50%;\n",
              "      cursor: pointer;\n",
              "      display: none;\n",
              "      fill: #1967D2;\n",
              "      height: 32px;\n",
              "      padding: 0 0 0 0;\n",
              "      width: 32px;\n",
              "    }\n",
              "\n",
              "    .colab-df-convert:hover {\n",
              "      background-color: #E2EBFA;\n",
              "      box-shadow: 0px 1px 2px rgba(60, 64, 67, 0.3), 0px 1px 3px 1px rgba(60, 64, 67, 0.15);\n",
              "      fill: #174EA6;\n",
              "    }\n",
              "\n",
              "    [theme=dark] .colab-df-convert {\n",
              "      background-color: #3B4455;\n",
              "      fill: #D2E3FC;\n",
              "    }\n",
              "\n",
              "    [theme=dark] .colab-df-convert:hover {\n",
              "      background-color: #434B5C;\n",
              "      box-shadow: 0px 1px 3px 1px rgba(0, 0, 0, 0.15);\n",
              "      filter: drop-shadow(0px 1px 2px rgba(0, 0, 0, 0.3));\n",
              "      fill: #FFFFFF;\n",
              "    }\n",
              "  </style>\n",
              "\n",
              "      <script>\n",
              "        const buttonEl =\n",
              "          document.querySelector('#df-4e46c32e-3c5e-4191-81ec-b802bddc5b9c button.colab-df-convert');\n",
              "        buttonEl.style.display =\n",
              "          google.colab.kernel.accessAllowed ? 'block' : 'none';\n",
              "\n",
              "        async function convertToInteractive(key) {\n",
              "          const element = document.querySelector('#df-4e46c32e-3c5e-4191-81ec-b802bddc5b9c');\n",
              "          const dataTable =\n",
              "            await google.colab.kernel.invokeFunction('convertToInteractive',\n",
              "                                                     [key], {});\n",
              "          if (!dataTable) return;\n",
              "\n",
              "          const docLinkHtml = 'Like what you see? Visit the ' +\n",
              "            '<a target=\"_blank\" href=https://colab.research.google.com/notebooks/data_table.ipynb>data table notebook</a>'\n",
              "            + ' to learn more about interactive tables.';\n",
              "          element.innerHTML = '';\n",
              "          dataTable['output_type'] = 'display_data';\n",
              "          await google.colab.output.renderOutput(dataTable, element);\n",
              "          const docLink = document.createElement('div');\n",
              "          docLink.innerHTML = docLinkHtml;\n",
              "          element.appendChild(docLink);\n",
              "        }\n",
              "      </script>\n",
              "    </div>\n",
              "  </div>\n",
              "  "
            ]
          },
          "metadata": {},
          "execution_count": 49
        }
      ]
    },
    {
      "cell_type": "code",
      "source": [
        "delta_LTR_3, p_value_LTR_3, dof_LTR_3, c_expected_LTR_3 = chi2_contingency (pd.crosstab (is_LTR_3, is_mod))"
      ],
      "metadata": {
        "id": "GW7pK_tAh1x4"
      },
      "execution_count": 50,
      "outputs": []
    },
    {
      "cell_type": "code",
      "source": [
        "print(f'There were {dof_LTR_3} degrees of freedom in the table.')\n",
        "print(f'It expects to see the matrix\\n{c_expected_LTR_3}')\n",
        "\n",
        "print(f'There was a difference of {delta_LTR_3} between the expected and observed matrices.')\n",
        "print(f'The likelihood of seeing this large a difference by chance is p={p_value_LTR_3}.')"
      ],
      "metadata": {
        "colab": {
          "base_uri": "https://localhost:8080/"
        },
        "id": "4asb5ZNZiB49",
        "outputId": "4ee7e5bb-983f-4902-ea5c-525e69ae825c"
      },
      "execution_count": 51,
      "outputs": [
        {
          "output_type": "stream",
          "name": "stdout",
          "text": [
            "There were 1 degrees of freedom in the table.\n",
            "It expects to see the matrix\n",
            "[[ 391.31428571   36.68571429]\n",
            " [  24.68571429    2.31428571]]\n",
            "There was a difference of 0.0 between the expected and observed matrices.\n",
            "The likelihood of seeing this large a difference by chance is p=1.0.\n"
          ]
        }
      ]
    },
    {
      "cell_type": "code",
      "source": [
        "WRITE HERE!"
      ],
      "metadata": {
        "id": "OvrsuI1piVC-"
      },
      "execution_count": 51,
      "outputs": []
    },
    {
      "cell_type": "code",
      "source": [
        "table"
      ],
      "metadata": {
        "colab": {
          "base_uri": "https://localhost:8080/",
          "height": 505
        },
        "id": "20BgSI_cRMDz",
        "outputId": "7a00f605-b8b8-4857-dac8-14183b0e6a5d"
      },
      "execution_count": 53,
      "outputs": [
        {
          "output_type": "execute_result",
          "data": {
            "text/plain": [
              "    Reference_sequence_name  Start_position  End_position_excl  \\\n",
              "0                     HXB2F               2                  3   \n",
              "1                     HXB2F               6                  7   \n",
              "2                     HXB2F              23                 24   \n",
              "3                     HXB2F              24                 25   \n",
              "4                     HXB2F              37                 38   \n",
              "..                      ...             ...                ...   \n",
              "450                   HXB2F            9476               9477   \n",
              "451                   HXB2F            9491               9492   \n",
              "452                   HXB2F            9492               9493   \n",
              "453                   HXB2F            9648               9649   \n",
              "454                   HXB2F            9649               9650   \n",
              "\n",
              "    Modification_type  Score Strand  Read_coverage_at_reference  \\\n",
              "0                5hmC     35      -                          28   \n",
              "1                5hmC     32      -                          31   \n",
              "2                5hmC    814      +                         108   \n",
              "3                5hmC    857      -                          35   \n",
              "4                5hmC      9      +                         108   \n",
              "..                ...    ...    ...                         ...   \n",
              "450              5hmC    500      -                           4   \n",
              "451              5hmC    857      +                           7   \n",
              "452              5hmC   1000      -                           3   \n",
              "453              5hmC    857      +                           7   \n",
              "454              5hmC    500      -                           2   \n",
              "\n",
              "     Percentage_of_mod_bases Reading_frame_1 Reading_frame_2 Reading_frame_3  \\\n",
              "0                     100.00           LTR_5             NaN             NaN   \n",
              "1                       0.00           LTR_5             NaN             NaN   \n",
              "2                       3.41           LTR_5             NaN             NaN   \n",
              "3                      23.33           LTR_5             NaN             NaN   \n",
              "4                       0.00           LTR_5             NaN             NaN   \n",
              "..                       ...             ...             ...             ...   \n",
              "450                     0.00             NaN           LTR_3             NaN   \n",
              "451                    16.67             NaN           LTR_3             NaN   \n",
              "452                     0.00             NaN           LTR_3             NaN   \n",
              "453                    33.33             NaN           LTR_3             NaN   \n",
              "454                     0.00             NaN             NaN             NaN   \n",
              "\n",
              "    in_paper tat_reading rev_reading Unnamed: 14  \n",
              "0        NaN         NaN         NaN         NaN  \n",
              "1        NaN         NaN         NaN         NaN  \n",
              "2        NaN         NaN         NaN         NaN  \n",
              "3        NaN         NaN         NaN         NaN  \n",
              "4        NaN         NaN         NaN         NaN  \n",
              "..       ...         ...         ...         ...  \n",
              "450      NaN         NaN         NaN         NaN  \n",
              "451      NaN         NaN         NaN         NaN  \n",
              "452      NaN         NaN         NaN         NaN  \n",
              "453      NaN         NaN         NaN         NaN  \n",
              "454      NaN         NaN         NaN         NaN  \n",
              "\n",
              "[455 rows x 15 columns]"
            ],
            "text/html": [
              "\n",
              "  <div id=\"df-c08cba13-bce5-476f-af27-ecee01500ad0\">\n",
              "    <div class=\"colab-df-container\">\n",
              "      <div>\n",
              "<style scoped>\n",
              "    .dataframe tbody tr th:only-of-type {\n",
              "        vertical-align: middle;\n",
              "    }\n",
              "\n",
              "    .dataframe tbody tr th {\n",
              "        vertical-align: top;\n",
              "    }\n",
              "\n",
              "    .dataframe thead th {\n",
              "        text-align: right;\n",
              "    }\n",
              "</style>\n",
              "<table border=\"1\" class=\"dataframe\">\n",
              "  <thead>\n",
              "    <tr style=\"text-align: right;\">\n",
              "      <th></th>\n",
              "      <th>Reference_sequence_name</th>\n",
              "      <th>Start_position</th>\n",
              "      <th>End_position_excl</th>\n",
              "      <th>Modification_type</th>\n",
              "      <th>Score</th>\n",
              "      <th>Strand</th>\n",
              "      <th>Read_coverage_at_reference</th>\n",
              "      <th>Percentage_of_mod_bases</th>\n",
              "      <th>Reading_frame_1</th>\n",
              "      <th>Reading_frame_2</th>\n",
              "      <th>Reading_frame_3</th>\n",
              "      <th>in_paper</th>\n",
              "      <th>tat_reading</th>\n",
              "      <th>rev_reading</th>\n",
              "      <th>Unnamed: 14</th>\n",
              "    </tr>\n",
              "  </thead>\n",
              "  <tbody>\n",
              "    <tr>\n",
              "      <th>0</th>\n",
              "      <td>HXB2F</td>\n",
              "      <td>2</td>\n",
              "      <td>3</td>\n",
              "      <td>5hmC</td>\n",
              "      <td>35</td>\n",
              "      <td>-</td>\n",
              "      <td>28</td>\n",
              "      <td>100.00</td>\n",
              "      <td>LTR_5</td>\n",
              "      <td>NaN</td>\n",
              "      <td>NaN</td>\n",
              "      <td>NaN</td>\n",
              "      <td>NaN</td>\n",
              "      <td>NaN</td>\n",
              "      <td>NaN</td>\n",
              "    </tr>\n",
              "    <tr>\n",
              "      <th>1</th>\n",
              "      <td>HXB2F</td>\n",
              "      <td>6</td>\n",
              "      <td>7</td>\n",
              "      <td>5hmC</td>\n",
              "      <td>32</td>\n",
              "      <td>-</td>\n",
              "      <td>31</td>\n",
              "      <td>0.00</td>\n",
              "      <td>LTR_5</td>\n",
              "      <td>NaN</td>\n",
              "      <td>NaN</td>\n",
              "      <td>NaN</td>\n",
              "      <td>NaN</td>\n",
              "      <td>NaN</td>\n",
              "      <td>NaN</td>\n",
              "    </tr>\n",
              "    <tr>\n",
              "      <th>2</th>\n",
              "      <td>HXB2F</td>\n",
              "      <td>23</td>\n",
              "      <td>24</td>\n",
              "      <td>5hmC</td>\n",
              "      <td>814</td>\n",
              "      <td>+</td>\n",
              "      <td>108</td>\n",
              "      <td>3.41</td>\n",
              "      <td>LTR_5</td>\n",
              "      <td>NaN</td>\n",
              "      <td>NaN</td>\n",
              "      <td>NaN</td>\n",
              "      <td>NaN</td>\n",
              "      <td>NaN</td>\n",
              "      <td>NaN</td>\n",
              "    </tr>\n",
              "    <tr>\n",
              "      <th>3</th>\n",
              "      <td>HXB2F</td>\n",
              "      <td>24</td>\n",
              "      <td>25</td>\n",
              "      <td>5hmC</td>\n",
              "      <td>857</td>\n",
              "      <td>-</td>\n",
              "      <td>35</td>\n",
              "      <td>23.33</td>\n",
              "      <td>LTR_5</td>\n",
              "      <td>NaN</td>\n",
              "      <td>NaN</td>\n",
              "      <td>NaN</td>\n",
              "      <td>NaN</td>\n",
              "      <td>NaN</td>\n",
              "      <td>NaN</td>\n",
              "    </tr>\n",
              "    <tr>\n",
              "      <th>4</th>\n",
              "      <td>HXB2F</td>\n",
              "      <td>37</td>\n",
              "      <td>38</td>\n",
              "      <td>5hmC</td>\n",
              "      <td>9</td>\n",
              "      <td>+</td>\n",
              "      <td>108</td>\n",
              "      <td>0.00</td>\n",
              "      <td>LTR_5</td>\n",
              "      <td>NaN</td>\n",
              "      <td>NaN</td>\n",
              "      <td>NaN</td>\n",
              "      <td>NaN</td>\n",
              "      <td>NaN</td>\n",
              "      <td>NaN</td>\n",
              "    </tr>\n",
              "    <tr>\n",
              "      <th>...</th>\n",
              "      <td>...</td>\n",
              "      <td>...</td>\n",
              "      <td>...</td>\n",
              "      <td>...</td>\n",
              "      <td>...</td>\n",
              "      <td>...</td>\n",
              "      <td>...</td>\n",
              "      <td>...</td>\n",
              "      <td>...</td>\n",
              "      <td>...</td>\n",
              "      <td>...</td>\n",
              "      <td>...</td>\n",
              "      <td>...</td>\n",
              "      <td>...</td>\n",
              "      <td>...</td>\n",
              "    </tr>\n",
              "    <tr>\n",
              "      <th>450</th>\n",
              "      <td>HXB2F</td>\n",
              "      <td>9476</td>\n",
              "      <td>9477</td>\n",
              "      <td>5hmC</td>\n",
              "      <td>500</td>\n",
              "      <td>-</td>\n",
              "      <td>4</td>\n",
              "      <td>0.00</td>\n",
              "      <td>NaN</td>\n",
              "      <td>LTR_3</td>\n",
              "      <td>NaN</td>\n",
              "      <td>NaN</td>\n",
              "      <td>NaN</td>\n",
              "      <td>NaN</td>\n",
              "      <td>NaN</td>\n",
              "    </tr>\n",
              "    <tr>\n",
              "      <th>451</th>\n",
              "      <td>HXB2F</td>\n",
              "      <td>9491</td>\n",
              "      <td>9492</td>\n",
              "      <td>5hmC</td>\n",
              "      <td>857</td>\n",
              "      <td>+</td>\n",
              "      <td>7</td>\n",
              "      <td>16.67</td>\n",
              "      <td>NaN</td>\n",
              "      <td>LTR_3</td>\n",
              "      <td>NaN</td>\n",
              "      <td>NaN</td>\n",
              "      <td>NaN</td>\n",
              "      <td>NaN</td>\n",
              "      <td>NaN</td>\n",
              "    </tr>\n",
              "    <tr>\n",
              "      <th>452</th>\n",
              "      <td>HXB2F</td>\n",
              "      <td>9492</td>\n",
              "      <td>9493</td>\n",
              "      <td>5hmC</td>\n",
              "      <td>1000</td>\n",
              "      <td>-</td>\n",
              "      <td>3</td>\n",
              "      <td>0.00</td>\n",
              "      <td>NaN</td>\n",
              "      <td>LTR_3</td>\n",
              "      <td>NaN</td>\n",
              "      <td>NaN</td>\n",
              "      <td>NaN</td>\n",
              "      <td>NaN</td>\n",
              "      <td>NaN</td>\n",
              "    </tr>\n",
              "    <tr>\n",
              "      <th>453</th>\n",
              "      <td>HXB2F</td>\n",
              "      <td>9648</td>\n",
              "      <td>9649</td>\n",
              "      <td>5hmC</td>\n",
              "      <td>857</td>\n",
              "      <td>+</td>\n",
              "      <td>7</td>\n",
              "      <td>33.33</td>\n",
              "      <td>NaN</td>\n",
              "      <td>LTR_3</td>\n",
              "      <td>NaN</td>\n",
              "      <td>NaN</td>\n",
              "      <td>NaN</td>\n",
              "      <td>NaN</td>\n",
              "      <td>NaN</td>\n",
              "    </tr>\n",
              "    <tr>\n",
              "      <th>454</th>\n",
              "      <td>HXB2F</td>\n",
              "      <td>9649</td>\n",
              "      <td>9650</td>\n",
              "      <td>5hmC</td>\n",
              "      <td>500</td>\n",
              "      <td>-</td>\n",
              "      <td>2</td>\n",
              "      <td>0.00</td>\n",
              "      <td>NaN</td>\n",
              "      <td>NaN</td>\n",
              "      <td>NaN</td>\n",
              "      <td>NaN</td>\n",
              "      <td>NaN</td>\n",
              "      <td>NaN</td>\n",
              "      <td>NaN</td>\n",
              "    </tr>\n",
              "  </tbody>\n",
              "</table>\n",
              "<p>455 rows × 15 columns</p>\n",
              "</div>\n",
              "      <button class=\"colab-df-convert\" onclick=\"convertToInteractive('df-c08cba13-bce5-476f-af27-ecee01500ad0')\"\n",
              "              title=\"Convert this dataframe to an interactive table.\"\n",
              "              style=\"display:none;\">\n",
              "        \n",
              "  <svg xmlns=\"http://www.w3.org/2000/svg\" height=\"24px\"viewBox=\"0 0 24 24\"\n",
              "       width=\"24px\">\n",
              "    <path d=\"M0 0h24v24H0V0z\" fill=\"none\"/>\n",
              "    <path d=\"M18.56 5.44l.94 2.06.94-2.06 2.06-.94-2.06-.94-.94-2.06-.94 2.06-2.06.94zm-11 1L8.5 8.5l.94-2.06 2.06-.94-2.06-.94L8.5 2.5l-.94 2.06-2.06.94zm10 10l.94 2.06.94-2.06 2.06-.94-2.06-.94-.94-2.06-.94 2.06-2.06.94z\"/><path d=\"M17.41 7.96l-1.37-1.37c-.4-.4-.92-.59-1.43-.59-.52 0-1.04.2-1.43.59L10.3 9.45l-7.72 7.72c-.78.78-.78 2.05 0 2.83L4 21.41c.39.39.9.59 1.41.59.51 0 1.02-.2 1.41-.59l7.78-7.78 2.81-2.81c.8-.78.8-2.07 0-2.86zM5.41 20L4 18.59l7.72-7.72 1.47 1.35L5.41 20z\"/>\n",
              "  </svg>\n",
              "      </button>\n",
              "      \n",
              "  <style>\n",
              "    .colab-df-container {\n",
              "      display:flex;\n",
              "      flex-wrap:wrap;\n",
              "      gap: 12px;\n",
              "    }\n",
              "\n",
              "    .colab-df-convert {\n",
              "      background-color: #E8F0FE;\n",
              "      border: none;\n",
              "      border-radius: 50%;\n",
              "      cursor: pointer;\n",
              "      display: none;\n",
              "      fill: #1967D2;\n",
              "      height: 32px;\n",
              "      padding: 0 0 0 0;\n",
              "      width: 32px;\n",
              "    }\n",
              "\n",
              "    .colab-df-convert:hover {\n",
              "      background-color: #E2EBFA;\n",
              "      box-shadow: 0px 1px 2px rgba(60, 64, 67, 0.3), 0px 1px 3px 1px rgba(60, 64, 67, 0.15);\n",
              "      fill: #174EA6;\n",
              "    }\n",
              "\n",
              "    [theme=dark] .colab-df-convert {\n",
              "      background-color: #3B4455;\n",
              "      fill: #D2E3FC;\n",
              "    }\n",
              "\n",
              "    [theme=dark] .colab-df-convert:hover {\n",
              "      background-color: #434B5C;\n",
              "      box-shadow: 0px 1px 3px 1px rgba(0, 0, 0, 0.15);\n",
              "      filter: drop-shadow(0px 1px 2px rgba(0, 0, 0, 0.3));\n",
              "      fill: #FFFFFF;\n",
              "    }\n",
              "  </style>\n",
              "\n",
              "      <script>\n",
              "        const buttonEl =\n",
              "          document.querySelector('#df-c08cba13-bce5-476f-af27-ecee01500ad0 button.colab-df-convert');\n",
              "        buttonEl.style.display =\n",
              "          google.colab.kernel.accessAllowed ? 'block' : 'none';\n",
              "\n",
              "        async function convertToInteractive(key) {\n",
              "          const element = document.querySelector('#df-c08cba13-bce5-476f-af27-ecee01500ad0');\n",
              "          const dataTable =\n",
              "            await google.colab.kernel.invokeFunction('convertToInteractive',\n",
              "                                                     [key], {});\n",
              "          if (!dataTable) return;\n",
              "\n",
              "          const docLinkHtml = 'Like what you see? Visit the ' +\n",
              "            '<a target=\"_blank\" href=https://colab.research.google.com/notebooks/data_table.ipynb>data table notebook</a>'\n",
              "            + ' to learn more about interactive tables.';\n",
              "          element.innerHTML = '';\n",
              "          dataTable['output_type'] = 'display_data';\n",
              "          await google.colab.output.renderOutput(dataTable, element);\n",
              "          const docLink = document.createElement('div');\n",
              "          docLink.innerHTML = docLinkHtml;\n",
              "          element.appendChild(docLink);\n",
              "        }\n",
              "      </script>\n",
              "    </div>\n",
              "  </div>\n",
              "  "
            ]
          },
          "metadata": {},
          "execution_count": 53
        }
      ]
    },
    {
      "cell_type": "code",
      "source": [
        "# I did this by hand, took a while.\n",
        "\n",
        "# positions 2, 95, 186, 332, 410, 420, 463, 597 were found to be methylated in 50% of each Read_coverage_at_reference from the table. \n",
        "total_bases_LTR_five = 634\n",
        "total_mod_LTR_five = 88\n",
        "total_unmod_LTR_five = 546\n",
        "mod_LTR_five_above_cut_off = 7\n",
        "\n",
        "\n",
        "# positions 1374, 1582, 1854, 1858, 1879, 2138, 2164 were found to be methylated in >50% of each Read_coverage_at_reference from the table.\n",
        "total_bases_gag = 1523\n",
        "total_mod_gag = 75\n",
        "total_unmod_gag = 1448\n",
        "mod_gag_above_cut_off = 7\n",
        "\n",
        "\n",
        "# positions 3212, 3466, 3829, 4038, 4052, 4092, 4153, 4184, 4598, 4664 were found to be methylated >50% of each Read_coverage_at_reference from the table.\n",
        "total_bases_pol = 2738\n",
        "total_mod_pol = 59\n",
        "total_unmod_pol = 2679\n",
        "mod_pol_above_cut_off = 10\n",
        "\n",
        "# positions 5448, 5449 were found to be methylated >50% of each Read_coverage_at_reference from the table.\n",
        "total_bases_vif = 578\n",
        "total_mod_vif = 8\n",
        "total_unmod_vif = 570\n",
        "mod_vif_above_cut_off = 2\n",
        "\n",
        "# No positions were found to be methylated in >50% of each Read_coverage_at_reference from the table.\n",
        "total_base_vpr = 280\n",
        "total_mod_vpr = 10\n",
        "total_unmod_vpr  = 270\n",
        "mod_vpr_above_cut_off = 0\n",
        "\n",
        "# positions 5984 was found to be methylated >50% of each Read_coverage_at_reference from the table.\n",
        "total_bases_tat = 301\n",
        "total_mod_tat = 25\n",
        "total_unmod_tat = 276\n",
        "mod_tat_above_cut_off = 1\n",
        "\n",
        "# positions 5984 was found to be methylated >50% of each Read_coverage_at_reference from the table.\n",
        "total_bases_rev = 349\n",
        "total_mod_rev = 39\n",
        "total_unmod_rev = 310\n",
        "mod_rev_above_cut_off = 1\n",
        "\n",
        "# positions 7357, 7633, 7785, 8179, 8323,  were found to be methylated >50% of each Read_coverage_at_reference from the table.\n",
        "total_bases_env = 2570\n",
        "total_mod_env = 100\n",
        "total_unmod_env = 2470\n",
        "mod_env_above_cut_off = 5\n",
        "\n",
        "# positions 8846, 8980, 9002, 9161, 9165 were found to be methylated >50% of each Read_coverage_at_reference from the table.\n",
        "total_bases_nef = 617\n",
        "total_mod_nef = 43\n",
        "total_unmod_nef = 617\n",
        "mod_nef_above_cut_off = 5\n",
        "\n",
        "# positions 9161, 9165 were found to be methylated >50% of each Read_coverage_at_reference from the table.\n",
        "total_bases_LTR_three = 633\n",
        "total_mod_LTR_three = 27\n",
        "total_unmod_LTR_three = 606\n",
        "mod_LTR_three_above_cut_off = 2\n",
        "\n",
        "# positions 700, 680 were found to be methylated >50% of each Read_coverage_at_reference from the table.\n",
        "total_mod_bases_no_gene = 46\n",
        "total_unmod_no_gene = 123\n",
        "mod_no_gene_above_cut_off = 2\n",
        "\n"
      ],
      "metadata": {
        "id": "8NbKqduRnil7"
      },
      "execution_count": 52,
      "outputs": []
    }
  ]
}